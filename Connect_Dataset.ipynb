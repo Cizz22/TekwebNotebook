{
  "cells": [
    {
      "cell_type": "code",
      "execution_count": 3,
      "metadata": {
        "colab": {
          "base_uri": "https://localhost:8080/"
        },
        "id": "FuEkDhHIMXTj",
        "outputId": "f8ddbee9-9f73-482f-ef1c-7882f433f090"
      },
      "outputs": [
        {
          "name": "stdout",
          "output_type": "stream",
          "text": [
            "Requirement already satisfied: jupyter-rdfify in ./env/lib/python3.9/site-packages (1.0.4)\n",
            "Requirement already satisfied: pyshex>=0.8.0 in ./env/lib/python3.9/site-packages (from jupyter-rdfify) (0.8.1)\n",
            "Requirement already satisfied: rdflib>=6.1.1 in ./env/lib/python3.9/site-packages (from jupyter-rdfify) (6.2.0)\n",
            "Requirement already satisfied: ipython>=7.0.0 in ./env/lib/python3.9/site-packages (from jupyter-rdfify) (8.10.0)\n",
            "Requirement already satisfied: graphviz in ./env/lib/python3.9/site-packages (from jupyter-rdfify) (0.20.1)\n",
            "Requirement already satisfied: owlrl>=6.0.2 in ./env/lib/python3.9/site-packages (from jupyter-rdfify) (6.0.2)\n",
            "Requirement already satisfied: sparqlwrapper>=1.8.5 in ./env/lib/python3.9/site-packages (from jupyter-rdfify) (2.0.0)\n",
            "Requirement already satisfied: pygments>=2.4.0 in ./env/lib/python3.9/site-packages (from ipython>=7.0.0->jupyter-rdfify) (2.14.0)\n",
            "Requirement already satisfied: pickleshare in ./env/lib/python3.9/site-packages (from ipython>=7.0.0->jupyter-rdfify) (0.7.5)\n",
            "Requirement already satisfied: jedi>=0.16 in ./env/lib/python3.9/site-packages (from ipython>=7.0.0->jupyter-rdfify) (0.18.2)\n",
            "Requirement already satisfied: appnope in ./env/lib/python3.9/site-packages (from ipython>=7.0.0->jupyter-rdfify) (0.1.3)\n",
            "Requirement already satisfied: pexpect>4.3 in ./env/lib/python3.9/site-packages (from ipython>=7.0.0->jupyter-rdfify) (4.8.0)\n",
            "Requirement already satisfied: traitlets>=5 in ./env/lib/python3.9/site-packages (from ipython>=7.0.0->jupyter-rdfify) (5.9.0)\n",
            "Requirement already satisfied: decorator in ./env/lib/python3.9/site-packages (from ipython>=7.0.0->jupyter-rdfify) (5.1.1)\n",
            "Requirement already satisfied: stack-data in ./env/lib/python3.9/site-packages (from ipython>=7.0.0->jupyter-rdfify) (0.6.2)\n",
            "Requirement already satisfied: matplotlib-inline in ./env/lib/python3.9/site-packages (from ipython>=7.0.0->jupyter-rdfify) (0.1.6)\n",
            "Requirement already satisfied: backcall in ./env/lib/python3.9/site-packages (from ipython>=7.0.0->jupyter-rdfify) (0.2.0)\n",
            "Requirement already satisfied: prompt-toolkit<3.1.0,>=3.0.30 in ./env/lib/python3.9/site-packages (from ipython>=7.0.0->jupyter-rdfify) (3.0.36)\n",
            "Requirement already satisfied: rdflib-shim in ./env/lib/python3.9/site-packages (from pyshex>=0.8.0->jupyter-rdfify) (1.0.3)\n",
            "Requirement already satisfied: requests>=2.22.0 in ./env/lib/python3.9/site-packages (from pyshex>=0.8.0->jupyter-rdfify) (2.28.2)\n",
            "Requirement already satisfied: chardet in ./env/lib/python3.9/site-packages (from pyshex>=0.8.0->jupyter-rdfify) (5.1.0)\n",
            "Requirement already satisfied: pyshexc==0.9.1 in ./env/lib/python3.9/site-packages (from pyshex>=0.8.0->jupyter-rdfify) (0.9.1)\n",
            "Requirement already satisfied: shexjsg>=0.8.2 in ./env/lib/python3.9/site-packages (from pyshex>=0.8.0->jupyter-rdfify) (0.8.2)\n",
            "Requirement already satisfied: urllib3 in ./env/lib/python3.9/site-packages (from pyshex>=0.8.0->jupyter-rdfify) (1.26.14)\n",
            "Requirement already satisfied: sparqlslurper>=0.5.1 in ./env/lib/python3.9/site-packages (from pyshex>=0.8.0->jupyter-rdfify) (0.5.1)\n",
            "Requirement already satisfied: cfgraph>=0.2.1 in ./env/lib/python3.9/site-packages (from pyshex>=0.8.0->jupyter-rdfify) (0.2.1)\n",
            "Requirement already satisfied: pyjsg>=0.11.10 in ./env/lib/python3.9/site-packages (from pyshexc==0.9.1->pyshex>=0.8.0->jupyter-rdfify) (0.11.10)\n",
            "Requirement already satisfied: antlr4-python3-runtime~=4.9.3 in ./env/lib/python3.9/site-packages (from pyshexc==0.9.1->pyshex>=0.8.0->jupyter-rdfify) (4.9.3)\n",
            "Requirement already satisfied: jsonasobj>=1.2.1 in ./env/lib/python3.9/site-packages (from pyshexc==0.9.1->pyshex>=0.8.0->jupyter-rdfify) (1.3.1)\n",
            "Requirement already satisfied: setuptools in ./env/lib/python3.9/site-packages (from rdflib>=6.1.1->jupyter-rdfify) (62.3.2)\n",
            "Requirement already satisfied: pyparsing in ./env/lib/python3.9/site-packages (from rdflib>=6.1.1->jupyter-rdfify) (3.0.9)\n",
            "Requirement already satisfied: isodate in ./env/lib/python3.9/site-packages (from rdflib>=6.1.1->jupyter-rdfify) (0.6.1)\n",
            "Requirement already satisfied: parso<0.9.0,>=0.8.0 in ./env/lib/python3.9/site-packages (from jedi>=0.16->ipython>=7.0.0->jupyter-rdfify) (0.8.3)\n",
            "Requirement already satisfied: ptyprocess>=0.5 in ./env/lib/python3.9/site-packages (from pexpect>4.3->ipython>=7.0.0->jupyter-rdfify) (0.7.0)\n",
            "Requirement already satisfied: wcwidth in ./env/lib/python3.9/site-packages (from prompt-toolkit<3.1.0,>=3.0.30->ipython>=7.0.0->jupyter-rdfify) (0.2.6)\n",
            "Requirement already satisfied: idna<4,>=2.5 in ./env/lib/python3.9/site-packages (from requests>=2.22.0->pyshex>=0.8.0->jupyter-rdfify) (3.4)\n",
            "Requirement already satisfied: certifi>=2017.4.17 in ./env/lib/python3.9/site-packages (from requests>=2.22.0->pyshex>=0.8.0->jupyter-rdfify) (2022.12.7)\n",
            "Requirement already satisfied: charset-normalizer<4,>=2 in ./env/lib/python3.9/site-packages (from requests>=2.22.0->pyshex>=0.8.0->jupyter-rdfify) (3.0.1)\n",
            "Requirement already satisfied: six in ./env/lib/python3.9/site-packages (from isodate->rdflib>=6.1.1->jupyter-rdfify) (1.16.0)\n",
            "Requirement already satisfied: rdflib-jsonld==0.6.1 in ./env/lib/python3.9/site-packages (from rdflib-shim->pyshex>=0.8.0->jupyter-rdfify) (0.6.1)\n",
            "Requirement already satisfied: pure-eval in ./env/lib/python3.9/site-packages (from stack-data->ipython>=7.0.0->jupyter-rdfify) (0.2.2)\n",
            "Requirement already satisfied: asttokens>=2.1.0 in ./env/lib/python3.9/site-packages (from stack-data->ipython>=7.0.0->jupyter-rdfify) (2.2.1)\n",
            "Requirement already satisfied: executing>=1.2.0 in ./env/lib/python3.9/site-packages (from stack-data->ipython>=7.0.0->jupyter-rdfify) (1.2.0)\n",
            "\u001b[33mWARNING: There was an error checking the latest version of pip.\u001b[0m\u001b[33m\n",
            "\u001b[0mNote: you may need to restart the kernel to use updated packages.\n"
          ]
        }
      ],
      "source": [
        "pip install jupyter-rdfify"
      ]
    },
    {
      "cell_type": "code",
      "execution_count": 4,
      "metadata": {
        "colab": {
          "base_uri": "https://localhost:8080/",
          "height": 17
        },
        "id": "f661e57YMdNz",
        "outputId": "97e4fada-59b8-445a-de62-d90401972d9c"
      },
      "outputs": [
        {
          "data": {
            "application/javascript": "\n    if (typeof IPython !== \"undefined\") {\n        IPython.CodeCell.options_default.highlight_modes['application/sparql-query'] = {'reg':[/^%%rdf sparql/]};\n        IPython.CodeCell.options_default.highlight_modes['text/turtle'] = {'reg':[/^%%rdf turtle/, /^%%rdf shex/]};\n        IPython.CodeCell.options_default.highlight_modes['application/ld+json'] = {'reg':[/^%%rdf json-ld/]};\n        IPython.notebook.get_cells().map(function(cell){ if (cell.cell_type == 'code'){ cell.auto_highlight(); } });\n    }\n    "
          },
          "metadata": {},
          "output_type": "display_data"
        }
      ],
      "source": [
        "%reload_ext jupyter-rdfify"
      ]
    },
    {
      "cell_type": "code",
      "execution_count": 5,
      "metadata": {
        "colab": {
          "base_uri": "https://localhost:8080/",
          "height": 448
        },
        "id": "ci1R8H3CMdzq",
        "outputId": "3569b749-98f2-4145-9f47-552dc7c76231"
      },
      "outputs": [
        {
          "data": {
            "image/svg+xml": "<?xml version=\"1.0\" encoding=\"UTF-8\" standalone=\"no\"?>\n<!DOCTYPE svg PUBLIC \"-//W3C//DTD SVG 1.1//EN\"\n \"http://www.w3.org/Graphics/SVG/1.1/DTD/svg11.dtd\">\n<!-- Generated by graphviz version 7.1.0 (20230121.1956)\n -->\n<!-- Pages: 1 -->\n<svg width=\"2633pt\" height=\"305pt\"\n viewBox=\"0.00 0.00 2633.05 305.00\" xmlns=\"http://www.w3.org/2000/svg\" xmlns:xlink=\"http://www.w3.org/1999/xlink\">\n<g id=\"graph0\" class=\"graph\" transform=\"scale(1 1) rotate(0) translate(4 301)\">\n<polygon fill=\"white\" stroke=\"none\" points=\"-4,4 -4,-301 2629.05,-301 2629.05,4 -4,4\"/>\n<!-- 0 -->\n<g id=\"node1\" class=\"node\">\n<title>0</title>\n<ellipse fill=\"none\" stroke=\"black\" cx=\"2129.05\" cy=\"-279\" rx=\"96.38\" ry=\"18\"/>\n<text text-anchor=\"middle\" x=\"2129.05\" y=\"-275.3\" font-family=\"Times,serif\" font-size=\"14.00\">ex:DerrekKlimaszewski</text>\n</g>\n<!-- 3 -->\n<g id=\"node4\" class=\"node\">\n<title>3</title>\n<ellipse fill=\"none\" stroke=\"black\" cx=\"1558.05\" cy=\"-192\" rx=\"62.29\" ry=\"18\"/>\n<text text-anchor=\"middle\" x=\"1558.05\" y=\"-188.3\" font-family=\"Times,serif\" font-size=\"14.00\">ex:Accounting</text>\n</g>\n<!-- 0&#45;&gt;3 -->\n<g id=\"edge28\" class=\"edge\">\n<title>0&#45;&gt;3</title>\n<path fill=\"none\" stroke=\"black\" d=\"M2033.16,-276.49C1912,-273.65 1710.73,-265.6 1640.05,-243 1621.42,-237.04 1602.64,-226.05 1587.77,-215.88\"/>\n<polygon fill=\"black\" stroke=\"black\" points=\"1590.01,-213.18 1579.83,-210.26 1585.97,-218.89 1590.01,-213.18\"/>\n<text text-anchor=\"middle\" x=\"1670.55\" y=\"-231.8\" font-family=\"Times,serif\" font-size=\"14.00\">ex:Manage</text>\n</g>\n<!-- 5 -->\n<g id=\"node6\" class=\"node\">\n<title>5</title>\n<polygon fill=\"none\" stroke=\"black\" points=\"2604.05,-210 2550.05,-210 2550.05,-174 2604.05,-174 2604.05,-210\"/>\n<text text-anchor=\"middle\" x=\"2577.05\" y=\"-188.3\" font-family=\"Times,serif\" font-size=\"14.00\">&quot;433&quot;</text>\n</g>\n<!-- 0&#45;&gt;5 -->\n<g id=\"edge9\" class=\"edge\">\n<title>0&#45;&gt;5</title>\n<path fill=\"none\" stroke=\"black\" d=\"M2224.01,-275.56C2320.63,-271.99 2463.19,-263.36 2514.05,-243 2528.12,-237.36 2541.59,-227.51 2552.44,-218.04\"/>\n<polygon fill=\"black\" stroke=\"black\" points=\"2554.78,-220.64 2559.77,-211.29 2550.04,-215.48 2554.78,-220.64\"/>\n<text text-anchor=\"middle\" x=\"2581.55\" y=\"-231.8\" font-family=\"Times,serif\" font-size=\"14.00\">foaf:postalCode</text>\n</g>\n<!-- 6 -->\n<g id=\"node7\" class=\"node\">\n<title>6</title>\n<polygon fill=\"none\" stroke=\"black\" points=\"2052.55,-210 1837.55,-210 1837.55,-174 2052.55,-174 2052.55,-210\"/>\n<text text-anchor=\"middle\" x=\"1945.05\" y=\"-188.3\" font-family=\"Times,serif\" font-size=\"14.00\">&quot;dklimaszewski3@feedburner.com&quot;</text>\n</g>\n<!-- 0&#45;&gt;6 -->\n<g id=\"edge30\" class=\"edge\">\n<title>0&#45;&gt;6</title>\n<path fill=\"none\" stroke=\"black\" d=\"M2094,-261.81C2065.43,-248.61 2024.78,-229.83 1993.15,-215.22\"/>\n<polygon fill=\"black\" stroke=\"black\" points=\"1994.73,-212.1 1984.18,-211.08 1991.79,-218.45 1994.73,-212.1\"/>\n<text text-anchor=\"middle\" x=\"2078.05\" y=\"-231.8\" font-family=\"Times,serif\" font-size=\"14.00\">foaf:mbox</text>\n</g>\n<!-- 7 -->\n<g id=\"node8\" class=\"node\">\n<title>7</title>\n<polygon fill=\"none\" stroke=\"black\" points=\"2187.05,-210 2071.05,-210 2071.05,-174 2187.05,-174 2187.05,-210\"/>\n<text text-anchor=\"middle\" x=\"2129.05\" y=\"-188.3\" font-family=\"Times,serif\" font-size=\"14.00\">&quot;42&quot;^^xsd:integer</text>\n</g>\n<!-- 0&#45;&gt;7 -->\n<g id=\"edge11\" class=\"edge\">\n<title>0&#45;&gt;7</title>\n<path fill=\"none\" stroke=\"black\" d=\"M2129.05,-260.8C2129.05,-249.58 2129.05,-234.67 2129.05,-221.69\"/>\n<polygon fill=\"black\" stroke=\"black\" points=\"2132.55,-221.98 2129.05,-211.98 2125.55,-221.98 2132.55,-221.98\"/>\n<text text-anchor=\"middle\" x=\"2151.55\" y=\"-231.8\" font-family=\"Times,serif\" font-size=\"14.00\">foaf:age</text>\n</g>\n<!-- 11 -->\n<g id=\"node12\" class=\"node\">\n<title>11</title>\n<ellipse fill=\"none\" stroke=\"black\" cx=\"601.05\" cy=\"-105\" rx=\"57.69\" ry=\"18\"/>\n<text text-anchor=\"middle\" x=\"601.05\" y=\"-101.3\" font-family=\"Times,serif\" font-size=\"14.00\">ex:Employee</text>\n</g>\n<!-- 0&#45;&gt;11 -->\n<g id=\"edge5\" class=\"edge\">\n<title>0&#45;&gt;11</title>\n<path fill=\"none\" stroke=\"black\" d=\"M2035.78,-274.24C1963.63,-267.97 1863.19,-251.71 1785.05,-210 1765.08,-199.35 1769.59,-183.49 1749.05,-174 1651.3,-128.82 903.04,-111.5 670.06,-107.16\"/>\n<polygon fill=\"black\" stroke=\"black\" points=\"670.29,-103.67 660.22,-106.98 670.16,-110.67 670.29,-103.67\"/>\n<text text-anchor=\"middle\" x=\"1806.55\" y=\"-188.3\" font-family=\"Times,serif\" font-size=\"14.00\">rdf:type</text>\n</g>\n<!-- 15 -->\n<g id=\"node16\" class=\"node\">\n<title>15</title>\n<polygon fill=\"none\" stroke=\"black\" points=\"2262.55,-210 2205.55,-210 2205.55,-174 2262.55,-174 2262.55,-210\"/>\n<text text-anchor=\"middle\" x=\"2234.05\" y=\"-188.3\" font-family=\"Times,serif\" font-size=\"14.00\">&quot;Male&quot;</text>\n</g>\n<!-- 0&#45;&gt;15 -->\n<g id=\"edge3\" class=\"edge\">\n<title>0&#45;&gt;15</title>\n<path fill=\"none\" stroke=\"black\" d=\"M2153.61,-261.24C2161.54,-255.62 2170.29,-249.2 2178.05,-243 2187.84,-235.17 2198.19,-226.16 2207.28,-217.96\"/>\n<polygon fill=\"black\" stroke=\"black\" points=\"2209.41,-220.76 2214.45,-211.44 2204.7,-215.58 2209.41,-220.76\"/>\n<text text-anchor=\"middle\" x=\"2227.55\" y=\"-231.8\" font-family=\"Times,serif\" font-size=\"14.00\">foaf:gender</text>\n</g>\n<!-- 16 -->\n<g id=\"node17\" class=\"node\">\n<title>16</title>\n<ellipse fill=\"none\" stroke=\"black\" cx=\"2334.05\" cy=\"-192\" rx=\"53.89\" ry=\"18\"/>\n<text text-anchor=\"middle\" x=\"2334.05\" y=\"-188.3\" font-family=\"Times,serif\" font-size=\"14.00\">dbr:Durham</text>\n</g>\n<!-- 0&#45;&gt;16 -->\n<g id=\"edge13\" class=\"edge\">\n<title>0&#45;&gt;16</title>\n<path fill=\"none\" stroke=\"black\" d=\"M2195.43,-265.63C2217.53,-260.22 2241.89,-252.82 2263.05,-243 2278.19,-235.97 2293.52,-225.66 2306.04,-216.23\"/>\n<polygon fill=\"black\" stroke=\"black\" points=\"2308.08,-219.08 2313.83,-210.19 2303.78,-213.56 2308.08,-219.08\"/>\n<text text-anchor=\"middle\" x=\"2331.55\" y=\"-231.8\" font-family=\"Times,serif\" font-size=\"14.00\">foaf:based_near</text>\n</g>\n<!-- 21 -->\n<g id=\"node22\" class=\"node\">\n<title>21</title>\n<ellipse fill=\"none\" stroke=\"black\" cx=\"1689.05\" cy=\"-192\" rx=\"50.89\" ry=\"18\"/>\n<text text-anchor=\"middle\" x=\"1689.05\" y=\"-188.3\" font-family=\"Times,serif\" font-size=\"14.00\">foaf:person</text>\n</g>\n<!-- 0&#45;&gt;21 -->\n<g id=\"edge2\" class=\"edge\">\n<title>0&#45;&gt;21</title>\n<path fill=\"none\" stroke=\"black\" d=\"M2035.48,-274.48C1922.77,-269.56 1745.22,-259.33 1719.05,-243 1710.62,-237.74 1704.25,-229.17 1699.59,-220.6\"/>\n<polygon fill=\"black\" stroke=\"black\" points=\"1702.83,-219.27 1695.38,-211.73 1696.51,-222.27 1702.83,-219.27\"/>\n<text text-anchor=\"middle\" x=\"1740.55\" y=\"-231.8\" font-family=\"Times,serif\" font-size=\"14.00\">rdf:type</text>\n</g>\n<!-- 24 -->\n<g id=\"node25\" class=\"node\">\n<title>24</title>\n<ellipse fill=\"none\" stroke=\"black\" cx=\"2464.05\" cy=\"-192\" rx=\"57.69\" ry=\"18\"/>\n<text text-anchor=\"middle\" x=\"2464.05\" y=\"-188.3\" font-family=\"Times,serif\" font-size=\"14.00\">yago:Finance</text>\n</g>\n<!-- 0&#45;&gt;24 -->\n<g id=\"edge27\" class=\"edge\">\n<title>0&#45;&gt;24</title>\n<path fill=\"none\" stroke=\"black\" d=\"M2221.62,-273.71C2269.65,-269.34 2328.66,-260.56 2379.05,-243 2398.01,-236.39 2417.44,-225.34 2432.93,-215.31\"/>\n<polygon fill=\"black\" stroke=\"black\" points=\"2434.87,-218.22 2441.24,-209.76 2430.98,-212.4 2434.87,-218.22\"/>\n<text text-anchor=\"middle\" x=\"2460.05\" y=\"-231.8\" font-family=\"Times,serif\" font-size=\"14.00\">foaf:topic_interest</text>\n</g>\n<!-- 1 -->\n<g id=\"node2\" class=\"node\">\n<title>1</title>\n<ellipse fill=\"none\" stroke=\"black\" cx=\"128.05\" cy=\"-192\" rx=\"96.38\" ry=\"18\"/>\n<text text-anchor=\"middle\" x=\"128.05\" y=\"-188.3\" font-family=\"Times,serif\" font-size=\"14.00\">ex:NumberOfEmployee</text>\n</g>\n<!-- 13 -->\n<g id=\"node14\" class=\"node\">\n<title>13</title>\n<ellipse fill=\"none\" stroke=\"black\" cx=\"375.05\" cy=\"-105\" rx=\"63.89\" ry=\"18\"/>\n<text text-anchor=\"middle\" x=\"375.05\" y=\"-101.3\" font-family=\"Times,serif\" font-size=\"14.00\">ex:Department</text>\n</g>\n<!-- 1&#45;&gt;13 -->\n<g id=\"edge29\" class=\"edge\">\n<title>1&#45;&gt;13</title>\n<path fill=\"none\" stroke=\"black\" d=\"M182.59,-176.82C200.64,-171.3 220.57,-164.29 238.05,-156 249.07,-150.77 249.99,-146.17 261.05,-141 278.6,-132.78 298.55,-125.9 316.81,-120.46\"/>\n<polygon fill=\"black\" stroke=\"black\" points=\"317.53,-123.9 326.17,-117.77 315.59,-117.17 317.53,-123.9\"/>\n<text text-anchor=\"middle\" x=\"294.55\" y=\"-144.8\" font-family=\"Times,serif\" font-size=\"14.00\">rdfs:domain</text>\n</g>\n<!-- 17 -->\n<g id=\"node18\" class=\"node\">\n<title>17</title>\n<ellipse fill=\"none\" stroke=\"black\" cx=\"183.05\" cy=\"-105\" rx=\"53.89\" ry=\"18\"/>\n<text text-anchor=\"middle\" x=\"183.05\" y=\"-101.3\" font-family=\"Times,serif\" font-size=\"14.00\">rdf:Property</text>\n</g>\n<!-- 1&#45;&gt;17 -->\n<g id=\"edge23\" class=\"edge\">\n<title>1&#45;&gt;17</title>\n<path fill=\"none\" stroke=\"black\" d=\"M124.54,-173.75C123.38,-163.6 123.56,-150.86 129.05,-141 132.14,-135.45 136.52,-130.64 141.47,-126.51\"/>\n<polygon fill=\"black\" stroke=\"black\" points=\"143.5,-129.35 149.6,-120.69 139.43,-123.66 143.5,-129.35\"/>\n<text text-anchor=\"middle\" x=\"150.55\" y=\"-144.8\" font-family=\"Times,serif\" font-size=\"14.00\">rdf:type</text>\n</g>\n<!-- 23 -->\n<g id=\"node24\" class=\"node\">\n<title>23</title>\n<ellipse fill=\"none\" stroke=\"black\" cx=\"50.05\" cy=\"-105\" rx=\"50.09\" ry=\"18\"/>\n<text text-anchor=\"middle\" x=\"50.05\" y=\"-101.3\" font-family=\"Times,serif\" font-size=\"14.00\">xsd:integer</text>\n</g>\n<!-- 1&#45;&gt;23 -->\n<g id=\"edge15\" class=\"edge\">\n<title>1&#45;&gt;23</title>\n<path fill=\"none\" stroke=\"black\" d=\"M89.6,-175.18C80.89,-170.12 72.37,-163.76 66.05,-156 61,-149.8 57.54,-141.99 55.16,-134.39\"/>\n<polygon fill=\"black\" stroke=\"black\" points=\"58.56,-133.56 52.7,-124.73 51.77,-135.28 58.56,-133.56\"/>\n<text text-anchor=\"middle\" x=\"93.55\" y=\"-144.8\" font-family=\"Times,serif\" font-size=\"14.00\">rdfs:range</text>\n</g>\n<!-- 2 -->\n<g id=\"node3\" class=\"node\">\n<title>2</title>\n<polygon fill=\"none\" stroke=\"black\" points=\"866.05,-210 812.05,-210 812.05,-174 866.05,-174 866.05,-210\"/>\n<text text-anchor=\"middle\" x=\"839.05\" y=\"-188.3\" font-family=\"Times,serif\" font-size=\"14.00\">&quot;150&quot;</text>\n</g>\n<!-- 3&#45;&gt;13 -->\n<g id=\"edge16\" class=\"edge\">\n<title>3&#45;&gt;13</title>\n<path fill=\"none\" stroke=\"black\" d=\"M1512.05,-179.42C1502.2,-177.31 1491.82,-175.35 1482.05,-174 1064.05,-116.41 954.63,-156.77 534.05,-123 504.62,-120.64 472.2,-117.3 444.35,-114.21\"/>\n<polygon fill=\"black\" stroke=\"black\" points=\"444.96,-110.76 434.63,-113.12 444.18,-117.72 444.96,-110.76\"/>\n<text text-anchor=\"middle\" x=\"1344.55\" y=\"-144.8\" font-family=\"Times,serif\" font-size=\"14.00\">rdf:type</text>\n</g>\n<!-- 18 -->\n<g id=\"node19\" class=\"node\">\n<title>18</title>\n<polygon fill=\"none\" stroke=\"black\" points=\"1867.05,-123 1751.05,-123 1751.05,-87 1867.05,-87 1867.05,-123\"/>\n<text text-anchor=\"middle\" x=\"1809.05\" y=\"-101.3\" font-family=\"Times,serif\" font-size=\"14.00\">&quot;20&quot;^^xsd:integer</text>\n</g>\n<!-- 3&#45;&gt;18 -->\n<g id=\"edge7\" class=\"edge\">\n<title>3&#45;&gt;18</title>\n<path fill=\"none\" stroke=\"black\" d=\"M1597.54,-177.63C1637.63,-164.05 1700.28,-142.83 1747,-127.01\"/>\n<polygon fill=\"black\" stroke=\"black\" points=\"1747.83,-130.43 1756.18,-123.9 1745.58,-123.8 1747.83,-130.43\"/>\n<text text-anchor=\"middle\" x=\"1766.05\" y=\"-144.8\" font-family=\"Times,serif\" font-size=\"14.00\">ex:numberOfEmployees</text>\n</g>\n<!-- 4 -->\n<g id=\"node5\" class=\"node\">\n<title>4</title>\n<polygon fill=\"none\" stroke=\"black\" points=\"1029.55,-210 884.55,-210 884.55,-174 1029.55,-174 1029.55,-210\"/>\n<text text-anchor=\"middle\" x=\"957.05\" y=\"-188.3\" font-family=\"Times,serif\" font-size=\"14.00\">&quot;cscothern0@fc2.com&quot;</text>\n</g>\n<!-- 8 -->\n<g id=\"node9\" class=\"node\">\n<title>8</title>\n<ellipse fill=\"none\" stroke=\"black\" cx=\"465.05\" cy=\"-192\" rx=\"50.09\" ry=\"18\"/>\n<text text-anchor=\"middle\" x=\"465.05\" y=\"-188.3\" font-family=\"Times,serif\" font-size=\"14.00\">ex:WorkAt</text>\n</g>\n<!-- 8&#45;&gt;11 -->\n<g id=\"edge22\" class=\"edge\">\n<title>8&#45;&gt;11</title>\n<path fill=\"none\" stroke=\"black\" d=\"M454.9,-174.12C450.02,-163.61 446.66,-150.35 454.05,-141 464.54,-127.72 501.8,-118.93 536.18,-113.49\"/>\n<polygon fill=\"black\" stroke=\"black\" points=\"536.33,-117 545.71,-112.06 535.3,-110.08 536.33,-117\"/>\n<text text-anchor=\"middle\" x=\"487.55\" y=\"-144.8\" font-family=\"Times,serif\" font-size=\"14.00\">rdfs:domain</text>\n</g>\n<!-- 8&#45;&gt;13 -->\n<g id=\"edge25\" class=\"edge\">\n<title>8&#45;&gt;13</title>\n<path fill=\"none\" stroke=\"black\" d=\"M426.07,-180.35C405.07,-173.74 382.21,-164.86 376.05,-156 371.75,-149.83 370.25,-142.11 370.14,-134.59\"/>\n<polygon fill=\"black\" stroke=\"black\" points=\"373.62,-134.93 370.81,-124.72 366.64,-134.46 373.62,-134.93\"/>\n<text text-anchor=\"middle\" x=\"403.55\" y=\"-144.8\" font-family=\"Times,serif\" font-size=\"14.00\">rdfs:range</text>\n</g>\n<!-- 8&#45;&gt;17 -->\n<g id=\"edge24\" class=\"edge\">\n<title>8&#45;&gt;17</title>\n<path fill=\"none\" stroke=\"black\" d=\"M427.38,-179.83C418.79,-177.61 409.65,-175.5 401.05,-174 354.9,-165.96 225.35,-187.89 191.05,-156 185.16,-150.53 182.46,-142.6 181.42,-134.65\"/>\n<polygon fill=\"black\" stroke=\"black\" points=\"184.92,-134.64 180.97,-124.81 177.93,-134.96 184.92,-134.64\"/>\n<text text-anchor=\"middle\" x=\"212.55\" y=\"-144.8\" font-family=\"Times,serif\" font-size=\"14.00\">rdf:type</text>\n</g>\n<!-- 9 -->\n<g id=\"node10\" class=\"node\">\n<title>9</title>\n<ellipse fill=\"none\" stroke=\"black\" cx=\"1099.05\" cy=\"-192\" rx=\"51.99\" ry=\"18\"/>\n<text text-anchor=\"middle\" x=\"1099.05\" y=\"-188.3\" font-family=\"Times,serif\" font-size=\"14.00\">dbr:Raleigh</text>\n</g>\n<!-- 10 -->\n<g id=\"node11\" class=\"node\">\n<title>10</title>\n<ellipse fill=\"none\" stroke=\"black\" cx=\"1240.05\" cy=\"-192\" rx=\"71.49\" ry=\"18\"/>\n<text text-anchor=\"middle\" x=\"1240.05\" y=\"-188.3\" font-family=\"Times,serif\" font-size=\"14.00\">yago:Accounting</text>\n</g>\n<!-- 19 -->\n<g id=\"node20\" class=\"node\">\n<title>19</title>\n<ellipse fill=\"none\" stroke=\"black\" cx=\"488.05\" cy=\"-18\" rx=\"46.29\" ry=\"18\"/>\n<text text-anchor=\"middle\" x=\"488.05\" y=\"-14.3\" font-family=\"Times,serif\" font-size=\"14.00\">rdfs:Class</text>\n</g>\n<!-- 11&#45;&gt;19 -->\n<g id=\"edge1\" class=\"edge\">\n<title>11&#45;&gt;19</title>\n<path fill=\"none\" stroke=\"black\" d=\"M579.53,-87.81C562.03,-74.65 537.15,-55.93 517.75,-41.34\"/>\n<polygon fill=\"black\" stroke=\"black\" points=\"520.03,-38.68 509.93,-35.46 515.82,-44.27 520.03,-38.68\"/>\n<text text-anchor=\"middle\" x=\"573.55\" y=\"-57.8\" font-family=\"Times,serif\" font-size=\"14.00\">rdf:type</text>\n</g>\n<!-- 12 -->\n<g id=\"node13\" class=\"node\">\n<title>12</title>\n<polygon fill=\"none\" stroke=\"black\" points=\"1398.55,-210 1329.55,-210 1329.55,-174 1398.55,-174 1398.55,-210\"/>\n<text text-anchor=\"middle\" x=\"1364.05\" y=\"-188.3\" font-family=\"Times,serif\" font-size=\"14.00\">&quot;Female&quot;</text>\n</g>\n<!-- 13&#45;&gt;19 -->\n<g id=\"edge17\" class=\"edge\">\n<title>13&#45;&gt;19</title>\n<path fill=\"none\" stroke=\"black\" d=\"M396.83,-87.61C414.36,-74.43 439.16,-55.77 458.48,-41.24\"/>\n<polygon fill=\"black\" stroke=\"black\" points=\"460.37,-44.2 466.26,-35.39 456.16,-38.6 460.37,-44.2\"/>\n<text text-anchor=\"middle\" x=\"460.55\" y=\"-57.8\" font-family=\"Times,serif\" font-size=\"14.00\">rdf:type</text>\n</g>\n<!-- 14 -->\n<g id=\"node15\" class=\"node\">\n<title>14</title>\n<ellipse fill=\"none\" stroke=\"black\" cx=\"1234.05\" cy=\"-279\" rx=\"70.39\" ry=\"18\"/>\n<text text-anchor=\"middle\" x=\"1234.05\" y=\"-275.3\" font-family=\"Times,serif\" font-size=\"14.00\">ex:CarilScothern</text>\n</g>\n<!-- 14&#45;&gt;2 -->\n<g id=\"edge21\" class=\"edge\">\n<title>14&#45;&gt;2</title>\n<path fill=\"none\" stroke=\"black\" d=\"M1164.13,-276.47C1103.47,-273.55 1013.9,-265.41 939.05,-243 917.34,-236.5 894.63,-225.53 876.36,-215.52\"/>\n<polygon fill=\"black\" stroke=\"black\" points=\"878.17,-212.53 867.74,-210.68 874.74,-218.63 878.17,-212.53\"/>\n<text text-anchor=\"middle\" x=\"982.55\" y=\"-231.8\" font-family=\"Times,serif\" font-size=\"14.00\">foaf:postalCode</text>\n</g>\n<!-- 14&#45;&gt;3 -->\n<g id=\"edge6\" class=\"edge\">\n<title>14&#45;&gt;3</title>\n<path fill=\"none\" stroke=\"black\" d=\"M1299.49,-272.17C1342.22,-267.17 1398.82,-258.28 1447.05,-243 1461.64,-238.38 1464.14,-234.4 1478.05,-228 1489.54,-222.71 1502.04,-217.15 1513.67,-212.05\"/>\n<polygon fill=\"black\" stroke=\"black\" points=\"1514.89,-215.34 1522.66,-208.14 1512.1,-208.92 1514.89,-215.34\"/>\n<text text-anchor=\"middle\" x=\"1508.55\" y=\"-231.8\" font-family=\"Times,serif\" font-size=\"14.00\">ex:WorkAt</text>\n</g>\n<!-- 14&#45;&gt;4 -->\n<g id=\"edge14\" class=\"edge\">\n<title>14&#45;&gt;4</title>\n<path fill=\"none\" stroke=\"black\" d=\"M1174.88,-269.02C1142.31,-263.25 1101.42,-254.63 1066.05,-243 1043.58,-235.61 1019.59,-224.94 999.86,-215.35\"/>\n<polygon fill=\"black\" stroke=\"black\" points=\"1001.53,-212.27 991.02,-210.98 998.43,-218.55 1001.53,-212.27\"/>\n<text text-anchor=\"middle\" x=\"1095.05\" y=\"-231.8\" font-family=\"Times,serif\" font-size=\"14.00\">foaf:mbox</text>\n</g>\n<!-- 14&#45;&gt;9 -->\n<g id=\"edge8\" class=\"edge\">\n<title>14&#45;&gt;9</title>\n<path fill=\"none\" stroke=\"black\" d=\"M1188.5,-264.96C1173.59,-259.5 1157.43,-252.24 1144.05,-243 1134.35,-236.3 1125.3,-227.11 1117.9,-218.44\"/>\n<polygon fill=\"black\" stroke=\"black\" points=\"1120.79,-216.45 1111.78,-210.89 1115.36,-220.86 1120.79,-216.45\"/>\n<text text-anchor=\"middle\" x=\"1187.55\" y=\"-231.8\" font-family=\"Times,serif\" font-size=\"14.00\">foaf:based_near</text>\n</g>\n<!-- 14&#45;&gt;10 -->\n<g id=\"edge31\" class=\"edge\">\n<title>14&#45;&gt;10</title>\n<path fill=\"none\" stroke=\"black\" d=\"M1233.87,-260.85C1233.9,-251.19 1234.16,-238.9 1235.05,-228 1235.21,-225.93 1235.42,-223.8 1235.66,-221.66\"/>\n<polygon fill=\"black\" stroke=\"black\" points=\"1239.11,-222.27 1236.94,-211.9 1232.17,-221.36 1239.11,-222.27\"/>\n<text text-anchor=\"middle\" x=\"1285.05\" y=\"-231.8\" font-family=\"Times,serif\" font-size=\"14.00\">foaf:topic_interest</text>\n</g>\n<!-- 14&#45;&gt;11 -->\n<g id=\"edge26\" class=\"edge\">\n<title>14&#45;&gt;11</title>\n<path fill=\"none\" stroke=\"black\" d=\"M1301.63,-273.74C1346.86,-269.32 1400.63,-260.47 1415.05,-243 1426.98,-228.54 1438.84,-203.85 1407.05,-174 1353.87,-124.06 855.99,-110.39 670.37,-107.01\"/>\n<polygon fill=\"black\" stroke=\"black\" points=\"670.43,-103.51 660.37,-106.84 670.31,-110.51 670.43,-103.51\"/>\n<text text-anchor=\"middle\" x=\"1449.55\" y=\"-188.3\" font-family=\"Times,serif\" font-size=\"14.00\">rdf:type</text>\n</g>\n<!-- 14&#45;&gt;12 -->\n<g id=\"edge18\" class=\"edge\">\n<title>14&#45;&gt;12</title>\n<path fill=\"none\" stroke=\"black\" d=\"M1288.02,-267.02C1304.39,-261.76 1321.59,-254.1 1335.05,-243 1342.26,-237.05 1348.06,-228.81 1352.53,-220.73\"/>\n<polygon fill=\"black\" stroke=\"black\" points=\"1355.67,-222.29 1356.96,-211.77 1349.39,-219.18 1355.67,-222.29\"/>\n<text text-anchor=\"middle\" x=\"1379.55\" y=\"-231.8\" font-family=\"Times,serif\" font-size=\"14.00\">foaf:gender</text>\n</g>\n<!-- 14&#45;&gt;21 -->\n<g id=\"edge19\" class=\"edge\">\n<title>14&#45;&gt;21</title>\n<path fill=\"none\" stroke=\"black\" d=\"M1304.74,-278.64C1367.85,-277.19 1461.94,-269.96 1539.05,-243 1550.92,-238.85 1551.52,-233.04 1563.05,-228 1590.9,-215.81 1599.75,-218.14 1629.05,-210 1632.38,-209.07 1635.82,-208.11 1639.28,-207.14\"/>\n<polygon fill=\"black\" stroke=\"black\" points=\"1640.2,-210.52 1648.87,-204.44 1638.3,-203.78 1640.2,-210.52\"/>\n<text text-anchor=\"middle\" x=\"1584.55\" y=\"-231.8\" font-family=\"Times,serif\" font-size=\"14.00\">rdf:type</text>\n</g>\n<!-- 22 -->\n<g id=\"node23\" class=\"node\">\n<title>22</title>\n<polygon fill=\"none\" stroke=\"black\" points=\"794.05,-210 678.05,-210 678.05,-174 794.05,-174 794.05,-210\"/>\n<text text-anchor=\"middle\" x=\"736.05\" y=\"-188.3\" font-family=\"Times,serif\" font-size=\"14.00\">&quot;22&quot;^^xsd:integer</text>\n</g>\n<!-- 14&#45;&gt;22 -->\n<g id=\"edge10\" class=\"edge\">\n<title>14&#45;&gt;22</title>\n<path fill=\"none\" stroke=\"black\" d=\"M1163.42,-278.05C1086.09,-276.6 958.98,-269.79 853.05,-243 827.65,-236.58 800.67,-225.37 779.03,-215.2\"/>\n<polygon fill=\"black\" stroke=\"black\" points=\"780.76,-212.15 770.23,-210.97 777.73,-218.46 780.76,-212.15\"/>\n<text text-anchor=\"middle\" x=\"875.55\" y=\"-231.8\" font-family=\"Times,serif\" font-size=\"14.00\">foaf:age</text>\n</g>\n<!-- 20 -->\n<g id=\"node21\" class=\"node\">\n<title>20</title>\n<ellipse fill=\"none\" stroke=\"black\" cx=\"465.05\" cy=\"-279\" rx=\"50.09\" ry=\"18\"/>\n<text text-anchor=\"middle\" x=\"465.05\" y=\"-275.3\" font-family=\"Times,serif\" font-size=\"14.00\">ex:Manage</text>\n</g>\n<!-- 20&#45;&gt;8 -->\n<g id=\"edge12\" class=\"edge\">\n<title>20&#45;&gt;8</title>\n<path fill=\"none\" stroke=\"black\" d=\"M465.05,-260.8C465.05,-249.58 465.05,-234.67 465.05,-221.69\"/>\n<polygon fill=\"black\" stroke=\"black\" points=\"468.55,-221.98 465.05,-211.98 461.55,-221.98 468.55,-221.98\"/>\n<text text-anchor=\"middle\" x=\"517.55\" y=\"-231.8\" font-family=\"Times,serif\" font-size=\"14.00\">rdfs:subPropertyOf</text>\n</g>\n<!-- 20&#45;&gt;11 -->\n<g id=\"edge4\" class=\"edge\">\n<title>20&#45;&gt;11</title>\n<path fill=\"none\" stroke=\"black\" d=\"M513.16,-273.55C534.69,-269.1 558.65,-260.3 574.05,-243 600.65,-213.11 604.17,-164.8 603.32,-134.25\"/>\n<polygon fill=\"black\" stroke=\"black\" points=\"606.83,-134.45 602.86,-124.62 599.84,-134.78 606.83,-134.45\"/>\n<text text-anchor=\"middle\" x=\"635.55\" y=\"-188.3\" font-family=\"Times,serif\" font-size=\"14.00\">rdfs:domain</text>\n</g>\n<!-- 20&#45;&gt;13 -->\n<g id=\"edge20\" class=\"edge\">\n<title>20&#45;&gt;13</title>\n<path fill=\"none\" stroke=\"black\" d=\"M427.53,-266.7C400.98,-256.52 367.32,-238.66 351.05,-210 337.44,-186.04 347.73,-154.84 358.75,-132.88\"/>\n<polygon fill=\"black\" stroke=\"black\" points=\"361.74,-134.71 363.4,-124.25 355.58,-131.39 361.74,-134.71\"/>\n<text text-anchor=\"middle\" x=\"378.55\" y=\"-188.3\" font-family=\"Times,serif\" font-size=\"14.00\">rdfs:range</text>\n</g>\n</g>\n</svg>\n",
            "text/plain": [
              "<graphviz.graphs.Digraph at 0x111d06cd0>"
            ]
          },
          "metadata": {},
          "output_type": "display_data"
        }
      ],
      "source": [
        "%%rdf turtle -l library\n",
        "@prefix rdf: <http://www.w3.org/1999/02/22-rdf-syntax-ns#> .\n",
        "@prefix rdfs: <http://www.w3.org/2000/01/rdf-schema#> .\n",
        "@prefix xsd: <http://www.w3.org/2001/XMLSchema#> .\n",
        "@prefix ex: <http://example.com/> .\n",
        "@prefix foaf: <http://xmlns.com/foaf/0.1/> .\n",
        "@prefix dbr:<http://dbpedia.org/resource/> .\n",
        "@prefix dbo:<http://dbpedia.org/ontology/> .\n",
        "@prefix dbprop:<http://dbpedia.org/property/> .\n",
        "@prefix yago:<http://yago-knowledge.org/resource/> .\n",
        "\n",
        "\n",
        "# These are just some axiomatic triples. Do not remove them.\n",
        "# rdfs:subClassOf rdfs:domain rdfs:Class .\n",
        "# rdfs:subClassOf rdfs:range rdfs:Class .\n",
        "# rdfs:range rdfs:range rdfs:Class .\n",
        "# rdfs:range rdfs:domain rdf:Property .\n",
        "# rdfs:domain rdfs:range rdfs:Class .\n",
        "# rdfs:domain rdfs:domain rdf:Property .\n",
        "\n",
        "### YOUR SOLUTION HERE\n",
        "#Declare Class\n",
        "ex:Employee a rdfs:Class .\n",
        "ex:Department a rdfs:Class .\n",
        "ex:WorkAt a rdf:Property .\n",
        "ex:Manage rdfs:subPropertyOf ex:WorkAt .\n",
        "ex:NumberOfEmployee a rdf:Property.\n",
        "\n",
        "#Declare Domain & Range\n",
        "ex:WorkAt rdfs:domain ex:Employee .\n",
        "ex:WorkAt rdfs:range ex:Department .\n",
        "ex:Manage rdfs:domain ex:Employee .\n",
        "ex:Manage rdfs:range ex:Department .\n",
        "ex:NumberOfEmployee rdfs:domain ex:Department .\n",
        "ex:NumberOfEmployee rdfs:range xsd:integer .\n",
        "\n",
        "\n",
        "#Instance\n",
        "ex:Accounting a ex:Department . \n",
        "ex:Accounting ex:numberOfEmployees \"20\"^^xsd:integer .\n",
        "\n",
        "\n",
        "ex:DerrekKlimaszewski a ex:Employee, foaf:person .\n",
        "ex:DerrekKlimaszewski foaf:based_near dbr:Durham .\n",
        "ex:DerrekKlimaszewski foaf:topic_interest yago:Finance .\n",
        "ex:DerrekKlimaszewski\n",
        "  foaf:age \"42\"^^xsd:integer ;\n",
        "  foaf:mbox \"dklimaszewski3@feedburner.com\";\n",
        "  foaf:gender \"Male\" ;\n",
        "  foaf:postalCode \"433\" ;\n",
        "  ex:Manage ex:Accounting .\n",
        "\n",
        "ex:CarilScothern a ex:Employee, foaf:person .\n",
        "ex:CarilScothern foaf:based_near dbr:Raleigh .\n",
        "ex:CarilScothern foaf:topic_interest yago:Accounting .\n",
        "ex:CarilScothern\n",
        "  foaf:age \"22\"^^xsd:integer ;\n",
        "  foaf:mbox \"cscothern0@fc2.com\";\n",
        "  foaf:gender \"Female\" ;\n",
        "  foaf:postalCode \"150\" ;\n",
        "  ex:WorkAt ex:Accounting .\n"
      ]
    }
  ],
  "metadata": {
    "colab": {
      "provenance": []
    },
    "kernelspec": {
      "display_name": "Python 3",
      "name": "python3"
    },
    "language_info": {
      "codemirror_mode": {
        "name": "ipython",
        "version": 3
      },
      "file_extension": ".py",
      "mimetype": "text/x-python",
      "name": "python",
      "nbconvert_exporter": "python",
      "pygments_lexer": "ipython3",
      "version": "3.9.13"
    }
  },
  "nbformat": 4,
  "nbformat_minor": 0
}
