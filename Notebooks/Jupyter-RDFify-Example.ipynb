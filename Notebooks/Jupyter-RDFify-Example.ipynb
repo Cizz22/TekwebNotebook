{
 "cells": [
  {
   "cell_type": "markdown",
   "metadata": {},
   "source": [
    "# Jupyter-RDFify Example Notebook\n",
    "\n",
    "The purpose of this notebook is to introduce you to the [Jupyter-RDFfify](https://github.com/SemWebNotebooks/Jupyter-RDFify) extension and show you many of its awesome features.\n",
    "\n",
    "## Installation\n",
    "\n",
    "<div class=\"alert alert-success\" role=\"alert\">\n",
    "    If you've already installed Jupyter-RDFify and its dependencies in your environment, you can skip this step!\n",
    "</div>\n",
    "\n",
    "Install the extension by running the following cell."
   ]
  },
  {
   "cell_type": "code",
   "execution_count": 1,
   "metadata": {
    "scrolled": true
   },
   "outputs": [
    {
     "name": "stdout",
     "output_type": "stream",
     "text": [
      "/usr/bin/python: No module named pip\n"
     ]
    }
   ],
   "source": [
    "!python -m pip install --no-input jupyter-rdfify"
   ]
  },
  {
   "cell_type": "markdown",
   "metadata": {},
   "source": [
    "The extension requires Graphviz for graph visualization. If you've already installed Graphviz and added it to your path, you're good to go! If not, either install it and add it to your path or either add \"--display table\", \"--display raw\" or \"--display none\" to all cell with graphic output.\n",
    "\n",
    "If you've the conda package manager installed, you may also run the following cell to install the graphviz binaries."
   ]
  },
  {
   "cell_type": "code",
   "execution_count": 2,
   "metadata": {},
   "outputs": [
    {
     "name": "stdout",
     "output_type": "stream",
     "text": [
      "zsh:1: command not found: conda\n"
     ]
    }
   ],
   "source": [
    "!conda install --yes -c conda-forge graphviz"
   ]
  },
  {
   "cell_type": "markdown",
   "metadata": {},
   "source": [
    "## Loading The Extension\n",
    "\n",
    "Run the following cell to load the extension. You need to do this for every session or IPython will not recognize the rdf magic commands."
   ]
  },
  {
   "cell_type": "code",
   "execution_count": 3,
   "metadata": {},
   "outputs": [
    {
     "data": {
      "application/javascript": "\n    if (typeof IPython !== \"undefined\") {\n        IPython.CodeCell.options_default.highlight_modes['application/sparql-query'] = {'reg':[/^%%rdf sparql/]};\n        IPython.CodeCell.options_default.highlight_modes['text/turtle'] = {'reg':[/^%%rdf turtle/, /^%%rdf shex/]};\n        IPython.CodeCell.options_default.highlight_modes['application/ld+json'] = {'reg':[/^%%rdf json-ld/]};\n        IPython.notebook.get_cells().map(function(cell){ if (cell.cell_type == 'code'){ cell.auto_highlight(); } });\n    }\n    "
     },
     "metadata": {},
     "output_type": "display_data"
    }
   ],
   "source": [
    "%reload_ext jupyter-rdfify"
   ]
  },
  {
   "cell_type": "markdown",
   "metadata": {},
   "source": [
    "## It's A Kind Of Magic\n",
    "\n",
    "Magic commands are the way to tell IPython (the Python shell that Jupyter uses) that the following line or cell is not actual python code and should thus be treated differently. Everything in Jupyter-RDFify is controlled with the same magic, which is %rdf.\n",
    "\n",
    "Please be aware that there are line and cell magics. Line magics, which only interpret the line, start with one percent sign (e.g. `%rdf`) and cell magics, which interpret both the line and the cell, start with two percent signs (e.g. `%%rdf`). The Jupyter-RDFify uses both but in some use-cases you need to use cell magics (e.g. for parsing turtle).\n",
    "\n",
    "The rdf magic is interpreted like a command line interface so you can pass additional parameters using hyphens. If at any time you are lost or want to know which parameters you can use, use the help flag (`--help`, `-h`).\n",
    "\n",
    "To see all modules:"
   ]
  },
  {
   "cell_type": "code",
   "execution_count": 4,
   "metadata": {},
   "outputs": [
    {
     "name": "stdout",
     "output_type": "stream",
     "text": [
      "usage: %rdf [-h] [--verbose] [--return-store]\n",
      "            {turtle,n3,json-ld,xml,sparql,shex,graph} ...\n",
      "\n",
      "positional arguments:\n",
      "  {turtle,n3,json-ld,xml,sparql,shex,graph}\n",
      "                        RDF modules\n",
      "    turtle              Turtle module\n",
      "    n3                  Notation 3 module\n",
      "    json-ld             JSON-LD module\n",
      "    xml                 XML+RDF module\n",
      "    sparql              SPARQL module\n",
      "    shex                ShEx module\n",
      "    graph               Graph management module\n",
      "\n",
      "optional arguments:\n",
      "  -h, --help            show this help message and exit\n",
      "  --verbose, -v         Enable verbose output\n",
      "  --return-store, -r    Returns a copy of all present elements (graphs,\n",
      "                        schemas, etc.)\n",
      "\n"
     ]
    }
   ],
   "source": [
    "%rdf --help"
   ]
  },
  {
   "cell_type": "markdown",
   "metadata": {},
   "source": [
    "To see the parameters of a specific module (here we show it for the turtle module):"
   ]
  },
  {
   "cell_type": "code",
   "execution_count": 5,
   "metadata": {},
   "outputs": [
    {
     "name": "stdout",
     "output_type": "stream",
     "text": [
      "usage: %rdf turtle [-h] [--serialize {turtle,json-ld,xml,n3}]\n",
      "                   [--display {graph,table,raw,none}] [--label LABEL]\n",
      "                   [--prefix] [--entail {rdfs,owl,rdfs+owl}]\n",
      "\n",
      "optional arguments:\n",
      "  -h, --help            show this help message and exit\n",
      "  --serialize {turtle,json-ld,xml,n3}, -s {turtle,json-ld,xml,n3}\n",
      "                        Format for serializing when display is set to raw.\n",
      "  --display {graph,table,raw,none}, -d {graph,table,raw,none}\n",
      "                        How output is displayed\n",
      "  --label LABEL, -l LABEL\n",
      "                        Store graph locally with this label\n",
      "  --prefix, -p          Define a prefix which gets prepend to every query.\n",
      "                        Useful for PREFIX declarations\n",
      "  --entail {rdfs,owl,rdfs+owl}, -e {rdfs,owl,rdfs+owl}\n",
      "                        Uses a brute force implementation of the finite\n",
      "                        version of RDFS semantics or OWL 2 RL. Uses owlrl\n",
      "                        python package.\n",
      "\n"
     ]
    }
   ],
   "source": [
    "%rdf turtle --help"
   ]
  },
  {
   "cell_type": "markdown",
   "metadata": {},
   "source": [
    "## Features And Examples\n",
    "\n",
    "In the following we will present you many features that Jupyter-RDFify offers.\n",
    "\n",
    "### Serialization\n",
    "\n",
    "Jupyter-RDFify can parse many different RDF graph serializations (currently turtle, n3, json-ld and xml). After you have parsed a graph, you can later visualize, query, convert or entail it. The following cell parses a graph in Turtle notation and visualize it as a graph (this will throw an error if you do not have graphviz installed as explained in the [installation section](#Installation))."
   ]
  },
  {
   "cell_type": "code",
   "execution_count": 9,
   "metadata": {},
   "outputs": [
    {
     "data": {
      "image/svg+xml": "<?xml version=\"1.0\" encoding=\"UTF-8\" standalone=\"no\"?>\n<!DOCTYPE svg PUBLIC \"-//W3C//DTD SVG 1.1//EN\"\n \"http://www.w3.org/Graphics/SVG/1.1/DTD/svg11.dtd\">\n<!-- Generated by graphviz version 7.0.1 (20221109.1506)\n -->\n<!-- Pages: 1 -->\n<svg width=\"351pt\" height=\"218pt\"\n viewBox=\"0.00 0.00 350.69 218.00\" xmlns=\"http://www.w3.org/2000/svg\" xmlns:xlink=\"http://www.w3.org/1999/xlink\">\n<g id=\"graph0\" class=\"graph\" transform=\"scale(1 1) rotate(0) translate(4 214)\">\n<polygon fill=\"white\" stroke=\"none\" points=\"-4,4 -4,-214 346.69,-214 346.69,4 -4,4\"/>\n<!-- 0 -->\n<g id=\"node1\" class=\"node\">\n<title>0</title>\n<ellipse fill=\"none\" stroke=\"black\" cx=\"240.49\" cy=\"-192\" rx=\"77.19\" ry=\"18\"/>\n<text text-anchor=\"middle\" x=\"240.49\" y=\"-188.3\" font-family=\"Times,serif\" font-size=\"14.00\">ex:Jupyter&#45;RDFify</text>\n</g>\n<!-- 1 -->\n<g id=\"node2\" class=\"node\">\n<title>1</title>\n<ellipse fill=\"none\" stroke=\"black\" cx=\"84.49\" cy=\"-105\" rx=\"84.49\" ry=\"18\"/>\n<text text-anchor=\"middle\" x=\"84.49\" y=\"-101.3\" font-family=\"Times,serif\" font-size=\"14.00\">ex:IPythonExtension</text>\n</g>\n<!-- 0&#45;&gt;1 -->\n<g id=\"edge2\" class=\"edge\">\n<title>0&#45;&gt;1</title>\n<path fill=\"none\" stroke=\"black\" d=\"M211.15,-175.01C186.58,-161.62 151.27,-142.39 124.18,-127.62\"/>\n<polygon fill=\"black\" stroke=\"black\" points=\"126.02,-124.64 115.56,-122.93 122.67,-130.79 126.02,-124.64\"/>\n<text text-anchor=\"middle\" x=\"193.99\" y=\"-144.8\" font-family=\"Times,serif\" font-size=\"14.00\">rdf:type</text>\n</g>\n<!-- 2 -->\n<g id=\"node3\" class=\"node\">\n<title>2</title>\n<ellipse fill=\"none\" stroke=\"black\" cx=\"240.49\" cy=\"-105\" rx=\"53.89\" ry=\"18\"/>\n<text text-anchor=\"middle\" x=\"240.49\" y=\"-101.3\" font-family=\"Times,serif\" font-size=\"14.00\">ex:Graphviz</text>\n</g>\n<!-- 0&#45;&gt;2 -->\n<g id=\"edge3\" class=\"edge\">\n<title>0&#45;&gt;2</title>\n<path fill=\"none\" stroke=\"black\" d=\"M240.49,-173.8C240.49,-162.58 240.49,-147.67 240.49,-134.69\"/>\n<polygon fill=\"black\" stroke=\"black\" points=\"243.99,-134.98 240.49,-124.98 236.99,-134.98 243.99,-134.98\"/>\n<text text-anchor=\"middle\" x=\"260.49\" y=\"-144.8\" font-family=\"Times,serif\" font-size=\"14.00\">ex:uses</text>\n</g>\n<!-- 3 -->\n<g id=\"node4\" class=\"node\">\n<title>3</title>\n<ellipse fill=\"none\" stroke=\"black\" cx=\"285.49\" cy=\"-18\" rx=\"57.39\" ry=\"18\"/>\n<text text-anchor=\"middle\" x=\"285.49\" y=\"-14.3\" font-family=\"Times,serif\" font-size=\"14.00\">ex:Awesome</text>\n</g>\n<!-- 0&#45;&gt;3 -->\n<g id=\"edge1\" class=\"edge\">\n<title>0&#45;&gt;3</title>\n<path fill=\"none\" stroke=\"black\" d=\"M264.65,-174.65C279.9,-162.54 297.76,-144.46 303.49,-123 310.28,-97.61 303.81,-68.02 296.81,-46.91\"/>\n<polygon fill=\"black\" stroke=\"black\" points=\"300.13,-45.79 293.46,-37.56 293.54,-48.16 300.13,-45.79\"/>\n<text text-anchor=\"middle\" x=\"319.49\" y=\"-101.3\" font-family=\"Times,serif\" font-size=\"14.00\">ex:is</text>\n</g>\n<!-- 2&#45;&gt;3 -->\n<g id=\"edge4\" class=\"edge\">\n<title>2&#45;&gt;3</title>\n<path fill=\"none\" stroke=\"black\" d=\"M249.6,-86.8C255.76,-75.16 264.03,-59.55 271.07,-46.24\"/>\n<polygon fill=\"black\" stroke=\"black\" points=\"274.11,-47.99 275.69,-37.51 267.92,-44.71 274.11,-47.99\"/>\n<text text-anchor=\"middle\" x=\"279.49\" y=\"-57.8\" font-family=\"Times,serif\" font-size=\"14.00\">ex:is</text>\n</g>\n</g>\n</svg>\n",
      "text/plain": [
       "<graphviz.graphs.Digraph at 0x10fe21400>"
      ]
     },
     "metadata": {},
     "output_type": "display_data"
    }
   ],
   "source": [
    "%%rdf turtle\n",
    "@prefix ex: <http://example.org/> .\n",
    "ex:Jupyter-RDFify a ex:IPythonExtension .\n",
    "ex:Jupyter-RDFify ex:is ex:Awesome .\n",
    "ex:Jupyter-RDFify ex:uses ex:Graphviz .\n",
    "ex:Graphviz ex:is ex:Awesome ."
   ]
  },
  {
   "cell_type": "markdown",
   "metadata": {},
   "source": [
    "### Conversion\n",
    "\n",
    "You can easily convert a serialization into a different format using the `--serialize <format>` parameter together with the `--display raw` parameter. The following cell converts our example graph into JSON-LD."
   ]
  },
  {
   "cell_type": "code",
   "execution_count": 10,
   "metadata": {},
   "outputs": [
    {
     "data": {
      "text/plain": [
       "[\n",
       "  {\n",
       "    \"@id\": \"http://example.org/Jupyter-RDFify\",\n",
       "    \"@type\": [\n",
       "      \"http://example.org/IPythonExtension\"\n",
       "    ],\n",
       "    \"http://example.org/is\": [\n",
       "      {\n",
       "        \"@id\": \"http://example.org/Awesome\"\n",
       "      }\n",
       "    ],\n",
       "    \"http://example.org/uses\": [\n",
       "      {\n",
       "        \"@id\": \"http://example.org/Graphviz\"\n",
       "      }\n",
       "    ]\n",
       "  },\n",
       "  {\n",
       "    \"@id\": \"http://example.org/Graphviz\",\n",
       "    \"http://example.org/is\": [\n",
       "      {\n",
       "        \"@id\": \"http://example.org/Awesome\"\n",
       "      }\n",
       "    ]\n",
       "  }\n",
       "]"
      ]
     },
     "metadata": {},
     "output_type": "display_data"
    }
   ],
   "source": [
    "%%rdf turtle --serialize json-ld --display raw\n",
    "@prefix ex: <http://example.org/> .\n",
    "ex:Jupyter-RDFify a ex:IPythonExtension .\n",
    "ex:Jupyter-RDFify ex:is ex:Awesome .\n",
    "ex:Jupyter-RDFify ex:uses ex:Graphviz .\n",
    "ex:Graphviz ex:is ex:Awesome ."
   ]
  },
  {
   "cell_type": "markdown",
   "metadata": {},
   "source": [
    "### Querying\n",
    "\n",
    "There are two possibilities to query graphs. Either we define and query a graph locally, or we use an external endpoint.\n",
    "\n",
    "#### Local\n",
    "\n",
    "To be able to reference a local graph for querying, we need to assign it a label. We can do this using the `--label <label>` parameter. Lets redefine our example graph and assign it the label `awesome_graph`"
   ]
  },
  {
   "cell_type": "code",
   "execution_count": 11,
   "metadata": {},
   "outputs": [
    {
     "data": {
      "image/svg+xml": "<?xml version=\"1.0\" encoding=\"UTF-8\" standalone=\"no\"?>\n<!DOCTYPE svg PUBLIC \"-//W3C//DTD SVG 1.1//EN\"\n \"http://www.w3.org/Graphics/SVG/1.1/DTD/svg11.dtd\">\n<!-- Generated by graphviz version 7.0.1 (20221109.1506)\n -->\n<!-- Pages: 1 -->\n<svg width=\"351pt\" height=\"218pt\"\n viewBox=\"0.00 0.00 350.69 218.00\" xmlns=\"http://www.w3.org/2000/svg\" xmlns:xlink=\"http://www.w3.org/1999/xlink\">\n<g id=\"graph0\" class=\"graph\" transform=\"scale(1 1) rotate(0) translate(4 214)\">\n<polygon fill=\"white\" stroke=\"none\" points=\"-4,4 -4,-214 346.69,-214 346.69,4 -4,4\"/>\n<!-- 0 -->\n<g id=\"node1\" class=\"node\">\n<title>0</title>\n<ellipse fill=\"none\" stroke=\"black\" cx=\"240.49\" cy=\"-192\" rx=\"77.19\" ry=\"18\"/>\n<text text-anchor=\"middle\" x=\"240.49\" y=\"-188.3\" font-family=\"Times,serif\" font-size=\"14.00\">ex:Jupyter&#45;RDFify</text>\n</g>\n<!-- 1 -->\n<g id=\"node2\" class=\"node\">\n<title>1</title>\n<ellipse fill=\"none\" stroke=\"black\" cx=\"84.49\" cy=\"-105\" rx=\"84.49\" ry=\"18\"/>\n<text text-anchor=\"middle\" x=\"84.49\" y=\"-101.3\" font-family=\"Times,serif\" font-size=\"14.00\">ex:IPythonExtension</text>\n</g>\n<!-- 0&#45;&gt;1 -->\n<g id=\"edge2\" class=\"edge\">\n<title>0&#45;&gt;1</title>\n<path fill=\"none\" stroke=\"black\" d=\"M211.15,-175.01C186.58,-161.62 151.27,-142.39 124.18,-127.62\"/>\n<polygon fill=\"black\" stroke=\"black\" points=\"126.02,-124.64 115.56,-122.93 122.67,-130.79 126.02,-124.64\"/>\n<text text-anchor=\"middle\" x=\"193.99\" y=\"-144.8\" font-family=\"Times,serif\" font-size=\"14.00\">rdf:type</text>\n</g>\n<!-- 2 -->\n<g id=\"node3\" class=\"node\">\n<title>2</title>\n<ellipse fill=\"none\" stroke=\"black\" cx=\"240.49\" cy=\"-105\" rx=\"53.89\" ry=\"18\"/>\n<text text-anchor=\"middle\" x=\"240.49\" y=\"-101.3\" font-family=\"Times,serif\" font-size=\"14.00\">ex:Graphviz</text>\n</g>\n<!-- 0&#45;&gt;2 -->\n<g id=\"edge3\" class=\"edge\">\n<title>0&#45;&gt;2</title>\n<path fill=\"none\" stroke=\"black\" d=\"M240.49,-173.8C240.49,-162.58 240.49,-147.67 240.49,-134.69\"/>\n<polygon fill=\"black\" stroke=\"black\" points=\"243.99,-134.98 240.49,-124.98 236.99,-134.98 243.99,-134.98\"/>\n<text text-anchor=\"middle\" x=\"260.49\" y=\"-144.8\" font-family=\"Times,serif\" font-size=\"14.00\">ex:uses</text>\n</g>\n<!-- 3 -->\n<g id=\"node4\" class=\"node\">\n<title>3</title>\n<ellipse fill=\"none\" stroke=\"black\" cx=\"285.49\" cy=\"-18\" rx=\"57.39\" ry=\"18\"/>\n<text text-anchor=\"middle\" x=\"285.49\" y=\"-14.3\" font-family=\"Times,serif\" font-size=\"14.00\">ex:Awesome</text>\n</g>\n<!-- 0&#45;&gt;3 -->\n<g id=\"edge1\" class=\"edge\">\n<title>0&#45;&gt;3</title>\n<path fill=\"none\" stroke=\"black\" d=\"M264.65,-174.65C279.9,-162.54 297.76,-144.46 303.49,-123 310.28,-97.61 303.81,-68.02 296.81,-46.91\"/>\n<polygon fill=\"black\" stroke=\"black\" points=\"300.13,-45.79 293.46,-37.56 293.54,-48.16 300.13,-45.79\"/>\n<text text-anchor=\"middle\" x=\"319.49\" y=\"-101.3\" font-family=\"Times,serif\" font-size=\"14.00\">ex:is</text>\n</g>\n<!-- 2&#45;&gt;3 -->\n<g id=\"edge4\" class=\"edge\">\n<title>2&#45;&gt;3</title>\n<path fill=\"none\" stroke=\"black\" d=\"M249.6,-86.8C255.76,-75.16 264.03,-59.55 271.07,-46.24\"/>\n<polygon fill=\"black\" stroke=\"black\" points=\"274.11,-47.99 275.69,-37.51 267.92,-44.71 274.11,-47.99\"/>\n<text text-anchor=\"middle\" x=\"279.49\" y=\"-57.8\" font-family=\"Times,serif\" font-size=\"14.00\">ex:is</text>\n</g>\n</g>\n</svg>\n",
      "text/plain": [
       "<graphviz.graphs.Digraph at 0x10fe46850>"
      ]
     },
     "metadata": {},
     "output_type": "display_data"
    }
   ],
   "source": [
    "%%rdf turtle --label awesome_graph\n",
    "\n",
    "@prefix ex: <http://example.org/> .\n",
    "\n",
    "ex:Jupyter-RDFify a ex:IPythonExtension .\n",
    "ex:Jupyter-RDFify ex:is ex:Awesome .\n",
    "ex:Jupyter-RDFify ex:uses ex:Graphviz .\n",
    "ex:Graphviz ex:is ex:Awesome ."
   ]
  },
  {
   "cell_type": "markdown",
   "metadata": {},
   "source": [
    "Now we can query the local graph using the SPARQL module and referencing it using `--local <label>`."
   ]
  },
  {
   "cell_type": "code",
   "execution_count": 12,
   "metadata": {},
   "outputs": [
    {
     "data": {
      "text/html": [
       "<table><tr><th>?result</th></tr><tr><td>http://example.org/Jupyter-RDFify</td></tr><tr><td>http://example.org/Graphviz</td></tr></table>"
      ],
      "text/plain": [
       "<IPython.core.display.HTML object>"
      ]
     },
     "metadata": {},
     "output_type": "display_data"
    }
   ],
   "source": [
    "%%rdf sparql --local awesome_graph\n",
    "\n",
    "PREFIX ex: <http://example.org/>\n",
    "\n",
    "SELECT ?result WHERE {\n",
    "    ?result ex:is ex:Awesome .\n",
    "}"
   ]
  },
  {
   "cell_type": "markdown",
   "metadata": {},
   "source": [
    "#### External Endpoint\n",
    "\n",
    "It is also possible to query an external endpoint. As endpoints shouldn't be put under unnecessary load and as this functionality is not guaranteed to work flawlessly, we recommend using local queries instead whenever possible. You can pass an endpoint using the `--endpoint <endpoint>` parameter. The following cell will query [Wikidata](https://www.wikidata.org/) for nodes of type cat and obtain their labels."
   ]
  },
  {
   "cell_type": "code",
   "execution_count": 13,
   "metadata": {
    "scrolled": true
   },
   "outputs": [
    {
     "data": {
      "text/html": [
       "<table><tr><th>item</th><th>itemLabel</th></tr><tr><td>&lt;http://www.wikidata.org/entity/Q378619&gt;</td><td>CC@en</td></tr><tr><td>&lt;http://www.wikidata.org/entity/Q498787&gt;</td><td>Muezza@en</td></tr><tr><td>&lt;http://www.wikidata.org/entity/Q677525&gt;</td><td>Orangey@en</td></tr><tr><td>&lt;http://www.wikidata.org/entity/Q851190&gt;</td><td>Mrs. Chippy@en</td></tr><tr><td>&lt;http://www.wikidata.org/entity/Q893453&gt;</td><td>Unsinkable Sam@en</td></tr><tr><td>&lt;http://www.wikidata.org/entity/Q1050083&gt;</td><td>Catmando@en</td></tr><tr><td>&lt;http://www.wikidata.org/entity/Q1201902&gt;</td><td>Tama@en</td></tr><tr><td>&lt;http://www.wikidata.org/entity/Q1207136&gt;</td><td>Dewey Readmore Books@en</td></tr><tr><td>&lt;http://www.wikidata.org/entity/Q1371145&gt;</td><td>Socks@en</td></tr><tr><td>&lt;http://www.wikidata.org/entity/Q1386318&gt;</td><td>F. D. C. Willard@en</td></tr></table>"
      ],
      "text/plain": [
       "<IPython.core.display.HTML object>"
      ]
     },
     "metadata": {},
     "output_type": "display_data"
    }
   ],
   "source": [
    "%%rdf sparql --endpoint \"https://query.wikidata.org/sparql\"\n",
    "PREFIX wdt: <http://www.wikidata.org/prop/direct/>\n",
    "PREFIX wd: <http://www.wikidata.org/entity/>\n",
    "PREFIX bd: <http://www.bigdata.com/rdf#>\n",
    "PREFIX wikibase: <http://wikiba.se/ontology#>\n",
    "\n",
    "# Cats\n",
    "SELECT ?item ?itemLabel \n",
    "WHERE \n",
    "{\n",
    "  ?item wdt:P31 wd:Q146.\n",
    "  SERVICE wikibase:label { bd:serviceParam wikibase:language \"[AUTO_LANGUAGE],en\". }\n",
    "} LIMIT 10"
   ]
  },
  {
   "cell_type": "markdown",
   "metadata": {},
   "source": [
    "### Validation\n",
    "\n",
    "Jupyter-RDFify allows you to define graph schemas and validate your graphs with them. Currently it only supports ShEx but support for SHACL is planned.\n",
    "\n",
    "We first define our graph and our schema and assign labels `awesome_graph1` and `awesome_schema` accordingly."
   ]
  },
  {
   "cell_type": "code",
   "execution_count": 14,
   "metadata": {},
   "outputs": [
    {
     "data": {
      "image/svg+xml": "<?xml version=\"1.0\" encoding=\"UTF-8\" standalone=\"no\"?>\n<!DOCTYPE svg PUBLIC \"-//W3C//DTD SVG 1.1//EN\"\n \"http://www.w3.org/Graphics/SVG/1.1/DTD/svg11.dtd\">\n<!-- Generated by graphviz version 7.0.1 (20221109.1506)\n -->\n<!-- Pages: 1 -->\n<svg width=\"476pt\" height=\"218pt\"\n viewBox=\"0.00 0.00 475.95 218.00\" xmlns=\"http://www.w3.org/2000/svg\" xmlns:xlink=\"http://www.w3.org/1999/xlink\">\n<g id=\"graph0\" class=\"graph\" transform=\"scale(1 1) rotate(0) translate(4 214)\">\n<polygon fill=\"white\" stroke=\"none\" points=\"-4,4 -4,-214 471.95,-214 471.95,4 -4,4\"/>\n<!-- 0 -->\n<g id=\"node1\" class=\"node\">\n<title>0</title>\n<ellipse fill=\"none\" stroke=\"black\" cx=\"53.95\" cy=\"-105\" rx=\"53.89\" ry=\"18\"/>\n<text text-anchor=\"middle\" x=\"53.95\" y=\"-101.3\" font-family=\"Times,serif\" font-size=\"14.00\">ex:Graphviz</text>\n</g>\n<!-- 4 -->\n<g id=\"node5\" class=\"node\">\n<title>4</title>\n<ellipse fill=\"none\" stroke=\"black\" cx=\"257.95\" cy=\"-18\" rx=\"57.39\" ry=\"18\"/>\n<text text-anchor=\"middle\" x=\"257.95\" y=\"-14.3\" font-family=\"Times,serif\" font-size=\"14.00\">ex:Awesome</text>\n</g>\n<!-- 0&#45;&gt;4 -->\n<g id=\"edge4\" class=\"edge\">\n<title>0&#45;&gt;4</title>\n<path fill=\"none\" stroke=\"black\" d=\"M86.72,-90.34C121.31,-75.93 176.01,-53.14 214.25,-37.2\"/>\n<polygon fill=\"black\" stroke=\"black\" points=\"215.29,-40.56 223.18,-33.49 212.6,-34.1 215.29,-40.56\"/>\n<text text-anchor=\"middle\" x=\"181.95\" y=\"-57.8\" font-family=\"Times,serif\" font-size=\"14.00\">ex:is</text>\n</g>\n<!-- 1 -->\n<g id=\"node2\" class=\"node\">\n<title>1</title>\n<polygon fill=\"none\" stroke=\"black\" points=\"239.95,-123 125.95,-123 125.95,-87 239.95,-87 239.95,-123\"/>\n<text text-anchor=\"middle\" x=\"182.95\" y=\"-101.3\" font-family=\"Times,serif\" font-size=\"14.00\">&quot;Jupyter&#45;RDFify&quot;</text>\n</g>\n<!-- 2 -->\n<g id=\"node3\" class=\"node\">\n<title>2</title>\n<ellipse fill=\"none\" stroke=\"black\" cx=\"341.95\" cy=\"-105\" rx=\"84.49\" ry=\"18\"/>\n<text text-anchor=\"middle\" x=\"341.95\" y=\"-101.3\" font-family=\"Times,serif\" font-size=\"14.00\">ex:IPythonExtension</text>\n</g>\n<!-- 3 -->\n<g id=\"node4\" class=\"node\">\n<title>3</title>\n<ellipse fill=\"none\" stroke=\"black\" cx=\"261.95\" cy=\"-192\" rx=\"77.19\" ry=\"18\"/>\n<text text-anchor=\"middle\" x=\"261.95\" y=\"-188.3\" font-family=\"Times,serif\" font-size=\"14.00\">ex:Jupyter&#45;RDFify</text>\n</g>\n<!-- 3&#45;&gt;0 -->\n<g id=\"edge3\" class=\"edge\">\n<title>3&#45;&gt;0</title>\n<path fill=\"none\" stroke=\"black\" d=\"M223.77,-175.97C208.29,-169.84 190.24,-162.63 173.95,-156 148.32,-145.57 119.72,-133.66 96.87,-124.08\"/>\n<polygon fill=\"black\" stroke=\"black\" points=\"98.45,-120.95 87.88,-120.31 95.74,-127.41 98.45,-120.95\"/>\n<text text-anchor=\"middle\" x=\"193.95\" y=\"-144.8\" font-family=\"Times,serif\" font-size=\"14.00\">ex:uses</text>\n</g>\n<!-- 3&#45;&gt;1 -->\n<g id=\"edge5\" class=\"edge\">\n<title>3&#45;&gt;1</title>\n<path fill=\"none\" stroke=\"black\" d=\"M246.34,-174.21C235.02,-162.03 219.5,-145.33 206.66,-131.51\"/>\n<polygon fill=\"black\" stroke=\"black\" points=\"209.46,-129.39 200.09,-124.45 204.34,-134.16 209.46,-129.39\"/>\n<text text-anchor=\"middle\" x=\"251.45\" y=\"-144.8\" font-family=\"Times,serif\" font-size=\"14.00\">ex:name</text>\n</g>\n<!-- 3&#45;&gt;2 -->\n<g id=\"edge2\" class=\"edge\">\n<title>3&#45;&gt;2</title>\n<path fill=\"none\" stroke=\"black\" d=\"M277.75,-174.21C289.29,-161.95 305.13,-145.11 318.19,-131.24\"/>\n<polygon fill=\"black\" stroke=\"black\" points=\"320.56,-133.83 324.86,-124.15 315.46,-129.03 320.56,-133.83\"/>\n<text text-anchor=\"middle\" x=\"327.45\" y=\"-144.8\" font-family=\"Times,serif\" font-size=\"14.00\">rdf:type</text>\n</g>\n<!-- 3&#45;&gt;4 -->\n<g id=\"edge1\" class=\"edge\">\n<title>3&#45;&gt;4</title>\n<path fill=\"none\" stroke=\"black\" d=\"M320.48,-179.91C382.85,-165.33 468.38,-135.67 434.95,-87 410.04,-50.75 362.91,-33.81 323.54,-25.91\"/>\n<polygon fill=\"black\" stroke=\"black\" points=\"324.36,-22.5 313.89,-24.14 323.1,-29.38 324.36,-22.5\"/>\n<text text-anchor=\"middle\" x=\"454.95\" y=\"-101.3\" font-family=\"Times,serif\" font-size=\"14.00\">ex:is</text>\n</g>\n</g>\n</svg>\n",
      "text/plain": [
       "<graphviz.graphs.Digraph at 0x11005a940>"
      ]
     },
     "metadata": {},
     "output_type": "display_data"
    }
   ],
   "source": [
    "%%rdf turtle --label awesome_graph1\n",
    "\n",
    "PREFIX ex: <http://example.org/>\n",
    "\n",
    "ex:Jupyter-RDFify a ex:IPythonExtension .\n",
    "ex:Jupyter-RDFify ex:is ex:Awesome .\n",
    "ex:Jupyter-RDFify ex:uses ex:Graphviz .\n",
    "ex:Jupyter-RDFify ex:name \"Jupyter-RDFify\" .\n",
    "ex:Graphviz ex:is ex:Awesome ."
   ]
  },
  {
   "cell_type": "code",
   "execution_count": 15,
   "metadata": {},
   "outputs": [
    {
     "name": "stdout",
     "output_type": "stream",
     "text": [
      "ShEx: Shape successfully parsed.\n"
     ]
    }
   ],
   "source": [
    "%%rdf shex parse --label awesome_schema\n",
    "\n",
    "PREFIX ex: <http://example.org/>\n",
    "PREFIX xsd: <http://www.w3.org/2001/XMLSchema#>\n",
    "\n",
    "ex:AwesomeShape {\n",
    "    ex:is [ex:Awesome];\n",
    "    a [ex:IPythonExtension];\n",
    "    ex:name xsd:string\n",
    "}"
   ]
  },
  {
   "cell_type": "markdown",
   "metadata": {},
   "source": [
    "To validate your graph, use the `validate` action of the ShEx module and give the following parameters:\n",
    "- `--label, -l <schema label>` Label which you have assigned to the schema\n",
    "- `--graph, -g <graph label>` Label which you have assigned to the graph\n",
    "- `--start, -s <starting shape>` URI of shape which is the starting point of the schema\n",
    "- `--focus, -f <focus node>` URI of node in graph to focus on. Can be omitted to validate all nodes.\n",
    "\n",
    "In the following we will validate our graph using our schema. The defined shape is our starting shape and we will focus on both `ex:Jupyter-RDFify` and `ex:Graphviz`. The first is expected to pass while the second is expected to be rejected with a reason."
   ]
  },
  {
   "cell_type": "code",
   "execution_count": null,
   "metadata": {
    "scrolled": true
   },
   "outputs": [],
   "source": [
    "%rdf shex validate --label awesome_schema --graph awesome_graph1 --start http://example.org/AwesomeShape --focus http://example.org/Jupyter-RDFify\n",
    "%rdf shex validate --label awesome_schema --graph awesome_graph1 --start http://example.org/AwesomeShape --focus http://example.org/Graphviz"
   ]
  },
  {
   "cell_type": "markdown",
   "metadata": {},
   "source": [
    "## Other Features\n",
    "\n",
    "This section will go over other features worth mentioning very quickly.\n",
    "\n",
    "### Prefixes\n",
    "\n",
    "You can predefine a prefix for most modules. This is useful for prefix declarations and similar as to not repeat them each cell. Use the `--prefix` flag to define a prefix (or the `prefix` action in case of the ShEx module)."
   ]
  },
  {
   "cell_type": "code",
   "execution_count": null,
   "metadata": {},
   "outputs": [],
   "source": [
    "%%rdf turtle --prefix\n",
    "# This prefix will be prepend to every use of the turtle module\n",
    "PREFIX ex: <http://example.org/>"
   ]
  },
  {
   "cell_type": "markdown",
   "metadata": {},
   "source": [
    "We can now define graphs without declaring the `ex:` prefix."
   ]
  },
  {
   "cell_type": "code",
   "execution_count": null,
   "metadata": {},
   "outputs": [],
   "source": [
    "%%rdf turtle\n",
    "ex:Jupyter-RDFify ex:is ex:Awesome ."
   ]
  },
  {
   "cell_type": "markdown",
   "metadata": {},
   "source": [
    "### Entailment\n",
    "\n",
    "Jupyter-RDFify has basic RDFS and OWL entailment functionality. This uses [OWL-RL](https://owl-rl.readthedocs.io/en/latest/) to generate a finite closure under a given semantic. As this uses a brute-force approach, it may take a long time or fail for large graphs. To entail a graph using either rdfs, owl or rdfs+owl semantics, use the `--entail <regime>` parameter. Note that this may add some axiomatic triples as well."
   ]
  },
  {
   "cell_type": "code",
   "execution_count": null,
   "metadata": {},
   "outputs": [],
   "source": [
    "%%rdf turtle --entail rdfs\n",
    "PREFIX ex: <http://example.org/>\n",
    "PREFIX rdfs: <http://www.w3.org/2000/01/rdf-schema#>\n",
    "\n",
    "ex:Jupyter-RDFify a ex:IPythonExtension .\n",
    "ex:IPythonExtension rdfs:subClassOf ex:Extension ."
   ]
  },
  {
   "cell_type": "markdown",
   "metadata": {},
   "source": [
    "### Graph Manager\n",
    "\n",
    "You can use the Graph Manager to work with already defined labelled graphs. With it, you can list, remove, draw and entail graphs. Don't forget to specify a graph with the `--label` parameter."
   ]
  },
  {
   "cell_type": "code",
   "execution_count": null,
   "metadata": {},
   "outputs": [],
   "source": [
    "%rdf graph --help"
   ]
  },
  {
   "cell_type": "markdown",
   "metadata": {},
   "source": [
    "## Accessing Underlying Data\n",
    "\n",
    "Sometimes you may want to access the underlying datastructures (RDFLib graphs, PyShEx schemas, etc.). This is useful when working with a framework like [nbgrader](https://nbgrader.readthedocs.io/) to write tests which check whether a student has given a correct solution. With the `--return-store` flag, the magic execution will return all stored data in a python dictionary."
   ]
  },
  {
   "cell_type": "code",
   "execution_count": 56,
   "metadata": {},
   "outputs": [
    {
     "name": "stdout",
     "output_type": "stream",
     "text": [
      "Possible keys:\n",
      "  rdfgraphs\n",
      "  rdfsources\n",
      "  rdfresults\n",
      "  rdfshapes\n",
      "Labelled graphs:\n",
      "  awesome_graph1\n",
      "  last\n",
      "Triple was found\n"
     ]
    }
   ],
   "source": [
    "# Obtain all data\n",
    "data = %rdf --return-store\n",
    "# Print some information\n",
    "print(\"Possible keys:\")\n",
    "for key in data:\n",
    "    print(f\"  {key}\")\n",
    "\n",
    "# Print all graph labels\n",
    "print(\"Labelled graphs:\")\n",
    "for graph in data['rdfgraphs']:\n",
    "    print(f\"  {graph}\")\n",
    "    \n",
    "# Check whether the last graph contains the triple (ex:Jupyter-RDFify, rdf:type, ex:IPythonExtension)\n",
    "from rdflib import URIRef, RDF\n",
    "assert(\n",
    "    (URIRef(\"http://example.org/Jupyter-RDFify\"), RDF.type, URIRef(\"http://example.org/IPythonExtension\"))\n",
    "    in data['rdfgraphs']['last']\n",
    "), \"Triple not found\"\n",
    "print(\"Triple was found\")"
   ]
  }
 ],
 "metadata": {
  "kernelspec": {
   "display_name": "Python 3",
   "language": "python",
   "name": "python3"
  },
  "language_info": {
   "codemirror_mode": {
    "name": "ipython",
    "version": 3
   },
   "file_extension": ".py",
   "mimetype": "text/x-python",
   "name": "python",
   "nbconvert_exporter": "python",
   "pygments_lexer": "ipython3",
   "version": "3.9.13"
  },
  "vscode": {
   "interpreter": {
    "hash": "aee8b7b246df8f9039afb4144a1f6fd8d2ca17a180786b69acc140d282b71a49"
   }
  }
 },
 "nbformat": 4,
 "nbformat_minor": 4
}
