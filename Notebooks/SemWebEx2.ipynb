{
 "cells": [
  {
   "cell_type": "code",
   "execution_count": 2,
   "metadata": {
    "deletable": false,
    "editable": false,
    "nbgrader": {
     "cell_type": "code",
     "checksum": "ae0c74aacde83ff97c2f002a918bc287",
     "grade": false,
     "grade_id": "cell-0783aaa83db8ff42",
     "locked": true,
     "schema_version": 3,
     "solution": false,
     "task": false
    }
   },
   "outputs": [
    {
     "data": {
      "application/javascript": "\n    if (typeof IPython !== \"undefined\") {\n        IPython.CodeCell.options_default.highlight_modes['application/sparql-query'] = {'reg':[/^%%rdf sparql/]};\n        IPython.CodeCell.options_default.highlight_modes['text/turtle'] = {'reg':[/^%%rdf turtle/, /^%%rdf shex/]};\n        IPython.CodeCell.options_default.highlight_modes['application/ld+json'] = {'reg':[/^%%rdf json-ld/]};\n        IPython.notebook.get_cells().map(function(cell){ if (cell.cell_type == 'code'){ cell.auto_highlight(); } });\n    }\n    "
     },
     "metadata": {},
     "output_type": "display_data"
    }
   ],
   "source": [
    "%reload_ext jupyter-rdfify"
   ]
  },
  {
   "cell_type": "code",
   "execution_count": 3,
   "metadata": {
    "deletable": false,
    "editable": false,
    "nbgrader": {
     "cell_type": "code",
     "checksum": "963d34679bbcc425a92e9500b2ef5dec",
     "grade": false,
     "grade_id": "cell-af515fa937df43ae",
     "locked": true,
     "schema_version": 3,
     "solution": false,
     "task": false
    }
   },
   "outputs": [],
   "source": [
    "# This cell defines some helpers, imports and strings for tests. Run it!\n",
    "from rdflib import Variable, URIRef, Literal, XSD\n",
    "s = \"http://example.org/subjects#{}\"\n",
    "p = \"http://example.org/properties#{}\"\n",
    "c = \"http://example.org/classes#{}\"\n",
    "lab = \"http://www.w3.org/2000/01/rdf-schema#label\"\n",
    "err = \"Your query gave no result.\"\n",
    "def project(bindings, variables):\n",
    "    result = list()\n",
    "    for binding in bindings:\n",
    "        result.append(binding.project(variables))\n",
    "    return result\n",
    "def bindingToString(binding):\n",
    "    res = \"\"\n",
    "    for var in binding:\n",
    "        res += f\"{var.n3()} -> {binding[var].n3()}\\n\"\n",
    "    return res\n",
    "def lenCheck(bindings, length, msg=None):\n",
    "    assert len(bindings) == length, \\\n",
    "        f\"Your query returned the wrong number of results. It returned {len(bindings)} but should have returned {length}.\\n\" \\\n",
    "        + (msg if msg is not None else \"\")\n",
    "def exCheck(bindings, binding):\n",
    "    assert binding in bindings, \\\n",
    "        f\"Your result is missing the following binding:\\n{bindingToString(binding)}\"\n",
    "def bindCheck(bindings, pos, binding):\n",
    "    assert(bindings[pos] == binding), \\\n",
    "        f\"\"\"The result of your query has the wrong binding in position {pos}.\n",
    "            Expected binding:\\n{bindingToString(binding)}\n",
    "            Your binding:\\n{bindingToString(bindings[pos])}\"\"\"\n",
    "def uri(prefix, name):\n",
    "    return URIRef(prefix.format(name))"
   ]
  },
  {
   "cell_type": "markdown",
   "metadata": {
    "deletable": false,
    "editable": false,
    "nbgrader": {
     "cell_type": "markdown",
     "checksum": "f6b5c539c5ecb877b52b8c342d5b5135",
     "grade": false,
     "grade_id": "cell-f54cf67d6cecc000",
     "locked": true,
     "schema_version": 3,
     "solution": false,
     "task": false
    }
   },
   "source": [
    "# SPARQL\n",
    "SPARQL stands for **S**PARQL **P**rotocol **A**nd **R**DF **Q**uery **L**anguage and is a [W3C recommended](https://www.w3.org/TR/sparql11-overview/) language for querying and manipulating RDF graph content. As its syntax is similar Turtle, we will first look at an example:\n",
    "\n",
    "**PREFIX ex: http://example.org/#<br>   \n",
    "SELECT ?countryName ?capitalName  \n",
    "WHERE {  \n",
    "&nbsp;&nbsp;&nbsp;&nbsp;ex:Germany ex:name ?countryName .  \n",
    "&nbsp;&nbsp;&nbsp;&nbsp;ex:Germany ex:capital ?capital .  \n",
    "&nbsp;&nbsp;&nbsp;&nbsp;?capital ex:name ?capitalName  \n",
    "}**\n",
    "\n",
    "The following information was extracted from the [W3C SPARQL Query Language Specification](https://www.w3.org/TR/2013/REC-sparql11-query-20130321/). If you have any questions regarding SPARQL please first consult this document.\n",
    "\n",
    "## Prefixes\n",
    "As in Turtle, we can define *prefixes* to make our query more human-readable. In SPARQL, prefix declarations start with the keyword **PREFIX** and are then followed by the desired abbreviation and then the IRI to abbreviate. This syntax also works in turtle but note that there is *no period* at the end of the line (in contrary to the *@prefix* syntax which only works in Turtle). In the example above, we abbreviate the URI http://example.org/# to *ex:*.\n",
    "\n",
    "\n",
    "## Queries\n",
    "After all our prefix declarations, the query starts. First we need to specify a *query type*. SPARQL defines four query types which all match a given graph pattern against an RDF graph but differ in what they return:\n",
    "- **SELECT:** Queries return the variable bindings of user-specified variables which satisfy the given graph pattern.\n",
    "- **ASK:** Queries return a boolean result based on whether the given graph pattern could be matched against the RDF graph or not.\n",
    "- **CONSTRUCT:** Queries return a new graph which is constructed from a template and the variable bindings which satisfy the given graph pattern.\n",
    "- **DESCRIBE:** Queries return an RDF graph which describes the resource based on what the query service deems important (different query services can yield different results for the same graph).\n",
    "\n",
    "In our example above, we use a SELECT query. The graph pattern follows after the keyword **WHERE** and is surrounded by braces ({}).\n",
    "## Basic Graph Patterns\n",
    "We use so-called **Graph Patterns** to query an RDF graph. *Basic Graph Patterns* look very similar to Turtle as they use the same triple syntax. The only difference is that in Graph Patterns, we can also use variables at every position where an IRI can be used. Variables always start with a question mark and need an identifier. The graph pattern in our example (after the WHERE keyword) features three variables - namely ?countryName, ?capital and ?capitalName - in three triples. When matching a Graph Pattern against an RDF graph, the query service searches for variables bindings such that the Graph Pattern matches a part of the queried graph. When a variable occurs more than once in a pattern, both occurences have to be bound to the same value in a match. Also note that the period at the end of a line represents a conjuction (AND), which is why we the last period of a Graph Pattern is optional. There are also more complex Graph Patterns called Group Graph Patterns, which we will cover later on.\n",
    "\n",
    "## Parameters\n",
    "The four query types take different parameters:  \n",
    "- **SELECT:** A set of variables delimited by spaces, on which the variable bindings should be projected. In our example we use the three variables ?capital, ?capitalName and ?countryName but we only want the last two to appear in our results, thus we specify ?capitalName and ?countryName after the SELECT keyword. If you want to project all variables, you can use an asterisk (\\*) at this position.\n",
    "- **ASK:** No parameters except for the graph pattern to match the RDF graph against.\n",
    "- **CONSTRUCT:** A Basic Graph Pattern as a template and a Graph Pattern for matching. The variable bindings resulting from matching the Graph Pattern against the RDF graph are then used to construct a new graph based on the template. When no template is given, the Graph Pattern used for matching is also used as the template but then only Basic Graph Patterns are allowed.\n",
    "- **DESCRIBE:** A set of variables and IRIs delimited by space which should be described by the resulting graph. One can also provide a Graph Pattern to identify resources or give constraints.\n",
    "\n",
    "## FROM Statement\n",
    "One can also use a FROM or a FROM NAMED statement to specify a dataset which should be queried. With this multiple graphs can be queried and/or merged. This won't be needed in this exercise but if you're interested you can [read about it](https://www.w3.org/TR/sparql11-query/#specifyingDataset).\n",
    "\n",
    "## Syntactic Sugar\n",
    "All the syntactic sugar from Turtle can also be used in SPARQL Graph Patterns!\n",
    "\n",
    "## Graph: Simpsons\n",
    "The RDF graph below contains some information about a family called Simpsons.\n",
    "**You must run the following cell or the graph won't be in scope for following tasks.**"
   ]
  },
  {
   "cell_type": "code",
   "execution_count": 4,
   "metadata": {
    "deletable": false,
    "editable": false,
    "nbgrader": {
     "cell_type": "code",
     "checksum": "3e9c37112eb8fc323eed8d35a6365cb6",
     "grade": false,
     "grade_id": "cell-df044b5f1b195eff",
     "locked": true,
     "schema_version": 3,
     "solution": false,
     "task": false
    }
   },
   "outputs": [
    {
     "data": {
      "image/svg+xml": "<?xml version=\"1.0\" encoding=\"UTF-8\" standalone=\"no\"?>\n<!DOCTYPE svg PUBLIC \"-//W3C//DTD SVG 1.1//EN\"\n \"http://www.w3.org/Graphics/SVG/1.1/DTD/svg11.dtd\">\n<!-- Generated by graphviz version 7.1.0 (20230121.1956)\n -->\n<!-- Pages: 1 -->\n<svg width=\"1292pt\" height=\"479pt\"\n viewBox=\"0.00 0.00 1292.00 479.00\" xmlns=\"http://www.w3.org/2000/svg\" xmlns:xlink=\"http://www.w3.org/1999/xlink\">\n<g id=\"graph0\" class=\"graph\" transform=\"scale(1 1) rotate(0) translate(4 475)\">\n<polygon fill=\"white\" stroke=\"none\" points=\"-4,4 -4,-475 1288,-475 1288,4 -4,4\"/>\n<!-- 0 -->\n<g id=\"node1\" class=\"node\">\n<title>0</title>\n<polygon fill=\"none\" stroke=\"black\" points=\"104,-384 0,-384 0,-348 104,-348 104,-384\"/>\n<text text-anchor=\"middle\" x=\"52\" y=\"-362.3\" font-family=\"Times,serif\" font-size=\"14.00\">&quot;Lisa Simpson&quot;</text>\n</g>\n<!-- 1 -->\n<g id=\"node2\" class=\"node\">\n<title>1</title>\n<ellipse fill=\"none\" stroke=\"black\" cx=\"363\" cy=\"-453\" rx=\"31.7\" ry=\"18\"/>\n<text text-anchor=\"middle\" x=\"363\" y=\"-449.3\" font-family=\"Times,serif\" font-size=\"14.00\">s:Lisa</text>\n</g>\n<!-- 1&#45;&gt;0 -->\n<g id=\"edge3\" class=\"edge\">\n<title>1&#45;&gt;0</title>\n<path fill=\"none\" stroke=\"black\" d=\"M330.97,-452.56C262.55,-453.1 105.21,-450.54 66,-417 59.67,-411.58 56.08,-403.56 54.09,-395.52\"/>\n<polygon fill=\"black\" stroke=\"black\" points=\"57.58,-395.17 52.46,-385.9 50.68,-396.34 57.58,-395.17\"/>\n<text text-anchor=\"middle\" x=\"92\" y=\"-405.8\" font-family=\"Times,serif\" font-size=\"14.00\">rdfs:label</text>\n</g>\n<!-- 2 -->\n<g id=\"node3\" class=\"node\">\n<title>2</title>\n<ellipse fill=\"none\" stroke=\"black\" cx=\"191\" cy=\"-18\" rx=\"43.59\" ry=\"18\"/>\n<text text-anchor=\"middle\" x=\"191\" y=\"-14.3\" font-family=\"Times,serif\" font-size=\"14.00\">c:Female</text>\n</g>\n<!-- 1&#45;&gt;2 -->\n<g id=\"edge22\" class=\"edge\">\n<title>1&#45;&gt;2</title>\n<path fill=\"none\" stroke=\"black\" d=\"M332.8,-447.4C270.19,-437.02 132,-409.31 132,-367 132,-367 132,-367 132,-104 132,-79.83 148.3,-57.59 163.76,-41.92\"/>\n<polygon fill=\"black\" stroke=\"black\" points=\"165.77,-44.84 170.59,-35.4 160.94,-39.78 165.77,-44.84\"/>\n<text text-anchor=\"middle\" x=\"153.5\" y=\"-231.8\" font-family=\"Times,serif\" font-size=\"14.00\">rdf:type</text>\n</g>\n<!-- 5 -->\n<g id=\"node6\" class=\"node\">\n<title>5</title>\n<ellipse fill=\"none\" stroke=\"black\" cx=\"815\" cy=\"-18\" rx=\"82.59\" ry=\"18\"/>\n<text text-anchor=\"middle\" x=\"815\" y=\"-14.3\" font-family=\"Times,serif\" font-size=\"14.00\">c:FictionalCharacter</text>\n</g>\n<!-- 1&#45;&gt;5 -->\n<g id=\"edge18\" class=\"edge\">\n<title>1&#45;&gt;5</title>\n<path fill=\"none\" stroke=\"black\" d=\"M394.94,-451.25C526.04,-447.74 1016,-430.38 1016,-367 1016,-367 1016,-367 1016,-104 1016,-74.41 941.18,-49.29 882.84,-34.2\"/>\n<polygon fill=\"black\" stroke=\"black\" points=\"883.81,-30.83 873.26,-31.77 882.1,-37.62 883.81,-30.83\"/>\n<text text-anchor=\"middle\" x=\"1037.5\" y=\"-231.8\" font-family=\"Times,serif\" font-size=\"14.00\">rdf:type</text>\n</g>\n<!-- 7 -->\n<g id=\"node8\" class=\"node\">\n<title>7</title>\n<ellipse fill=\"none\" stroke=\"black\" cx=\"576\" cy=\"-366\" rx=\"31.7\" ry=\"18\"/>\n<text text-anchor=\"middle\" x=\"576\" y=\"-362.3\" font-family=\"Times,serif\" font-size=\"14.00\">s:Bart</text>\n</g>\n<!-- 1&#45;&gt;7 -->\n<g id=\"edge35\" class=\"edge\">\n<title>1&#45;&gt;7</title>\n<path fill=\"none\" stroke=\"black\" d=\"M395.09,-452.38C432.44,-451.38 494.66,-445.11 539,-417 548.28,-411.12 556.02,-402.02 561.99,-393.18\"/>\n<polygon fill=\"black\" stroke=\"black\" points=\"564.89,-395.15 567.16,-384.8 558.94,-391.47 564.89,-395.15\"/>\n<text text-anchor=\"middle\" x=\"579\" y=\"-405.8\" font-family=\"Times,serif\" font-size=\"14.00\">p:sibling</text>\n</g>\n<!-- 15 -->\n<g id=\"node16\" class=\"node\">\n<title>15</title>\n<ellipse fill=\"none\" stroke=\"black\" cx=\"307\" cy=\"-105\" rx=\"40.09\" ry=\"18\"/>\n<text text-anchor=\"middle\" x=\"307\" y=\"-101.3\" font-family=\"Times,serif\" font-size=\"14.00\">s:Marge</text>\n</g>\n<!-- 1&#45;&gt;15 -->\n<g id=\"edge31\" class=\"edge\">\n<title>1&#45;&gt;15</title>\n<path fill=\"none\" stroke=\"black\" d=\"M347.71,-436.97C316.16,-404.81 244.32,-325.54 215,-243 199.75,-200.08 193.25,-173.66 225,-141 234.86,-130.86 248.14,-123.49 261.13,-118.22\"/>\n<polygon fill=\"black\" stroke=\"black\" points=\"262.29,-121.52 270.47,-114.79 259.88,-114.95 262.29,-121.52\"/>\n<text text-anchor=\"middle\" x=\"261.5\" y=\"-275.3\" font-family=\"Times,serif\" font-size=\"14.00\">p:parent</text>\n</g>\n<!-- 17 -->\n<g id=\"node18\" class=\"node\">\n<title>17</title>\n<ellipse fill=\"none\" stroke=\"black\" cx=\"550\" cy=\"-192\" rx=\"41.69\" ry=\"18\"/>\n<text text-anchor=\"middle\" x=\"550\" y=\"-188.3\" font-family=\"Times,serif\" font-size=\"14.00\">s:Homer</text>\n</g>\n<!-- 1&#45;&gt;17 -->\n<g id=\"edge8\" class=\"edge\">\n<title>1&#45;&gt;17</title>\n<path fill=\"none\" stroke=\"black\" d=\"M352.57,-435.63C336.84,-408.68 311.21,-354.05 334,-315 370.2,-252.97 450.9,-219.99 502.76,-204.53\"/>\n<polygon fill=\"black\" stroke=\"black\" points=\"503.57,-207.93 512.22,-201.82 501.65,-201.2 503.57,-207.93\"/>\n<text text-anchor=\"middle\" x=\"356.5\" y=\"-318.8\" font-family=\"Times,serif\" font-size=\"14.00\">p:parent</text>\n</g>\n<!-- 18 -->\n<g id=\"node19\" class=\"node\">\n<title>18</title>\n<ellipse fill=\"none\" stroke=\"black\" cx=\"505\" cy=\"-279\" rx=\"44.39\" ry=\"18\"/>\n<text text-anchor=\"middle\" x=\"505\" y=\"-275.3\" font-family=\"Times,serif\" font-size=\"14.00\">s:Maggie</text>\n</g>\n<!-- 1&#45;&gt;18 -->\n<g id=\"edge19\" class=\"edge\">\n<title>1&#45;&gt;18</title>\n<path fill=\"none\" stroke=\"black\" d=\"M358.7,-434.94C354.19,-412.94 349.88,-374.37 367,-348 386.62,-317.77 423.89,-300.52 454.76,-290.96\"/>\n<polygon fill=\"black\" stroke=\"black\" points=\"455.71,-294.33 464.35,-288.19 453.77,-287.6 455.71,-294.33\"/>\n<text text-anchor=\"middle\" x=\"391\" y=\"-362.3\" font-family=\"Times,serif\" font-size=\"14.00\">p:sibling</text>\n</g>\n<!-- 3 -->\n<g id=\"node4\" class=\"node\">\n<title>3</title>\n<ellipse fill=\"none\" stroke=\"black\" cx=\"1115\" cy=\"-18\" rx=\"40.89\" ry=\"18\"/>\n<text text-anchor=\"middle\" x=\"1115\" y=\"-14.3\" font-family=\"Times,serif\" font-size=\"14.00\">c:Person</text>\n</g>\n<!-- 4 -->\n<g id=\"node5\" class=\"node\">\n<title>4</title>\n<polygon fill=\"none\" stroke=\"black\" points=\"369,-36 253,-36 253,0 369,0 369,-36\"/>\n<text text-anchor=\"middle\" x=\"311\" y=\"-14.3\" font-family=\"Times,serif\" font-size=\"14.00\">&quot;Marge Simpson&quot;</text>\n</g>\n<!-- 6 -->\n<g id=\"node7\" class=\"node\">\n<title>6</title>\n<ellipse fill=\"none\" stroke=\"black\" cx=\"1115\" cy=\"-105\" rx=\"33.6\" ry=\"18\"/>\n<text text-anchor=\"middle\" x=\"1115\" y=\"-101.3\" font-family=\"Times,serif\" font-size=\"14.00\">s:Matt</text>\n</g>\n<!-- 6&#45;&gt;3 -->\n<g id=\"edge37\" class=\"edge\">\n<title>6&#45;&gt;3</title>\n<path fill=\"none\" stroke=\"black\" d=\"M1115,-86.8C1115,-75.58 1115,-60.67 1115,-47.69\"/>\n<polygon fill=\"black\" stroke=\"black\" points=\"1118.5,-47.98 1115,-37.98 1111.5,-47.98 1118.5,-47.98\"/>\n<text text-anchor=\"middle\" x=\"1136.5\" y=\"-57.8\" font-family=\"Times,serif\" font-size=\"14.00\">rdf:type</text>\n</g>\n<!-- 9 -->\n<g id=\"node10\" class=\"node\">\n<title>9</title>\n<polygon fill=\"none\" stroke=\"black\" points=\"1284,-36 1174,-36 1174,0 1284,0 1284,-36\"/>\n<text text-anchor=\"middle\" x=\"1229\" y=\"-14.3\" font-family=\"Times,serif\" font-size=\"14.00\">&quot;Matt Groening&quot;</text>\n</g>\n<!-- 6&#45;&gt;9 -->\n<g id=\"edge16\" class=\"edge\">\n<title>6&#45;&gt;9</title>\n<path fill=\"none\" stroke=\"black\" d=\"M1133.76,-90.04C1142.36,-83.63 1152.7,-75.93 1162,-69 1173.36,-60.53 1185.81,-51.24 1196.85,-43\"/>\n<polygon fill=\"black\" stroke=\"black\" points=\"1198.62,-46.05 1204.54,-37.27 1194.43,-40.44 1198.62,-46.05\"/>\n<text text-anchor=\"middle\" x=\"1206\" y=\"-57.8\" font-family=\"Times,serif\" font-size=\"14.00\">rdfs:label</text>\n</g>\n<!-- 14 -->\n<g id=\"node15\" class=\"node\">\n<title>14</title>\n<ellipse fill=\"none\" stroke=\"black\" cx=\"961\" cy=\"-18\" rx=\"36\" ry=\"18\"/>\n<text text-anchor=\"middle\" x=\"961\" y=\"-14.3\" font-family=\"Times,serif\" font-size=\"14.00\">c:Male</text>\n</g>\n<!-- 6&#45;&gt;14 -->\n<g id=\"edge10\" class=\"edge\">\n<title>6&#45;&gt;14</title>\n<path fill=\"none\" stroke=\"black\" d=\"M1092.68,-91.08C1074.95,-80.87 1049.49,-66.35 1027,-54 1016.68,-48.33 1005.39,-42.29 995.1,-36.84\"/>\n<polygon fill=\"black\" stroke=\"black\" points=\"997.04,-33.91 986.57,-32.34 993.78,-40.1 997.04,-33.91\"/>\n<text text-anchor=\"middle\" x=\"1074.5\" y=\"-57.8\" font-family=\"Times,serif\" font-size=\"14.00\">rdf:type</text>\n</g>\n<!-- 7&#45;&gt;1 -->\n<g id=\"edge40\" class=\"edge\">\n<title>7&#45;&gt;1</title>\n<path fill=\"none\" stroke=\"black\" d=\"M549.47,-376.26C531.54,-382.8 507.49,-392.13 487,-402 474.98,-407.79 473.11,-411.4 461,-417 441.85,-425.85 419.78,-433.91 401.44,-440.06\"/>\n<polygon fill=\"black\" stroke=\"black\" points=\"400.41,-436.71 392,-443.16 402.59,-443.37 400.41,-436.71\"/>\n<text text-anchor=\"middle\" x=\"511\" y=\"-405.8\" font-family=\"Times,serif\" font-size=\"14.00\">p:sibling</text>\n</g>\n<!-- 7&#45;&gt;5 -->\n<g id=\"edge5\" class=\"edge\">\n<title>7&#45;&gt;5</title>\n<path fill=\"none\" stroke=\"black\" d=\"M607.24,-362.09C679.68,-354.47 853,-330.93 853,-280 853,-280 853,-280 853,-147.5 853,-111.63 839.22,-72.36 828.25,-46.79\"/>\n<polygon fill=\"black\" stroke=\"black\" points=\"831.5,-45.49 824.24,-37.78 825.11,-48.34 831.5,-45.49\"/>\n<text text-anchor=\"middle\" x=\"874.5\" y=\"-188.3\" font-family=\"Times,serif\" font-size=\"14.00\">rdf:type</text>\n</g>\n<!-- 13 -->\n<g id=\"node14\" class=\"node\">\n<title>13</title>\n<polygon fill=\"none\" stroke=\"black\" points=\"699,-297 595,-297 595,-261 699,-261 699,-297\"/>\n<text text-anchor=\"middle\" x=\"647\" y=\"-275.3\" font-family=\"Times,serif\" font-size=\"14.00\">&quot;Bart Simpson&quot;</text>\n</g>\n<!-- 7&#45;&gt;13 -->\n<g id=\"edge17\" class=\"edge\">\n<title>7&#45;&gt;13</title>\n<path fill=\"none\" stroke=\"black\" d=\"M598.06,-352.86C607.31,-346.92 617.61,-339.09 625,-330 630.22,-323.57 634.45,-315.71 637.74,-308.14\"/>\n<polygon fill=\"black\" stroke=\"black\" points=\"640.98,-309.46 641.36,-298.87 634.46,-306.91 640.98,-309.46\"/>\n<text text-anchor=\"middle\" x=\"659\" y=\"-318.8\" font-family=\"Times,serif\" font-size=\"14.00\">rdfs:label</text>\n</g>\n<!-- 7&#45;&gt;14 -->\n<g id=\"edge25\" class=\"edge\">\n<title>7&#45;&gt;14</title>\n<path fill=\"none\" stroke=\"black\" d=\"M607.85,-364.9C654.95,-363.76 745.24,-357.74 816,-330 840.1,-320.55 846.79,-316.34 864,-297 922.17,-231.66 932.9,-207.37 956,-123 962.78,-98.22 963.58,-68.91 962.94,-47.73\"/>\n<polygon fill=\"black\" stroke=\"black\" points=\"966.44,-47.64 962.5,-37.8 959.45,-47.95 966.44,-47.64\"/>\n<text text-anchor=\"middle\" x=\"961.5\" y=\"-188.3\" font-family=\"Times,serif\" font-size=\"14.00\">rdf:type</text>\n</g>\n<!-- 7&#45;&gt;15 -->\n<g id=\"edge20\" class=\"edge\">\n<title>7&#45;&gt;15</title>\n<path fill=\"none\" stroke=\"black\" d=\"M547.77,-357.19C468.02,-334.84 245.54,-270.51 226,-243 218.41,-232.32 203.64,-190.33 239,-141 245.25,-132.28 254.32,-125.58 263.82,-120.49\"/>\n<polygon fill=\"black\" stroke=\"black\" points=\"265.27,-123.68 272.81,-116.23 262.27,-117.35 265.27,-123.68\"/>\n<text text-anchor=\"middle\" x=\"248.5\" y=\"-231.8\" font-family=\"Times,serif\" font-size=\"14.00\">p:parent</text>\n</g>\n<!-- 7&#45;&gt;17 -->\n<g id=\"edge39\" class=\"edge\">\n<title>7&#45;&gt;17</title>\n<path fill=\"none\" stroke=\"black\" d=\"M607.19,-361.62C631.66,-357.59 665.42,-348.85 689,-330 726.11,-300.33 751.04,-264.81 721,-228 717.09,-223.21 648.6,-210.29 599.51,-201.56\"/>\n<polygon fill=\"black\" stroke=\"black\" points=\"600.37,-198.16 589.92,-199.87 599.15,-205.05 600.37,-198.16\"/>\n<text text-anchor=\"middle\" x=\"756.5\" y=\"-275.3\" font-family=\"Times,serif\" font-size=\"14.00\">p:parent</text>\n</g>\n<!-- 7&#45;&gt;18 -->\n<g id=\"edge4\" class=\"edge\">\n<title>7&#45;&gt;18</title>\n<path fill=\"none\" stroke=\"black\" d=\"M546.9,-358.16C531.97,-353.04 515.07,-344.36 506,-330 501.98,-323.64 500.57,-315.86 500.46,-308.35\"/>\n<polygon fill=\"black\" stroke=\"black\" points=\"503.94,-308.72 501.07,-298.52 496.96,-308.28 503.94,-308.72\"/>\n<text text-anchor=\"middle\" x=\"530\" y=\"-318.8\" font-family=\"Times,serif\" font-size=\"14.00\">p:sibling</text>\n</g>\n<!-- 8 -->\n<g id=\"node9\" class=\"node\">\n<title>8</title>\n<polygon fill=\"none\" stroke=\"black\" points=\"589.5,-123 458.5,-123 458.5,-87 589.5,-87 589.5,-123\"/>\n<text text-anchor=\"middle\" x=\"524\" y=\"-101.3\" font-family=\"Times,serif\" font-size=\"14.00\">&quot;Homer J. Simpson&quot;</text>\n</g>\n<!-- 10 -->\n<g id=\"node11\" class=\"node\">\n<title>10</title>\n<polygon fill=\"none\" stroke=\"black\" points=\"714.5,-36 583.5,-36 583.5,0 714.5,0 714.5,-36\"/>\n<text text-anchor=\"middle\" x=\"649\" y=\"-14.3\" font-family=\"Times,serif\" font-size=\"14.00\">&quot;Abraham Simpson&quot;</text>\n</g>\n<!-- 11 -->\n<g id=\"node12\" class=\"node\">\n<title>11</title>\n<ellipse fill=\"none\" stroke=\"black\" cx=\"737\" cy=\"-105\" rx=\"50.09\" ry=\"18\"/>\n<text text-anchor=\"middle\" x=\"737\" y=\"-101.3\" font-family=\"Times,serif\" font-size=\"14.00\">s:Abraham</text>\n</g>\n<!-- 11&#45;&gt;5 -->\n<g id=\"edge9\" class=\"edge\">\n<title>11&#45;&gt;5</title>\n<path fill=\"none\" stroke=\"black\" d=\"M741.31,-86.81C744.58,-76.43 749.91,-63.43 758,-54 762.06,-49.26 766.93,-44.97 772.09,-41.15\"/>\n<polygon fill=\"black\" stroke=\"black\" points=\"773.97,-44.1 780.32,-35.62 770.07,-38.29 773.97,-44.1\"/>\n<text text-anchor=\"middle\" x=\"779.5\" y=\"-57.8\" font-family=\"Times,serif\" font-size=\"14.00\">rdf:type</text>\n</g>\n<!-- 11&#45;&gt;10 -->\n<g id=\"edge27\" class=\"edge\">\n<title>11&#45;&gt;10</title>\n<path fill=\"none\" stroke=\"black\" d=\"M715.22,-88.45C707.6,-82.66 699.17,-75.82 692,-69 684.29,-61.66 676.5,-53.05 669.72,-45.07\"/>\n<polygon fill=\"black\" stroke=\"black\" points=\"672.59,-43.04 663.51,-37.59 667.2,-47.52 672.59,-43.04\"/>\n<text text-anchor=\"middle\" x=\"718\" y=\"-57.8\" font-family=\"Times,serif\" font-size=\"14.00\">rdfs:label</text>\n</g>\n<!-- 11&#45;&gt;14 -->\n<g id=\"edge30\" class=\"edge\">\n<title>11&#45;&gt;14</title>\n<path fill=\"none\" stroke=\"black\" d=\"M770.54,-91.27C811.18,-75.85 879.53,-49.92 922.35,-33.67\"/>\n<polygon fill=\"black\" stroke=\"black\" points=\"923.39,-37.02 931.5,-30.2 920.91,-30.47 923.39,-37.02\"/>\n<text text-anchor=\"middle\" x=\"883.5\" y=\"-57.8\" font-family=\"Times,serif\" font-size=\"14.00\">rdf:type</text>\n</g>\n<!-- 12 -->\n<g id=\"node13\" class=\"node\">\n<title>12</title>\n<polygon fill=\"none\" stroke=\"black\" points=\"785,-210 663,-210 663,-174 785,-174 785,-210\"/>\n<text text-anchor=\"middle\" x=\"724\" y=\"-188.3\" font-family=\"Times,serif\" font-size=\"14.00\">&quot;Maggie Simpson&quot;</text>\n</g>\n<!-- 15&#45;&gt;2 -->\n<g id=\"edge38\" class=\"edge\">\n<title>15&#45;&gt;2</title>\n<path fill=\"none\" stroke=\"black\" d=\"M286.79,-89.19C268.56,-75.83 241.49,-55.99 220.77,-40.82\"/>\n<polygon fill=\"black\" stroke=\"black\" points=\"223.11,-38.19 212.98,-35.1 218.97,-43.84 223.11,-38.19\"/>\n<text text-anchor=\"middle\" x=\"276.5\" y=\"-57.8\" font-family=\"Times,serif\" font-size=\"14.00\">rdf:type</text>\n</g>\n<!-- 15&#45;&gt;4 -->\n<g id=\"edge2\" class=\"edge\">\n<title>15&#45;&gt;4</title>\n<path fill=\"none\" stroke=\"black\" d=\"M307.07,-86.87C307.17,-77.21 307.42,-64.92 308,-54 308.11,-51.94 308.24,-49.82 308.39,-47.68\"/>\n<polygon fill=\"black\" stroke=\"black\" points=\"311.86,-48.19 309.16,-37.94 304.88,-47.63 311.86,-48.19\"/>\n<text text-anchor=\"middle\" x=\"334\" y=\"-57.8\" font-family=\"Times,serif\" font-size=\"14.00\">rdfs:label</text>\n</g>\n<!-- 15&#45;&gt;5 -->\n<g id=\"edge33\" class=\"edge\">\n<title>15&#45;&gt;5</title>\n<path fill=\"none\" stroke=\"black\" d=\"M336.78,-92.61C343.06,-90.51 349.69,-88.5 356,-87 414.02,-73.16 431.89,-86.21 489,-69 503.66,-64.59 505.25,-58.07 520,-54 607.74,-29.78 633.83,-48.37 724,-36 730.71,-35.08 737.68,-34 744.64,-32.84\"/>\n<polygon fill=\"black\" stroke=\"black\" points=\"745.15,-36.3 754.41,-31.15 743.96,-29.41 745.15,-36.3\"/>\n<text text-anchor=\"middle\" x=\"541.5\" y=\"-57.8\" font-family=\"Times,serif\" font-size=\"14.00\">rdf:type</text>\n</g>\n<!-- 15&#45;&gt;17 -->\n<g id=\"edge1\" class=\"edge\">\n<title>15&#45;&gt;17</title>\n<path fill=\"none\" stroke=\"black\" d=\"M337.93,-116.77C359.94,-124.65 387.41,-134.97 398,-141 407.35,-146.32 407.37,-151.2 417,-156 442.96,-168.95 474.24,-177.5 499.95,-182.9\"/>\n<polygon fill=\"black\" stroke=\"black\" points=\"498.98,-186.27 509.47,-184.79 500.35,-179.41 498.98,-186.27\"/>\n<text text-anchor=\"middle\" x=\"441\" y=\"-144.8\" font-family=\"Times,serif\" font-size=\"14.00\">p:spouse</text>\n</g>\n<!-- 16 -->\n<g id=\"node17\" class=\"node\">\n<title>16</title>\n<polygon fill=\"none\" stroke=\"black\" points=\"504.5,-36 391.5,-36 391.5,0 504.5,0 504.5,-36\"/>\n<text text-anchor=\"middle\" x=\"448\" y=\"-14.3\" font-family=\"Times,serif\" font-size=\"14.00\">&quot;Mona Simpson&quot;</text>\n</g>\n<!-- 17&#45;&gt;5 -->\n<g id=\"edge13\" class=\"edge\">\n<title>17&#45;&gt;5</title>\n<path fill=\"none\" stroke=\"black\" d=\"M573.16,-176.73C581.33,-170.97 590.18,-163.82 597,-156 620.01,-129.61 612.82,-114.09 635,-87 649.38,-69.43 653.78,-64.34 674,-54 686.79,-47.46 716.13,-39.8 744.75,-33.33\"/>\n<polygon fill=\"black\" stroke=\"black\" points=\"745.17,-36.82 754.17,-31.23 743.65,-29.99 745.17,-36.82\"/>\n<text text-anchor=\"middle\" x=\"656.5\" y=\"-101.3\" font-family=\"Times,serif\" font-size=\"14.00\">rdf:type</text>\n</g>\n<!-- 17&#45;&gt;8 -->\n<g id=\"edge21\" class=\"edge\">\n<title>17&#45;&gt;8</title>\n<path fill=\"none\" stroke=\"black\" d=\"M545.97,-173.75C543.6,-164.06 540.39,-151.78 537,-141 536.29,-138.73 535.51,-136.39 534.7,-134.05\"/>\n<polygon fill=\"black\" stroke=\"black\" points=\"538.03,-132.97 531.34,-124.75 531.45,-135.34 538.03,-132.97\"/>\n<text text-anchor=\"middle\" x=\"567\" y=\"-144.8\" font-family=\"Times,serif\" font-size=\"14.00\">rdfs:label</text>\n</g>\n<!-- 17&#45;&gt;11 -->\n<g id=\"edge7\" class=\"edge\">\n<title>17&#45;&gt;11</title>\n<path fill=\"none\" stroke=\"black\" d=\"M581.16,-179.8C598.64,-173.29 620.74,-164.68 640,-156 660.36,-146.82 682.53,-135.5 700.54,-125.95\"/>\n<polygon fill=\"black\" stroke=\"black\" points=\"702.11,-129.08 709.27,-121.27 698.8,-122.9 702.11,-129.08\"/>\n<text text-anchor=\"middle\" x=\"691.5\" y=\"-144.8\" font-family=\"Times,serif\" font-size=\"14.00\">p:parent</text>\n</g>\n<!-- 17&#45;&gt;14 -->\n<g id=\"edge32\" class=\"edge\">\n<title>17&#45;&gt;14</title>\n<path fill=\"none\" stroke=\"black\" d=\"M587.96,-184.26C607.63,-180.9 632.06,-176.95 654,-174 729.74,-163.83 756.09,-189.03 825,-156 877.31,-130.93 921.06,-77.13 943.91,-44.91\"/>\n<polygon fill=\"black\" stroke=\"black\" points=\"946.63,-47.12 949.45,-36.9 940.88,-43.13 946.63,-47.12\"/>\n<text text-anchor=\"middle\" x=\"930.5\" y=\"-101.3\" font-family=\"Times,serif\" font-size=\"14.00\">rdf:type</text>\n</g>\n<!-- 17&#45;&gt;15 -->\n<g id=\"edge11\" class=\"edge\">\n<title>17&#45;&gt;15</title>\n<path fill=\"none\" stroke=\"black\" d=\"M509.32,-187.51C457.92,-182.51 372.91,-172.1 346,-156 336.29,-150.19 328.09,-140.98 321.75,-132.04\"/>\n<polygon fill=\"black\" stroke=\"black\" points=\"324.83,-130.36 316.44,-123.89 318.96,-134.18 324.83,-130.36\"/>\n<text text-anchor=\"middle\" x=\"370\" y=\"-144.8\" font-family=\"Times,serif\" font-size=\"14.00\">p:spouse</text>\n</g>\n<!-- 19 -->\n<g id=\"node20\" class=\"node\">\n<title>19</title>\n<ellipse fill=\"none\" stroke=\"black\" cx=\"403\" cy=\"-105\" rx=\"37.89\" ry=\"18\"/>\n<text text-anchor=\"middle\" x=\"403\" y=\"-101.3\" font-family=\"Times,serif\" font-size=\"14.00\">s:Mona</text>\n</g>\n<!-- 17&#45;&gt;19 -->\n<g id=\"edge6\" class=\"edge\">\n<title>17&#45;&gt;19</title>\n<path fill=\"none\" stroke=\"black\" d=\"M524.13,-177.56C512.8,-171.38 499.49,-163.71 488,-156 479.07,-150 478.01,-146.88 469,-141 459.57,-134.85 448.94,-128.84 439.01,-123.59\"/>\n<polygon fill=\"black\" stroke=\"black\" points=\"440.84,-120.59 430.35,-119.11 437.62,-126.81 440.84,-120.59\"/>\n<text text-anchor=\"middle\" x=\"510.5\" y=\"-144.8\" font-family=\"Times,serif\" font-size=\"14.00\">p:parent</text>\n</g>\n<!-- 18&#45;&gt;1 -->\n<g id=\"edge15\" class=\"edge\">\n<title>18&#45;&gt;1</title>\n<path fill=\"none\" stroke=\"black\" d=\"M491.3,-296.59C466.21,-326.99 412.73,-391.76 383.36,-427.33\"/>\n<polygon fill=\"black\" stroke=\"black\" points=\"380.74,-425.02 377.07,-434.96 386.13,-429.48 380.74,-425.02\"/>\n<text text-anchor=\"middle\" x=\"472\" y=\"-362.3\" font-family=\"Times,serif\" font-size=\"14.00\">p:sibling</text>\n</g>\n<!-- 18&#45;&gt;2 -->\n<g id=\"edge28\" class=\"edge\">\n<title>18&#45;&gt;2</title>\n<path fill=\"none\" stroke=\"black\" d=\"M469.35,-268.05C418.98,-252.27 327.11,-216.89 273,-156 242.79,-122.01 217.63,-75.33 203.45,-46.17\"/>\n<polygon fill=\"black\" stroke=\"black\" points=\"206.68,-44.81 199.21,-37.29 200.36,-47.82 206.68,-44.81\"/>\n<text text-anchor=\"middle\" x=\"294.5\" y=\"-144.8\" font-family=\"Times,serif\" font-size=\"14.00\">rdf:type</text>\n</g>\n<!-- 18&#45;&gt;5 -->\n<g id=\"edge23\" class=\"edge\">\n<title>18&#45;&gt;5</title>\n<path fill=\"none\" stroke=\"black\" d=\"M536.01,-265.84C549.7,-259.84 565.68,-251.97 579,-243 616.57,-217.7 614.45,-196.07 654,-174 712.56,-141.32 754.06,-175.33 796,-123 813.03,-101.75 816.7,-70.21 816.78,-47.44\"/>\n<polygon fill=\"black\" stroke=\"black\" points=\"820.28,-47.55 816.56,-37.63 813.28,-47.71 820.28,-47.55\"/>\n<text text-anchor=\"middle\" x=\"797.5\" y=\"-144.8\" font-family=\"Times,serif\" font-size=\"14.00\">rdf:type</text>\n</g>\n<!-- 18&#45;&gt;7 -->\n<g id=\"edge34\" class=\"edge\">\n<title>18&#45;&gt;7</title>\n<path fill=\"none\" stroke=\"black\" d=\"M530.06,-294.11C538.49,-299.77 547.41,-306.89 554,-315 559.37,-321.6 563.67,-329.72 567.01,-337.48\"/>\n<polygon fill=\"black\" stroke=\"black\" points=\"563.66,-338.53 570.53,-346.6 570.19,-336.01 563.66,-338.53\"/>\n<text text-anchor=\"middle\" x=\"586\" y=\"-318.8\" font-family=\"Times,serif\" font-size=\"14.00\">p:sibling</text>\n</g>\n<!-- 18&#45;&gt;12 -->\n<g id=\"edge26\" class=\"edge\">\n<title>18&#45;&gt;12</title>\n<path fill=\"none\" stroke=\"black\" d=\"M543.79,-269.86C578.9,-262.22 627.82,-250.83 646,-243 661.93,-236.14 678.28,-226.19 691.87,-216.97\"/>\n<polygon fill=\"black\" stroke=\"black\" points=\"693.79,-219.89 699.99,-211.3 689.78,-214.15 693.79,-219.89\"/>\n<text text-anchor=\"middle\" x=\"699\" y=\"-231.8\" font-family=\"Times,serif\" font-size=\"14.00\">rdfs:label</text>\n</g>\n<!-- 18&#45;&gt;15 -->\n<g id=\"edge36\" class=\"edge\">\n<title>18&#45;&gt;15</title>\n<path fill=\"none\" stroke=\"black\" d=\"M477.31,-264.68C439.62,-245.36 372.06,-206.28 330,-156 324.5,-149.42 320.03,-141.32 316.54,-133.56\"/>\n<polygon fill=\"black\" stroke=\"black\" points=\"319.84,-132.37 312.83,-124.42 313.35,-135 319.84,-132.37\"/>\n<text text-anchor=\"middle\" x=\"408.5\" y=\"-188.3\" font-family=\"Times,serif\" font-size=\"14.00\">p:parent</text>\n</g>\n<!-- 18&#45;&gt;17 -->\n<g id=\"edge12\" class=\"edge\">\n<title>18&#45;&gt;17</title>\n<path fill=\"none\" stroke=\"black\" d=\"M513.89,-261.21C520.08,-249.52 528.46,-233.69 535.59,-220.22\"/>\n<polygon fill=\"black\" stroke=\"black\" points=\"538.68,-221.86 540.27,-211.39 532.49,-218.59 538.68,-221.86\"/>\n<text text-anchor=\"middle\" x=\"552.5\" y=\"-231.8\" font-family=\"Times,serif\" font-size=\"14.00\">p:parent</text>\n</g>\n<!-- 19&#45;&gt;2 -->\n<g id=\"edge29\" class=\"edge\">\n<title>19&#45;&gt;2</title>\n<path fill=\"none\" stroke=\"black\" d=\"M393.14,-87.3C385.56,-76.01 374.01,-61.79 360,-54 314.4,-28.66 294.77,-48 244,-36 240.87,-35.26 237.66,-34.43 234.44,-33.53\"/>\n<polygon fill=\"black\" stroke=\"black\" points=\"235.6,-30.23 225.02,-30.76 233.63,-36.94 235.6,-30.23\"/>\n<text text-anchor=\"middle\" x=\"399.5\" y=\"-57.8\" font-family=\"Times,serif\" font-size=\"14.00\">rdf:type</text>\n</g>\n<!-- 19&#45;&gt;5 -->\n<g id=\"edge24\" class=\"edge\">\n<title>19&#45;&gt;5</title>\n<path fill=\"none\" stroke=\"black\" d=\"M431.56,-92.67C437.58,-90.57 443.95,-88.54 450,-87 500.98,-73.99 517.86,-87.79 567,-69 578.4,-64.64 578.56,-58.25 590,-54 646.33,-33.07 664.67,-45.52 724,-36 730.4,-34.97 737.05,-33.85 743.71,-32.68\"/>\n<polygon fill=\"black\" stroke=\"black\" points=\"744.15,-36.15 753.38,-30.95 742.92,-29.26 744.15,-36.15\"/>\n<text text-anchor=\"middle\" x=\"611.5\" y=\"-57.8\" font-family=\"Times,serif\" font-size=\"14.00\">rdf:type</text>\n</g>\n<!-- 19&#45;&gt;16 -->\n<g id=\"edge14\" class=\"edge\">\n<title>19&#45;&gt;16</title>\n<path fill=\"none\" stroke=\"black\" d=\"M414.58,-87.61C418.43,-81.86 422.6,-75.26 426,-69 429.79,-62.03 433.45,-54.27 436.67,-46.99\"/>\n<polygon fill=\"black\" stroke=\"black\" points=\"439.86,-48.43 440.56,-37.86 433.42,-45.68 439.86,-48.43\"/>\n<text text-anchor=\"middle\" x=\"459\" y=\"-57.8\" font-family=\"Times,serif\" font-size=\"14.00\">rdfs:label</text>\n</g>\n</g>\n</svg>\n",
      "text/plain": [
       "<graphviz.graphs.Digraph at 0x109dbf430>"
      ]
     },
     "metadata": {},
     "output_type": "display_data"
    }
   ],
   "source": [
    "%%rdf turtle -l simpsons\n",
    "PREFIX rdfs: <http://www.w3.org/2000/01/rdf-schema#>\n",
    "PREFIX s: <http://example.org/subjects#>\n",
    "PREFIX p: <http://example.org/properties#>\n",
    "PREFIX c: <http://example.org/classes#>\n",
    "\n",
    "s:Homer a c:FictionalCharacter, c:Male ;\n",
    "    p:spouse s:Marge ;\n",
    "    p:parent s:Abraham ;\n",
    "    p:parent s:Mona ;\n",
    "    rdfs:label \"Homer J. Simpson\" .\n",
    "s:Marge a c:FictionalCharacter, c:Female ;\n",
    "    p:spouse s:Homer ;\n",
    "    rdfs:label \"Marge Simpson\" .\n",
    "s:Bart a c:FictionalCharacter, c:Male ;\n",
    "    p:parent s:Homer ;\n",
    "    p:parent s:Marge ;\n",
    "    p:sibling s:Lisa ;\n",
    "    p:sibling s:Maggie ;\n",
    "    rdfs:label \"Bart Simpson\" .\n",
    "s:Lisa a c:FictionalCharacter, c:Female ;\n",
    "    p:parent s:Homer ;\n",
    "    p:parent s:Marge ;\n",
    "    p:sibling s:Bart ;\n",
    "    p:sibling s:Maggie ;\n",
    "    rdfs:label \"Lisa Simpson\" .\n",
    "s:Maggie a c:FictionalCharacter, c:Female ;\n",
    "    p:parent s:Homer ;\n",
    "    p:parent s:Marge ;\n",
    "    p:sibling s:Bart ;\n",
    "    p:sibling s:Lisa ;\n",
    "    rdfs:label \"Maggie Simpson\" .\n",
    "s:Mona a c:FictionalCharacter, c:Female ;\n",
    "    rdfs:label \"Mona Simpson\" .\n",
    "s:Abraham a c:FictionalCharacter, c:Male ;\n",
    "    rdfs:label \"Abraham Simpson\" .\n",
    "s:Matt a c:Person, c:Male ;\n",
    "    rdfs:label \"Matt Groening\" ."
   ]
  },
  {
   "cell_type": "markdown",
   "metadata": {
    "deletable": false,
    "editable": false,
    "nbgrader": {
     "cell_type": "markdown",
     "checksum": "aef9ea8af31d92abdd887911df7d9087",
     "grade": false,
     "grade_id": "cell-bfabead684f54bd3",
     "locked": true,
     "schema_version": 3,
     "solution": false,
     "task": false
    }
   },
   "source": [
    "The Cell below will define some prefixes which can be used throughout the whole exercise notebook. You do not need to define them yourself and can just use them. You need to run the cell or you won't be able to use them."
   ]
  },
  {
   "cell_type": "code",
   "execution_count": 5,
   "metadata": {
    "deletable": false,
    "editable": false,
    "nbgrader": {
     "cell_type": "code",
     "checksum": "84182776b4d1801cfe6d27f9cb90f9b2",
     "grade": false,
     "grade_id": "cell-927d0fa8a05cd4c7",
     "locked": true,
     "schema_version": 3,
     "solution": false,
     "task": false
    }
   },
   "outputs": [
    {
     "name": "stdout",
     "output_type": "stream",
     "text": [
      "SPARQL: Stored prefix.\n"
     ]
    }
   ],
   "source": [
    "%%rdf sparql --prefix\n",
    "PREFIX rdfs: <http://www.w3.org/2000/01/rdf-schema#>\n",
    "PREFIX xsd: <http://www.w3.org/2001/XMLSchema#>\n",
    "PREFIX s: <http://example.org/subjects#>\n",
    "PREFIX p: <http://example.org/properties#>\n",
    "PREFIX c: <http://example.org/classes#>"
   ]
  },
  {
   "cell_type": "markdown",
   "metadata": {
    "deletable": false,
    "editable": false,
    "nbgrader": {
     "cell_type": "markdown",
     "checksum": "73c5d6e9fdbfab140fcbc14959272db7",
     "grade": false,
     "grade_id": "cell-4b1eafccc15945ac",
     "locked": true,
     "schema_version": 3,
     "solution": false,
     "task": false
    }
   },
   "source": [
    "## Task 1: Basic Queries [1.5 points]\n",
    "Formulate the following questions as SPARQL queries using simple SELECT queries, variables and Basic Graph Patterns. You can use as many variables as you need but the answer to the question must be bound to the variable **?result**. For example, if the question is \"What is the name of germany?\", the solution would be:\n",
    "\n",
    "**SELECT ?result  \n",
    "WHERE {  \n",
    "&nbsp;&nbsp;&nbsp;&nbsp;ex:Germany rdfs:label ?result  \n",
    "}**\n",
    "\n",
    "Please note the difference between a resource (an IRI) and the name of a resource (a human readable literal often assigned with the predicate *rdfs:label*). Read the question carefully and try to recognize whether we are asking for an entity (e.g. Who is xy?) or for the name of an entity (e.g. What is xy's name?).\n",
    "\n",
    "**This task refers to [this graph](#Graph:-Simpsons) about a family called Simpsons. Assume a closed world (information that isn't explicitly stated is false).**\n",
    "\n",
    "### 1a) [0.5 points]\n",
    "Who are Homer Simpson's parents?"
   ]
  },
  {
   "cell_type": "code",
   "execution_count": 101,
   "metadata": {
    "deletable": false,
    "nbgrader": {
     "cell_type": "code",
     "checksum": "bd10115fc21e2af2fca6541a70c956fb",
     "grade": false,
     "grade_id": "cell-86a2319bde5487c2",
     "locked": false,
     "schema_version": 3,
     "solution": true,
     "task": false
    }
   },
   "outputs": [
    {
     "data": {
      "text/html": [
       "<table><tr><th>?result</th></tr><tr><td>http://example.org/subjects#Abraham</td></tr><tr><td>http://example.org/subjects#Mona</td></tr></table>"
      ],
      "text/plain": [
       "<IPython.core.display.HTML object>"
      ]
     },
     "metadata": {},
     "output_type": "display_data"
    }
   ],
   "source": [
    "%%rdf sparql -l simpsons -s 1a\n",
    "### YOUR SOLUTION HERE\n",
    "\n",
    "SELECT ?result\n",
    "WHERE {\n",
    "    s:Homer p:parent ?result .\n",
    "\n",
    "}\n"
   ]
  },
  {
   "cell_type": "code",
   "execution_count": 85,
   "metadata": {
    "deletable": false,
    "editable": false,
    "nbgrader": {
     "cell_type": "code",
     "checksum": "a254fa3e45b5195e81eb09a8579d1dbb",
     "grade": true,
     "grade_id": "cell-7e16991aa7f445d4",
     "locked": true,
     "points": 0.5,
     "schema_version": 3,
     "solution": false,
     "task": false
    }
   },
   "outputs": [],
   "source": [
    "# This test checks whether your query gives the correct result. [0.5 points]\n",
    "store = %rdf -r\n",
    "assert '1a' in store['rdfresults'], err\n",
    "var = Variable(\"result\")\n",
    "b = store['rdfresults'][\"1a\"].bindings\n",
    "lenCheck(b, 2)\n",
    "exCheck(b, {var: uri(s,\"Mona\")})"
   ]
  },
  {
   "cell_type": "markdown",
   "metadata": {
    "deletable": false,
    "editable": false,
    "nbgrader": {
     "cell_type": "markdown",
     "checksum": "52cfda017a42676acc36e1063b2c6750",
     "grade": false,
     "grade_id": "cell-79e3247f768bbc80",
     "locked": true,
     "schema_version": 3,
     "solution": false,
     "task": false
    }
   },
   "source": [
    "### 1b) [0.5 points]\n",
    "Whose mother is Marge Simpson? Hint: A query can result in multiple bindings"
   ]
  },
  {
   "cell_type": "code",
   "execution_count": 37,
   "metadata": {
    "deletable": false,
    "nbgrader": {
     "cell_type": "code",
     "checksum": "6b70f2b3346862cc45d29120c4690821",
     "grade": false,
     "grade_id": "cell-76add1fe5dc1a462",
     "locked": false,
     "schema_version": 3,
     "solution": true,
     "task": false
    }
   },
   "outputs": [
    {
     "data": {
      "text/html": [
       "<table><tr><th>?result</th></tr><tr><td>http://example.org/subjects#Bart</td></tr><tr><td>http://example.org/subjects#Lisa</td></tr><tr><td>http://example.org/subjects#Maggie</td></tr></table>"
      ],
      "text/plain": [
       "<IPython.core.display.HTML object>"
      ]
     },
     "metadata": {},
     "output_type": "display_data"
    }
   ],
   "source": [
    "%%rdf sparql -l simpsons -s 1b\n",
    "### YOUR SOLUTION HERE\n",
    "\n",
    "SELECT ?result\n",
    "WHERE {\n",
    "    ?result p:parent s:Marge .\n",
    "}"
   ]
  },
  {
   "cell_type": "code",
   "execution_count": 38,
   "metadata": {
    "deletable": false,
    "editable": false,
    "nbgrader": {
     "cell_type": "code",
     "checksum": "9e9bf6aafdf01bd9a1629c555ccb541d",
     "grade": true,
     "grade_id": "cell-4188b77eb41c645d",
     "locked": true,
     "points": 0.5,
     "schema_version": 3,
     "solution": false,
     "task": false
    }
   },
   "outputs": [],
   "source": [
    "# This test will check whether your query returns the right results. [0.5 points]\n",
    "store = %rdf -r\n",
    "assert '1b' in store['rdfresults'], err\n",
    "var = Variable(\"result\")\n",
    "b = store['rdfresults'][\"1b\"].bindings\n",
    "exCheck(b, {var: uri(s, \"Maggie\")})"
   ]
  },
  {
   "cell_type": "markdown",
   "metadata": {
    "deletable": false,
    "editable": false,
    "nbgrader": {
     "cell_type": "markdown",
     "checksum": "2febef97c9a52a7fa4ed96150faf3412",
     "grade": false,
     "grade_id": "cell-281362feba0b6c88",
     "locked": true,
     "schema_version": 3,
     "solution": false,
     "task": false
    }
   },
   "source": [
    "### 1c) [0.5 points]\n",
    "How is Marge Simpson related to Homer Simpson? Hint: Variables can also be used at predicate positions."
   ]
  },
  {
   "cell_type": "code",
   "execution_count": 39,
   "metadata": {
    "deletable": false,
    "nbgrader": {
     "cell_type": "code",
     "checksum": "6be2c88eda918ecff82e4010ba940684",
     "grade": false,
     "grade_id": "cell-8a5d8ebe54cd2359",
     "locked": false,
     "schema_version": 3,
     "solution": true,
     "task": false
    }
   },
   "outputs": [
    {
     "data": {
      "text/html": [
       "<table><tr><th>?result</th></tr><tr><td>http://example.org/properties#spouse</td></tr></table>"
      ],
      "text/plain": [
       "<IPython.core.display.HTML object>"
      ]
     },
     "metadata": {},
     "output_type": "display_data"
    }
   ],
   "source": [
    "%%rdf sparql -l simpsons -s 1c\n",
    "### YOUR SOLUTION HERE\n",
    "\n",
    "SELECT ?result\n",
    "WHERE {\n",
    "    s:Homer ?result s:Marge .\n",
    "}"
   ]
  },
  {
   "cell_type": "code",
   "execution_count": 28,
   "metadata": {
    "deletable": false,
    "editable": false,
    "nbgrader": {
     "cell_type": "code",
     "checksum": "49a6e45e2772a2ad8283f29272037d73",
     "grade": true,
     "grade_id": "cell-5edc8389f843f823",
     "locked": true,
     "points": 0.5,
     "schema_version": 3,
     "solution": false,
     "task": false
    }
   },
   "outputs": [],
   "source": [
    "# This test will check whether your query returns the right results. [0.5 points]\n",
    "store = %rdf -r\n",
    "assert '1c' in store['rdfresults'], err\n",
    "var = Variable(\"result\")\n",
    "b = store['rdfresults'][\"1c\"].bindings\n",
    "lenCheck(b, 1)"
   ]
  },
  {
   "cell_type": "markdown",
   "metadata": {
    "deletable": false,
    "editable": false,
    "nbgrader": {
     "cell_type": "markdown",
     "checksum": "626036e4adb96064f7b65faa12f5b359",
     "grade": false,
     "grade_id": "cell-dc1c0ec9fce9513a",
     "locked": true,
     "schema_version": 3,
     "solution": false,
     "task": false
    }
   },
   "source": [
    "## Task 2: Constructing Queries [2 points]\n",
    "Formulate the following questions as SPARQL queries. You can use as many variables as you need but the answer to the question must be bound to the variable **?result**. Again, please note that the URI/IRI of a resource is not the same as the literal name of that resource.\n",
    "\n",
    "**This task refers to [this graph](#Graph:-Simpsons) about a family called Simpsons. Assume a closed world (information that isn't explicitly stated is false).**\n",
    "\n",
    "### 2a) [0.5 points]\n",
    "Who is called \"Abraham Simpson\"? Hint: Basic Graph Patterns can also match literals for equality."
   ]
  },
  {
   "cell_type": "code",
   "execution_count": 29,
   "metadata": {
    "deletable": false,
    "nbgrader": {
     "cell_type": "code",
     "checksum": "8f63129630a674768cf21a5d2c45c9e2",
     "grade": false,
     "grade_id": "cell-8a19febbeea3348a",
     "locked": false,
     "schema_version": 3,
     "solution": true,
     "task": false
    }
   },
   "outputs": [
    {
     "data": {
      "text/html": [
       "<table><tr><th>?result</th></tr><tr><td>http://example.org/subjects#Abraham</td></tr></table>"
      ],
      "text/plain": [
       "<IPython.core.display.HTML object>"
      ]
     },
     "metadata": {},
     "output_type": "display_data"
    }
   ],
   "source": [
    "%%rdf sparql -l simpsons -s 2a\n",
    "### YOUR SOLUTION HERE\n",
    "SELECT ?result\n",
    "WHERE {\n",
    "    ?result rdfs:label \"Abraham Simpson\" .\n",
    "}"
   ]
  },
  {
   "cell_type": "code",
   "execution_count": 30,
   "metadata": {
    "deletable": false,
    "editable": false,
    "nbgrader": {
     "cell_type": "code",
     "checksum": "341510bccfdbd5ae4d83b88da602eaad",
     "grade": true,
     "grade_id": "cell-2bbdf09d330113c4",
     "locked": true,
     "points": 0.5,
     "schema_version": 3,
     "solution": false,
     "task": false
    }
   },
   "outputs": [],
   "source": [
    "# This test will check whether your query returns the right results. [0.5 points]\n",
    "store = %rdf -r\n",
    "assert '2a' in store['rdfresults'], err\n",
    "var = Variable(\"result\")\n",
    "b = store['rdfresults'][\"2a\"].bindings\n",
    "lenCheck(b, 1)"
   ]
  },
  {
   "cell_type": "markdown",
   "metadata": {
    "deletable": false,
    "editable": false,
    "nbgrader": {
     "cell_type": "markdown",
     "checksum": "d94ca1d8fb8a0b6f3f827cee91f2af58",
     "grade": false,
     "grade_id": "cell-ee7226c0b86effa4",
     "locked": true,
     "schema_version": 3,
     "solution": false,
     "task": false
    }
   },
   "source": [
    "### 2b) [0.5 points]\n",
    "What are the names of all fictional characters?"
   ]
  },
  {
   "cell_type": "code",
   "execution_count": 43,
   "metadata": {
    "deletable": false,
    "nbgrader": {
     "cell_type": "code",
     "checksum": "c4ba9c8d025a1f035ae64f34ea4131c1",
     "grade": false,
     "grade_id": "cell-387c3d5f180def78",
     "locked": false,
     "schema_version": 3,
     "solution": true,
     "task": false
    }
   },
   "outputs": [
    {
     "data": {
      "text/html": [
       "<table><tr><th>?result</th></tr><tr><td>Homer J. Simpson</td></tr><tr><td>Bart Simpson</td></tr><tr><td>Abraham Simpson</td></tr><tr><td>Matt Groening</td></tr></table>"
      ],
      "text/plain": [
       "<IPython.core.display.HTML object>"
      ]
     },
     "metadata": {},
     "output_type": "display_data"
    }
   ],
   "source": [
    "%%rdf sparql -l simpsons -s 2b\n",
    "### YOUR SOLUTION HERE\n",
    "SELECT ?result\n",
    "WHERE {\n",
    "    ?someone rdf:type c:FictionalCharacter .\n",
    "    ?someone rdfs:label ?result .\n",
    "}"
   ]
  },
  {
   "cell_type": "code",
   "execution_count": 32,
   "metadata": {
    "deletable": false,
    "editable": false,
    "nbgrader": {
     "cell_type": "code",
     "checksum": "2a4a4f2e1a8f64801e35d825f963b11d",
     "grade": true,
     "grade_id": "cell-92f463e4509cb4b3",
     "locked": true,
     "points": 0.5,
     "schema_version": 3,
     "solution": false,
     "task": false
    }
   },
   "outputs": [],
   "source": [
    "# This test will check whether your query returns the right results. [0.5 points]\n",
    "store = %rdf -r\n",
    "assert '2b' in store['rdfresults'], err\n",
    "var = Variable(\"result\")\n",
    "b = store['rdfresults']['2b'].bindings\n",
    "exCheck(b, {var: Literal(\"Marge Simpson\")})\n",
    "exCheck(b, {var: Literal(\"Lisa Simpson\")})"
   ]
  },
  {
   "cell_type": "markdown",
   "metadata": {
    "deletable": false,
    "editable": false,
    "nbgrader": {
     "cell_type": "markdown",
     "checksum": "9fb807558a40efdb2ef4ae60d02ba785",
     "grade": false,
     "grade_id": "cell-0cc3737fb28eac4b",
     "locked": true,
     "schema_version": 3,
     "solution": false,
     "task": false
    }
   },
   "source": [
    "### 2c) [1 point]\n",
    "What are the names of all fathers?  \n",
    "Do **not** use the DISTINCT keyword.  \n",
    "Note: This query will yield the same binding for ?result multiple times. Think about why that is. If you can't think of a reason try projecting the other variables as well."
   ]
  },
  {
   "cell_type": "code",
   "execution_count": 49,
   "metadata": {
    "deletable": false,
    "nbgrader": {
     "cell_type": "code",
     "checksum": "75596a3e8bee6e504e923c0a942b0cd8",
     "grade": false,
     "grade_id": "cell-bb3c364c57df25ad",
     "locked": false,
     "schema_version": 3,
     "solution": true,
     "task": false
    }
   },
   "outputs": [
    {
     "data": {
      "text/html": [
       "<table><tr><th>?result</th></tr><tr><td>Homer J. Simpson</td></tr><tr><td>Homer J. Simpson</td></tr><tr><td>Homer J. Simpson</td></tr><tr><td>Abraham Simpson</td></tr></table>"
      ],
      "text/plain": [
       "<IPython.core.display.HTML object>"
      ]
     },
     "metadata": {},
     "output_type": "display_data"
    }
   ],
   "source": [
    "%%rdf sparql -l simpsons -s 2c\n",
    "### YOUR SOLUTION HERE\n",
    "\n",
    "SELECT ?result\n",
    "WHERE {\n",
    "    ?someone a c:FictionalCharacter .\n",
    "    ?father a c:FictionalCharacter, c:Male .\n",
    "    ?someone p:parent ?father .\n",
    "    ?father rdfs:label ?result .\n",
    "}\n"
   ]
  },
  {
   "cell_type": "code",
   "execution_count": 50,
   "metadata": {
    "deletable": false,
    "editable": false,
    "nbgrader": {
     "cell_type": "code",
     "checksum": "78751cba712869f0e8a13eb203100b42",
     "grade": true,
     "grade_id": "cell-f82b48b140972195",
     "locked": true,
     "points": 1,
     "schema_version": 3,
     "solution": false,
     "task": false
    }
   },
   "outputs": [],
   "source": [
    "# This test will check whether your query returns the right results. [1 point]\n",
    "store = %rdf -r\n",
    "assert '2c', err\n",
    "var = Variable(\"result\")\n",
    "b = store['rdfresults']['2c'].bindings\n",
    "b = project(b, [var])\n",
    "exCheck(b, {var: Literal(\"Abraham Simpson\")})"
   ]
  },
  {
   "cell_type": "markdown",
   "metadata": {
    "deletable": false,
    "editable": false,
    "nbgrader": {
     "cell_type": "markdown",
     "checksum": "3cde38573051bb3dc89f1d17bfc77af8",
     "grade": false,
     "grade_id": "cell-a2a0a7e40dee5a5c",
     "locked": true,
     "schema_version": 3,
     "solution": false,
     "task": false
    }
   },
   "source": [
    "## Solution Modifiers\n",
    "SPARQL provides many ways to modify the result of a query. These are all applied after pattern matching and in the sequence that they are introduced here.\n",
    "\n",
    "### ORDER BY\n",
    "\n",
    "**SELECT ?employee WHERE {  \n",
    "&nbsp;&nbsp;&nbsp;&nbsp;?employee a c:Employee .  \n",
    "&nbsp;&nbsp;&nbsp;&nbsp;?employee p:income ?income  \n",
    "}<br>\n",
    "ORDER BY DESC(?income)**\n",
    "\n",
    "The **ORDER BY** modifier can be used to sort the bindings by a specific variable. The example above sorts all employees descending by income. To sort ascending instead, either use **ASC** instead of **DESC** or just omit DESC as ASC is the default. When using no ORDER BY, the results are in no specific sequence and may vary from service to service.\n",
    "\n",
    "### DISTINCT\n",
    "\n",
    "**SELECT DISTINCT ?parent WHERE {  \n",
    "&nbsp;&nbsp;&nbsp;&nbsp;?parent p:child ?child .  \n",
    "}**\n",
    "\n",
    "The **DISTINCT** modifier can be used to eliminate duplicate bindings. The example above shows all parents with at least one child but it shows all parents only once, even if they have multiple children. This could have been used in 2c). Note that DISTINCT only looks at projected variables.\n",
    "\n",
    "### OFFSET\n",
    "\n",
    "**SELECT ?employee WHERE {\n",
    "&nbsp;&nbsp;&nbsp;&nbsp;?employee a c:Employee .  \n",
    "}<br>\n",
    "OFFSET 3**\n",
    "\n",
    "The **OFFSET** modifier skips the first n>=0 results. The example above shows all employees but skips the first 3. OFFSET does nothing for n=0. OFFSET is often combined with ORDER BY and LIMIT to give predictable results (e.g. skip the 3 employees with the highest income).\n",
    "\n",
    "### LIMIT\n",
    "\n",
    "**SELECT ?employee WHERE {  \n",
    "&nbsp;&nbsp;&nbsp;&nbsp;?employee a c:Employee .  \n",
    "}<br>\n",
    "LIMIT 3**\n",
    "\n",
    "The **LIMIT** modifier specifies an upper bound n>=0 to the number of solutions returned. The example above shows only the first three employees. For n=0 no results will be returned. LIMIT is often combined with ORDER BY and LIMIT to give predictable results (e.g. only show the 3 employees with the highest income).\n",
    "\n",
    "## Graph: Scientists\n",
    "The following graph contains information about some well-known scientists.  \n",
    "**You must run the following cell or the graph won't be in scope for following tasks.**"
   ]
  },
  {
   "cell_type": "code",
   "execution_count": 67,
   "metadata": {
    "deletable": false,
    "editable": false,
    "nbgrader": {
     "cell_type": "code",
     "checksum": "afa9204e8a6d903c8da05abea8e0e483",
     "grade": false,
     "grade_id": "cell-122d6f3a1ae75ed5",
     "locked": true,
     "schema_version": 3,
     "solution": false,
     "task": false
    }
   },
   "outputs": [
    {
     "data": {
      "image/svg+xml": "<?xml version=\"1.0\" encoding=\"UTF-8\" standalone=\"no\"?>\n<!DOCTYPE svg PUBLIC \"-//W3C//DTD SVG 1.1//EN\"\n \"http://www.w3.org/Graphics/SVG/1.1/DTD/svg11.dtd\">\n<!-- Generated by graphviz version 7.1.0 (20230121.1956)\n -->\n<!-- Pages: 1 -->\n<svg width=\"2784pt\" height=\"131pt\"\n viewBox=\"0.00 0.00 2784.00 131.00\" xmlns=\"http://www.w3.org/2000/svg\" xmlns:xlink=\"http://www.w3.org/1999/xlink\">\n<g id=\"graph0\" class=\"graph\" transform=\"scale(1 1) rotate(0) translate(4 127)\">\n<polygon fill=\"white\" stroke=\"none\" points=\"-4,4 -4,-127 2780,-127 2780,4 -4,4\"/>\n<!-- 0 -->\n<g id=\"node1\" class=\"node\">\n<title>0</title>\n<polygon fill=\"none\" stroke=\"black\" points=\"317.5,-36 188.5,-36 188.5,0 317.5,0 317.5,-36\"/>\n<text text-anchor=\"middle\" x=\"253\" y=\"-14.3\" font-family=\"Times,serif\" font-size=\"14.00\">&quot;1845&quot;^^xsd:integer</text>\n</g>\n<!-- 1 -->\n<g id=\"node2\" class=\"node\">\n<title>1</title>\n<polygon fill=\"none\" stroke=\"black\" points=\"726.5,-36 597.5,-36 597.5,0 726.5,0 726.5,-36\"/>\n<text text-anchor=\"middle\" x=\"662\" y=\"-14.3\" font-family=\"Times,serif\" font-size=\"14.00\">&quot;1879&quot;^^xsd:integer</text>\n</g>\n<!-- 2 -->\n<g id=\"node3\" class=\"node\">\n<title>2</title>\n<polygon fill=\"none\" stroke=\"black\" points=\"1700.5,-36 1571.5,-36 1571.5,0 1700.5,0 1700.5,-36\"/>\n<text text-anchor=\"middle\" x=\"1636\" y=\"-14.3\" font-family=\"Times,serif\" font-size=\"14.00\">&quot;1867&quot;^^xsd:integer</text>\n</g>\n<!-- 3 -->\n<g id=\"node4\" class=\"node\">\n<title>3</title>\n<polygon fill=\"none\" stroke=\"black\" points=\"170,-36 0,-36 0,0 170,0 170,-36\"/>\n<text text-anchor=\"middle\" x=\"85\" y=\"-14.3\" font-family=\"Times,serif\" font-size=\"14.00\">&quot;Wilhelm Conrad Röntgen&quot;</text>\n</g>\n<!-- 4 -->\n<g id=\"node5\" class=\"node\">\n<title>4</title>\n<polygon fill=\"none\" stroke=\"black\" points=\"2776,-36 2678,-36 2678,0 2776,0 2776,-36\"/>\n<text text-anchor=\"middle\" x=\"2727\" y=\"-14.3\" font-family=\"Times,serif\" font-size=\"14.00\">&quot;Robert Koch&quot;</text>\n</g>\n<!-- 5 -->\n<g id=\"node6\" class=\"node\">\n<title>5</title>\n<ellipse fill=\"none\" stroke=\"black\" cx=\"1513\" cy=\"-18\" rx=\"40.89\" ry=\"18\"/>\n<text text-anchor=\"middle\" x=\"1513\" y=\"-14.3\" font-family=\"Times,serif\" font-size=\"14.00\">c:Person</text>\n</g>\n<!-- 6 -->\n<g id=\"node7\" class=\"node\">\n<title>6</title>\n<ellipse fill=\"none\" stroke=\"black\" cx=\"809\" cy=\"-105\" rx=\"45.49\" ry=\"18\"/>\n<text text-anchor=\"middle\" x=\"809\" y=\"-101.3\" font-family=\"Times,serif\" font-size=\"14.00\">s:Einstein</text>\n</g>\n<!-- 6&#45;&gt;1 -->\n<g id=\"edge16\" class=\"edge\">\n<title>6&#45;&gt;1</title>\n<path fill=\"none\" stroke=\"black\" d=\"M784.06,-89.58C761.55,-76.56 728.02,-57.18 701.8,-42.02\"/>\n<polygon fill=\"black\" stroke=\"black\" points=\"703.87,-39.17 693.46,-37.19 700.36,-45.23 703.87,-39.17\"/>\n<text text-anchor=\"middle\" x=\"763\" y=\"-57.8\" font-family=\"Times,serif\" font-size=\"14.00\">p:born</text>\n</g>\n<!-- 6&#45;&gt;5 -->\n<g id=\"edge26\" class=\"edge\">\n<title>6&#45;&gt;5</title>\n<path fill=\"none\" stroke=\"black\" d=\"M854.53,-102.46C960.24,-98.63 1219.81,-87.57 1305,-69 1323.55,-64.96 1326.63,-58.79 1345,-54 1396.33,-40.61 1411.46,-48.59 1463,-36 1465.77,-35.32 1468.6,-34.56 1471.44,-33.74\"/>\n<polygon fill=\"black\" stroke=\"black\" points=\"1472.35,-37.13 1480.87,-30.83 1470.28,-30.44 1472.35,-37.13\"/>\n<text text-anchor=\"middle\" x=\"1366.5\" y=\"-57.8\" font-family=\"Times,serif\" font-size=\"14.00\">rdf:type</text>\n</g>\n<!-- 12 -->\n<g id=\"node13\" class=\"node\">\n<title>12</title>\n<polygon fill=\"none\" stroke=\"black\" points=\"873.5,-36 744.5,-36 744.5,0 873.5,0 873.5,-36\"/>\n<text text-anchor=\"middle\" x=\"809\" y=\"-14.3\" font-family=\"Times,serif\" font-size=\"14.00\">&quot;1921&quot;^^xsd:integer</text>\n</g>\n<!-- 6&#45;&gt;12 -->\n<g id=\"edge15\" class=\"edge\">\n<title>6&#45;&gt;12</title>\n<path fill=\"none\" stroke=\"black\" d=\"M809,-86.8C809,-75.58 809,-60.67 809,-47.69\"/>\n<polygon fill=\"black\" stroke=\"black\" points=\"812.5,-47.98 809,-37.98 805.5,-47.98 812.5,-47.98\"/>\n<text text-anchor=\"middle\" x=\"856.5\" y=\"-57.8\" font-family=\"Times,serif\" font-size=\"14.00\">p:wonNobelPrize</text>\n</g>\n<!-- 13 -->\n<g id=\"node14\" class=\"node\">\n<title>13</title>\n<polygon fill=\"none\" stroke=\"black\" points=\"1002.5,-36 891.5,-36 891.5,0 1002.5,0 1002.5,-36\"/>\n<text text-anchor=\"middle\" x=\"947\" y=\"-14.3\" font-family=\"Times,serif\" font-size=\"14.00\">&quot;Albert Einstein&quot;</text>\n</g>\n<!-- 6&#45;&gt;13 -->\n<g id=\"edge2\" class=\"edge\">\n<title>6&#45;&gt;13</title>\n<path fill=\"none\" stroke=\"black\" d=\"M847.2,-95.06C865.75,-89.52 887.71,-81.11 905,-69 914.14,-62.6 922.46,-53.73 929.24,-45.24\"/>\n<polygon fill=\"black\" stroke=\"black\" points=\"931.83,-47.61 935.04,-37.52 926.24,-43.41 931.83,-47.61\"/>\n<text text-anchor=\"middle\" x=\"947\" y=\"-57.8\" font-family=\"Times,serif\" font-size=\"14.00\">rdfs:label</text>\n</g>\n<!-- 16 -->\n<g id=\"node17\" class=\"node\">\n<title>16</title>\n<ellipse fill=\"none\" stroke=\"black\" cx=\"531\" cy=\"-18\" rx=\"48.99\" ry=\"18\"/>\n<text text-anchor=\"middle\" x=\"531\" y=\"-14.3\" font-family=\"Times,serif\" font-size=\"14.00\">c:Physicist</text>\n</g>\n<!-- 6&#45;&gt;16 -->\n<g id=\"edge22\" class=\"edge\">\n<title>6&#45;&gt;16</title>\n<path fill=\"none\" stroke=\"black\" d=\"M771.58,-94.47C745.74,-87.74 710.65,-78.29 680,-69 644.92,-58.37 605.63,-45.12 576.2,-34.94\"/>\n<polygon fill=\"black\" stroke=\"black\" points=\"577.46,-31.67 566.87,-31.69 575.16,-38.28 577.46,-31.67\"/>\n<text text-anchor=\"middle\" x=\"701.5\" y=\"-57.8\" font-family=\"Times,serif\" font-size=\"14.00\">rdf:type</text>\n</g>\n<!-- 7 -->\n<g id=\"node8\" class=\"node\">\n<title>7</title>\n<ellipse fill=\"none\" stroke=\"black\" cx=\"2367\" cy=\"-105\" rx=\"36\" ry=\"18\"/>\n<text text-anchor=\"middle\" x=\"2367\" y=\"-101.3\" font-family=\"Times,serif\" font-size=\"14.00\">s:Koch</text>\n</g>\n<!-- 7&#45;&gt;4 -->\n<g id=\"edge10\" class=\"edge\">\n<title>7&#45;&gt;4</title>\n<path fill=\"none\" stroke=\"black\" d=\"M2401.14,-98.54C2438.59,-92.32 2500.39,-81.41 2553,-69 2601.91,-57.47 2615.81,-51.63 2666.91,-36.62\"/>\n<polygon fill=\"black\" stroke=\"black\" points=\"2667.57,-40.07 2676.19,-33.92 2665.61,-33.35 2667.57,-40.07\"/>\n<text text-anchor=\"middle\" x=\"2635\" y=\"-57.8\" font-family=\"Times,serif\" font-size=\"14.00\">rdfs:label</text>\n</g>\n<!-- 7&#45;&gt;5 -->\n<g id=\"edge24\" class=\"edge\">\n<title>7&#45;&gt;5</title>\n<path fill=\"none\" stroke=\"black\" d=\"M2333.13,-98.17C2269.46,-87.46 2127.51,-64.78 2007,-54 1809.85,-36.36 1756.48,-72.84 1562,-36 1559.21,-35.47 1556.37,-34.82 1553.53,-34.07\"/>\n<polygon fill=\"black\" stroke=\"black\" points=\"1554.71,-30.77 1544.13,-31.28 1552.72,-37.49 1554.71,-30.77\"/>\n<text text-anchor=\"middle\" x=\"2158.5\" y=\"-57.8\" font-family=\"Times,serif\" font-size=\"14.00\">rdf:type</text>\n</g>\n<!-- 17 -->\n<g id=\"node18\" class=\"node\">\n<title>17</title>\n<ellipse fill=\"none\" stroke=\"black\" cx=\"2157\" cy=\"-18\" rx=\"51.19\" ry=\"18\"/>\n<text text-anchor=\"middle\" x=\"2157\" y=\"-14.3\" font-family=\"Times,serif\" font-size=\"14.00\">c:Physician</text>\n</g>\n<!-- 7&#45;&gt;17 -->\n<g id=\"edge3\" class=\"edge\">\n<title>7&#45;&gt;17</title>\n<path fill=\"none\" stroke=\"black\" d=\"M2337.42,-94.43C2317.38,-87.75 2290.39,-78.39 2267,-69 2243.29,-59.49 2217.25,-47.71 2196.46,-37.98\"/>\n<polygon fill=\"black\" stroke=\"black\" points=\"2198.01,-34.84 2187.47,-33.74 2195.03,-41.17 2198.01,-34.84\"/>\n<text text-anchor=\"middle\" x=\"2288.5\" y=\"-57.8\" font-family=\"Times,serif\" font-size=\"14.00\">rdf:type</text>\n</g>\n<!-- 18 -->\n<g id=\"node19\" class=\"node\">\n<title>18</title>\n<polygon fill=\"none\" stroke=\"black\" points=\"2355.5,-36 2226.5,-36 2226.5,0 2355.5,0 2355.5,-36\"/>\n<text text-anchor=\"middle\" x=\"2291\" y=\"-14.3\" font-family=\"Times,serif\" font-size=\"14.00\">&quot;1905&quot;^^xsd:integer</text>\n</g>\n<!-- 7&#45;&gt;18 -->\n<g id=\"edge18\" class=\"edge\">\n<title>7&#45;&gt;18</title>\n<path fill=\"none\" stroke=\"black\" d=\"M2348.14,-89.6C2340.85,-83.61 2332.67,-76.34 2326,-69 2319.59,-61.94 2313.36,-53.67 2307.98,-45.9\"/>\n<polygon fill=\"black\" stroke=\"black\" points=\"2310.97,-44.09 2302.5,-37.73 2305.16,-47.98 2310.97,-44.09\"/>\n<text text-anchor=\"middle\" x=\"2373.5\" y=\"-57.8\" font-family=\"Times,serif\" font-size=\"14.00\">p:wonNobelPrize</text>\n</g>\n<!-- 19 -->\n<g id=\"node20\" class=\"node\">\n<title>19</title>\n<ellipse fill=\"none\" stroke=\"black\" cx=\"2443\" cy=\"-18\" rx=\"69.59\" ry=\"18\"/>\n<text text-anchor=\"middle\" x=\"2443\" y=\"-14.3\" font-family=\"Times,serif\" font-size=\"14.00\">c:Microbiologist</text>\n</g>\n<!-- 7&#45;&gt;19 -->\n<g id=\"edge27\" class=\"edge\">\n<title>7&#45;&gt;19</title>\n<path fill=\"none\" stroke=\"black\" d=\"M2392.16,-91.81C2402.15,-86 2413.11,-78.27 2421,-69 2426.51,-62.52 2430.87,-54.44 2434.19,-46.68\"/>\n<polygon fill=\"black\" stroke=\"black\" points=\"2437.39,-48.12 2437.69,-37.53 2430.85,-45.63 2437.39,-48.12\"/>\n<text text-anchor=\"middle\" x=\"2451.5\" y=\"-57.8\" font-family=\"Times,serif\" font-size=\"14.00\">rdf:type</text>\n</g>\n<!-- 24 -->\n<g id=\"node25\" class=\"node\">\n<title>24</title>\n<polygon fill=\"none\" stroke=\"black\" points=\"2659.5,-36 2530.5,-36 2530.5,0 2659.5,0 2659.5,-36\"/>\n<text text-anchor=\"middle\" x=\"2595\" y=\"-14.3\" font-family=\"Times,serif\" font-size=\"14.00\">&quot;1843&quot;^^xsd:integer</text>\n</g>\n<!-- 7&#45;&gt;24 -->\n<g id=\"edge7\" class=\"edge\">\n<title>7&#45;&gt;24</title>\n<path fill=\"none\" stroke=\"black\" d=\"M2397.61,-95.09C2419.82,-88.43 2450.5,-78.81 2477,-69 2499.94,-60.51 2524.93,-50.09 2545.99,-40.97\"/>\n<polygon fill=\"black\" stroke=\"black\" points=\"2547.15,-44.28 2554.91,-37.08 2544.35,-37.87 2547.15,-44.28\"/>\n<text text-anchor=\"middle\" x=\"2531\" y=\"-57.8\" font-family=\"Times,serif\" font-size=\"14.00\">p:born</text>\n</g>\n<!-- 8 -->\n<g id=\"node9\" class=\"node\">\n<title>8</title>\n<ellipse fill=\"none\" stroke=\"black\" cx=\"1854\" cy=\"-105\" rx=\"38.19\" ry=\"18\"/>\n<text text-anchor=\"middle\" x=\"1854\" y=\"-101.3\" font-family=\"Times,serif\" font-size=\"14.00\">s:Nobel</text>\n</g>\n<!-- 8&#45;&gt;5 -->\n<g id=\"edge19\" class=\"edge\">\n<title>8&#45;&gt;5</title>\n<path fill=\"none\" stroke=\"black\" d=\"M1816.03,-101.86C1749.94,-97.72 1616.71,-87.33 1574,-69 1559.84,-62.92 1546.35,-52.53 1535.67,-42.79\"/>\n<polygon fill=\"black\" stroke=\"black\" points=\"1538.14,-40.31 1528.5,-35.92 1533.3,-45.36 1538.14,-40.31\"/>\n<text text-anchor=\"middle\" x=\"1595.5\" y=\"-57.8\" font-family=\"Times,serif\" font-size=\"14.00\">rdf:type</text>\n</g>\n<!-- 14 -->\n<g id=\"node15\" class=\"node\">\n<title>14</title>\n<ellipse fill=\"none\" stroke=\"black\" cx=\"1765\" cy=\"-18\" rx=\"46.59\" ry=\"18\"/>\n<text text-anchor=\"middle\" x=\"1765\" y=\"-14.3\" font-family=\"Times,serif\" font-size=\"14.00\">c:Chemist</text>\n</g>\n<!-- 8&#45;&gt;14 -->\n<g id=\"edge12\" class=\"edge\">\n<title>8&#45;&gt;14</title>\n<path fill=\"none\" stroke=\"black\" d=\"M1837.68,-88.41C1824.3,-75.63 1805.14,-57.34 1789.86,-42.74\"/>\n<polygon fill=\"black\" stroke=\"black\" points=\"1792.57,-40.49 1782.92,-36.11 1787.73,-45.55 1792.57,-40.49\"/>\n<text text-anchor=\"middle\" x=\"1836.5\" y=\"-57.8\" font-family=\"Times,serif\" font-size=\"14.00\">rdf:type</text>\n</g>\n<!-- 21 -->\n<g id=\"node22\" class=\"node\">\n<title>21</title>\n<polygon fill=\"none\" stroke=\"black\" points=\"1958.5,-36 1829.5,-36 1829.5,0 1958.5,0 1958.5,-36\"/>\n<text text-anchor=\"middle\" x=\"1894\" y=\"-14.3\" font-family=\"Times,serif\" font-size=\"14.00\">&quot;1833&quot;^^xsd:integer</text>\n</g>\n<!-- 8&#45;&gt;21 -->\n<g id=\"edge5\" class=\"edge\">\n<title>8&#45;&gt;21</title>\n<path fill=\"none\" stroke=\"black\" d=\"M1861.9,-87.21C1867.36,-75.6 1874.75,-59.9 1881.07,-46.49\"/>\n<polygon fill=\"black\" stroke=\"black\" points=\"1884.1,-48.25 1885.19,-37.71 1877.77,-45.27 1884.1,-48.25\"/>\n<text text-anchor=\"middle\" x=\"1895\" y=\"-57.8\" font-family=\"Times,serif\" font-size=\"14.00\">p:born</text>\n</g>\n<!-- 22 -->\n<g id=\"node23\" class=\"node\">\n<title>22</title>\n<polygon fill=\"none\" stroke=\"black\" points=\"2077.5,-36 1976.5,-36 1976.5,0 2077.5,0 2077.5,-36\"/>\n<text text-anchor=\"middle\" x=\"2027\" y=\"-14.3\" font-family=\"Times,serif\" font-size=\"14.00\">&quot;Alfred Nobel&quot;</text>\n</g>\n<!-- 8&#45;&gt;22 -->\n<g id=\"edge23\" class=\"edge\">\n<title>8&#45;&gt;22</title>\n<path fill=\"none\" stroke=\"black\" d=\"M1879.9,-91.27C1906.69,-78.11 1949.07,-57.29 1981.48,-41.37\"/>\n<polygon fill=\"black\" stroke=\"black\" points=\"1982.82,-44.61 1990.25,-37.05 1979.74,-38.32 1982.82,-44.61\"/>\n<text text-anchor=\"middle\" x=\"1977\" y=\"-57.8\" font-family=\"Times,serif\" font-size=\"14.00\">rdfs:label</text>\n</g>\n<!-- 9 -->\n<g id=\"node10\" class=\"node\">\n<title>9</title>\n<polygon fill=\"none\" stroke=\"black\" points=\"1262.5,-36 1133.5,-36 1133.5,0 1262.5,0 1262.5,-36\"/>\n<text text-anchor=\"middle\" x=\"1198\" y=\"-14.3\" font-family=\"Times,serif\" font-size=\"14.00\">&quot;1911&quot;^^xsd:integer</text>\n</g>\n<!-- 10 -->\n<g id=\"node11\" class=\"node\">\n<title>10</title>\n<ellipse fill=\"none\" stroke=\"black\" cx=\"400\" cy=\"-105\" rx=\"46.29\" ry=\"18\"/>\n<text text-anchor=\"middle\" x=\"400\" y=\"-101.3\" font-family=\"Times,serif\" font-size=\"14.00\">s:Röntgen</text>\n</g>\n<!-- 10&#45;&gt;0 -->\n<g id=\"edge13\" class=\"edge\">\n<title>10&#45;&gt;0</title>\n<path fill=\"none\" stroke=\"black\" d=\"M375.06,-89.58C352.55,-76.56 319.02,-57.18 292.8,-42.02\"/>\n<polygon fill=\"black\" stroke=\"black\" points=\"294.87,-39.17 284.46,-37.19 291.36,-45.23 294.87,-39.17\"/>\n<text text-anchor=\"middle\" x=\"354\" y=\"-57.8\" font-family=\"Times,serif\" font-size=\"14.00\">p:born</text>\n</g>\n<!-- 10&#45;&gt;3 -->\n<g id=\"edge1\" class=\"edge\">\n<title>10&#45;&gt;3</title>\n<path fill=\"none\" stroke=\"black\" d=\"M361.56,-94.55C333.84,-87.65 295.54,-77.99 262,-69 226.95,-59.61 188.13,-48.7 155.8,-39.47\"/>\n<polygon fill=\"black\" stroke=\"black\" points=\"157.14,-36.21 146.56,-36.83 155.21,-42.94 157.14,-36.21\"/>\n<text text-anchor=\"middle\" x=\"288\" y=\"-57.8\" font-family=\"Times,serif\" font-size=\"14.00\">rdfs:label</text>\n</g>\n<!-- 10&#45;&gt;5 -->\n<g id=\"edge11\" class=\"edge\">\n<title>10&#45;&gt;5</title>\n<path fill=\"none\" stroke=\"black\" d=\"M445.95,-101.64C513.61,-98.21 644.04,-91.72 755,-87 808.77,-84.71 1188.5,-87.59 1239,-69 1249.1,-65.28 1248,-57.97 1258,-54 1343.01,-20.25 1373.5,-54.86 1463,-36 1465.97,-35.37 1469,-34.63 1472.04,-33.8\"/>\n<polygon fill=\"black\" stroke=\"black\" points=\"1472.9,-37.2 1481.47,-30.96 1470.88,-30.49 1472.9,-37.2\"/>\n<text text-anchor=\"middle\" x=\"1279.5\" y=\"-57.8\" font-family=\"Times,serif\" font-size=\"14.00\">rdf:type</text>\n</g>\n<!-- 15 -->\n<g id=\"node16\" class=\"node\">\n<title>15</title>\n<polygon fill=\"none\" stroke=\"black\" points=\"464.5,-36 335.5,-36 335.5,0 464.5,0 464.5,-36\"/>\n<text text-anchor=\"middle\" x=\"400\" y=\"-14.3\" font-family=\"Times,serif\" font-size=\"14.00\">&quot;1901&quot;^^xsd:integer</text>\n</g>\n<!-- 10&#45;&gt;15 -->\n<g id=\"edge8\" class=\"edge\">\n<title>10&#45;&gt;15</title>\n<path fill=\"none\" stroke=\"black\" d=\"M400,-86.8C400,-75.58 400,-60.67 400,-47.69\"/>\n<polygon fill=\"black\" stroke=\"black\" points=\"403.5,-47.98 400,-37.98 396.5,-47.98 403.5,-47.98\"/>\n<text text-anchor=\"middle\" x=\"447.5\" y=\"-57.8\" font-family=\"Times,serif\" font-size=\"14.00\">p:wonNobelPrize</text>\n</g>\n<!-- 10&#45;&gt;16 -->\n<g id=\"edge4\" class=\"edge\">\n<title>10&#45;&gt;16</title>\n<path fill=\"none\" stroke=\"black\" d=\"M440.6,-96.11C459.8,-90.85 482.15,-82.37 499,-69 506.81,-62.81 513.28,-54.16 518.32,-45.8\"/>\n<polygon fill=\"black\" stroke=\"black\" points=\"521.27,-47.69 523.01,-37.24 515.13,-44.33 521.27,-47.69\"/>\n<text text-anchor=\"middle\" x=\"534.5\" y=\"-57.8\" font-family=\"Times,serif\" font-size=\"14.00\">rdf:type</text>\n</g>\n<!-- 11 -->\n<g id=\"node12\" class=\"node\">\n<title>11</title>\n<polygon fill=\"none\" stroke=\"black\" points=\"1454.5,-36 1325.5,-36 1325.5,0 1454.5,0 1454.5,-36\"/>\n<text text-anchor=\"middle\" x=\"1390\" y=\"-14.3\" font-family=\"Times,serif\" font-size=\"14.00\">&quot;1903&quot;^^xsd:integer</text>\n</g>\n<!-- 20 -->\n<g id=\"node21\" class=\"node\">\n<title>20</title>\n<ellipse fill=\"none\" stroke=\"black\" cx=\"1393\" cy=\"-105\" rx=\"36.29\" ry=\"18\"/>\n<text text-anchor=\"middle\" x=\"1393\" y=\"-101.3\" font-family=\"Times,serif\" font-size=\"14.00\">s:Curie</text>\n</g>\n<!-- 20&#45;&gt;2 -->\n<g id=\"edge21\" class=\"edge\">\n<title>20&#45;&gt;2</title>\n<path fill=\"none\" stroke=\"black\" d=\"M1429.44,-103.03C1486.43,-100.76 1593.05,-93.31 1621,-69 1627.32,-63.5 1631.03,-55.46 1633.2,-47.42\"/>\n<polygon fill=\"black\" stroke=\"black\" points=\"1636.59,-48.3 1635.05,-37.81 1629.72,-46.97 1636.59,-48.3\"/>\n<text text-anchor=\"middle\" x=\"1649\" y=\"-57.8\" font-family=\"Times,serif\" font-size=\"14.00\">p:born</text>\n</g>\n<!-- 20&#45;&gt;5 -->\n<g id=\"edge20\" class=\"edge\">\n<title>20&#45;&gt;5</title>\n<path fill=\"none\" stroke=\"black\" d=\"M1427,-98.28C1447.05,-93.41 1471.78,-84.61 1489,-69 1495.57,-63.04 1500.52,-54.9 1504.17,-46.91\"/>\n<polygon fill=\"black\" stroke=\"black\" points=\"1507.37,-48.33 1507.8,-37.75 1500.86,-45.75 1507.37,-48.33\"/>\n<text text-anchor=\"middle\" x=\"1522.5\" y=\"-57.8\" font-family=\"Times,serif\" font-size=\"14.00\">rdf:type</text>\n</g>\n<!-- 20&#45;&gt;9 -->\n<g id=\"edge9\" class=\"edge\">\n<title>20&#45;&gt;9</title>\n<path fill=\"none\" stroke=\"black\" d=\"M1356.32,-104.46C1293.89,-104.37 1171.06,-100.13 1144,-69 1136.08,-59.88 1141.37,-50.68 1151.19,-42.7\"/>\n<polygon fill=\"black\" stroke=\"black\" points=\"1152.9,-45.78 1159.09,-37.18 1148.89,-40.05 1152.9,-45.78\"/>\n<text text-anchor=\"middle\" x=\"1191.5\" y=\"-57.8\" font-family=\"Times,serif\" font-size=\"14.00\">p:wonNobelPrize</text>\n</g>\n<!-- 20&#45;&gt;11 -->\n<g id=\"edge14\" class=\"edge\">\n<title>20&#45;&gt;11</title>\n<path fill=\"none\" stroke=\"black\" d=\"M1392.39,-86.8C1392,-75.58 1391.47,-60.67 1391.01,-47.69\"/>\n<polygon fill=\"black\" stroke=\"black\" points=\"1394.52,-47.85 1390.67,-37.98 1387.52,-48.1 1394.52,-47.85\"/>\n<text text-anchor=\"middle\" x=\"1439.5\" y=\"-57.8\" font-family=\"Times,serif\" font-size=\"14.00\">p:wonNobelPrize</text>\n</g>\n<!-- 20&#45;&gt;14 -->\n<g id=\"edge6\" class=\"edge\">\n<title>20&#45;&gt;14</title>\n<path fill=\"none\" stroke=\"black\" d=\"M1429.44,-103.59C1483.43,-102.05 1587.3,-95.54 1671,-69 1692.65,-62.13 1715.18,-50.34 1732.75,-39.93\"/>\n<polygon fill=\"black\" stroke=\"black\" points=\"1734.46,-42.98 1741.18,-34.79 1730.82,-37 1734.46,-42.98\"/>\n<text text-anchor=\"middle\" x=\"1728.5\" y=\"-57.8\" font-family=\"Times,serif\" font-size=\"14.00\">rdf:type</text>\n</g>\n<!-- 20&#45;&gt;16 -->\n<g id=\"edge17\" class=\"edge\">\n<title>20&#45;&gt;16</title>\n<path fill=\"none\" stroke=\"black\" d=\"M1356.67,-102.81C1290.67,-100.13 1146.91,-91.97 1028,-69 1004.8,-64.52 1000.3,-57.91 977,-54 806.31,-25.38 758.64,-64.95 588,-36 584.44,-35.4 580.78,-34.64 577.13,-33.78\"/>\n<polygon fill=\"black\" stroke=\"black\" points=\"578.28,-30.47 567.72,-31.35 576.53,-37.24 578.28,-30.47\"/>\n<text text-anchor=\"middle\" x=\"1049.5\" y=\"-57.8\" font-family=\"Times,serif\" font-size=\"14.00\">rdf:type</text>\n</g>\n<!-- 23 -->\n<g id=\"node24\" class=\"node\">\n<title>23</title>\n<polygon fill=\"none\" stroke=\"black\" points=\"1115.5,-36 1020.5,-36 1020.5,0 1115.5,0 1115.5,-36\"/>\n<text text-anchor=\"middle\" x=\"1068\" y=\"-14.3\" font-family=\"Times,serif\" font-size=\"14.00\">&quot;Marie Curie&quot;</text>\n</g>\n<!-- 20&#45;&gt;23 -->\n<g id=\"edge25\" class=\"edge\">\n<title>20&#45;&gt;23</title>\n<path fill=\"none\" stroke=\"black\" d=\"M1356.39,-104.59C1283.99,-105.01 1125.97,-102 1085,-69 1078.23,-63.54 1074.14,-55.26 1071.68,-47\"/>\n<polygon fill=\"black\" stroke=\"black\" points=\"1075.15,-46.49 1069.55,-37.49 1068.32,-48.02 1075.15,-46.49\"/>\n<text text-anchor=\"middle\" x=\"1111\" y=\"-57.8\" font-family=\"Times,serif\" font-size=\"14.00\">rdfs:label</text>\n</g>\n</g>\n</svg>\n",
      "text/plain": [
       "<graphviz.graphs.Digraph at 0x10a4026d0>"
      ]
     },
     "metadata": {},
     "output_type": "display_data"
    }
   ],
   "source": [
    "%%rdf turtle -l scientists\n",
    "PREFIX rdfs: <http://www.w3.org/2000/01/rdf-schema#>\n",
    "PREFIX xsd: <http://www.w3.org/2001/XMLSchema#>\n",
    "PREFIX s: <http://example.org/subjects#>\n",
    "PREFIX p: <http://example.org/properties#>\n",
    "PREFIX c: <http://example.org/classes#>\n",
    "\n",
    "s:Einstein a c:Person, c:Physicist ;\n",
    "    p:born \"1879\"^^xsd:integer ;\n",
    "    p:wonNobelPrize \"1921\"^^xsd:integer ;\n",
    "    rdfs:label \"Albert Einstein\" .\n",
    "s:Nobel a c:Person, c:Chemist ;\n",
    "    p:born \"1833\"^^xsd:integer ;\n",
    "    rdfs:label \"Alfred Nobel\" .\n",
    "s:Curie a c:Person, c:Physicist, c:Chemist ;\n",
    "    p:born \"1867\"^^xsd:integer ;\n",
    "    p:wonNobelPrize \"1903\"^^xsd:integer ;\n",
    "    p:wonNobelPrize \"1911\"^^xsd:integer ;\n",
    "    rdfs:label \"Marie Curie\" .\n",
    "s:Koch a c:Person, c:Physician, c:Microbiologist ;\n",
    "    p:born \"1843\"^^xsd:integer ;\n",
    "    p:wonNobelPrize \"1905\"^^xsd:integer ;\n",
    "    rdfs:label \"Robert Koch\" .\n",
    "s:Röntgen a c:Person, c:Physicist ;\n",
    "    p:born \"1845\"^^xsd:integer ;\n",
    "    p:wonNobelPrize \"1901\"^^xsd:integer ;\n",
    "    rdfs:label \"Wilhelm Conrad Röntgen\" ."
   ]
  },
  {
   "cell_type": "markdown",
   "metadata": {
    "deletable": false,
    "editable": false,
    "nbgrader": {
     "cell_type": "markdown",
     "checksum": "d187ee109553384dd0dd43db624ca23b",
     "grade": false,
     "grade_id": "cell-ef97a467f6b8290d",
     "locked": true,
     "schema_version": 3,
     "solution": false,
     "task": false
    }
   },
   "source": [
    "## Task 3: Modifying Solutions [2.5 points]\n",
    "Use the above keywords to obtain the desired information with SPARQL queries.\n",
    "\n",
    "**This task refers to [this graph](#Graph:-Scientists) about scientists. Assume a closed world (information that isn't explicitly stated is false).**\n",
    "\n",
    "### 3a) [0.5 points]\n",
    "The names of all persons that have won a nobel prize, ordered alphabetically without duplicates.\n",
    "Use variable **?name** for the name."
   ]
  },
  {
   "cell_type": "code",
   "execution_count": 80,
   "metadata": {
    "deletable": false,
    "nbgrader": {
     "cell_type": "code",
     "checksum": "49d13f17cdfbf2612ec9c6e74abb252b",
     "grade": false,
     "grade_id": "cell-b2e6b033a3eb53f8",
     "locked": false,
     "schema_version": 3,
     "solution": true,
     "task": false
    }
   },
   "outputs": [
    {
     "data": {
      "text/html": [
       "<table><tr><th>?name</th></tr><tr><td>Albert Einstein</td></tr><tr><td>Marie Curie</td></tr><tr><td>Robert Koch</td></tr><tr><td>Wilhelm Conrad Röntgen</td></tr></table>"
      ],
      "text/plain": [
       "<IPython.core.display.HTML object>"
      ]
     },
     "metadata": {},
     "output_type": "display_data"
    }
   ],
   "source": [
    "%%rdf sparql -l scientists -s 3a\n",
    "### YOUR SOLUTION HERE\n",
    "SELECT DISTINCT ?name\n",
    "WHERE{\n",
    "    ?someone a c:Person .\n",
    "    ?someone p:wonNobelPrize ?year .\n",
    "    ?someone rdfs:label ?name .\n",
    "}\n",
    "ORDER BY ASC(?name)\n",
    "\n"
   ]
  },
  {
   "cell_type": "code",
   "execution_count": 81,
   "metadata": {
    "deletable": false,
    "editable": false,
    "nbgrader": {
     "cell_type": "code",
     "checksum": "4ce0d89992e3c8e31f824a2eb34a46a4",
     "grade": true,
     "grade_id": "cell-2467587e8fcb9bee",
     "locked": true,
     "points": 0.5,
     "schema_version": 3,
     "solution": false,
     "task": false
    }
   },
   "outputs": [],
   "source": [
    "# This test will check whether your query returns the right results. [0.5 points]\n",
    "store = %rdf -r\n",
    "assert '3a' in store['rdfresults'], err\n",
    "name = Variable(\"name\")\n",
    "b = store['rdfresults'][\"3a\"].bindings\n",
    "b = project(b, [name])\n",
    "bindCheck(b, 0, {name: Literal(\"Albert Einstein\")})\n",
    "bindCheck(b, 2, {name: Literal(\"Robert Koch\")})"
   ]
  },
  {
   "cell_type": "markdown",
   "metadata": {
    "deletable": false,
    "editable": false,
    "nbgrader": {
     "cell_type": "markdown",
     "checksum": "e3759e64e0159de11ef04ccd8bd1d534",
     "grade": false,
     "grade_id": "cell-71b74a7ee6a7b9c3",
     "locked": true,
     "schema_version": 3,
     "solution": false,
     "task": false
    }
   },
   "source": [
    "### 3b) [1 point]\n",
    "The second, third and fourth nobel prize sorted ascending by year with their respective owner's name.\n",
    "Use variable **?year** for the year and **?name** for the name."
   ]
  },
  {
   "cell_type": "code",
   "execution_count": 91,
   "metadata": {
    "deletable": false,
    "nbgrader": {
     "cell_type": "code",
     "checksum": "a5eb4d43ad902a995e0515897ff12d2d",
     "grade": false,
     "grade_id": "cell-79bcb7f2d508e165",
     "locked": false,
     "schema_version": 3,
     "solution": true,
     "task": false
    }
   },
   "outputs": [
    {
     "data": {
      "text/html": [
       "<table><tr><th>?name</th><th>?year</th></tr><tr><td>Marie Curie</td><td>1903</td></tr><tr><td>Robert Koch</td><td>1905</td></tr><tr><td>Marie Curie</td><td>1911</td></tr><tr><td>Albert Einstein</td><td>1921</td></tr></table>"
      ],
      "text/plain": [
       "<IPython.core.display.HTML object>"
      ]
     },
     "metadata": {},
     "output_type": "display_data"
    }
   ],
   "source": [
    "%%rdf sparql -l scientists -s 3b\n",
    "### YOUR SOLUTION HERE\n",
    "\n",
    "SELECT ?name ?year\n",
    "WHERE{\n",
    "    ?someone a c:Person .\n",
    "    ?someone p:wonNobelPrize ?year .\n",
    "    ?someone rdfs:label ?name .\n",
    "}\n",
    "ORDER BY ASC(?year)\n",
    "OFFSET 1\n"
   ]
  },
  {
   "cell_type": "code",
   "execution_count": null,
   "metadata": {
    "deletable": false,
    "editable": false,
    "nbgrader": {
     "cell_type": "code",
     "checksum": "c91e892d517abd8730c0bafceab2f52b",
     "grade": true,
     "grade_id": "cell-e1075d31b9e38dc4",
     "locked": true,
     "points": 1,
     "schema_version": 3,
     "solution": false,
     "task": false
    }
   },
   "outputs": [],
   "source": [
    "# This test will check whether your query returns the right results. [1 point]"
   ]
  },
  {
   "cell_type": "markdown",
   "metadata": {
    "deletable": false,
    "editable": false,
    "nbgrader": {
     "cell_type": "markdown",
     "checksum": "4c53b2734c4ef35411431c3e39a140ea",
     "grade": false,
     "grade_id": "cell-f6041ec1c9f41c12",
     "locked": true,
     "schema_version": 3,
     "solution": false,
     "task": false
    }
   },
   "source": [
    "### 3c) [1 point]\n",
    "The name and birth year of the owner of the last nobel prize. Use variable **?name** for the name and **?year** for the birth year."
   ]
  },
  {
   "cell_type": "code",
   "execution_count": 94,
   "metadata": {
    "deletable": false,
    "nbgrader": {
     "cell_type": "code",
     "checksum": "666d5ca2f26e0873588a95a092210f08",
     "grade": false,
     "grade_id": "cell-c78a55372321d463",
     "locked": false,
     "schema_version": 3,
     "solution": true,
     "task": false
    }
   },
   "outputs": [
    {
     "data": {
      "text/html": [
       "<table><tr><th>?name</th><th>?year</th></tr><tr><td>Albert Einstein</td><td>1879</td></tr></table>"
      ],
      "text/plain": [
       "<IPython.core.display.HTML object>"
      ]
     },
     "metadata": {},
     "output_type": "display_data"
    }
   ],
   "source": [
    "%%rdf sparql -l scientists -s 3c\n",
    "### YOUR SOLUTION HERE\n",
    "SELECT ?name ?year\n",
    "WHERE {\n",
    "    ?someone a c:Person .\n",
    "    ?someone p:wonNobelPrize ?nobelYear .\n",
    "    ?someone p:born ?year .\n",
    "    ?someone rdfs:label ?name .\n",
    "}\n",
    "ORDER BY DESC(?nobelYear)\n",
    "LIMIT 1\n"
   ]
  },
  {
   "cell_type": "code",
   "execution_count": null,
   "metadata": {
    "deletable": false,
    "editable": false,
    "nbgrader": {
     "cell_type": "code",
     "checksum": "b9c4735213e1c629723e3e3267220020",
     "grade": true,
     "grade_id": "cell-39485e7b1e65abf9",
     "locked": true,
     "points": 1,
     "schema_version": 3,
     "solution": false,
     "task": false
    }
   },
   "outputs": [],
   "source": [
    "# This test will check whether your query returns the right results. [1 point]"
   ]
  },
  {
   "cell_type": "markdown",
   "metadata": {
    "deletable": false,
    "editable": false,
    "nbgrader": {
     "cell_type": "markdown",
     "checksum": "12735fbe6d752b990f17d617ea276724",
     "grade": false,
     "grade_id": "cell-cc819fea603ed4ce",
     "locked": true,
     "schema_version": 3,
     "solution": false,
     "task": false
    }
   },
   "source": [
    "## Group Graph Patterns\n",
    "Basic Graph Patterns are intuitive but have limited expressiveness. Group Graph Patterns allow us to group Basic Graph Patterns and then perform operations with these groups. A Group Graph Pattern is delimited with braces ({}) and inside the same syntax as with Basic Graph Patterns is used.\n",
    "\n",
    "### Optional Values\n",
    "Sometimes data is incomplete but we still want to query it (i.e. do a left join with the incomplete data). We want to query all employees but some have not provided a telephone number. We can do it like this:\n",
    "\n",
    "**SELECT ?employee ?number WHERE {  \n",
    "&nbsp;&nbsp;&nbsp;&nbsp;?employee a c:Employee .  \n",
    "&nbsp;&nbsp;&nbsp;&nbsp;OPTIONAL { ?employee p:telephoneNumber ?number . }  \n",
    "}**\n",
    "\n",
    "The **OPTIONAL** keyword uses a Group Graph Pattern to allow for optional matching. When the optional Group Graph Pattern could not be matched, the resulting variable binding will be empty but all variables outside of the optional pattern will still be bound.\n",
    "\n",
    "### Unions\n",
    "Basic Graph Patterns are always conjunctive, meaning that all triples must be matched. With Group Graph Patterns, we can define two patterns and then unify their resulting variable bindings (i.e. create a disjunction). If we want to get all telephone numbers and e-mail addresses of all employees we could do it like this:\n",
    "\n",
    "**SELECT ?employee ?contact WHERE {  \n",
    "&nbsp;&nbsp;&nbsp;&nbsp;?employee a c:Employee .  \n",
    "&nbsp;&nbsp;&nbsp;&nbsp;{ ?employee p:telephoneNumber ?contact . }  \n",
    "&nbsp;&nbsp;&nbsp;&nbsp;UNION  \n",
    "&nbsp;&nbsp;&nbsp;&nbsp;{ ?employee p:email ?contact . }  \n",
    "}**\n",
    "\n",
    "Here we define two Group Graph Patterns, one for telephone numbers  and one for e-mail addresses and then join their results.\n",
    "\n",
    "## Task 4: Complex Queries [3 points]\n",
    "Use Group Graph Patterns to obtain the desired information with SPARQL queries.\n",
    "\n",
    "**This task refers to [this graph](#Graph:-Scientists) about scientists. Assume a closed world (information that isn't explicitly stated is false).**\n",
    "\n",
    "### 4a) [1.5 points]\n",
    "The names of all chemists and the year in which they have won a nobel prize. If they have won no nobel prize the year should be an empty value (None). Use variables **?name** for the name and **?year** for the nobel prize year. Multiple entries for the same chemist are allowed."
   ]
  },
  {
   "cell_type": "code",
   "execution_count": 97,
   "metadata": {
    "deletable": false,
    "nbgrader": {
     "cell_type": "code",
     "checksum": "c603edb95055fc7cacf64b345806dbeb",
     "grade": false,
     "grade_id": "cell-a6e4b2be3f9696f4",
     "locked": false,
     "schema_version": 3,
     "solution": true,
     "task": false
    }
   },
   "outputs": [
    {
     "data": {
      "text/html": [
       "<table><tr><th>?name</th><th>?year</th></tr><tr><td>Alfred Nobel</td><td>None</td></tr><tr><td>Marie Curie</td><td>1903</td></tr><tr><td>Marie Curie</td><td>1911</td></tr></table>"
      ],
      "text/plain": [
       "<IPython.core.display.HTML object>"
      ]
     },
     "metadata": {},
     "output_type": "display_data"
    }
   ],
   "source": [
    "%%rdf sparql -l scientists -s 4a\n",
    "### YOUR SOLUTION HERE\n",
    "SELECT ?name ?year\n",
    "WHERE{\n",
    "    ?someone a c:Person,c:Chemist .\n",
    "    ?someone rdfs:label ?name .\n",
    "    OPTIONAL{?someone p:wonNobelPrize ?year} .\n",
    "}"
   ]
  },
  {
   "cell_type": "code",
   "execution_count": null,
   "metadata": {
    "deletable": false,
    "editable": false,
    "nbgrader": {
     "cell_type": "code",
     "checksum": "e3b33b3db795b0b7d4ac9b8b70332835",
     "grade": true,
     "grade_id": "cell-b0d4da031d476cd6",
     "locked": true,
     "points": 1.5,
     "schema_version": 3,
     "solution": false,
     "task": false
    }
   },
   "outputs": [],
   "source": [
    "# This test will check whether your query returns the right results. [1.5 points]"
   ]
  },
  {
   "cell_type": "markdown",
   "metadata": {
    "deletable": false,
    "editable": false,
    "nbgrader": {
     "cell_type": "markdown",
     "checksum": "8f91205d545668b35004b2b60f9252d1",
     "grade": false,
     "grade_id": "cell-ddb497aad5179ea8",
     "locked": true,
     "schema_version": 3,
     "solution": false,
     "task": false
    }
   },
   "source": [
    "### 4b) [1.5 points]\n",
    "The names of all physicists as well as the names of all physicians ordered alphabetically. Use variable **?name** for the name."
   ]
  },
  {
   "cell_type": "code",
   "execution_count": 103,
   "metadata": {
    "deletable": false,
    "nbgrader": {
     "cell_type": "code",
     "checksum": "215598126b7927c7588e6296fbd783a2",
     "grade": false,
     "grade_id": "cell-b89f27c6e40b6f5a",
     "locked": false,
     "schema_version": 3,
     "solution": true,
     "task": false
    }
   },
   "outputs": [
    {
     "data": {
      "text/html": [
       "<table><tr><th>?name</th></tr><tr><td>Albert Einstein</td></tr><tr><td>Marie Curie</td></tr><tr><td>Wilhelm Conrad Röntgen</td></tr></table>"
      ],
      "text/plain": [
       "<IPython.core.display.HTML object>"
      ]
     },
     "metadata": {},
     "output_type": "display_data"
    }
   ],
   "source": [
    "%%rdf sparql -l scientists -s 4b\n",
    "### YOUR SOLUTION HERE\n",
    "SELECT ?name\n",
    "WHERE {\n",
    "    ?someone a c:Person, c:Physicist .\n",
    "    ?someone rdfs:label ?name .\n",
    "}\n",
    "ORDER BY ASC(?name)"
   ]
  },
  {
   "cell_type": "code",
   "execution_count": null,
   "metadata": {
    "deletable": false,
    "editable": false,
    "nbgrader": {
     "cell_type": "code",
     "checksum": "f685bb2d6b73e8628cb2bddfe83a1bb2",
     "grade": true,
     "grade_id": "cell-90bffd4426f56aca",
     "locked": true,
     "points": 1.5,
     "schema_version": 3,
     "solution": false,
     "task": false
    }
   },
   "outputs": [],
   "source": [
    "# This test will check whether your query returns the right results. [1.5 points]"
   ]
  },
  {
   "cell_type": "markdown",
   "metadata": {
    "deletable": false,
    "editable": false,
    "nbgrader": {
     "cell_type": "markdown",
     "checksum": "0bd85d2d4e0346c79426fc7746080d78",
     "grade": false,
     "grade_id": "cell-ab1174718d327a96",
     "locked": true,
     "schema_version": 3,
     "solution": false,
     "task": false
    }
   },
   "source": [
    "## Filters, Functions, Modifiers and Aggregates\n",
    "With Group Graph Patterns and Solution Modifiers we can efficiently query RDF graphs but what if we actually want to do something with the data like calculating an average, filtering specific values or binding our own values? There are many ways to do this and we will introduce the most important ones.\n",
    "\n",
    "### Filters\n",
    "One can filter values inside a Group Graph Pattern by using the **FILTER** function. Inside the parantheses of the filter function we have to provide a filter expression. A Filter expression uses operators like \\<, =, \\> \\<=, \\>= and != to compare variables and literals with specific datatypes. We can also use arithmetic operators like +, -, \\* and /. We can also combine multiple filter expressions with AND (&&), OR (||) and NOT (!). Filters are always applied to the whole Group Pattern in which they reside. There are also many functions which can be used in filter expressions like **contains** which checks if a string contains another string or **str** which converts a literal to its literal value (without datatype) or **regex** which matches a string with a full regular expression. Example:\n",
    "\n",
    "**SELECT \\* WHERE {  \n",
    "&nbsp;&nbsp;&nbsp;&nbsp;?employee a c:Employee ;  \n",
    "&nbsp;&nbsp;&nbsp;&nbsp;?employee rdfs:label ?name ;  \n",
    "&nbsp;&nbsp;&nbsp;&nbsp;&nbsp;&nbsp;&nbsp;&nbsp;p:income ?income .  \n",
    "&nbsp;&nbsp;&nbsp;&nbsp;FILTER (str(?name) != \"Angela\" && contains(?name, \"la\") && ?income > 450)  \n",
    "}**\n",
    "\n",
    "Here we show all employees with their name and income who have an income larger than 450, aren't called \"Angela\" and whose name contains \"la\".\n",
    "\n",
    "### Aggregates\n",
    "To calculate values over multiple results, we need to use aggregate functions. The most important aggregate functions are min, max, avg, sum and count. These can simply be used in the projection. Aggregate functions always work on groups of results and compute separately for each group. By default all results are one big group but you can use the **GROUP BY** modifier to specify a variable to group by. For example if you want to know for all employers what the average income of their employees is, you could do it like this:\n",
    "\n",
    "**SELECT ?employer (sum(?income) AS ?incomeSum) WHERE {  \n",
    "&nbsp;&nbsp;&nbsp;&nbsp;?employer a c:Employer .  \n",
    "&nbsp;&nbsp;&nbsp;&nbsp;?employee a c:Employee ;  \n",
    "&nbsp;&nbsp;&nbsp;&nbsp;&nbsp;&nbsp;&nbsp;&nbsp;p:worksFor ?employer ;  \n",
    "&nbsp;&nbsp;&nbsp;&nbsp;&nbsp;&nbsp;&nbsp;&nbsp;p:income ?income .   \n",
    "}\n",
    "GROUP BY ?employer**\n",
    "\n",
    "Please note that it is obligatory to bind the result with the **AS** keyword and surround the expression with parentheses. You can also use other functions and arithmetic operators on the left side of the AS, for example to remove a 10% tax you could do **(sum(?income)*0.9 AS ?incomeSum)** instead.\n",
    "\n",
    "### Manual Binding\n",
    "One can also bind their own values to variables using the BIND keyword. If you want to get the difference in population of Germany and Sweden:\n",
    "\n",
    "**SELECT ?diff WHERE {  \n",
    "&nbsp;&nbsp;&nbsp;&nbsp;s:Germany p:population ?x .  \n",
    "&nbsp;&nbsp;&nbsp;&nbsp;s:Sweden p:population ?y .  \n",
    "&nbsp;&nbsp;&nbsp;&nbsp;BIND (abs(?x - ?y) AS ?diff)  \n",
    "}**\n",
    "\n",
    "Again, you can use all kinds of expressions on the left side of the AS keyword.\n",
    "\n",
    "### Graph: Movies\n",
    "This graph contains information about some of the highest grossing films.  \n",
    "**You must run the following cell or the graph won't be in scope for following tasks.**"
   ]
  },
  {
   "cell_type": "code",
   "execution_count": 104,
   "metadata": {
    "deletable": false,
    "editable": false,
    "nbgrader": {
     "cell_type": "code",
     "checksum": "77101b2069e3122aab70b324f3812d7f",
     "grade": false,
     "grade_id": "cell-2b8a837df3f11a9d",
     "locked": true,
     "schema_version": 3,
     "solution": false,
     "task": false
    }
   },
   "outputs": [
    {
     "data": {
      "image/svg+xml": "<?xml version=\"1.0\" encoding=\"UTF-8\" standalone=\"no\"?>\n<!DOCTYPE svg PUBLIC \"-//W3C//DTD SVG 1.1//EN\"\n \"http://www.w3.org/Graphics/SVG/1.1/DTD/svg11.dtd\">\n<!-- Generated by graphviz version 7.1.0 (20230121.1956)\n -->\n<!-- Pages: 1 -->\n<svg width=\"3242pt\" height=\"218pt\"\n viewBox=\"0.00 0.00 3242.00 218.00\" xmlns=\"http://www.w3.org/2000/svg\" xmlns:xlink=\"http://www.w3.org/1999/xlink\">\n<g id=\"graph0\" class=\"graph\" transform=\"scale(1 1) rotate(0) translate(4 214)\">\n<polygon fill=\"white\" stroke=\"none\" points=\"-4,4 -4,-214 3238,-214 3238,4 -4,4\"/>\n<!-- 0 -->\n<g id=\"node1\" class=\"node\">\n<title>0</title>\n<ellipse fill=\"none\" stroke=\"black\" cx=\"1635\" cy=\"-105\" rx=\"40.09\" ry=\"18\"/>\n<text text-anchor=\"middle\" x=\"1635\" y=\"-101.3\" font-family=\"Times,serif\" font-size=\"14.00\">c:Movie</text>\n</g>\n<!-- 1 -->\n<g id=\"node2\" class=\"node\">\n<title>1</title>\n<polygon fill=\"none\" stroke=\"black\" points=\"2898.5,-123 2743.5,-123 2743.5,-87 2898.5,-87 2898.5,-123\"/>\n<text text-anchor=\"middle\" x=\"2821\" y=\"-101.3\" font-family=\"Times,serif\" font-size=\"14.00\">&quot;Avengers: Infinity War&quot;</text>\n</g>\n<!-- 2 -->\n<g id=\"node3\" class=\"node\">\n<title>2</title>\n<polygon fill=\"none\" stroke=\"black\" points=\"170,-123 0,-123 0,-87 170,-87 170,-123\"/>\n<text text-anchor=\"middle\" x=\"85\" y=\"-101.3\" font-family=\"Times,serif\" font-size=\"14.00\">&quot;2797800564&quot;^^xsd:integer</text>\n</g>\n<!-- 3 -->\n<g id=\"node4\" class=\"node\">\n<title>3</title>\n<polygon fill=\"none\" stroke=\"black\" points=\"328,-123 188,-123 188,-87 328,-87 328,-123\"/>\n<text text-anchor=\"middle\" x=\"258\" y=\"-101.3\" font-family=\"Times,serif\" font-size=\"14.00\">&quot;Avengers: Endgame&quot;</text>\n</g>\n<!-- 4 -->\n<g id=\"node5\" class=\"node\">\n<title>4</title>\n<polygon fill=\"none\" stroke=\"black\" points=\"2725.5,-123 2596.5,-123 2596.5,-87 2725.5,-87 2725.5,-123\"/>\n<text text-anchor=\"middle\" x=\"2661\" y=\"-101.3\" font-family=\"Times,serif\" font-size=\"14.00\">&quot;2009&quot;^^xsd:integer</text>\n</g>\n<!-- 5 -->\n<g id=\"node6\" class=\"node\">\n<title>5</title>\n<polygon fill=\"none\" stroke=\"black\" points=\"664,-123 494,-123 494,-87 664,-87 664,-123\"/>\n<text text-anchor=\"middle\" x=\"579\" y=\"-101.3\" font-family=\"Times,serif\" font-size=\"14.00\">&quot;2068223624&quot;^^xsd:integer</text>\n</g>\n<!-- 6 -->\n<g id=\"node7\" class=\"node\">\n<title>6</title>\n<polygon fill=\"none\" stroke=\"black\" points=\"2495,-123 2325,-123 2325,-87 2495,-87 2495,-123\"/>\n<text text-anchor=\"middle\" x=\"2410\" y=\"-101.3\" font-family=\"Times,serif\" font-size=\"14.00\">&quot;2790439000&quot;^^xsd:integer</text>\n</g>\n<!-- 7 -->\n<g id=\"node8\" class=\"node\">\n<title>7</title>\n<ellipse fill=\"none\" stroke=\"black\" cx=\"411\" cy=\"-192\" rx=\"50.09\" ry=\"18\"/>\n<text text-anchor=\"middle\" x=\"411\" y=\"-188.3\" font-family=\"Times,serif\" font-size=\"14.00\">s:Endgame</text>\n</g>\n<!-- 7&#45;&gt;0 -->\n<g id=\"edge34\" class=\"edge\">\n<title>7&#45;&gt;0</title>\n<path fill=\"none\" stroke=\"black\" d=\"M460.77,-189.2C654.73,-182.18 1349.36,-156.97 1352,-156 1362.1,-152.28 1360.99,-144.95 1371,-141 1460.19,-105.8 1492.19,-142.87 1586,-123 1588.81,-122.4 1591.69,-121.69 1594.56,-120.9\"/>\n<polygon fill=\"black\" stroke=\"black\" points=\"1595.55,-124.26 1604.09,-118 1593.51,-117.57 1595.55,-124.26\"/>\n<text text-anchor=\"middle\" x=\"1392.5\" y=\"-144.8\" font-family=\"Times,serif\" font-size=\"14.00\">rdf:type</text>\n</g>\n<!-- 7&#45;&gt;2 -->\n<g id=\"edge29\" class=\"edge\">\n<title>7&#45;&gt;2</title>\n<path fill=\"none\" stroke=\"black\" d=\"M371.35,-180.66C319.86,-167.24 228.82,-143.5 163.2,-126.39\"/>\n<polygon fill=\"black\" stroke=\"black\" points=\"164.1,-123.01 153.54,-123.87 162.34,-129.78 164.1,-123.01\"/>\n<text text-anchor=\"middle\" x=\"288\" y=\"-144.8\" font-family=\"Times,serif\" font-size=\"14.00\">p:gross</text>\n</g>\n<!-- 7&#45;&gt;3 -->\n<g id=\"edge28\" class=\"edge\">\n<title>7&#45;&gt;3</title>\n<path fill=\"none\" stroke=\"black\" d=\"M384.7,-176.39C361.21,-163.34 326.43,-144.01 299.24,-128.91\"/>\n<polygon fill=\"black\" stroke=\"black\" points=\"301,-125.88 290.56,-124.09 297.6,-132 301,-125.88\"/>\n<text text-anchor=\"middle\" x=\"370\" y=\"-144.8\" font-family=\"Times,serif\" font-size=\"14.00\">rdfs:label</text>\n</g>\n<!-- 11 -->\n<g id=\"node12\" class=\"node\">\n<title>11</title>\n<polygon fill=\"none\" stroke=\"black\" points=\"475.5,-123 346.5,-123 346.5,-87 475.5,-87 475.5,-123\"/>\n<text text-anchor=\"middle\" x=\"411\" y=\"-101.3\" font-family=\"Times,serif\" font-size=\"14.00\">&quot;2019&quot;^^xsd:integer</text>\n</g>\n<!-- 7&#45;&gt;11 -->\n<g id=\"edge24\" class=\"edge\">\n<title>7&#45;&gt;11</title>\n<path fill=\"none\" stroke=\"black\" d=\"M411,-173.8C411,-162.58 411,-147.67 411,-134.69\"/>\n<polygon fill=\"black\" stroke=\"black\" points=\"414.5,-134.98 411,-124.98 407.5,-134.98 414.5,-134.98\"/>\n<text text-anchor=\"middle\" x=\"428\" y=\"-144.8\" font-family=\"Times,serif\" font-size=\"14.00\">p:year</text>\n</g>\n<!-- 26 -->\n<g id=\"node27\" class=\"node\">\n<title>26</title>\n<ellipse fill=\"none\" stroke=\"black\" cx=\"2152\" cy=\"-105\" rx=\"38.19\" ry=\"18\"/>\n<text text-anchor=\"middle\" x=\"2152\" y=\"-101.3\" font-family=\"Times,serif\" font-size=\"14.00\">s:Russo</text>\n</g>\n<!-- 7&#45;&gt;26 -->\n<g id=\"edge11\" class=\"edge\">\n<title>7&#45;&gt;26</title>\n<path fill=\"none\" stroke=\"black\" d=\"M460.81,-188.95C547.16,-185.44 730.25,-178.28 885,-174 936.27,-172.58 1759.72,-173.29 1808,-156 1818.13,-152.37 1816.96,-144.86 1827,-141 1884.59,-118.89 2043.58,-135.41 2104,-123 2106.94,-122.4 2109.95,-121.65 2112.95,-120.82\"/>\n<polygon fill=\"black\" stroke=\"black\" points=\"2113.73,-124.24 2122.24,-117.93 2111.65,-117.56 2113.73,-124.24\"/>\n<text text-anchor=\"middle\" x=\"1862\" y=\"-144.8\" font-family=\"Times,serif\" font-size=\"14.00\">p:directedBy</text>\n</g>\n<!-- 8 -->\n<g id=\"node9\" class=\"node\">\n<title>8</title>\n<polygon fill=\"none\" stroke=\"black\" points=\"1134.5,-123 1005.5,-123 1005.5,-87 1134.5,-87 1134.5,-123\"/>\n<text text-anchor=\"middle\" x=\"1070\" y=\"-101.3\" font-family=\"Times,serif\" font-size=\"14.00\">&quot;2015&quot;^^xsd:integer</text>\n</g>\n<!-- 9 -->\n<g id=\"node10\" class=\"node\">\n<title>9</title>\n<polygon fill=\"none\" stroke=\"black\" points=\"880,-123 682,-123 682,-87 880,-87 880,-123\"/>\n<text text-anchor=\"middle\" x=\"781\" y=\"-101.3\" font-family=\"Times,serif\" font-size=\"14.00\">&quot;Star Wars: The Force Awakens&quot;</text>\n</g>\n<!-- 10 -->\n<g id=\"node11\" class=\"node\">\n<title>10</title>\n<polygon fill=\"none\" stroke=\"black\" points=\"1395,-36 1275,-36 1275,0 1395,0 1395,-36\"/>\n<text text-anchor=\"middle\" x=\"1335\" y=\"-14.3\" font-family=\"Times,serif\" font-size=\"14.00\">&quot;Colin Trevorrow&quot;</text>\n</g>\n<!-- 12 -->\n<g id=\"node13\" class=\"node\">\n<title>12</title>\n<polygon fill=\"none\" stroke=\"black\" points=\"1577,-123 1407,-123 1407,-87 1577,-87 1577,-123\"/>\n<text text-anchor=\"middle\" x=\"1492\" y=\"-101.3\" font-family=\"Times,serif\" font-size=\"14.00\">&quot;1671713208&quot;^^xsd:integer</text>\n</g>\n<!-- 13 -->\n<g id=\"node14\" class=\"node\">\n<title>13</title>\n<ellipse fill=\"none\" stroke=\"black\" cx=\"1335\" cy=\"-105\" rx=\"53.89\" ry=\"18\"/>\n<text text-anchor=\"middle\" x=\"1335\" y=\"-101.3\" font-family=\"Times,serif\" font-size=\"14.00\">s:Trevorrow</text>\n</g>\n<!-- 13&#45;&gt;10 -->\n<g id=\"edge35\" class=\"edge\">\n<title>13&#45;&gt;10</title>\n<path fill=\"none\" stroke=\"black\" d=\"M1335,-86.8C1335,-75.58 1335,-60.67 1335,-47.69\"/>\n<polygon fill=\"black\" stroke=\"black\" points=\"1338.5,-47.98 1335,-37.98 1331.5,-47.98 1338.5,-47.98\"/>\n<text text-anchor=\"middle\" x=\"1361\" y=\"-57.8\" font-family=\"Times,serif\" font-size=\"14.00\">rdfs:label</text>\n</g>\n<!-- 31 -->\n<g id=\"node32\" class=\"node\">\n<title>31</title>\n<ellipse fill=\"none\" stroke=\"black\" cx=\"1851\" cy=\"-18\" rx=\"46.29\" ry=\"18\"/>\n<text text-anchor=\"middle\" x=\"1851\" y=\"-14.3\" font-family=\"Times,serif\" font-size=\"14.00\">c:Director</text>\n</g>\n<!-- 13&#45;&gt;31 -->\n<g id=\"edge27\" class=\"edge\">\n<title>13&#45;&gt;31</title>\n<path fill=\"none\" stroke=\"black\" d=\"M1374.83,-92.51C1382.48,-90.52 1390.46,-88.58 1398,-87 1540.14,-57.26 1709.99,-35.35 1795.7,-25.23\"/>\n<polygon fill=\"black\" stroke=\"black\" points=\"1795.94,-28.72 1805.47,-24.08 1795.13,-21.77 1795.94,-28.72\"/>\n<text text-anchor=\"middle\" x=\"1593.5\" y=\"-57.8\" font-family=\"Times,serif\" font-size=\"14.00\">rdf:type</text>\n</g>\n<!-- 14 -->\n<g id=\"node15\" class=\"node\">\n<title>14</title>\n<ellipse fill=\"none\" stroke=\"black\" cx=\"2821\" cy=\"-192\" rx=\"57.69\" ry=\"18\"/>\n<text text-anchor=\"middle\" x=\"2821\" y=\"-188.3\" font-family=\"Times,serif\" font-size=\"14.00\">s:InfinityWar</text>\n</g>\n<!-- 14&#45;&gt;0 -->\n<g id=\"edge8\" class=\"edge\">\n<title>14&#45;&gt;0</title>\n<path fill=\"none\" stroke=\"black\" d=\"M2764.27,-188.1C2693.01,-184.51 2566.97,-178.34 2459,-174 2399.13,-171.59 1976.27,-176.59 1920,-156 1909.9,-152.3 1911.01,-144.95 1901,-141 1810.97,-105.51 1778.68,-143.02 1684,-123 1681.19,-122.41 1678.31,-121.69 1675.44,-120.91\"/>\n<polygon fill=\"black\" stroke=\"black\" points=\"1676.49,-117.57 1665.91,-118 1674.45,-124.26 1676.49,-117.57\"/>\n<text text-anchor=\"middle\" x=\"1941.5\" y=\"-144.8\" font-family=\"Times,serif\" font-size=\"14.00\">rdf:type</text>\n</g>\n<!-- 14&#45;&gt;1 -->\n<g id=\"edge19\" class=\"edge\">\n<title>14&#45;&gt;1</title>\n<path fill=\"none\" stroke=\"black\" d=\"M2821,-173.8C2821,-162.58 2821,-147.67 2821,-134.69\"/>\n<polygon fill=\"black\" stroke=\"black\" points=\"2824.5,-134.98 2821,-124.98 2817.5,-134.98 2824.5,-134.98\"/>\n<text text-anchor=\"middle\" x=\"2847\" y=\"-144.8\" font-family=\"Times,serif\" font-size=\"14.00\">rdfs:label</text>\n</g>\n<!-- 17 -->\n<g id=\"node18\" class=\"node\">\n<title>17</title>\n<polygon fill=\"none\" stroke=\"black\" points=\"3045.5,-123 2916.5,-123 2916.5,-87 3045.5,-87 3045.5,-123\"/>\n<text text-anchor=\"middle\" x=\"2981\" y=\"-101.3\" font-family=\"Times,serif\" font-size=\"14.00\">&quot;2018&quot;^^xsd:integer</text>\n</g>\n<!-- 14&#45;&gt;17 -->\n<g id=\"edge2\" class=\"edge\">\n<title>14&#45;&gt;17</title>\n<path fill=\"none\" stroke=\"black\" d=\"M2849.24,-176C2873.85,-162.93 2909.91,-143.77 2938.09,-128.8\"/>\n<polygon fill=\"black\" stroke=\"black\" points=\"2939.55,-131.98 2946.74,-124.2 2936.27,-125.8 2939.55,-131.98\"/>\n<text text-anchor=\"middle\" x=\"2928\" y=\"-144.8\" font-family=\"Times,serif\" font-size=\"14.00\">p:year</text>\n</g>\n<!-- 14&#45;&gt;26 -->\n<g id=\"edge23\" class=\"edge\">\n<title>14&#45;&gt;26</title>\n<path fill=\"none\" stroke=\"black\" d=\"M2781.25,-178.53C2741.23,-166.58 2677.5,-149.18 2621,-141 2435.65,-114.15 2383.86,-158.66 2200,-123 2197.05,-122.43 2194.04,-121.71 2191.03,-120.89\"/>\n<polygon fill=\"black\" stroke=\"black\" points=\"2192.33,-117.63 2181.74,-118.03 2190.27,-124.32 2192.33,-117.63\"/>\n<text text-anchor=\"middle\" x=\"2729\" y=\"-144.8\" font-family=\"Times,serif\" font-size=\"14.00\">p:directedBy</text>\n</g>\n<!-- 32 -->\n<g id=\"node33\" class=\"node\">\n<title>32</title>\n<polygon fill=\"none\" stroke=\"black\" points=\"3234,-123 3064,-123 3064,-87 3234,-87 3234,-123\"/>\n<text text-anchor=\"middle\" x=\"3149\" y=\"-101.3\" font-family=\"Times,serif\" font-size=\"14.00\">&quot;2048359754&quot;^^xsd:integer</text>\n</g>\n<!-- 14&#45;&gt;32 -->\n<g id=\"edge1\" class=\"edge\">\n<title>14&#45;&gt;32</title>\n<path fill=\"none\" stroke=\"black\" d=\"M2864.22,-179.8C2916.68,-166.21 3006.13,-143.02 3070.8,-126.26\"/>\n<polygon fill=\"black\" stroke=\"black\" points=\"3071.5,-129.7 3080.3,-123.8 3069.74,-122.92 3071.5,-129.7\"/>\n<text text-anchor=\"middle\" x=\"3025\" y=\"-144.8\" font-family=\"Times,serif\" font-size=\"14.00\">p:gross</text>\n</g>\n<!-- 15 -->\n<g id=\"node16\" class=\"node\">\n<title>15</title>\n<ellipse fill=\"none\" stroke=\"black\" cx=\"943\" cy=\"-105\" rx=\"44.69\" ry=\"18\"/>\n<text text-anchor=\"middle\" x=\"943\" y=\"-101.3\" font-family=\"Times,serif\" font-size=\"14.00\">s:Abrams</text>\n</g>\n<!-- 29 -->\n<g id=\"node30\" class=\"node\">\n<title>29</title>\n<polygon fill=\"none\" stroke=\"black\" points=\"991.5,-36 894.5,-36 894.5,0 991.5,0 991.5,-36\"/>\n<text text-anchor=\"middle\" x=\"943\" y=\"-14.3\" font-family=\"Times,serif\" font-size=\"14.00\">&quot;J. J. Abrams&quot;</text>\n</g>\n<!-- 15&#45;&gt;29 -->\n<g id=\"edge33\" class=\"edge\">\n<title>15&#45;&gt;29</title>\n<path fill=\"none\" stroke=\"black\" d=\"M943,-86.8C943,-75.58 943,-60.67 943,-47.69\"/>\n<polygon fill=\"black\" stroke=\"black\" points=\"946.5,-47.98 943,-37.98 939.5,-47.98 946.5,-47.98\"/>\n<text text-anchor=\"middle\" x=\"969\" y=\"-57.8\" font-family=\"Times,serif\" font-size=\"14.00\">rdfs:label</text>\n</g>\n<!-- 15&#45;&gt;31 -->\n<g id=\"edge18\" class=\"edge\">\n<title>15&#45;&gt;31</title>\n<path fill=\"none\" stroke=\"black\" d=\"M975.81,-92.37C982.43,-90.33 989.39,-88.42 996,-87 1123.69,-59.59 1157.89,-65.39 1288,-54 1472.59,-37.84 1691.86,-26.45 1793.72,-21.6\"/>\n<polygon fill=\"black\" stroke=\"black\" points=\"1793.63,-25.11 1803.45,-21.15 1793.3,-18.12 1793.63,-25.11\"/>\n<text text-anchor=\"middle\" x=\"1309.5\" y=\"-57.8\" font-family=\"Times,serif\" font-size=\"14.00\">rdf:type</text>\n</g>\n<!-- 16 -->\n<g id=\"node17\" class=\"node\">\n<title>16</title>\n<polygon fill=\"none\" stroke=\"black\" points=\"1863,-123 1693,-123 1693,-87 1863,-87 1863,-123\"/>\n<text text-anchor=\"middle\" x=\"1778\" y=\"-101.3\" font-family=\"Times,serif\" font-size=\"14.00\">&quot;2194439542&quot;^^xsd:integer</text>\n</g>\n<!-- 18 -->\n<g id=\"node19\" class=\"node\">\n<title>18</title>\n<polygon fill=\"none\" stroke=\"black\" points=\"1948.5,-123 1881.5,-123 1881.5,-87 1948.5,-87 1948.5,-123\"/>\n<text text-anchor=\"middle\" x=\"1915\" y=\"-101.3\" font-family=\"Times,serif\" font-size=\"14.00\">&quot;Titanic&quot;</text>\n</g>\n<!-- 19 -->\n<g id=\"node20\" class=\"node\">\n<title>19</title>\n<polygon fill=\"none\" stroke=\"black\" points=\"2333,-36 2217,-36 2217,0 2333,0 2333,-36\"/>\n<text text-anchor=\"middle\" x=\"2275\" y=\"-14.3\" font-family=\"Times,serif\" font-size=\"14.00\">&quot;James Cameron&quot;</text>\n</g>\n<!-- 20 -->\n<g id=\"node21\" class=\"node\">\n<title>20</title>\n<ellipse fill=\"none\" stroke=\"black\" cx=\"1281\" cy=\"-192\" rx=\"66.89\" ry=\"18\"/>\n<text text-anchor=\"middle\" x=\"1281\" y=\"-188.3\" font-family=\"Times,serif\" font-size=\"14.00\">s:JurassicWorld</text>\n</g>\n<!-- 20&#45;&gt;0 -->\n<g id=\"edge4\" class=\"edge\">\n<title>20&#45;&gt;0</title>\n<path fill=\"none\" stroke=\"black\" d=\"M1346.75,-187.96C1399.02,-184.12 1473.5,-175.47 1536,-156 1548.89,-151.98 1577.37,-137.36 1600.49,-124.96\"/>\n<polygon fill=\"black\" stroke=\"black\" points=\"1601.87,-128.19 1609,-120.36 1598.54,-122.04 1601.87,-128.19\"/>\n<text text-anchor=\"middle\" x=\"1589.5\" y=\"-144.8\" font-family=\"Times,serif\" font-size=\"14.00\">rdf:type</text>\n</g>\n<!-- 20&#45;&gt;8 -->\n<g id=\"edge37\" class=\"edge\">\n<title>20&#45;&gt;8</title>\n<path fill=\"none\" stroke=\"black\" d=\"M1238.1,-177.76C1219.19,-171.62 1196.81,-163.93 1177,-156 1156.28,-147.7 1133.84,-137.42 1114.88,-128.35\"/>\n<polygon fill=\"black\" stroke=\"black\" points=\"1116.63,-125.3 1106.11,-124.11 1113.59,-131.61 1116.63,-125.3\"/>\n<text text-anchor=\"middle\" x=\"1194\" y=\"-144.8\" font-family=\"Times,serif\" font-size=\"14.00\">p:year</text>\n</g>\n<!-- 20&#45;&gt;12 -->\n<g id=\"edge21\" class=\"edge\">\n<title>20&#45;&gt;12</title>\n<path fill=\"none\" stroke=\"black\" d=\"M1346.38,-187.82C1398.25,-183.88 1465.09,-175.14 1484,-156 1489.65,-150.29 1492.28,-142.28 1493.33,-134.35\"/>\n<polygon fill=\"black\" stroke=\"black\" points=\"1496.82,-134.73 1493.84,-124.56 1489.83,-134.37 1496.82,-134.73\"/>\n<text text-anchor=\"middle\" x=\"1512\" y=\"-144.8\" font-family=\"Times,serif\" font-size=\"14.00\">p:gross</text>\n</g>\n<!-- 20&#45;&gt;13 -->\n<g id=\"edge38\" class=\"edge\">\n<title>20&#45;&gt;13</title>\n<path fill=\"none\" stroke=\"black\" d=\"M1277.53,-173.77C1276.38,-163.63 1276.55,-150.89 1282,-141 1285.03,-135.51 1289.32,-130.73 1294.18,-126.61\"/>\n<polygon fill=\"black\" stroke=\"black\" points=\"1296.12,-129.53 1302.14,-120.81 1292,-123.87 1296.12,-129.53\"/>\n<text text-anchor=\"middle\" x=\"1317\" y=\"-144.8\" font-family=\"Times,serif\" font-size=\"14.00\">p:directedBy</text>\n</g>\n<!-- 28 -->\n<g id=\"node29\" class=\"node\">\n<title>28</title>\n<polygon fill=\"none\" stroke=\"black\" points=\"1263,-123 1153,-123 1153,-87 1263,-87 1263,-123\"/>\n<text text-anchor=\"middle\" x=\"1208\" y=\"-101.3\" font-family=\"Times,serif\" font-size=\"14.00\">&quot;Jurassic World&quot;</text>\n</g>\n<!-- 20&#45;&gt;28 -->\n<g id=\"edge26\" class=\"edge\">\n<title>20&#45;&gt;28</title>\n<path fill=\"none\" stroke=\"black\" d=\"M1246.36,-176.31C1237.34,-171.05 1228.38,-164.32 1222,-156 1217.19,-149.73 1214.03,-141.89 1211.96,-134.29\"/>\n<polygon fill=\"black\" stroke=\"black\" points=\"1215.42,-133.7 1209.89,-124.66 1208.57,-135.17 1215.42,-133.7\"/>\n<text text-anchor=\"middle\" x=\"1248\" y=\"-144.8\" font-family=\"Times,serif\" font-size=\"14.00\">rdfs:label</text>\n</g>\n<!-- 21 -->\n<g id=\"node22\" class=\"node\">\n<title>21</title>\n<polygon fill=\"none\" stroke=\"black\" points=\"2190.5,-36 2077.5,-36 2077.5,0 2190.5,0 2190.5,-36\"/>\n<text text-anchor=\"middle\" x=\"2134\" y=\"-14.3\" font-family=\"Times,serif\" font-size=\"14.00\">&quot;Anthony Russo&quot;</text>\n</g>\n<!-- 22 -->\n<g id=\"node23\" class=\"node\">\n<title>22</title>\n<polygon fill=\"none\" stroke=\"black\" points=\"2578.5,-123 2513.5,-123 2513.5,-87 2578.5,-87 2578.5,-123\"/>\n<text text-anchor=\"middle\" x=\"2546\" y=\"-101.3\" font-family=\"Times,serif\" font-size=\"14.00\">&quot;Avatar&quot;</text>\n</g>\n<!-- 23 -->\n<g id=\"node24\" class=\"node\">\n<title>23</title>\n<ellipse fill=\"none\" stroke=\"black\" cx=\"1989\" cy=\"-192\" rx=\"41.69\" ry=\"18\"/>\n<text text-anchor=\"middle\" x=\"1989\" y=\"-188.3\" font-family=\"Times,serif\" font-size=\"14.00\">s:Titanic</text>\n</g>\n<!-- 23&#45;&gt;0 -->\n<g id=\"edge5\" class=\"edge\">\n<title>23&#45;&gt;0</title>\n<path fill=\"none\" stroke=\"black\" d=\"M1947.38,-189.91C1858.56,-187.17 1656.79,-178.5 1636,-156 1630.62,-150.17 1628.95,-142.14 1629.03,-134.21\"/>\n<polygon fill=\"black\" stroke=\"black\" points=\"1632.49,-134.75 1630.02,-124.45 1625.53,-134.04 1632.49,-134.75\"/>\n<text text-anchor=\"middle\" x=\"1657.5\" y=\"-144.8\" font-family=\"Times,serif\" font-size=\"14.00\">rdf:type</text>\n</g>\n<!-- 23&#45;&gt;16 -->\n<g id=\"edge20\" class=\"edge\">\n<title>23&#45;&gt;16</title>\n<path fill=\"none\" stroke=\"black\" d=\"M1947.17,-190.58C1889.63,-189.02 1790.58,-182.44 1768,-156 1762.76,-149.87 1762.52,-141.77 1764.38,-133.88\"/>\n<polygon fill=\"black\" stroke=\"black\" points=\"1767.65,-135.12 1767.61,-124.53 1761.04,-132.84 1767.65,-135.12\"/>\n<text text-anchor=\"middle\" x=\"1788\" y=\"-144.8\" font-family=\"Times,serif\" font-size=\"14.00\">p:gross</text>\n</g>\n<!-- 23&#45;&gt;18 -->\n<g id=\"edge15\" class=\"edge\">\n<title>23&#45;&gt;18</title>\n<path fill=\"none\" stroke=\"black\" d=\"M1984.17,-173.93C1980.63,-163.6 1975.03,-150.6 1967,-141 1963.77,-137.14 1960.01,-133.53 1956.02,-130.21\"/>\n<polygon fill=\"black\" stroke=\"black\" points=\"1958.32,-127.56 1948.23,-124.32 1954.1,-133.14 1958.32,-127.56\"/>\n<text text-anchor=\"middle\" x=\"2002\" y=\"-144.8\" font-family=\"Times,serif\" font-size=\"14.00\">rdfs:label</text>\n</g>\n<!-- 25 -->\n<g id=\"node26\" class=\"node\">\n<title>25</title>\n<ellipse fill=\"none\" stroke=\"black\" cx=\"2258\" cy=\"-105\" rx=\"49.29\" ry=\"18\"/>\n<text text-anchor=\"middle\" x=\"2258\" y=\"-101.3\" font-family=\"Times,serif\" font-size=\"14.00\">s:Cameron</text>\n</g>\n<!-- 23&#45;&gt;25 -->\n<g id=\"edge17\" class=\"edge\">\n<title>23&#45;&gt;25</title>\n<path fill=\"none\" stroke=\"black\" d=\"M2021.98,-180.58C2069.37,-165.61 2156.93,-137.94 2211.05,-120.83\"/>\n<polygon fill=\"black\" stroke=\"black\" points=\"2211.82,-124.26 2220.3,-117.91 2209.71,-117.59 2211.82,-124.26\"/>\n<text text-anchor=\"middle\" x=\"2175\" y=\"-144.8\" font-family=\"Times,serif\" font-size=\"14.00\">p:directedBy</text>\n</g>\n<!-- 27 -->\n<g id=\"node28\" class=\"node\">\n<title>27</title>\n<polygon fill=\"none\" stroke=\"black\" points=\"2095.5,-123 1966.5,-123 1966.5,-87 2095.5,-87 2095.5,-123\"/>\n<text text-anchor=\"middle\" x=\"2031\" y=\"-101.3\" font-family=\"Times,serif\" font-size=\"14.00\">&quot;1997&quot;^^xsd:integer</text>\n</g>\n<!-- 23&#45;&gt;27 -->\n<g id=\"edge12\" class=\"edge\">\n<title>23&#45;&gt;27</title>\n<path fill=\"none\" stroke=\"black\" d=\"M2018.24,-178.67C2027.55,-173.18 2036.78,-165.71 2042,-156 2045.58,-149.35 2045.57,-141.6 2043.96,-134.22\"/>\n<polygon fill=\"black\" stroke=\"black\" points=\"2047.37,-133.4 2041,-124.93 2040.7,-135.52 2047.37,-133.4\"/>\n<text text-anchor=\"middle\" x=\"2062\" y=\"-144.8\" font-family=\"Times,serif\" font-size=\"14.00\">p:year</text>\n</g>\n<!-- 24 -->\n<g id=\"node25\" class=\"node\">\n<title>24</title>\n<ellipse fill=\"none\" stroke=\"black\" cx=\"943\" cy=\"-192\" rx=\"49.29\" ry=\"18\"/>\n<text text-anchor=\"middle\" x=\"943\" y=\"-188.3\" font-family=\"Times,serif\" font-size=\"14.00\">s:StarWars</text>\n</g>\n<!-- 24&#45;&gt;0 -->\n<g id=\"edge16\" class=\"edge\">\n<title>24&#45;&gt;0</title>\n<path fill=\"none\" stroke=\"black\" d=\"M991.3,-187.81C1110.2,-179.92 1408.14,-159.84 1418,-156 1428.03,-152.1 1427.07,-145.13 1437,-141 1498.59,-115.38 1521.01,-138.02 1586,-123 1588.76,-122.36 1591.59,-121.62 1594.42,-120.82\"/>\n<polygon fill=\"black\" stroke=\"black\" points=\"1595.28,-124.22 1603.79,-117.91 1593.2,-117.53 1595.28,-124.22\"/>\n<text text-anchor=\"middle\" x=\"1458.5\" y=\"-144.8\" font-family=\"Times,serif\" font-size=\"14.00\">rdf:type</text>\n</g>\n<!-- 24&#45;&gt;5 -->\n<g id=\"edge32\" class=\"edge\">\n<title>24&#45;&gt;5</title>\n<path fill=\"none\" stroke=\"black\" d=\"M902.3,-181.5C845.1,-168.14 739.54,-143.49 664.62,-125.99\"/>\n<polygon fill=\"black\" stroke=\"black\" points=\"665.8,-122.68 655.27,-123.81 664.21,-129.49 665.8,-122.68\"/>\n<text text-anchor=\"middle\" x=\"803\" y=\"-144.8\" font-family=\"Times,serif\" font-size=\"14.00\">p:gross</text>\n</g>\n<!-- 24&#45;&gt;8 -->\n<g id=\"edge13\" class=\"edge\">\n<title>24&#45;&gt;8</title>\n<path fill=\"none\" stroke=\"black\" d=\"M975.52,-178.27C988.89,-172.38 1004.21,-164.73 1017,-156 1027.45,-148.87 1037.83,-139.67 1046.59,-131.12\"/>\n<polygon fill=\"black\" stroke=\"black\" points=\"1048.82,-133.84 1053.38,-124.28 1043.85,-128.91 1048.82,-133.84\"/>\n<text text-anchor=\"middle\" x=\"1053\" y=\"-144.8\" font-family=\"Times,serif\" font-size=\"14.00\">p:year</text>\n</g>\n<!-- 24&#45;&gt;9 -->\n<g id=\"edge6\" class=\"edge\">\n<title>24&#45;&gt;9</title>\n<path fill=\"none\" stroke=\"black\" d=\"M915.52,-176.58C890.49,-163.45 853.11,-143.84 824.1,-128.62\"/>\n<polygon fill=\"black\" stroke=\"black\" points=\"826.05,-125.68 815.57,-124.14 822.8,-131.88 826.05,-125.68\"/>\n<text text-anchor=\"middle\" x=\"898\" y=\"-144.8\" font-family=\"Times,serif\" font-size=\"14.00\">rdfs:label</text>\n</g>\n<!-- 24&#45;&gt;15 -->\n<g id=\"edge14\" class=\"edge\">\n<title>24&#45;&gt;15</title>\n<path fill=\"none\" stroke=\"black\" d=\"M943,-173.8C943,-162.58 943,-147.67 943,-134.69\"/>\n<polygon fill=\"black\" stroke=\"black\" points=\"946.5,-134.98 943,-124.98 939.5,-134.98 946.5,-134.98\"/>\n<text text-anchor=\"middle\" x=\"978\" y=\"-144.8\" font-family=\"Times,serif\" font-size=\"14.00\">p:directedBy</text>\n</g>\n<!-- 25&#45;&gt;19 -->\n<g id=\"edge7\" class=\"edge\">\n<title>25&#45;&gt;19</title>\n<path fill=\"none\" stroke=\"black\" d=\"M2261.44,-86.8C2263.68,-75.58 2266.67,-60.67 2269.26,-47.69\"/>\n<polygon fill=\"black\" stroke=\"black\" points=\"2272.68,-48.44 2271.21,-37.95 2265.82,-47.07 2272.68,-48.44\"/>\n<text text-anchor=\"middle\" x=\"2294\" y=\"-57.8\" font-family=\"Times,serif\" font-size=\"14.00\">rdfs:label</text>\n</g>\n<!-- 25&#45;&gt;31 -->\n<g id=\"edge10\" class=\"edge\">\n<title>25&#45;&gt;31</title>\n<path fill=\"none\" stroke=\"black\" d=\"M2240.51,-87.8C2226.98,-76.28 2207.19,-61.57 2187,-54 2161.52,-44.45 1996.35,-30.35 1907.45,-23.32\"/>\n<polygon fill=\"black\" stroke=\"black\" points=\"1907.97,-19.85 1897.73,-22.55 1907.43,-26.82 1907.97,-19.85\"/>\n<text text-anchor=\"middle\" x=\"2236.5\" y=\"-57.8\" font-family=\"Times,serif\" font-size=\"14.00\">rdf:type</text>\n</g>\n<!-- 26&#45;&gt;21 -->\n<g id=\"edge25\" class=\"edge\">\n<title>26&#45;&gt;21</title>\n<path fill=\"none\" stroke=\"black\" d=\"M2142.16,-87.46C2139.29,-81.8 2136.52,-75.31 2135,-69 2133.36,-62.19 2132.66,-54.7 2132.46,-47.64\"/>\n<polygon fill=\"black\" stroke=\"black\" points=\"2135.96,-47.89 2132.52,-37.87 2128.96,-47.85 2135.96,-47.89\"/>\n<text text-anchor=\"middle\" x=\"2161\" y=\"-57.8\" font-family=\"Times,serif\" font-size=\"14.00\">rdfs:label</text>\n</g>\n<!-- 26&#45;&gt;31 -->\n<g id=\"edge22\" class=\"edge\">\n<title>26&#45;&gt;31</title>\n<path fill=\"none\" stroke=\"black\" d=\"M2122.42,-93.12C2116.35,-91 2109.99,-88.86 2104,-87 2033.95,-65.22 1951.73,-43.89 1900.49,-31.09\"/>\n<polygon fill=\"black\" stroke=\"black\" points=\"1901.43,-27.72 1890.88,-28.7 1899.74,-34.51 1901.43,-27.72\"/>\n<text text-anchor=\"middle\" x=\"2063.5\" y=\"-57.8\" font-family=\"Times,serif\" font-size=\"14.00\">rdf:type</text>\n</g>\n<!-- 30 -->\n<g id=\"node31\" class=\"node\">\n<title>30</title>\n<ellipse fill=\"none\" stroke=\"black\" cx=\"2410\" cy=\"-192\" rx=\"40.09\" ry=\"18\"/>\n<text text-anchor=\"middle\" x=\"2410\" y=\"-188.3\" font-family=\"Times,serif\" font-size=\"14.00\">s:Avatar</text>\n</g>\n<!-- 30&#45;&gt;0 -->\n<g id=\"edge30\" class=\"edge\">\n<title>30&#45;&gt;0</title>\n<path fill=\"none\" stroke=\"black\" d=\"M2370,-189.11C2223.57,-182.18 1724.86,-158.42 1717,-156 1697.66,-150.04 1678.22,-138.48 1663.12,-127.99\"/>\n<polygon fill=\"black\" stroke=\"black\" points=\"1665.26,-125.21 1655.1,-122.19 1661.16,-130.89 1665.26,-125.21\"/>\n<text text-anchor=\"middle\" x=\"1738.5\" y=\"-144.8\" font-family=\"Times,serif\" font-size=\"14.00\">rdf:type</text>\n</g>\n<!-- 30&#45;&gt;4 -->\n<g id=\"edge3\" class=\"edge\">\n<title>30&#45;&gt;4</title>\n<path fill=\"none\" stroke=\"black\" d=\"M2445.41,-183.14C2472.45,-176.8 2510.46,-167.11 2543,-156 2566.6,-147.94 2592.15,-137.36 2613.42,-128\"/>\n<polygon fill=\"black\" stroke=\"black\" points=\"2614.7,-131.26 2622.42,-124 2611.86,-124.86 2614.7,-131.26\"/>\n<text text-anchor=\"middle\" x=\"2600\" y=\"-144.8\" font-family=\"Times,serif\" font-size=\"14.00\">p:year</text>\n</g>\n<!-- 30&#45;&gt;6 -->\n<g id=\"edge31\" class=\"edge\">\n<title>30&#45;&gt;6</title>\n<path fill=\"none\" stroke=\"black\" d=\"M2410,-173.8C2410,-162.58 2410,-147.67 2410,-134.69\"/>\n<polygon fill=\"black\" stroke=\"black\" points=\"2413.5,-134.98 2410,-124.98 2406.5,-134.98 2413.5,-134.98\"/>\n<text text-anchor=\"middle\" x=\"2430\" y=\"-144.8\" font-family=\"Times,serif\" font-size=\"14.00\">p:gross</text>\n</g>\n<!-- 30&#45;&gt;22 -->\n<g id=\"edge36\" class=\"edge\">\n<title>30&#45;&gt;22</title>\n<path fill=\"none\" stroke=\"black\" d=\"M2432.76,-176.77C2453.5,-163.81 2484.51,-144.43 2508.83,-129.23\"/>\n<polygon fill=\"black\" stroke=\"black\" points=\"2510.55,-132.28 2517.18,-124.01 2506.84,-126.34 2510.55,-132.28\"/>\n<text text-anchor=\"middle\" x=\"2513\" y=\"-144.8\" font-family=\"Times,serif\" font-size=\"14.00\">rdfs:label</text>\n</g>\n<!-- 30&#45;&gt;25 -->\n<g id=\"edge9\" class=\"edge\">\n<title>30&#45;&gt;25</title>\n<path fill=\"none\" stroke=\"black\" d=\"M2381.81,-178.7C2367.82,-172.33 2350.79,-164.2 2336,-156 2320.49,-147.41 2303.87,-136.94 2289.98,-127.81\"/>\n<polygon fill=\"black\" stroke=\"black\" points=\"2291.92,-124.9 2281.66,-122.28 2288.05,-130.73 2291.92,-124.9\"/>\n<text text-anchor=\"middle\" x=\"2371\" y=\"-144.8\" font-family=\"Times,serif\" font-size=\"14.00\">p:directedBy</text>\n</g>\n</g>\n</svg>\n",
      "text/plain": [
       "<graphviz.graphs.Digraph at 0x10a6960a0>"
      ]
     },
     "metadata": {},
     "output_type": "display_data"
    }
   ],
   "source": [
    "%%rdf turtle -l movies\n",
    "PREFIX rdfs: <http://www.w3.org/2000/01/rdf-schema#>\n",
    "PREFIX xsd: <http://www.w3.org/2001/XMLSchema#>\n",
    "PREFIX s: <http://example.org/subjects#>\n",
    "PREFIX p: <http://example.org/properties#>\n",
    "PREFIX c: <http://example.org/classes#>\n",
    "s:Titanic a c:Movie ;\n",
    "    p:year \"1997\"^^xsd:integer ;\n",
    "    p:gross \"2194439542\"^^xsd:integer ;\n",
    "    p:directedBy s:Cameron ;\n",
    "    rdfs:label \"Titanic\" .\n",
    "s:StarWars a c:Movie ;\n",
    "    p:year \"2015\"^^xsd:integer ;\n",
    "    p:gross \"2068223624\"^^xsd:integer ;\n",
    "    p:directedBy s:Abrams ;\n",
    "    rdfs:label \"Star Wars: The Force Awakens\" .\n",
    "s:JurassicWorld a c:Movie ;\n",
    "    p:year \"2015\"^^xsd:integer ;\n",
    "    p:gross \"1671713208\"^^xsd:integer ;\n",
    "    p:directedBy s:Trevorrow ;\n",
    "    rdfs:label \"Jurassic World\" .\n",
    "s:Endgame a c:Movie ;\n",
    "    p:year \"2019\"^^xsd:integer ;\n",
    "    p:gross \"2797800564\"^^xsd:integer ;\n",
    "    p:directedBy s:Russo ;\n",
    "    rdfs:label \"Avengers: Endgame\" .\n",
    "s:InfinityWar a c:Movie ;\n",
    "    p:year \"2018\"^^xsd:integer ;\n",
    "    p:gross \"2048359754\"^^xsd:integer ;\n",
    "    p:directedBy s:Russo ;\n",
    "    rdfs:label \"Avengers: Infinity War\" .\n",
    "s:Avatar a c:Movie ;\n",
    "    p:year \"2009\"^^xsd:integer ;\n",
    "    p:gross \"2790439000\"^^xsd:integer ;\n",
    "    p:directedBy s:Cameron ;\n",
    "    rdfs:label \"Avatar\" .\n",
    "\n",
    "s:Russo a c:Director ;\n",
    "    rdfs:label \"Anthony Russo\" .\n",
    "s:Cameron a c:Director ;\n",
    "    rdfs:label \"James Cameron\" .\n",
    "s:Abrams a c:Director ;\n",
    "    rdfs:label \"J. J. Abrams\" .\n",
    "s:Trevorrow a c:Director ;\n",
    "    rdfs:label \"Colin Trevorrow\" ."
   ]
  },
  {
   "cell_type": "markdown",
   "metadata": {
    "deletable": false,
    "editable": false,
    "nbgrader": {
     "cell_type": "markdown",
     "checksum": "e474ac8bdb51af59e1aea88e38d42887",
     "grade": false,
     "grade_id": "cell-f330176735a1e3ff",
     "locked": true,
     "schema_version": 3,
     "solution": false,
     "task": false
    }
   },
   "source": [
    "## TASK 5: The Movies [5 points]\n",
    "Use everything you have learned to obtain the desired information with SPARQL queries.\n",
    "\n",
    "**This task refers to [this graph](#Graph:-Movies) about movies. Assume a closed world (information that isn't explicitly stated is false).**\n",
    "\n",
    "### 5a) [1.5 points]\n",
    "The name of all directors together with the sum of gross incomes of all their movies. Sort the results descending by the sum of gross incomes. Use variables **?name** for the director's name and **?grossSum** for the sum of all gross incomes."
   ]
  },
  {
   "cell_type": "code",
   "execution_count": 109,
   "metadata": {
    "deletable": false,
    "nbgrader": {
     "cell_type": "code",
     "checksum": "5869b49e8aeaf1436853bcd8d51e0aab",
     "grade": false,
     "grade_id": "cell-000a10ecee874479",
     "locked": false,
     "schema_version": 3,
     "solution": true,
     "task": false
    }
   },
   "outputs": [
    {
     "data": {
      "text/html": [
       "<table><tr><th>?name</th><th>?grossSum</th></tr><tr><td>James Cameron</td><td>4984878542</td></tr><tr><td>Anthony Russo</td><td>4846160318</td></tr><tr><td>J. J. Abrams</td><td>2068223624</td></tr><tr><td>Colin Trevorrow</td><td>1671713208</td></tr></table>"
      ],
      "text/plain": [
       "<IPython.core.display.HTML object>"
      ]
     },
     "metadata": {},
     "output_type": "display_data"
    }
   ],
   "source": [
    "%%rdf sparql -l movies -s 5a\n",
    "### YOUR SOLUTION HERE\n",
    "SELECT ?name (sum(?gross) AS ?grossSum)\n",
    "WHERE{\n",
    "    ?movie a c:Movie .\n",
    "    ?movie p:gross ?gross .\n",
    "    ?movie p:directedBy ?director .\n",
    "    ?director rdfs:label ?name .\n",
    "}\n",
    "GROUP BY ?name\n",
    "ORDER BY DESC(?grossSum)"
   ]
  },
  {
   "cell_type": "code",
   "execution_count": null,
   "metadata": {
    "deletable": false,
    "editable": false,
    "nbgrader": {
     "cell_type": "code",
     "checksum": "7a709ef8931f8324fd92d0758a7bf7c5",
     "grade": true,
     "grade_id": "cell-b94b70c51629cbda",
     "locked": true,
     "points": 1.5,
     "schema_version": 3,
     "solution": false,
     "task": false
    }
   },
   "outputs": [],
   "source": [
    "# This test will check whether your query returns the right results. [1.5 points]"
   ]
  },
  {
   "cell_type": "markdown",
   "metadata": {
    "deletable": false,
    "editable": false,
    "nbgrader": {
     "cell_type": "markdown",
     "checksum": "122f58d308413353103b477ca1350fbb",
     "grade": false,
     "grade_id": "cell-00329ede2eea9a03",
     "locked": true,
     "schema_version": 3,
     "solution": false,
     "task": false
    }
   },
   "source": [
    "### 5b) [1.5 points]\n",
    "The name of all movies and their release year that were released after 2010. Sort the result ascending by the release date. Use variables **?name** for the movie's name and **?year** for the release year. **Use the FILTER function.**"
   ]
  },
  {
   "cell_type": "code",
   "execution_count": 111,
   "metadata": {
    "deletable": false,
    "nbgrader": {
     "cell_type": "code",
     "checksum": "f38c616e7d2501baf10734cba91ebfae",
     "grade": false,
     "grade_id": "cell-1ffe69f7cbb685ee",
     "locked": false,
     "schema_version": 3,
     "solution": true,
     "task": false
    }
   },
   "outputs": [
    {
     "data": {
      "text/html": [
       "<table><tr><th>?name</th><th>?year</th></tr><tr><td>Star Wars: The Force Awakens</td><td>2015</td></tr><tr><td>Jurassic World</td><td>2015</td></tr><tr><td>Avengers: Infinity War</td><td>2018</td></tr><tr><td>Avengers: Endgame</td><td>2019</td></tr></table>"
      ],
      "text/plain": [
       "<IPython.core.display.HTML object>"
      ]
     },
     "metadata": {},
     "output_type": "display_data"
    }
   ],
   "source": [
    "%%rdf sparql -l movies -s 5b\n",
    "### YOUR SOLUTION HERE\n",
    "SELECT ?name ?year\n",
    "WHERE {\n",
    "    ?movie a c:Movie .\n",
    "    ?movie p:year ?year .\n",
    "    ?movie rdfs:label ?name .\n",
    "    FILTER(?year > 2010)\n",
    "}ORDER BY ASC(?year)"
   ]
  },
  {
   "cell_type": "code",
   "execution_count": null,
   "metadata": {
    "deletable": false,
    "editable": false,
    "nbgrader": {
     "cell_type": "code",
     "checksum": "49a14a8cc3736b36a1c9986ae73ee1cf",
     "grade": true,
     "grade_id": "cell-b66efd57e624aee9",
     "locked": true,
     "points": 1.5,
     "schema_version": 3,
     "solution": false,
     "task": false
    }
   },
   "outputs": [],
   "source": [
    "# This test will check whether your query returns the right results. [1.5 points]"
   ]
  },
  {
   "cell_type": "markdown",
   "metadata": {
    "deletable": false,
    "editable": false,
    "nbgrader": {
     "cell_type": "markdown",
     "checksum": "45818b221fceef3c4e48562c68f0f372",
     "grade": false,
     "grade_id": "cell-7a070bc4661969e6",
     "locked": true,
     "schema_version": 3,
     "solution": false,
     "task": false
    }
   },
   "source": [
    "### 5c) [2 points]\n",
    "The names of all movies before 2005 and the names of all movies after 2016 together with a string that either says \"before 2005\" or \"after 2016\" based on the release date. Sort the result ascending by the release date. Use variables **?name** for the movie's name and **?when** for the string.  \n",
    "Hint: Use manual bindings."
   ]
  },
  {
   "cell_type": "code",
   "execution_count": 125,
   "metadata": {
    "deletable": false,
    "nbgrader": {
     "cell_type": "code",
     "checksum": "a78fb72603b05e7dd9db744442132827",
     "grade": false,
     "grade_id": "cell-93942859f2911504",
     "locked": false,
     "schema_version": 3,
     "solution": true,
     "task": false
    }
   },
   "outputs": [
    {
     "data": {
      "text/html": [
       "<table><tr><th>?name</th><th>?when</th></tr><tr><td>Titanic</td><td>before 2006</td></tr><tr><td>Avengers: Endgame</td><td>after 2016</td></tr><tr><td>Avengers: Infinity War</td><td>after 2016</td></tr></table>"
      ],
      "text/plain": [
       "<IPython.core.display.HTML object>"
      ]
     },
     "metadata": {},
     "output_type": "display_data"
    }
   ],
   "source": [
    "%%rdf sparql -l movies -s 5c\n",
    "### YOUR SOLUTION HERE\n",
    "SELECT ?name ?when\n",
    "WHERE{\n",
    "    ?movie a c:Movie .\n",
    "    \n",
    "    \n",
    "    \n",
    "    {?movie rdfs:label ?name .\n",
    "         ?movie p:year ?year .\n",
    "    BIND(\"before 2006\"  AS ?when) .\n",
    "    FILTER(?year < 2005) . \n",
    "    }\n",
    "    UNION\n",
    "    {\n",
    "        ?movie rdfs:label ?name .\n",
    "         ?movie p:year ?year .\n",
    "    BIND(\"after 2016\"  AS ?when) .\n",
    "    FILTER(?year > 2016) . \n",
    "    }\n",
    "}"
   ]
  },
  {
   "cell_type": "code",
   "execution_count": null,
   "metadata": {
    "deletable": false,
    "editable": false,
    "nbgrader": {
     "cell_type": "code",
     "checksum": "d57ad2992c8157b1ab3c1bbcd0b8e554",
     "grade": true,
     "grade_id": "cell-80450b3f3c51f14a",
     "locked": true,
     "points": 2,
     "schema_version": 3,
     "solution": false,
     "task": false
    }
   },
   "outputs": [],
   "source": [
    "# This test will check whether your query returns the right results. [2 points]"
   ]
  }
 ],
 "metadata": {
  "kernelspec": {
   "display_name": "env",
   "language": "python",
   "name": "python3"
  },
  "language_info": {
   "name": "python",
   "version": "3.9.13"
  }
 },
 "nbformat": 4,
 "nbformat_minor": 4
}
