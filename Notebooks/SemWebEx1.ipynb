{
 "cells": [
  {
   "cell_type": "code",
   "execution_count": null,
   "metadata": {
    "deletable": false,
    "editable": false,
    "nbgrader": {
     "cell_type": "code",
     "checksum": "73c565738f463863ec6757fecc9af9bf",
     "grade": false,
     "grade_id": "cell-da806457bddca4c8",
     "locked": true,
     "schema_version": 3,
     "solution": false,
     "task": false
    }
   },
   "outputs": [],
   "source": [
    "%reload_ext jupyter-rdfify"
   ]
  },
  {
   "cell_type": "markdown",
   "metadata": {
    "deletable": false,
    "editable": false,
    "nbgrader": {
     "cell_type": "markdown",
     "checksum": "747a7aa1da3e923b1e595bd9a2561c87",
     "grade": false,
     "grade_id": "cell-147e9d5d78c18ec7",
     "locked": true,
     "schema_version": 3,
     "solution": false,
     "task": false
    }
   },
   "source": [
    "**A small reminder that these assignments will be graded automatically. Please read the tasks carefully and be as pedantic as possible. Run your answers to check if your code parses correctly. Typing errors will lead to point loss. Do not change code that is already given as this may break the unit tests and lead to 0 points. Do not use comments in your code.**"
   ]
  },
  {
   "cell_type": "markdown",
   "metadata": {
    "deletable": false,
    "editable": false,
    "nbgrader": {
     "cell_type": "markdown",
     "checksum": "36191cdbb140b5ac7301deda4207ab36",
     "grade": false,
     "grade_id": "cell-baccffb6bb4a152d",
     "locked": true,
     "schema_version": 3,
     "solution": false,
     "task": false
    }
   },
   "source": [
    "# Turtle\n",
    "*Turtle* stands for **Terse RDF Triple Language** and is a [W3C recommended](https://www.w3.org/TR/turtle/) syntax and file format for serializing RDF Graphs. To serialize an RDF triple of the form *(Subject, Predicate, Object)* in Turtle, you just write them in that sequence, followed by a period. In this example you would write:\n",
    "\n",
    "**Subject Predicate Object .**\n",
    "\n",
    "Please note the period after a triple.\n",
    "\n",
    "In turtle, URIs are encased in angled brackets (&lt; &gt;). The RDF triple *(http://example.org/#Germany, http://example.org/#capital, http://example.org/#Berlin)* is serialized like this:\n",
    "\n",
    "**&lt;http://example.org/#Germany&gt; &lt;http://example.org/#capital&gt; &lt;http://example.org/#Berlin&gt; .**\n",
    "\n",
    "**Because of its very simple syntax, Turtle is intuitive and human-readable.**\n",
    "\n",
    "### Syntactic sugar:\n",
    "Because subjects or subject-predicate-combinations often repeat in the same graph, Turtle introduces some syntactic sugar.\n",
    "To repeat a subject, one can use a semicolon instead of a period after a triple. To express that germany has the capital Berlin and the state Bavaria, one would write the following:\n",
    "\n",
    "**&lt;http://example.org/#Germany&gt; &lt;http://example.org/#capital&gt; &lt;http://example.org/#Berlin&gt; ;  \n",
    "&nbsp;&nbsp;&nbsp;&nbsp;&lt;http://example.org/#state&gt; &lt;http://example.org/#Bavaria&gt; .**\n",
    "\n",
    "To repeat a subject-predicate-combination, one can use a comma instead of a period after the triple. To express that germany has the state Berlin and the state Bavaria, one would write the following:\n",
    "\n",
    "**&lt;http://example.org/#Germany&gt; &lt;http://example.org/#state&gt; &lt;http://example.org/#Berlin&gt; ,  \n",
    "&nbsp;&nbsp;&nbsp;&nbsp;&lt;http://example.org/#Bavaria&gt; .**\n",
    "\n",
    "Both of these can be chained to repeat the same subject/subject-predicate-combination over and over.\n",
    "\n",
    "**You are allowed and even encouraged to use syntactic sugar throughout all our assignments.**\n",
    "    "
   ]
  },
  {
   "cell_type": "markdown",
   "metadata": {
    "deletable": false,
    "editable": false,
    "nbgrader": {
     "cell_type": "markdown",
     "checksum": "4bd660d81b6f246a1e419d24ca0644ee",
     "grade": false,
     "grade_id": "cell-5e8f9a1e110133aa",
     "locked": true,
     "schema_version": 3,
     "solution": false,
     "task": false
    }
   },
   "source": [
    "## Task 1: My first Graph [6 points]\n",
    "### 1a) Sightseeing [3 points]\n",
    "The task is to create an RDF graph about places of interest using Turtle. The graph must contain the following Sights and their locations: The Louvre, the Colosseum and the Eiffel Tower.\n",
    "\n",
    "The graph should contain the following information: Both the **Louvre** and the **Eiffel Tower** are **located in** **France**. The **Colosseum** is **located in** **Italy**. **All** three **are sights**.\n",
    "\n",
    "Use the following URIs:  \n",
    "The Louvre: http://example.org/sights#Louvre  \n",
    "The Colosseum: http://example.org/sights#Colosseum  \n",
    "The Eiffel Tower: http://example.org/sights#EiffelTower  \n",
    "Located in: http://example.org/properties#locatedIn  \n",
    "France: http://example.org/countries#France  \n",
    "Italy: http://example.org/countries#Italy  \n",
    "Sight: http://example.org/classes#Sight  \n",
    "Is of type: http://www.w3.org/1999/02/22-rdf-syntax-ns#type\n",
    "\n",
    "**Do not use or define CURIEs (Prefixes) in this part of the task. The graph must not contain additional triples.**"
   ]
  },
  {
   "cell_type": "code",
   "execution_count": null,
   "metadata": {
    "deletable": false,
    "nbgrader": {
     "cell_type": "code",
     "checksum": "66ae973e1d9e00f6cfa1d75897aa74ac",
     "grade": false,
     "grade_id": "cell-a625a6dee09ca0d5",
     "locked": false,
     "schema_version": 3,
     "solution": true,
     "task": false
    }
   },
   "outputs": [],
   "source": [
    "%%rdf turtle -l sights\n",
    "### YOUR SOLUTION HERE"
   ]
  },
  {
   "cell_type": "markdown",
   "metadata": {
    "deletable": false,
    "editable": false,
    "nbgrader": {
     "cell_type": "markdown",
     "checksum": "8423b3ecf4767b8bddfee3a5e7341197",
     "grade": false,
     "grade_id": "cell-f3bf946883727b5f",
     "locked": true,
     "schema_version": 3,
     "solution": false,
     "task": false
    }
   },
   "source": [
    "The following cell is a test cell to check your answer. Please remember that this is only a fraction of the tests to give you an orientation and that the real evaluation is a lot more thorough."
   ]
  },
  {
   "cell_type": "code",
   "execution_count": null,
   "metadata": {
    "deletable": false,
    "editable": false,
    "nbgrader": {
     "cell_type": "code",
     "checksum": "5bbce85ea329cbb932a7b9181151ad2f",
     "grade": true,
     "grade_id": "cell-c927d061ef093322",
     "locked": true,
     "points": 2,
     "schema_version": 3,
     "solution": false,
     "task": false
    }
   },
   "outputs": [],
   "source": [
    "# This test will check whether your graph is complete and correct. [2 points]\n",
    "from rdflib import URIRef\n",
    "m = \"The graph is missing the following information: {}\"\n",
    "store = %rdf -r\n",
    "g = store['rdfgraphs'][\"sights\"]\n",
    "ex = \"http://example.org/{}\"\n",
    "tower = URIRef(ex.format(\"sights#EiffelTower\"))\n",
    "louvre = URIRef(ex.format(\"sights#Louvre\"))\n",
    "locIn = URIRef(ex.format(\"properties#locatedIn\"))\n",
    "ofType = URIRef(\"http://www.w3.org/1999/02/22-rdf-syntax-ns#type\")\n",
    "sight = URIRef(ex.format(\"classes#Sight\"))\n",
    "france = URIRef(ex.format(\"countries#France\"))\n",
    "assert((tower, locIn, france) in g), m.format(\"The Eiffel Tower is located in France.\")\n",
    "assert((louvre, ofType, sight) in g), m.format(\"The Louvre is a sight.\")"
   ]
  },
  {
   "cell_type": "code",
   "execution_count": null,
   "metadata": {
    "deletable": false,
    "editable": false,
    "nbgrader": {
     "cell_type": "code",
     "checksum": "cf9940d61fd53964206633f15b2259be",
     "grade": true,
     "grade_id": "cell-d2bfeecaca65d849",
     "locked": true,
     "points": 1,
     "schema_version": 3,
     "solution": false,
     "task": false
    }
   },
   "outputs": [],
   "source": [
    "# This test will check whether your graph is minimal (does not contain additional triples). [1 point]\n",
    "# This point will not be granted when you use CURIEs or define prefixes (which is forbidden in this part of the task)\n",
    "# Some tests - like this one - are instructor only and can't be seen/run by students."
   ]
  },
  {
   "cell_type": "markdown",
   "metadata": {
    "deletable": false,
    "editable": false,
    "nbgrader": {
     "cell_type": "markdown",
     "checksum": "cec20352d55bec9b564f2fc3bb54e2fe",
     "grade": false,
     "grade_id": "cell-af5942891348c4fb",
     "locked": true,
     "schema_version": 3,
     "solution": false,
     "task": false
    }
   },
   "source": [
    "### CURIEs\n",
    "Because we only used full URIs in 1a), the graph looks cluttered and both the graph and the turtle source are hard to read. But many URIs have the same prefix (http://example.org/sights for example) and turtle allows us to define abbreviations for these prefixes. These abbreviated URIs are called *Compact URIs* or *CURIES*. In Turtle, such a prefix is defined using the **@prefix** keyword, followed by the abbreviation, then the URI prefix in angled brackets (&lt; &gt;) and finally a period. For example, if we want to abbreviate *http://example.org/#* with *ex:*, then we need to prepend the following line to the turtle document:\n",
    "\n",
    "**@prefix ex: &lt;http://example.org/#&gt; .**\n",
    "\n",
    "Now we can abbreviate the RDF triple:\n",
    "\n",
    "**&lt;http://example.org/#Germany&gt; &lt;http://example.org/#capital&gt; &lt;http://example.org/#Berlin&gt; .**\n",
    "\n",
    "to:\n",
    "\n",
    "**ex:Germany ex:capital ex:Berlin .**\n",
    "\n",
    "Note, that we omit the angled brackets when using CURIEs.\n",
    "\n",
    "### 1b) Using CURIEs [3 points]\n",
    "Create the same RDF graph as in 1a) but use CURIEs and introduce the following abbreviations:  \n",
    "Abbreviate http://example.org/sights# to **si:**  \n",
    "Abbreviate http://example.org/countries# to **co:**  \n",
    "Abbreviate http://example.org/properties# to **pr:**  \n",
    "Abbreviate http://example.org/classes# to **cl:**  \n",
    "\n",
    "http://www.w3.org/1999/02/22-rdf-syntax-ns# can be abbreviated to **rdf:** (optional)\n",
    "\n",
    "Because the predicate rdf:type (http://www.w3.org/1999/02/22-rdf-syntax-ns#type) is used very frequently, you can just write **a** instead of the URI. Try it!  \n",
    "\n",
    "**Use the defined prefixes whenever they are applicable.**  \n",
    "**You are allowed and even encouraged to define and use as many prefixes as you want in all following tasks and assignments.**"
   ]
  },
  {
   "cell_type": "code",
   "execution_count": null,
   "metadata": {
    "deletable": false,
    "nbgrader": {
     "cell_type": "code",
     "checksum": "5c0b1da427d39dbb7088a78c75736bc0",
     "grade": false,
     "grade_id": "cell-622f9e5d8ef2cccd",
     "locked": false,
     "schema_version": 3,
     "solution": true,
     "task": false
    }
   },
   "outputs": [],
   "source": [
    "%%rdf turtle -l sights2\n",
    "### YOUR SOLUTION HERE"
   ]
  },
  {
   "cell_type": "code",
   "execution_count": null,
   "metadata": {
    "deletable": false,
    "editable": false,
    "nbgrader": {
     "cell_type": "code",
     "checksum": "68e8df2519e6e8834e8676802861453e",
     "grade": true,
     "grade_id": "cell-083e36ac4704a48b",
     "locked": true,
     "points": 1,
     "schema_version": 3,
     "solution": false,
     "task": false
    }
   },
   "outputs": [],
   "source": [
    "# This test will check whether you defined all mandatory prefixes [1 point]\n",
    "from rdflib import URIRef\n",
    "store = %rdf -r\n",
    "g = store['rdfgraphs'][\"sights2\"]\n",
    "ns = list(g.namespaces())\n",
    "assert(('si', URIRef(\"http://example.org/sights#\")) in ns)"
   ]
  },
  {
   "cell_type": "code",
   "execution_count": null,
   "metadata": {
    "deletable": false,
    "editable": false,
    "nbgrader": {
     "cell_type": "code",
     "checksum": "fff9c6d94f145387b1fe46fa1ceaa3e1",
     "grade": true,
     "grade_id": "cell-cc0cb388f72d175c",
     "locked": true,
     "points": 1,
     "schema_version": 3,
     "solution": false,
     "task": false
    }
   },
   "outputs": [],
   "source": [
    "# This test will check whether you actually used CURIEs whenever applicable. [1 point]"
   ]
  },
  {
   "cell_type": "code",
   "execution_count": null,
   "metadata": {
    "deletable": false,
    "editable": false,
    "nbgrader": {
     "cell_type": "code",
     "checksum": "d5cb6437d567f26d2eb3e5f4c2417704",
     "grade": true,
     "grade_id": "cell-00a42b342af34ba8",
     "locked": true,
     "points": 1,
     "schema_version": 3,
     "solution": false,
     "task": false
    }
   },
   "outputs": [],
   "source": [
    "# This test will check whether the graph is complete and correct. [1 point]"
   ]
  },
  {
   "cell_type": "markdown",
   "metadata": {
    "deletable": false,
    "editable": false,
    "nbgrader": {
     "cell_type": "markdown",
     "checksum": "1e367d7fc0c413eab5975e59bab7cc91",
     "grade": false,
     "grade_id": "cell-0020acafde24d970",
     "locked": true,
     "schema_version": 3,
     "solution": false,
     "task": false
    }
   },
   "source": [
    "## Task 2: Literals [3 points]\n",
    "For basic values such as numbers and strings, it is impractical to use URIs. Instead of URIs we use literals. Literals have a datatype, which is string by default. Literals can only be used in the object position of triples and are encased in double quotes (\" \"). An example for a triple with a string literal is:\n",
    "\n",
    "**ex:Germany ex:name \"Deutschland\" .**\n",
    "\n",
    "To specify a *datatype*, it is appended to the literal with *two carets* (^^). A datatype can be an arbitrary URI, but there are some predefined datatypes which should suffice in most cases. These predefined datatypes use the prefix *http://www.w3.org/2001/XMLSchema#*, which is usually abbreviated with *xsd:*. An example for an integer literal:\n",
    "\n",
    "**ex:Germany ex:population \"83042235\"^^xsd:int .**\n",
    "\n",
    "There are also string literals with a specified language. This is useful for names that differ in different languages. To specify a language, we append a two character language tag with an at symbol (@) behind the literal. The literal is then automatically interpreted as a language tagged string (this datatype is never specified explicitly). To express that ex:germany has a different name in english and in german, one would add two triples:\n",
    "\n",
    "**ex:Germany ex:name \"Deutschland\"@de .**  \n",
    "**ex:Germany ex:name \"Germany\"@en .**  \n",
    "\n",
    "Please note that the URI ex:Germany is **not** the same as the literal \"Germany\" and in some cases you can't deduce the name of an entity from the URI (for example www.wikidata.org uses numerical IDs, e.g https://www.wikidata.org/entity/Q1017).\n",
    "\n",
    "### 2a) Austria [3 points]\n",
    "The task is to create an RDF graph about Austria with Turtle. The graph must contain the following information:\n",
    "\n",
    "Austria is called **Österreich** in german (*de*), **Austria** in english (*en*) and **Oostenrijk** in dutch (*nl*). Austria has a population of **8901064** and an area of **83878.99**km². The capital of Austria is Vienna, which is called **Vienna** in english and **Wenen** in dutch.\n",
    "\n",
    "Use the following URIs:  \n",
    "Austria: http://example.org/countries#Austria  \n",
    "Vienna: http://example.org/cities#Vienna  \n",
    "Capital: http://example.org/properties#capital  \n",
    "Area: http://example.org/properties#area  \n",
    "Population: http://example.org/properties#population  \n",
    "Is called: rdfs:label\n",
    "\n",
    "Language tags:\n",
    "\n",
    "| Language | Tag |\n",
    "| --- | --- |\n",
    "| English | en |\n",
    "| German | de |\n",
    "| Dutch | nl |\n",
    "\n",
    "Only use the datatypes **xsd:string**, **rdf:langString**, **xsd:int** and **xsd:float**.\n",
    "\n",
    "Tip: CURIEs do not change the graph but they make the result more readable and less error prone. Use them whenever possible!"
   ]
  },
  {
   "cell_type": "code",
   "execution_count": null,
   "metadata": {
    "deletable": false,
    "nbgrader": {
     "cell_type": "code",
     "checksum": "8c62a8376c23bfb1ea925a5792b8a3bc",
     "grade": false,
     "grade_id": "cell-3e75579d76831c23",
     "locked": false,
     "schema_version": 3,
     "solution": true,
     "task": false
    }
   },
   "outputs": [],
   "source": [
    "%%rdf turtle -l literals\n",
    "@prefix rdf: <http://www.w3.org/1999/02/22-rdf-syntax-ns#> .\n",
    "@prefix rdfs: <http://www.w3.org/2000/01/rdf-schema#> .\n",
    "@prefix xsd: <http://www.w3.org/2001/XMLSchema#> .\n",
    "### YOUR SOLUTION HERE"
   ]
  },
  {
   "cell_type": "code",
   "execution_count": null,
   "metadata": {
    "deletable": false,
    "editable": false,
    "nbgrader": {
     "cell_type": "code",
     "checksum": "6397a553fe3cc0f07fd3d6a25e7c9039",
     "grade": true,
     "grade_id": "cell-ec4e45a2d27a7d3f",
     "locked": true,
     "points": 1,
     "schema_version": 3,
     "solution": false,
     "task": false
    }
   },
   "outputs": [],
   "source": [
    "# This test will check whether your graph contains the facts (even if their datatype,value or quantity is wrong). [1 point]\n",
    "from rdflib import URIRef\n",
    "store = %rdf -r\n",
    "g = store['rdfgraphs'][\"literals\"]\n",
    "ex = \"http://example.org/{}\"\n",
    "au = URIRef(ex.format(\"countries#Austria\"))\n",
    "pop = URIRef(ex.format(\"properties#population\"))\n",
    "vi = URIRef(ex.format(\"cities#Vienna\"))\n",
    "lab = URIRef(\"http://www.w3.org/2000/01/rdf-schema#label\")\n",
    "err = \"The graph does not contain information about {}.\"\n",
    "assert (au, pop, None) in g, err.format(\"Austria's population\")\n",
    "assert (vi, lab, None) in g, err.format(\"Vienna's name\")"
   ]
  },
  {
   "cell_type": "code",
   "execution_count": null,
   "metadata": {
    "deletable": false,
    "editable": false,
    "nbgrader": {
     "cell_type": "code",
     "checksum": "b79443c2944aaf80b0b6477819509040",
     "grade": true,
     "grade_id": "cell-ee0f15f19acfbd0d",
     "locked": true,
     "points": 1,
     "schema_version": 3,
     "solution": false,
     "task": false
    }
   },
   "outputs": [],
   "source": [
    "# This test will check whether your graph contains all numerical literals with correct datatypes. [1 point]"
   ]
  },
  {
   "cell_type": "code",
   "execution_count": null,
   "metadata": {
    "deletable": false,
    "editable": false,
    "nbgrader": {
     "cell_type": "code",
     "checksum": "b21e637e389b94cd11d86080a8021185",
     "grade": true,
     "grade_id": "cell-d8cbac1ebdcccb0f",
     "locked": true,
     "points": 1,
     "schema_version": 3,
     "solution": false,
     "task": false
    }
   },
   "outputs": [],
   "source": [
    "# This test will check whether your graph contains all language tagged literals. [1 point]"
   ]
  },
  {
   "cell_type": "markdown",
   "metadata": {
    "deletable": false,
    "editable": false,
    "nbgrader": {
     "cell_type": "markdown",
     "checksum": "0985abaabe7ae9b9c90ca5b7ccfd0c18",
     "grade": false,
     "grade_id": "cell-d95a51a59335c2de",
     "locked": true,
     "schema_version": 3,
     "solution": false,
     "task": false
    }
   },
   "source": [
    "## Task 3: Blank Nodes [3 points]\n",
    "Sometimes resources do not or should not have an identifier but still stand in relation to other resources. These anonymous resources are represented by blank nodes in RDF graphs. In Turtle, blank nodes are are represented with an underscore followed by a colon and an identifier (\\_:identifier). The purpose of the identifier is to be able to locally reference the anonymous resource multiple times. Even if two blank nodes in different graphs use the same identifier, they usually reference a different resource. For example, when you want to express that you know someone who is a professor but doesn't have an identifier and there is someone else you don't know who is also a professor, you do it like this:\n",
    "\n",
    "**ex:me ex:knows \\_:1 .  \n",
    "\\_:1 rdf:type ex:professor .  \n",
    "\\_:2 rdf:type ex:professor .**\n",
    "\n",
    "You know \\_:1 but don't know \\_:2 but they are both professors.\n",
    "\n",
    "Additionally, blank nodes are often used to represent n-ary relations. For example, a grading that needs to have a grade and a grader can be expressed like this:\n",
    "\n",
    "**ex:student ex:grading \\_:1 .  \n",
    "\\_:1 ex:grade \"1.0\" .  \n",
    "\\_:1 ex:grader ex:professor .**\n",
    "\n",
    "**Syntactic sugar:**  \n",
    "To make this more readable, you can instead use square brackets (\\[ \\]) and every predicate-object-combination in between the square brackets will reference the same blank node. The grade example would then look like this:\n",
    "\n",
    "**ex:student ex:grading \\[  \n",
    "&nbsp;&nbsp;&nbsp;&nbsp;ex:grade \"1.0\" ;  \n",
    "&nbsp;&nbsp;&nbsp;&nbsp;ex:grader ex:professor  \n",
    "\\] .**\n",
    "\n",
    "Note that we must use semicolons and commas in between the brackets (see syntactic sugar at top of assignment) and there is still a period after the brackets.\n",
    "\n",
    "Also Note that the blank node identifier is exchangable as long as we use the same one when referencing the same node. That is why the bracket notation does not need an identifier.\n",
    "\n",
    "### 3a) I know someone who lives somewhere [3 points]\n",
    "Create an RDF graph using turtle that expresses the following:  \n",
    "You, a person without an identifier, knows another person without an identifier, who lives at the following address:\n",
    "\n",
    "Street: Templergraben  \n",
    "House number: 55  \n",
    "Postal code: 52062  \n",
    "City: Aachen\n",
    "\n",
    "Use the following URIs:  \n",
    "Type: rdf:type  \n",
    "Knows: foaf:knows  \n",
    "Person: http://example.org/classes#Person  \n",
    "Address: http://example.org/properties#address  \n",
    "Street: http://example.org/properties#street  \n",
    "House number: http://example.org/properties#houseNumber  \n",
    "Postal code: http://example.org/properties#postalCode  \n",
    "City: http://example.org/properties#city  \n",
    "\n",
    "Hint: use an n-ary relation for the address.\n",
    "\n",
    "**Use only string literals without language tags.**"
   ]
  },
  {
   "cell_type": "code",
   "execution_count": null,
   "metadata": {
    "deletable": false,
    "nbgrader": {
     "cell_type": "code",
     "checksum": "79a506cd3eb3e91d9e2ea74a90ba5570",
     "grade": false,
     "grade_id": "cell-865f7b3dbf506688",
     "locked": false,
     "schema_version": 3,
     "solution": true,
     "task": false
    }
   },
   "outputs": [],
   "source": [
    "%%rdf turtle -l bnodes\n",
    "@prefix rdf: <http://www.w3.org/1999/02/22-rdf-syntax-ns#> .\n",
    "@prefix foaf: <http://xmlns.com/foaf/0.1/> .\n",
    "@prefix xsd: <http://www.w3.org/2001/XMLSchema#> .\n",
    "### YOUR SOLUTION HERE"
   ]
  },
  {
   "cell_type": "code",
   "execution_count": null,
   "metadata": {
    "deletable": false,
    "editable": false,
    "nbgrader": {
     "cell_type": "code",
     "checksum": "215d24621daf48fb93b6f86a8239841f",
     "grade": true,
     "grade_id": "cell-c99512ff1812ee4d",
     "locked": true,
     "points": 1,
     "schema_version": 3,
     "solution": false,
     "task": false
    }
   },
   "outputs": [],
   "source": [
    "# This test will check whether there is an anonymous person that knows another anonymous person. [1 point]"
   ]
  },
  {
   "cell_type": "code",
   "execution_count": null,
   "metadata": {
    "deletable": false,
    "editable": false,
    "nbgrader": {
     "cell_type": "code",
     "checksum": "4fed1f72fcd8f0716d453131de412727",
     "grade": true,
     "grade_id": "cell-34bb05ce1f74e4e4",
     "locked": true,
     "points": 1,
     "schema_version": 3,
     "solution": false,
     "task": false
    }
   },
   "outputs": [],
   "source": [
    "# This test will check whether there is an anonymous entity with an n-ary address. [1 point]"
   ]
  },
  {
   "cell_type": "code",
   "execution_count": null,
   "metadata": {
    "deletable": false,
    "editable": false,
    "nbgrader": {
     "cell_type": "code",
     "checksum": "111a0c7bc027a0cebaf090b53c52ef58",
     "grade": true,
     "grade_id": "cell-b317826a68e2bede",
     "locked": true,
     "points": 1,
     "schema_version": 3,
     "solution": false,
     "task": false
    }
   },
   "outputs": [],
   "source": [
    "# This test will check whether there is a correct n-ary address. [1 point]"
   ]
  }
 ],
 "metadata": {
  "kernelspec": {
   "display_name": "Python 3",
   "language": "python",
   "name": "python3"
  },
  "language_info": {
   "codemirror_mode": {
    "name": "ipython",
    "version": 3
   },
   "file_extension": ".py",
   "mimetype": "text/x-python",
   "name": "python",
   "nbconvert_exporter": "python",
   "pygments_lexer": "ipython3",
   "version": "3.8.5"
  }
 },
 "nbformat": 4,
 "nbformat_minor": 4
}
