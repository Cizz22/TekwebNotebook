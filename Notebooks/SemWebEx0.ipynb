{
 "cells": [
  {
   "cell_type": "markdown",
   "metadata": {
    "deletable": false,
    "editable": false,
    "nbgrader": {
     "checksum": "2ff5c6a5cd4db521a0b3e454c8045fbb",
     "grade": false,
     "grade_id": "cell-af8da77aeb958933",
     "locked": true,
     "schema_version": 3,
     "solution": false,
     "task": false
    }
   },
   "source": [
    "This assignment is completely voluntary. To check if everything works, we recommend you still upload your finished notebook to moodle and let it be graded.\n",
    "\n",
    "# Introduction to Jupyter Notebooks\n",
    "\n",
    "Jupyter Notebooks are a way to combine text and interactive code execution. Every notebook consists of cells like the one you are reading right now. This is a markdown cell for text but there are also code cells like the one below this one. Code cells can be executed by selecting them and then pressing Ctrl+Enter or clicking the run button at the top. Try it with the Cell below! This should output \"Hello World!\" which will be displayed directly below the executed code cell. "
   ]
  },
  {
   "cell_type": "code",
   "execution_count": null,
   "metadata": {},
   "outputs": [],
   "source": [
    "# This is a code cell. Select it and then execute it by pressing Ctrl+Enter (Strg+Enter). Code cells are python cells by default.\n",
    "# If you know python try playing around with this cell. This cell will not be graded so change it to your heart's content.\n",
    "print(\"Hello World!\")"
   ]
  },
  {
   "cell_type": "markdown",
   "metadata": {
    "deletable": false,
    "editable": false,
    "nbgrader": {
     "checksum": "a363003ed1d8449efe133c8e3c70eec5",
     "grade": false,
     "grade_id": "cell-eae8912ac06a2540",
     "locked": true,
     "schema_version": 3,
     "solution": false,
     "task": false
    }
   },
   "source": [
    "## Introduction to nbGrader\n",
    "\n",
    "Jupyter notebooks are great for providing instructions and incomplete code snippets which you have to complete. While working on assignments you can execute the cells as often as you want, which allows you to play around in a safe environment.\n",
    "\n",
    "But this is not all: jupyter notebooks allow for automated grading! After completing the given code snippets, you can upload your notebook file as submission to moodle. We will then autograde your submission using nbGrader. This works by executing unit tests on your code, basically checking if your code does what it should do. If a test fails, you will not get points for that task. After autograding you will get a feedback file that shows you which test failed.\n",
    "\n",
    "To give you a reference, some of the tests will be visible and executable for you. You can use this to check if your code has the correct format. But don't forget that there are also hidden tests, so just because the visible tests work does not mean your code is completely correct.\n",
    "\n",
    "### Example task\n",
    "\n",
    "Below is a code cell with incomplete python code. The task is to set variable x to 10 and variable y to 20.\n",
    "To set a variable in python, you just write its name, an equal sign and then a value. To set a variable z to 30, you would simply write the following:\n",
    "\n",
    "z = 30\n",
    "\n",
    "Now try to do the task in the cell below by writing your code just below the \"# YOUR CODE HERE\" comment."
   ]
  },
  {
   "cell_type": "code",
   "execution_count": null,
   "metadata": {
    "deletable": false,
    "nbgrader": {
     "checksum": "da12229b141b11815a01e0ed621931cb",
     "grade": false,
     "grade_id": "cell-c7038067c95e57ed",
     "locked": false,
     "schema_version": 3,
     "solution": true,
     "task": false
    }
   },
   "outputs": [],
   "source": [
    "# Set x to 10 and y to 20. Don't change code that is already given.\n",
    "z = 30\n",
    "# YOUR SOLUTION HERE\n",
    "\n",
    "\n",
    "print(f\"x has the value {x}\")\n",
    "print(f\"y has the value {y}\")\n",
    "print(f\"z has the value {z}\")"
   ]
  },
  {
   "cell_type": "markdown",
   "metadata": {
    "deletable": false,
    "editable": false,
    "nbgrader": {
     "checksum": "45fbeaf701adc73642bf316d3b181226",
     "grade": false,
     "grade_id": "cell-c8bda3ca1f560670",
     "locked": true,
     "schema_version": 3,
     "solution": false,
     "task": false
    }
   },
   "source": [
    "### Example Test\n",
    "\n",
    "Below is an example test cell. These cells can not be manipulated but can be executed. This one only tests if x is set to 10 but remember that there are also hidden tests. Execute the test cell to check if your code is at least partially correct. If the cell below fails, you either have an error in your code or forgot to execute your code cell above. Try it now!"
   ]
  },
  {
   "cell_type": "code",
   "execution_count": null,
   "metadata": {
    "deletable": false,
    "editable": false,
    "nbgrader": {
     "checksum": "995571de091800bfd302f6c1b8cb63e5",
     "grade": true,
     "grade_id": "cell-95f7b35c0b30bb97",
     "locked": true,
     "points": 1,
     "schema_version": 3,
     "solution": false,
     "task": false
    }
   },
   "outputs": [],
   "source": [
    "assert x==10, f\"x has value {x} but should have value 10\"\n",
    "assert z==30, f\"z has value {z} but should have value 30. You shouldn't change code that was already given in the snippet.\"\n",
    "print(\"Test passed!\")"
   ]
  },
  {
   "cell_type": "markdown",
   "metadata": {
    "deletable": false,
    "editable": false,
    "nbgrader": {
     "checksum": "06f323bd9e177ff02a52a3afd1917794",
     "grade": false,
     "grade_id": "cell-3b7cab48c6f59c2b",
     "locked": true,
     "schema_version": 3,
     "solution": false,
     "task": false
    }
   },
   "source": [
    "## RDF Extension\n",
    "\n",
    "We will use an extension to execute and evaluate languages from the lecture. The extension is currently a work in progress and will grow together with the lecture contents. Because of this frequent updates are required. The cell below will automatically install or update the extension in your current environment. This cell will be at the top of each assignment and it is recommended to execute it at least once for every notebook, to guarantee that your installation features all needed languages. This cell takes some time to run, so please wait until it is finished. Try it now and then run the two cells below it to test if it worked. If everything worked, you should see a simple graph as output from the third cell."
   ]
  },
  {
   "cell_type": "code",
   "execution_count": null,
   "metadata": {
    "deletable": false,
    "nbgrader": {
     "checksum": "5aada66248d23038294dcec915a1ca94",
     "grade": false,
     "grade_id": "cell-954f34c27e7cdfad",
     "locked": true,
     "schema_version": 3,
     "solution": false,
     "task": false
    }
   },
   "outputs": [],
   "source": [
    "%%capture\n",
    "# The line above suppresses output. If there are errors, remove it.\n",
    "# Execute this cell once to install and update all needed packages. Could take a while, please wait until this process is finished before continuing.\n",
    "# When the cell is finished, the [*] to the left of the cell turns into a number, e.g. [1].\n",
    "import sys\n",
    "!{sys.executable} -m pip install git+https://github.com/SemWebNotebooks/Jupyter-RDFify.git -U\n",
    "# The line below installs the python graphviz interface together with the grahpviz binaries.\n",
    "# If you do not use anaconda, you need to install graphviz by hand and add it to your path as well as install the graphviz\n",
    "# interface with pip (pip install graphviz)\n",
    "!conda install --override-channels --yes --prefix {sys.prefix} -c conda-forge python-graphviz"
   ]
  },
  {
   "cell_type": "code",
   "execution_count": null,
   "metadata": {
    "deletable": false,
    "editable": false,
    "nbgrader": {
     "checksum": "8427196818507b8413954ef24a8154a8",
     "grade": false,
     "grade_id": "cell-9fe4e4848ca12dff",
     "locked": true,
     "schema_version": 3,
     "solution": false,
     "task": false
    }
   },
   "outputs": [],
   "source": [
    "%reload_ext jupyter-rdfify"
   ]
  },
  {
   "cell_type": "code",
   "execution_count": null,
   "metadata": {
    "deletable": false,
    "editable": false,
    "nbgrader": {
     "checksum": "ea2850ee041afd325eac93a404497a74",
     "grade": false,
     "grade_id": "cell-a85d3882c01ca238",
     "locked": true,
     "schema_version": 3,
     "solution": false,
     "task": false
    }
   },
   "outputs": [],
   "source": [
    "%%rdf turtle -d graph\n",
    "@prefix ex: <http://example.org/#>.\n",
    "ex:YourInstallation ex:status ex:Works."
   ]
  },
  {
   "cell_type": "markdown",
   "metadata": {
    "deletable": false,
    "editable": false,
    "nbgrader": {
     "checksum": "ad0afa237464f4ad6c1fa6d797098f15",
     "grade": false,
     "grade_id": "cell-93ea7936a38b67ca",
     "locked": true,
     "schema_version": 3,
     "solution": false,
     "task": false
    }
   },
   "source": [
    "## Submitting your assignment\n",
    "\n",
    "When you are ready to submit your assignment save the notebook and then upload it to moodle. Please do **not** change the file name as this will lead to 0 points. Try doing the example task and then upload your notebook to moodle. If you did everything right, your submission will be graded and you will get feedback. Also note that all submissions are only graded once after the deadline. You can upload as many tries as you want but only the last submission will be graded."
   ]
  }
 ],
 "metadata": {
  "kernelspec": {
   "display_name": "Python 3",
   "language": "python",
   "name": "python3"
  },
  "language_info": {
   "codemirror_mode": {
    "name": "ipython",
    "version": 3
   },
   "file_extension": ".py",
   "mimetype": "text/x-python",
   "name": "python",
   "nbconvert_exporter": "python",
   "pygments_lexer": "ipython3",
   "version": "3.8.5"
  }
 },
 "nbformat": 4,
 "nbformat_minor": 4
}
