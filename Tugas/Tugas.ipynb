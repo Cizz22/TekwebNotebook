{
 "cells": [
  {
   "cell_type": "code",
   "execution_count": null,
   "metadata": {},
   "outputs": [],
   "source": []
  },
  {
   "cell_type": "code",
   "execution_count": null,
   "metadata": {},
   "outputs": [],
   "source": [
    "## Employee: Name, Age, Gender, WorkAt\n",
    "## Departement: Name, Location, Manager\n",
    "\n",
    "#Declare Class and Property\n",
    "\n",
    "\n",
    "ex:Employee a rdfs:Class .\n",
    "ex:Departement a rdfs:Class .\n",
    "\n",
    "ex:worksFor a rdfs:Property .\n",
    "\n",
    "\n",
    "\n",
    "\n",
    "\n",
    "\n",
    "\n",
    "\n",
    "\n",
    "\n",
    "\n",
    "\n",
    "\n"
   ]
  }
 ],
 "metadata": {
  "kernelspec": {
   "display_name": "env",
   "language": "python",
   "name": "python3"
  },
  "language_info": {
   "name": "python",
   "version": "3.9.13"
  },
  "orig_nbformat": 4,
  "vscode": {
   "interpreter": {
    "hash": "51e65bdb93ce2cb35ed1181c30e601a3ff89eaa8fdcd6f296d67f36368726ab3"
   }
  }
 },
 "nbformat": 4,
 "nbformat_minor": 2
}
