{
 "cells": [
  {
   "cell_type": "code",
   "execution_count": 1,
   "metadata": {
    "deletable": false,
    "editable": false,
    "nbgrader": {
     "cell_type": "code",
     "checksum": "30d8b0b6ba0ed36eb04b765832aa0801",
     "grade": false,
     "grade_id": "cell-62337619e946bfb7",
     "locked": true,
     "schema_version": 3,
     "solution": false,
     "task": false
    }
   },
   "outputs": [
    {
     "data": {
      "application/javascript": "\n    if (typeof IPython !== \"undefined\") {\n        IPython.CodeCell.options_default.highlight_modes['application/sparql-query'] = {'reg':[/^%%rdf sparql/]};\n        IPython.CodeCell.options_default.highlight_modes['text/turtle'] = {'reg':[/^%%rdf turtle/, /^%%rdf shex/]};\n        IPython.CodeCell.options_default.highlight_modes['application/ld+json'] = {'reg':[/^%%rdf json-ld/]};\n        IPython.notebook.get_cells().map(function(cell){ if (cell.cell_type == 'code'){ cell.auto_highlight(); } });\n    }\n    "
     },
     "metadata": {},
     "output_type": "display_data"
    }
   ],
   "source": [
    "%reload_ext jupyter-rdfify"
   ]
  },
  {
   "cell_type": "code",
   "execution_count": 2,
   "metadata": {
    "deletable": false,
    "editable": false,
    "nbgrader": {
     "cell_type": "code",
     "checksum": "6ef4f0a70d6213658c24f43d86e545ed",
     "grade": false,
     "grade_id": "cell-243b7ced18a1336a",
     "locked": true,
     "schema_version": 3,
     "solution": false,
     "task": false
    }
   },
   "outputs": [],
   "source": [
    "# This cell defines some helpers, imports and strings for tests. Run it!\n",
    "from rdflib import URIRef, BNode, Literal, XSD, RDF, RDFS\n",
    "ex = \"http://example.org/#\"\n",
    "triple = \"({}, {}, {})\"\n",
    "eNotContain = \"Your graph does not contain the triple:\\n{}.\"\n",
    "eBNode = \"The subject of the triple {} should be a blank node but it is {}\"\n",
    "eMultiple = \"Your graph contains multiple triples of the form {}.\"\n",
    "def uri(prefix, name):\n",
    "    return URIRef(ex+name)\n",
    "def st(node):\n",
    "    if isinstance(node, BNode):\n",
    "        return \"blank node\"\n",
    "    else:\n",
    "        return node.n3()\n",
    "def containCheck(g, s, p, o):\n",
    "    assert (s,p,o) in g, eNotContain.format(triple.format(st(s), st(p), st(o)))"
   ]
  },
  {
   "cell_type": "markdown",
   "metadata": {
    "deletable": false,
    "editable": false,
    "nbgrader": {
     "cell_type": "markdown",
     "checksum": "2a277a8140b4b03b21dc1f6a6f0c4caf",
     "grade": false,
     "grade_id": "cell-0fd22e5d0af2bcd4",
     "locked": true,
     "schema_version": 3,
     "solution": false,
     "task": false
    }
   },
   "source": [
    "The cell below defines some prefixes which you can and should use throughout the entire notebook. Run it!"
   ]
  },
  {
   "cell_type": "code",
   "execution_count": 3,
   "metadata": {
    "deletable": false,
    "editable": false,
    "nbgrader": {
     "cell_type": "code",
     "checksum": "40db6048f17868c11eeef1a2753ac5c9",
     "grade": false,
     "grade_id": "cell-fb66abf182bcbaa9",
     "locked": true,
     "schema_version": 3,
     "solution": false,
     "task": false
    }
   },
   "outputs": [
    {
     "name": "stdout",
     "output_type": "stream",
     "text": [
      "Turtle: Stored prefix.\n"
     ]
    }
   ],
   "source": [
    "    %%rdf turtle -p\n",
    "    PREFIX rdf: <http://www.w3.org/1999/02/22-rdf-syntax-ns#>\n",
    "    PREFIX rdfs: <http://www.w3.org/2000/01/rdf-schema#>\n",
    "    PREFIX xsd: <http://www.w3.org/2001/XMLSchema#>"
   ]
  },
  {
   "cell_type": "markdown",
   "metadata": {
    "deletable": false,
    "editable": false,
    "nbgrader": {
     "cell_type": "markdown",
     "checksum": "50125331d40fa1986f2818b87017da1a",
     "grade": false,
     "grade_id": "cell-1dc846c20b17545c",
     "locked": true,
     "schema_version": 3,
     "solution": false,
     "task": false
    }
   },
   "source": [
    "# Vocabularies/Ontologies and Data Modelling\n",
    "\n",
    "Up to now, all our graphs had very little meaning and could only be understood by humans. This is because we introduced new URIs for concepts and relationships (e.g. ex:capital or ex:Germany) but didn't formally describe them. This makes inferencing and finding similar or associated information difficult. To formally conceptualize our information, we need specialized vocabularies. These vocabularies called ontologies, provide terms with an agreed upon meaning together with rules and restrictions. Except some meta-ontologies, most ontologies model a specific topic and should only be used in that domain.  \n",
    "Some problems that can be solved using such vocabularies are for example different URIs describing the same resource or a property implying another property.\n",
    "\n",
    "In this exercise we will take a look at some core ontologies and learn to write our own ontologies.\n",
    "\n",
    "## Task 1: RDF Vocabulary [4 points]\n",
    "\n",
    "RDF is not only a data model but it also defines some URIs for basic data modelling. We already learned of **rdf:type**, which is a very important property expressing the membership of an object to a specified class. But it also introduces some other properties and classes important for data modelling.\n",
    "\n",
    "### Reification\n",
    "\n",
    "Adding facts to a graph is very simple but what if we want to add a statement which may not be true? For this we need to treat a triple as an object itself. For example if the butler accuses the gardener of being the murderer, we can't just add the fact:\n",
    "\n",
    "**ex:Gardener a ex:Murderer .**\n",
    "\n",
    "as we do not know if the butler tells the truth. But we can reify this triple to make it a statement said by the butler using the properties **rdf:subject, rdf:predicate, rdf:object** and the class **rdf:Statement** which are all terms defined by RDF:\n",
    "\n",
    "**ex:Butler ex:said \\[  \n",
    "&nbsp;&nbsp;&nbsp;&nbsp;rdf:subject ex:Gardener ;  \n",
    "&nbsp;&nbsp;&nbsp;&nbsp;rdf:predicate rdf:type ;  \n",
    "&nbsp;&nbsp;&nbsp;&nbsp;rdf:object ex:Murderer ;  \n",
    "&nbsp;&nbsp;&nbsp;&nbsp;a rdf:Statement ;  \n",
    "] .**\n",
    "\n",
    "**Note: The rdf:type abbreviation \"a\" can only be used at predicate position. At other positions use rdf:type.**\n",
    "\n",
    "### 1a) Gossip [2 points]\n",
    "\n",
    "A group of friends gossiped. Bob said something interesting: He said that Eve heard that Mallory cheated on Oscar.\n",
    "\n",
    "Use nested reification to create a graph of Bob's statement.\n",
    "\n",
    "Use the following URIs:  \n",
    "Bob: **http://example.org/#Bob**  \n",
    "Eve: **http://example.org/#Eve**  \n",
    "Mallory: **http://example.org/#Mallory**  \n",
    "Oscar: **http://example.org/#Oscar**  \n",
    "said: **http://example.org/#said**  \n",
    "heard: **http://example.org/#heard**  \n",
    "cheated on: **http://example.org/#cheatedOn**  \n",
    "\n",
    "You may also use all terms from the RDF vocabulary."
   ]
  },
  {
   "cell_type": "code",
   "execution_count": 4,
   "metadata": {
    "deletable": false,
    "nbgrader": {
     "cell_type": "code",
     "checksum": "65ceb7f2827385c5ab1c896d3275d025",
     "grade": false,
     "grade_id": "cell-242a1b3bec7afe75",
     "locked": false,
     "schema_version": 3,
     "solution": true,
     "task": false
    }
   },
   "outputs": [
    {
     "data": {
      "image/svg+xml": "<?xml version=\"1.0\" encoding=\"UTF-8\" standalone=\"no\"?>\n<!DOCTYPE svg PUBLIC \"-//W3C//DTD SVG 1.1//EN\"\n \"http://www.w3.org/Graphics/SVG/1.1/DTD/svg11.dtd\">\n<!-- Generated by graphviz version 7.0.1 (20221109.1506)\n -->\n<!-- Pages: 1 -->\n<svg width=\"482pt\" height=\"305pt\"\n viewBox=\"0.00 0.00 482.29 305.00\" xmlns=\"http://www.w3.org/2000/svg\" xmlns:xlink=\"http://www.w3.org/1999/xlink\">\n<g id=\"graph0\" class=\"graph\" transform=\"scale(1 1) rotate(0) translate(4 301)\">\n<polygon fill=\"white\" stroke=\"none\" points=\"-4,4 -4,-301 478.29,-301 478.29,4 -4,4\"/>\n<!-- 0 -->\n<g id=\"node1\" class=\"node\">\n<title>0</title>\n<ellipse fill=\"none\" stroke=\"black\" cx=\"178.14\" cy=\"-18\" rx=\"42.49\" ry=\"18\"/>\n<text text-anchor=\"middle\" x=\"178.14\" y=\"-14.3\" font-family=\"Times,serif\" font-size=\"14.00\">ex:Oscar</text>\n</g>\n<!-- 1 -->\n<g id=\"node2\" class=\"node\">\n<title>1</title>\n<ellipse fill=\"none\" stroke=\"black\" cx=\"59.14\" cy=\"-18\" rx=\"59.29\" ry=\"18\"/>\n<text text-anchor=\"middle\" x=\"59.14\" y=\"-14.3\" font-family=\"Times,serif\" font-size=\"14.00\">rdf:Statement</text>\n</g>\n<!-- 2 -->\n<g id=\"node3\" class=\"node\">\n<title>2</title>\n<ellipse fill=\"none\" stroke=\"black\" cx=\"288.14\" cy=\"-18\" rx=\"50.09\" ry=\"18\"/>\n<text text-anchor=\"middle\" x=\"288.14\" y=\"-14.3\" font-family=\"Times,serif\" font-size=\"14.00\">ex:Mallory</text>\n</g>\n<!-- 3 -->\n<g id=\"node4\" class=\"node\">\n<title>3</title>\n<ellipse fill=\"none\" stroke=\"black\" cx=\"415.14\" cy=\"-18\" rx=\"59.29\" ry=\"18\"/>\n<text text-anchor=\"middle\" x=\"415.14\" y=\"-14.3\" font-family=\"Times,serif\" font-size=\"14.00\">ex:cheatedOn</text>\n</g>\n<!-- 4 -->\n<g id=\"node5\" class=\"node\">\n<title>4</title>\n<ellipse fill=\"none\" stroke=\"black\" cx=\"161.14\" cy=\"-105\" rx=\"40.89\" ry=\"18\"/>\n<text text-anchor=\"middle\" x=\"161.14\" y=\"-101.3\" font-family=\"Times,serif\" font-size=\"14.00\">ex:heard</text>\n</g>\n<!-- 5 -->\n<g id=\"node6\" class=\"node\">\n<title>5</title>\n<ellipse fill=\"none\" stroke=\"black\" cx=\"252.14\" cy=\"-105\" rx=\"30.59\" ry=\"18\"/>\n<text text-anchor=\"middle\" x=\"252.14\" y=\"-101.3\" font-family=\"Times,serif\" font-size=\"14.00\">_:bn0</text>\n</g>\n<!-- 5&#45;&gt;0 -->\n<g id=\"edge4\" class=\"edge\">\n<title>5&#45;&gt;0</title>\n<path fill=\"none\" stroke=\"black\" d=\"M234,-90.36C226.49,-84.26 217.96,-76.71 211.14,-69 204.75,-61.77 198.66,-53.21 193.48,-45.23\"/>\n<polygon fill=\"black\" stroke=\"black\" points=\"196.53,-43.51 188.27,-36.87 190.59,-47.21 196.53,-43.51\"/>\n<text text-anchor=\"middle\" x=\"237.64\" y=\"-57.8\" font-family=\"Times,serif\" font-size=\"14.00\">rdf:object</text>\n</g>\n<!-- 5&#45;&gt;1 -->\n<g id=\"edge3\" class=\"edge\">\n<title>5&#45;&gt;1</title>\n<path fill=\"none\" stroke=\"black\" d=\"M228.01,-93.56C222.5,-91.3 216.65,-88.99 211.14,-87 185.76,-77.82 178.06,-79.38 153.14,-69 133.32,-60.74 112.13,-49.67 94.89,-40.06\"/>\n<polygon fill=\"black\" stroke=\"black\" points=\"96.98,-37.22 86.56,-35.34 93.53,-43.31 96.98,-37.22\"/>\n<text text-anchor=\"middle\" x=\"174.64\" y=\"-57.8\" font-family=\"Times,serif\" font-size=\"14.00\">rdf:type</text>\n</g>\n<!-- 5&#45;&gt;2 -->\n<g id=\"edge5\" class=\"edge\">\n<title>5&#45;&gt;2</title>\n<path fill=\"none\" stroke=\"black\" d=\"M259.26,-87.21C264.16,-75.64 270.78,-60.01 276.45,-46.62\"/>\n<polygon fill=\"black\" stroke=\"black\" points=\"279.66,-48.02 280.33,-37.44 273.21,-45.29 279.66,-48.02\"/>\n<text text-anchor=\"middle\" x=\"302.14\" y=\"-57.8\" font-family=\"Times,serif\" font-size=\"14.00\">rdf:subject</text>\n</g>\n<!-- 5&#45;&gt;3 -->\n<g id=\"edge7\" class=\"edge\">\n<title>5&#45;&gt;3</title>\n<path fill=\"none\" stroke=\"black\" d=\"M276.25,-93.73C281.49,-91.51 287,-89.17 292.14,-87 311.23,-78.95 316.74,-78.52 335.14,-69 351.22,-60.68 368.32,-50.23 382.57,-41.03\"/>\n<polygon fill=\"black\" stroke=\"black\" points=\"384.21,-44.14 390.66,-35.74 380.38,-38.29 384.21,-44.14\"/>\n<text text-anchor=\"middle\" x=\"394.14\" y=\"-57.8\" font-family=\"Times,serif\" font-size=\"14.00\">rdf:predicate</text>\n</g>\n<!-- 6 -->\n<g id=\"node7\" class=\"node\">\n<title>6</title>\n<ellipse fill=\"none\" stroke=\"black\" cx=\"207.14\" cy=\"-279\" rx=\"36.29\" ry=\"18\"/>\n<text text-anchor=\"middle\" x=\"207.14\" y=\"-275.3\" font-family=\"Times,serif\" font-size=\"14.00\">ex:Bob</text>\n</g>\n<!-- 8 -->\n<g id=\"node9\" class=\"node\">\n<title>8</title>\n<ellipse fill=\"none\" stroke=\"black\" cx=\"207.14\" cy=\"-192\" rx=\"30.59\" ry=\"18\"/>\n<text text-anchor=\"middle\" x=\"207.14\" y=\"-188.3\" font-family=\"Times,serif\" font-size=\"14.00\">_:bn1</text>\n</g>\n<!-- 6&#45;&gt;8 -->\n<g id=\"edge2\" class=\"edge\">\n<title>6&#45;&gt;8</title>\n<path fill=\"none\" stroke=\"black\" d=\"M207.14,-260.8C207.14,-249.58 207.14,-234.67 207.14,-221.69\"/>\n<polygon fill=\"black\" stroke=\"black\" points=\"210.64,-221.98 207.14,-211.98 203.64,-221.98 210.64,-221.98\"/>\n<text text-anchor=\"middle\" x=\"226.64\" y=\"-231.8\" font-family=\"Times,serif\" font-size=\"14.00\">ex:said</text>\n</g>\n<!-- 7 -->\n<g id=\"node8\" class=\"node\">\n<title>7</title>\n<ellipse fill=\"none\" stroke=\"black\" cx=\"336.14\" cy=\"-105\" rx=\"35.19\" ry=\"18\"/>\n<text text-anchor=\"middle\" x=\"336.14\" y=\"-101.3\" font-family=\"Times,serif\" font-size=\"14.00\">ex:Eve</text>\n</g>\n<!-- 8&#45;&gt;1 -->\n<g id=\"edge9\" class=\"edge\">\n<title>8&#45;&gt;1</title>\n<path fill=\"none\" stroke=\"black\" d=\"M178.21,-185.61C145.55,-177.88 93.67,-160.22 68.14,-123 53.03,-100.95 52.34,-69.79 54.48,-47.33\"/>\n<polygon fill=\"black\" stroke=\"black\" points=\"57.92,-48.02 55.65,-37.67 50.97,-47.18 57.92,-48.02\"/>\n<text text-anchor=\"middle\" x=\"89.64\" y=\"-101.3\" font-family=\"Times,serif\" font-size=\"14.00\">rdf:type</text>\n</g>\n<!-- 8&#45;&gt;4 -->\n<g id=\"edge1\" class=\"edge\">\n<title>8&#45;&gt;4</title>\n<path fill=\"none\" stroke=\"black\" d=\"M183.42,-180.27C173.73,-174.55 163.55,-166.5 158.14,-156 154.79,-149.48 153.97,-141.83 154.38,-134.51\"/>\n<polygon fill=\"black\" stroke=\"black\" points=\"157.85,-134.99 155.72,-124.61 150.91,-134.05 157.85,-134.99\"/>\n<text text-anchor=\"middle\" x=\"193.14\" y=\"-144.8\" font-family=\"Times,serif\" font-size=\"14.00\">rdf:predicate</text>\n</g>\n<!-- 8&#45;&gt;5 -->\n<g id=\"edge8\" class=\"edge\">\n<title>8&#45;&gt;5</title>\n<path fill=\"none\" stroke=\"black\" d=\"M219.69,-175.15C223.96,-169.33 228.56,-162.55 232.14,-156 235.96,-149.03 239.44,-141.17 242.4,-133.79\"/>\n<polygon fill=\"black\" stroke=\"black\" points=\"245.63,-135.13 245.91,-124.54 239.09,-132.64 245.63,-135.13\"/>\n<text text-anchor=\"middle\" x=\"266.64\" y=\"-144.8\" font-family=\"Times,serif\" font-size=\"14.00\">rdf:object</text>\n</g>\n<!-- 8&#45;&gt;7 -->\n<g id=\"edge6\" class=\"edge\">\n<title>8&#45;&gt;7</title>\n<path fill=\"none\" stroke=\"black\" d=\"M235.05,-184.35C253.88,-178.9 278.58,-169.81 297.14,-156 305.87,-149.51 313.67,-140.58 319.96,-132.06\"/>\n<polygon fill=\"black\" stroke=\"black\" points=\"322.72,-134.23 325.53,-124.01 316.96,-130.25 322.72,-134.23\"/>\n<text text-anchor=\"middle\" x=\"342.14\" y=\"-144.8\" font-family=\"Times,serif\" font-size=\"14.00\">rdf:subject</text>\n</g>\n</g>\n</svg>\n",
      "text/plain": [
       "<graphviz.graphs.Digraph at 0x1053ccf70>"
      ]
     },
     "metadata": {},
     "output_type": "display_data"
    }
   ],
   "source": [
    "%%rdf turtle -l gossip\n",
    "### YOUR SOLUTION HERE\n",
    "@prefix ex:<http://example.org/#> .\n",
    "\n",
    "ex:Bob ex:said [\n",
    "    rdf:subject ex:Eve ;\n",
    "    rdf:predicate ex:heard ;\n",
    "    rdf:object [\n",
    "        rdf:subject ex:Mallory ;\n",
    "        rdf:predicate ex:cheatedOn ; \n",
    "        rdf:object ex:Oscar ;  \n",
    "        a rdf:Statement ;\n",
    "    ] ;\n",
    "    a rdf:Statement ;\n",
    "] ."
   ]
  },
  {
   "cell_type": "code",
   "execution_count": 5,
   "metadata": {
    "deletable": false,
    "editable": false,
    "nbgrader": {
     "cell_type": "code",
     "checksum": "de87358429fc1563391a37a122e039ab",
     "grade": true,
     "grade_id": "cell-c5d0a196cb766a04",
     "locked": true,
     "points": 0.5,
     "schema_version": 3,
     "solution": false,
     "task": false
    }
   },
   "outputs": [],
   "source": [
    "# This test will check whether your graph contains a statement by Bob. [0.5 points]\n",
    "store = %rdf -r\n",
    "g = store['rdfgraphs']['gossip']\n",
    "res = None\n",
    "res = list(g.objects(subject=uri(ex, \"Bob\"), predicate=uri(ex, \"said\")))\n",
    "x = triple.format(ex+\"Bob\", ex+\"said\", \"Blank node\")\n",
    "assert len(res) > 0, notContain.format(x)\n",
    "assert len(res) <= 1, eMultiple.format(x)\n",
    "assert isinstance(res[0], BNode), eBNode.format(x,res[0].n3())"
   ]
  },
  {
   "cell_type": "code",
   "execution_count": 6,
   "metadata": {
    "deletable": false,
    "editable": false,
    "nbgrader": {
     "cell_type": "code",
     "checksum": "3c9fb2cbf9cd35f1bf3349ab28c2f86c",
     "grade": true,
     "grade_id": "cell-73c5f331e3d920dc",
     "locked": true,
     "points": 0.5,
     "schema_version": 3,
     "solution": false,
     "task": false
    }
   },
   "outputs": [],
   "source": [
    "# This test will check whether a statement in your graph is about what Eve heard. [0.5 points]\n",
    "store = %rdf -r\n",
    "g = store['rdfgraphs']['gossip']\n",
    "(res,res2) = (None, None)\n",
    "res = list(g.subjects(object=uri(ex, \"Eve\"), predicate=RDF.subject))\n",
    "x = triple.format(\"Blank node\", RDF.subject, ex+\"Eve\")\n",
    "assert len(res) > 0, notContain.format(x)\n",
    "assert len(res) <= 1, eMultiple.format(x)\n",
    "assert isinstance(res[0], BNode), eBNode.format(x,res[0].n3())"
   ]
  },
  {
   "cell_type": "code",
   "execution_count": 7,
   "metadata": {
    "deletable": false,
    "editable": false,
    "nbgrader": {
     "cell_type": "code",
     "checksum": "28c72e800624f06681356ac12569df53",
     "grade": true,
     "grade_id": "cell-dae42e7390f903cf",
     "locked": true,
     "points": 1,
     "schema_version": 3,
     "solution": false,
     "task": false
    }
   },
   "outputs": [],
   "source": [
    "# This test will check whether the statement of what Eve heard is correct. [1 point]"
   ]
  },
  {
   "cell_type": "markdown",
   "metadata": {
    "deletable": false,
    "editable": false,
    "nbgrader": {
     "cell_type": "markdown",
     "checksum": "835fd5d9c54b1b3e2e7e498dd2164e09",
     "grade": false,
     "grade_id": "cell-9ebba7ead61e0295",
     "locked": true,
     "schema_version": 3,
     "solution": false,
     "task": false
    }
   },
   "source": [
    "### Primary values\n",
    "\n",
    "When using n-ary relations, it sometimes makes sense to have a **primary value**. The address example from the second exercise sheet was an n-ary relation but none of its values (street, house number, zip code, city) could be considered primary. But when talking about the price of somethinge in a specific currency, the price could be considered primary while the currency is a complementing value. To declare a primary value in an n-ary relation, one uses the **rdf:value** property defined in the RDF vocabulary. For example if a cheeseburger costs 1 Euro, you would write:\n",
    "\n",
    "**ex:Cheeseburger ex:price \\[  \n",
    "&nbsp;&nbsp;&nbsp;&nbsp;rdf:value \"1\" ;  \n",
    "&nbsp;&nbsp;&nbsp;&nbsp;ex:currency ex:Euro ;  \n",
    "\\] .**\n",
    "\n",
    "### 1b) Experiment [2 points]\n",
    "\n",
    "Some physicists conduct an experiment to determine the gravitational acceleration.  The result of the experiment is **9.81 m/s^2** with an **uncertainty of 0.02**. Because the gravitational acceleration varies based on location, we also need to know the location which is **latitude 50.78167189752423** and **longitude 6.049597427163315**. Use an n-ary relation with primary value to model this information.\n",
    "\n",
    "Use the following URIs:  \n",
    "Experiment: **http://example.org/#Experiment**  \n",
    "result: **http://example.org/#result**  \n",
    "unit: **http://example.org/#unit**  \n",
    "uncertainty: **http://example.org/#uncertainty**  \n",
    "latitude: **http://example.org/#latitude**  \n",
    "longitude: **http://example.org/#longitude**  \n",
    "\n",
    "Use xsd:decimal as datatype for decimal values and omit the datatype for string values. You may also use all terms from the RDF vocabulary."
   ]
  },
  {
   "cell_type": "code",
   "execution_count": 8,
   "metadata": {
    "deletable": false,
    "nbgrader": {
     "cell_type": "code",
     "checksum": "824238b79ebd6a5286f126634db06111",
     "grade": false,
     "grade_id": "cell-e8ac7b236e8be8ce",
     "locked": false,
     "schema_version": 3,
     "solution": true,
     "task": false
    }
   },
   "outputs": [
    {
     "name": "stdout",
     "output_type": "stream",
     "text": [
      "Could not parse turtle graph:<br>at line 10 of <>:\n",
      "Bad syntax (']' expected) at ^ in:\n",
      "\"...b'ent [\\n    ex:result [\\n        rdf:value \"9.81\"^^xsd:decimal '^b'.\\n        ex:unit \"m/s2\" .\\n    ] .\\n] .\\n'\"\n",
      "Turtle: Parse failed:\n",
      "\n"
     ]
    }
   ],
   "source": [
    "%%rdf turtle -l experiment\n",
    "### YOUR SOLUTION HERE\n",
    "@prefix ex:<http://example.org/#> .\n",
    "\n",
    "ex:Experiment [\n",
    "    ex:result [\n",
    "        rdf:value \"9.81\"^^xsd:decimal .\n",
    "        ex:unit \"m/s2\" .\n",
    "    ] .\n",
    "] ."
   ]
  },
  {
   "cell_type": "code",
   "execution_count": 9,
   "metadata": {
    "deletable": false,
    "editable": false,
    "nbgrader": {
     "cell_type": "code",
     "checksum": "02cc241ff9727eb088be2db6763d5a1f",
     "grade": true,
     "grade_id": "cell-f98d7467ba33b658",
     "locked": true,
     "points": 1,
     "schema_version": 3,
     "solution": false,
     "task": false
    }
   },
   "outputs": [
    {
     "ename": "KeyError",
     "evalue": "'experiment'",
     "output_type": "error",
     "traceback": [
      "\u001b[0;31m---------------------------------------------------------------------------\u001b[0m",
      "\u001b[0;31mKeyError\u001b[0m                                  Traceback (most recent call last)",
      "Cell \u001b[0;32mIn[9], line 4\u001b[0m\n\u001b[1;32m      1\u001b[0m \u001b[39m# This test will check whether your graph contains the result of the experiment\u001b[39;00m\n\u001b[1;32m      2\u001b[0m \u001b[39m# and whether the primary value was chosen correctly. [1 point]\u001b[39;00m\n\u001b[1;32m      3\u001b[0m store \u001b[39m=\u001b[39m get_ipython()\u001b[39m.\u001b[39mrun_line_magic(\u001b[39m'\u001b[39m\u001b[39mrdf\u001b[39m\u001b[39m'\u001b[39m, \u001b[39m'\u001b[39m\u001b[39m-r\u001b[39m\u001b[39m'\u001b[39m)\n\u001b[0;32m----> 4\u001b[0m g \u001b[39m=\u001b[39m store[\u001b[39m'\u001b[39;49m\u001b[39mrdfgraphs\u001b[39;49m\u001b[39m'\u001b[39;49m][\u001b[39m'\u001b[39;49m\u001b[39mexperiment\u001b[39;49m\u001b[39m'\u001b[39;49m]\n\u001b[1;32m      5\u001b[0m res \u001b[39m=\u001b[39m \u001b[39mNone\u001b[39;00m\n\u001b[1;32m      6\u001b[0m res \u001b[39m=\u001b[39m \u001b[39mlist\u001b[39m(g\u001b[39m.\u001b[39mobjects(subject\u001b[39m=\u001b[39muri(ex, \u001b[39m\"\u001b[39m\u001b[39mExperiment\u001b[39m\u001b[39m\"\u001b[39m), predicate\u001b[39m=\u001b[39muri(ex, \u001b[39m\"\u001b[39m\u001b[39mresult\u001b[39m\u001b[39m\"\u001b[39m)))\n",
      "\u001b[0;31mKeyError\u001b[0m: 'experiment'"
     ]
    }
   ],
   "source": [
    "# This test will check whether your graph contains the result of the experiment\n",
    "# and whether the primary value was chosen correctly. [1 point]\n",
    "store = %rdf -r\n",
    "g = store['rdfgraphs']['experiment']\n",
    "res = None\n",
    "res = list(g.objects(subject=uri(ex, \"Experiment\"), predicate=uri(ex, \"result\")))\n",
    "x = triple.format(ex+\"Experiment\", ex+\"result\", \"Blank node\")\n",
    "assert len(res) > 0, notContain.format(x)\n",
    "assert len(res) <= 1, eMultiple.format(x)\n",
    "assert isinstance(res[0], BNode), eBNode.format(x,res[0].n3())"
   ]
  },
  {
   "cell_type": "code",
   "execution_count": null,
   "metadata": {
    "deletable": false,
    "editable": false,
    "nbgrader": {
     "cell_type": "code",
     "checksum": "a461a3b71837ef6062524629800a9da0",
     "grade": true,
     "grade_id": "cell-d67b6ec756729f53",
     "locked": true,
     "points": 1,
     "schema_version": 3,
     "solution": false,
     "task": false
    }
   },
   "outputs": [],
   "source": [
    "# This test will check whether your graph contains all complementing values. [1 point]\n",
    "# Only gives points if the last test does not fail."
   ]
  },
  {
   "cell_type": "markdown",
   "metadata": {
    "deletable": false,
    "editable": false,
    "nbgrader": {
     "cell_type": "markdown",
     "checksum": "6cbde5bcc22a063f85a36a2230fc610f",
     "grade": false,
     "grade_id": "cell-62b9e77782c2aaa9",
     "locked": true,
     "schema_version": 3,
     "solution": false,
     "task": false
    }
   },
   "source": [
    "## Task 2: RDF Schema [8 points]\n",
    "\n",
    "RDF Schema (RDFS) is another [W3C recommended](https://www.w3.org/TR/rdf-schema/) vocabulary. RDFS provides means to specify characteristics of classes and properties independent of their domain. It can be seen as a weak ontology language for defining vocabularies. RDFS splits resources into three types: individuals, classes and properties. Individuals are instances of things, like a specific person or object. Classes are sets of individuals with similar properties like all persons or all cars. Properties describe individuals.\n",
    "\n",
    "### Classes\n",
    "\n",
    "Classes are sets of individuals with similar properties. To define our own class, we just have to declare the type of the class resource as **rdfs:Class**:\n",
    "\n",
    "**ex:Car a rdfs:Class .**\n",
    "\n",
    "To declare that an individual is part of a class, we also use rdf:type:\n",
    "\n",
    "**ex:BMW a ex:Car .**\n",
    "\n",
    "So rdfs:Class is the class containing all classes.\n",
    "\n",
    "### Properties\n",
    "\n",
    "As with classes, we can define our own properties to describe resources. For this, we use the class rdf:Property (Note that it is **rdf:Property** NOT rdfs:Property as it is defined in the RDF vocabulary). To define our own property, we just have to declare the type of the resource as **rdf:Property**:\n",
    "\n",
    "**ex:drives a rdf:Property .**\n",
    "\n",
    "Then we can use the property:\n",
    "\n",
    "**ex:Max ex:drives ex:BMW .**\n",
    "\n",
    "As rdf:Property is the class of all properties, it is also an rdfs:Class.\n",
    "\n",
    "### Subclasses and Subproperties\n",
    "\n",
    "While classes and properties are a nice way to organize resources, by themselves they do not provide means of infering new information. For this RDFS defines the two properties **rdfs:subClassOf** and **rdfs:subPropertyOf**. Any individual of a subclass also belongs to the superclass and any triple with the subproperty also holds for the superproperty. For example from the following graph:\n",
    "\n",
    "**\\# Defining classes and properties  \n",
    "ex:Car a rdfs:Class .  \n",
    "ex:Vehicle a rdfs:Class .  \n",
    "ex:drives a rdf:Property .  \n",
    "ex:operates a rdf:Property .  \n",
    "\\# Defining subclass- and subproperty-relations  \n",
    "ex:Car rdfs:subClassOf ex:Vehicle .  \n",
    "ex:drives rdfs:subPropertyOf ex:operates .  \n",
    "\\# Facts  \n",
    "ex:BMW a ex:Car .  \n",
    "ex:Max ex:drives ex:BMW .**\n",
    "\n",
    "these triples can be inferred:\n",
    "\n",
    "**ex:BMW a ex:Vehicle .  \n",
    "ex:Max ex:operates ex:BMW .**\n",
    "\n",
    "Both rdfs:subClassOf and rdfs:subPropertyOf are reflexive and transitive. So all \\[classes/properties\\] are \\[subclasses/subproperties\\] of themselves and when x is a \\[subclass/subproperty\\] of y and y is a \\[subclass/subproperty\\] of z then x is also a \\[subclass/subproperty\\] of z.\n",
    "\n",
    "To define that two classes or properties are equal, you just add a subclass/subproperty relation in both directions:\n",
    "\n",
    "**ex:Car rdfs:subClassOf ex:Automobile .  \n",
    "ex:Automobile rdfs:subClassOf ex:Car .  \n",
    "ex:drives rdfs:subPropertyOf ex:Steers .  \n",
    "ex:Steers rdfs:subPropertyOf ex:drives .**\n",
    "\n",
    "RDFS defines a class rdfs:Resource, which is the superclass of all classes.\n",
    "\n",
    "### Domains and Ranges\n",
    "\n",
    "Another way to infer new information is by using property domains and ranges. The domain of a property defines the class of the subject in a triple and the range the class of the object. For this we use the properties **rdfs:domain** and **rdfs:range**. For example, given the graph:\n",
    "\n",
    "**ex:Car a rdfs:Class .  \n",
    "ex:Person a rdfs:Class .  \n",
    "ex:drives a rdf:Property .  \n",
    "ex:drives rdfs:domain ex:Person .  \n",
    "ex:drives rdfs:range ex:Car .  \n",
    "ex:Max ex:drives ex:BMW .**\n",
    "\n",
    "we can infer the triples:\n",
    "\n",
    "**ex:Max a ex:Person .  \n",
    "ex:BMW a ex:Car .**\n",
    "\n",
    "Because ex:drives has the domain ex:Person and range ex:Car, ex:Max, who appears as subject of ex:drives, has to be a ex:Person, and ex:BMW, which appears as object of ex:drives, has to be a ex:Car.\n",
    "\n",
    "Many RDFS properties have predefined domains and ranges. For example rdfs:domain and rdfs:range themselves have rdf:Property as a domain and rdfs:Class as range. This means that we can omit the first three triples in the example above as they can be inferred by the fourth and fifth triple.\n",
    "\n",
    "Be careful when using multiple domains and ranges as they apply conjunctively and not disjunctively. For example:\n",
    "\n",
    "**ex:drives rdfs:range ex:Car .  \n",
    "ex:drives rdfs:range ex:Ship .**\n",
    "\n",
    "One would think that this means that the object of ex:drives is either a car or a ship but it means that its object is a car and a ship at the same time which is probably unintended. A better way to model this would be the following:\n",
    "\n",
    "**ex:Car rdfs:subClassOf ex:Vehicle .  \n",
    "ex:Ship rdfs:subClassOf ex:Vehicle .  \n",
    "ex:drives rdfs:range ex:Vehicle .**\n",
    "\n",
    "### Comparison to Object-Oriented Programming\n",
    "\n",
    "One may compare the class and property system of RDFS to object-oriented programming but this can be misleading. In oop, one defines classes in terms of what properties they have, while in RDFS one defines properties in terms of which classes of instances they apply to. So instead of saying: \"x belongs to class y so it has to have property z\", we say \"Property z is used with x, so x has to belong to class y\".\n",
    "\n",
    "\n",
    "### Other Useful Properties\n",
    "\n",
    "RDFS also defines the following useful properties:\n",
    "\n",
    "**rdfs:label**: Specifies a human-readable label for a resource. We already used this in prior exercises to give resources literal names.\n",
    "\n",
    "**rdfs:comment**: Specifies a human-readable description for a resource.\n",
    "\n",
    "**rdfs:seeAlso**: Specifies a generic link. Useful for linking resources to similar resources or resources that provide additional information.\n",
    "\n",
    "**rdfs:isDefinedBy**: Relate a resource to its definition. Can be used to indicate a vocabulary in which the resource is defined.\n",
    "\n",
    "### Entailment\n",
    "\n",
    "Using the RDFS vocabulary and its rules, we can now rdfs-entail a graph. If a graph A rdfs-entails a graph B, every rdfs-interpretation which satisfies graph A also satisfies graph B. With this we can implicitly deduct semantics for our graphs instead of explicitly specifying the meaning of information. For example, we can describe 'what a car is' without using attributes describing it. We implicitly specify it by stating that a car is a vehicle and that vehicles can be driven. Using this, we can give a machine interpretable meaning to resources and provide a more general description. RDFS-Entailment is only one of many possible entailment regimes. For more information on RDFS-Entailment, other entailment regimes and rdf semantics in general please consult this [W3C recommendation](https://www.w3.org/TR/rdf11-mt/).\n",
    "\n",
    "### 2a) Pets [4 points]\n",
    "\n",
    "Model the following information using the RDFS vocabulary:  \n",
    "All mammals are animals. All Humans, Canines and Felines are mammals. All dogs and foxes are Canines. Only humans have pets (http://example.org/#hasPet). Having a dog (http://example.org/#hasDog) means having a pet which is a dog.\n",
    "\n",
    "Also add that Max has a Dog with the name (rdfs:label) \"Spike\" and the description (rdfs:comment) \"A gray bulldog. He likes to chase cats.\".\n",
    "\n",
    "Use the following URIs:  \n",
    "Animals: **http://example.org/#Animal**  \n",
    "Mammals: **http://example.org/#Mammal**  \n",
    "Humans: **http://example.org/#Human**  \n",
    "Canines: **http://example.org/#Canine**  \n",
    "Felines: **http://example.org/#Feline**  \n",
    "Dogs: **http://example.org/#Dog**  \n",
    "Foxes: **http://example.org/#Fox**  \n",
    "Has a pet: **http://example.org/#hasPet**  \n",
    "Has a dog: **http://example.org/#hasDog**  \n",
    "Max: **http://example.org/#Max**  \n",
    "Spike: **http://example.org/#Spike**\n",
    "\n",
    "You may also use all terms from the RDF and RDFS vocabularies. You may omit or keep as many triples as long as the rdfs-entailment closure stays the same."
   ]
  },
  {
   "cell_type": "code",
   "execution_count": 18,
   "metadata": {
    "deletable": false,
    "nbgrader": {
     "cell_type": "code",
     "checksum": "fd562bb87d0358fc138c113e18ad0c5b",
     "grade": false,
     "grade_id": "cell-29a88032a0541ea5",
     "locked": false,
     "schema_version": 3,
     "solution": true,
     "task": false
    }
   },
   "outputs": [
    {
     "data": {
      "image/svg+xml": "<?xml version=\"1.0\" encoding=\"UTF-8\" standalone=\"no\"?>\n<!DOCTYPE svg PUBLIC \"-//W3C//DTD SVG 1.1//EN\"\n \"http://www.w3.org/Graphics/SVG/1.1/DTD/svg11.dtd\">\n<!-- Generated by graphviz version 7.0.1 (20221109.1506)\n -->\n<!-- Pages: 1 -->\n<svg width=\"770pt\" height=\"566pt\"\n viewBox=\"0.00 0.00 769.74 566.00\" xmlns=\"http://www.w3.org/2000/svg\" xmlns:xlink=\"http://www.w3.org/1999/xlink\">\n<g id=\"graph0\" class=\"graph\" transform=\"scale(1 1) rotate(0) translate(4 562)\">\n<polygon fill=\"white\" stroke=\"none\" points=\"-4,4 -4,-562 765.74,-562 765.74,4 -4,4\"/>\n<!-- 0 -->\n<g id=\"node1\" class=\"node\">\n<title>0</title>\n<ellipse fill=\"none\" stroke=\"black\" cx=\"38.35\" cy=\"-540\" rx=\"38.19\" ry=\"18\"/>\n<text text-anchor=\"middle\" x=\"38.35\" y=\"-536.3\" font-family=\"Times,serif\" font-size=\"14.00\">ex:Max</text>\n</g>\n<!-- 3 -->\n<g id=\"node4\" class=\"node\">\n<title>3</title>\n<ellipse fill=\"none\" stroke=\"black\" cx=\"559.35\" cy=\"-453\" rx=\"41.69\" ry=\"18\"/>\n<text text-anchor=\"middle\" x=\"559.35\" y=\"-449.3\" font-family=\"Times,serif\" font-size=\"14.00\">ex:Spike</text>\n</g>\n<!-- 0&#45;&gt;3 -->\n<g id=\"edge3\" class=\"edge\">\n<title>0&#45;&gt;3</title>\n<path fill=\"none\" stroke=\"black\" d=\"M74.16,-533.16C165.12,-518.32 405.25,-479.14 509.67,-462.1\"/>\n<polygon fill=\"black\" stroke=\"black\" points=\"510.03,-465.59 519.34,-460.53 508.9,-458.68 510.03,-465.59\"/>\n<text text-anchor=\"middle\" x=\"359.35\" y=\"-492.8\" font-family=\"Times,serif\" font-size=\"14.00\">ex:hasDog</text>\n</g>\n<!-- 11 -->\n<g id=\"node12\" class=\"node\">\n<title>11</title>\n<ellipse fill=\"none\" stroke=\"black\" cx=\"127.35\" cy=\"-192\" rx=\"48.19\" ry=\"18\"/>\n<text text-anchor=\"middle\" x=\"127.35\" y=\"-188.3\" font-family=\"Times,serif\" font-size=\"14.00\">ex:Human</text>\n</g>\n<!-- 0&#45;&gt;11 -->\n<g id=\"edge20\" class=\"edge\">\n<title>0&#45;&gt;11</title>\n<path fill=\"none\" stroke=\"black\" d=\"M33.2,-521.92C28.52,-504.88 22.35,-477.88 22.35,-454 22.35,-454 22.35,-454 22.35,-278 22.35,-245.21 53.67,-222.88 82.1,-209.37\"/>\n<polygon fill=\"black\" stroke=\"black\" points=\"83.29,-212.67 91,-205.4 80.44,-206.27 83.29,-212.67\"/>\n<text text-anchor=\"middle\" x=\"43.85\" y=\"-362.3\" font-family=\"Times,serif\" font-size=\"14.00\">rdf:type</text>\n</g>\n<!-- 1 -->\n<g id=\"node2\" class=\"node\">\n<title>1</title>\n<ellipse fill=\"none\" stroke=\"black\" cx=\"181.35\" cy=\"-366\" rx=\"48.19\" ry=\"18\"/>\n<text text-anchor=\"middle\" x=\"181.35\" y=\"-362.3\" font-family=\"Times,serif\" font-size=\"14.00\">ex:hasDog</text>\n</g>\n<!-- 6 -->\n<g id=\"node7\" class=\"node\">\n<title>6</title>\n<ellipse fill=\"none\" stroke=\"black\" cx=\"127.35\" cy=\"-279\" rx=\"44.39\" ry=\"18\"/>\n<text text-anchor=\"middle\" x=\"127.35\" y=\"-275.3\" font-family=\"Times,serif\" font-size=\"14.00\">ex:hasPet</text>\n</g>\n<!-- 1&#45;&gt;6 -->\n<g id=\"edge1\" class=\"edge\">\n<title>1&#45;&gt;6</title>\n<path fill=\"none\" stroke=\"black\" d=\"M150.82,-351.77C142,-346.36 133.4,-339.17 128.35,-330 124.81,-323.59 123.5,-315.98 123.33,-308.65\"/>\n<polygon fill=\"black\" stroke=\"black\" points=\"126.82,-308.9 123.8,-298.74 119.83,-308.56 126.82,-308.9\"/>\n<text text-anchor=\"middle\" x=\"180.85\" y=\"-318.8\" font-family=\"Times,serif\" font-size=\"14.00\">rdfs:subPropertyOf</text>\n</g>\n<!-- 7 -->\n<g id=\"node8\" class=\"node\">\n<title>7</title>\n<ellipse fill=\"none\" stroke=\"black\" cx=\"588.35\" cy=\"-279\" rx=\"46.29\" ry=\"18\"/>\n<text text-anchor=\"middle\" x=\"588.35\" y=\"-275.3\" font-family=\"Times,serif\" font-size=\"14.00\">ex:Canine</text>\n</g>\n<!-- 1&#45;&gt;7 -->\n<g id=\"edge23\" class=\"edge\">\n<title>1&#45;&gt;7</title>\n<path fill=\"none\" stroke=\"black\" d=\"M215.4,-352.95C249.39,-341.4 303.34,-324.39 351.35,-315 429.82,-299.65 451.87,-312.31 530.35,-297 534.4,-296.21 538.57,-295.26 542.73,-294.22\"/>\n<polygon fill=\"black\" stroke=\"black\" points=\"543.42,-297.66 552.18,-291.7 541.61,-290.9 543.42,-297.66\"/>\n<text text-anchor=\"middle\" x=\"378.85\" y=\"-318.8\" font-family=\"Times,serif\" font-size=\"14.00\">rdfs:range</text>\n</g>\n<!-- 2 -->\n<g id=\"node3\" class=\"node\">\n<title>2</title>\n<ellipse fill=\"none\" stroke=\"black\" cx=\"307.35\" cy=\"-366\" rx=\"35.19\" ry=\"18\"/>\n<text text-anchor=\"middle\" x=\"307.35\" y=\"-362.3\" font-family=\"Times,serif\" font-size=\"14.00\">ex:Fox</text>\n</g>\n<!-- 2&#45;&gt;7 -->\n<g id=\"edge7\" class=\"edge\">\n<title>2&#45;&gt;7</title>\n<path fill=\"none\" stroke=\"black\" d=\"M334.2,-354.18C339.83,-352.04 345.76,-349.87 351.35,-348 429.79,-321.73 450.88,-319.97 530.35,-297 533.87,-295.98 537.52,-294.92 541.19,-293.85\"/>\n<polygon fill=\"black\" stroke=\"black\" points=\"542.09,-297.24 550.71,-291.08 540.13,-290.52 542.09,-297.24\"/>\n<text text-anchor=\"middle\" x=\"483.85\" y=\"-318.8\" font-family=\"Times,serif\" font-size=\"14.00\">rdf:type</text>\n</g>\n<!-- 4 -->\n<g id=\"node5\" class=\"node\">\n<title>4</title>\n<polygon fill=\"none\" stroke=\"black\" points=\"593.85,-384 360.85,-384 360.85,-348 593.85,-348 593.85,-384\"/>\n<text text-anchor=\"middle\" x=\"477.35\" y=\"-362.3\" font-family=\"Times,serif\" font-size=\"14.00\">&quot;A gray bulldog. he likes to chase cats&quot;</text>\n</g>\n<!-- 3&#45;&gt;4 -->\n<g id=\"edge16\" class=\"edge\">\n<title>3&#45;&gt;4</title>\n<path fill=\"none\" stroke=\"black\" d=\"M538.29,-436.97C530.71,-431.12 522.31,-424.12 515.35,-417 508.3,-409.8 501.39,-401.28 495.43,-393.33\"/>\n<polygon fill=\"black\" stroke=\"black\" points=\"498.29,-391.31 489.59,-385.28 492.63,-395.42 498.29,-391.31\"/>\n<text text-anchor=\"middle\" x=\"553.85\" y=\"-405.8\" font-family=\"Times,serif\" font-size=\"14.00\">rdfs:comment</text>\n</g>\n<!-- 8 -->\n<g id=\"node9\" class=\"node\">\n<title>8</title>\n<ellipse fill=\"none\" stroke=\"black\" cx=\"725.35\" cy=\"-366\" rx=\"36.29\" ry=\"18\"/>\n<text text-anchor=\"middle\" x=\"725.35\" y=\"-362.3\" font-family=\"Times,serif\" font-size=\"14.00\">ex:Dog</text>\n</g>\n<!-- 3&#45;&gt;8 -->\n<g id=\"edge24\" class=\"edge\">\n<title>3&#45;&gt;8</title>\n<path fill=\"none\" stroke=\"black\" d=\"M594.55,-443.07C614.78,-437.17 640.28,-428.42 661.35,-417 675.14,-409.52 689.03,-399.1 700.33,-389.71\"/>\n<polygon fill=\"black\" stroke=\"black\" points=\"702.31,-392.61 707.64,-383.45 697.76,-387.3 702.31,-392.61\"/>\n<text text-anchor=\"middle\" x=\"705.85\" y=\"-405.8\" font-family=\"Times,serif\" font-size=\"14.00\">rdf:type</text>\n</g>\n<!-- 10 -->\n<g id=\"node11\" class=\"node\">\n<title>10</title>\n<polygon fill=\"none\" stroke=\"black\" points=\"670.85,-384 611.85,-384 611.85,-348 670.85,-348 670.85,-384\"/>\n<text text-anchor=\"middle\" x=\"641.35\" y=\"-362.3\" font-family=\"Times,serif\" font-size=\"14.00\">&quot;Spike&quot;</text>\n</g>\n<!-- 3&#45;&gt;10 -->\n<g id=\"edge11\" class=\"edge\">\n<title>3&#45;&gt;10</title>\n<path fill=\"none\" stroke=\"black\" d=\"M574.77,-436.01C586.64,-423.71 603.26,-406.48 616.93,-392.31\"/>\n<polygon fill=\"black\" stroke=\"black\" points=\"619.11,-395.1 623.53,-385.47 614.07,-390.24 619.11,-395.1\"/>\n<text text-anchor=\"middle\" x=\"631.35\" y=\"-405.8\" font-family=\"Times,serif\" font-size=\"14.00\">rdfs:label</text>\n</g>\n<!-- 5 -->\n<g id=\"node6\" class=\"node\">\n<title>5</title>\n<ellipse fill=\"none\" stroke=\"black\" cx=\"145.35\" cy=\"-105\" rx=\"53.89\" ry=\"18\"/>\n<text text-anchor=\"middle\" x=\"145.35\" y=\"-101.3\" font-family=\"Times,serif\" font-size=\"14.00\">rdfs:domain</text>\n</g>\n<!-- 9 -->\n<g id=\"node10\" class=\"node\">\n<title>9</title>\n<ellipse fill=\"none\" stroke=\"black\" cx=\"80.35\" cy=\"-18\" rx=\"53.89\" ry=\"18\"/>\n<text text-anchor=\"middle\" x=\"80.35\" y=\"-14.3\" font-family=\"Times,serif\" font-size=\"14.00\">rdf:Property</text>\n</g>\n<!-- 5&#45;&gt;9 -->\n<g id=\"edge6\" class=\"edge\">\n<title>5&#45;&gt;9</title>\n<path fill=\"none\" stroke=\"black\" d=\"M107.98,-91.75C97.57,-86.44 87.45,-79.07 81.35,-69 77.55,-62.74 76.15,-55.18 75.97,-47.86\"/>\n<polygon fill=\"black\" stroke=\"black\" points=\"79.46,-48.08 76.5,-37.91 72.47,-47.71 79.46,-48.08\"/>\n<text text-anchor=\"middle\" x=\"114.85\" y=\"-57.8\" font-family=\"Times,serif\" font-size=\"14.00\">rdfs:domain</text>\n</g>\n<!-- 14 -->\n<g id=\"node15\" class=\"node\">\n<title>14</title>\n<ellipse fill=\"none\" stroke=\"black\" cx=\"506.35\" cy=\"-18\" rx=\"46.29\" ry=\"18\"/>\n<text text-anchor=\"middle\" x=\"506.35\" y=\"-14.3\" font-family=\"Times,serif\" font-size=\"14.00\">rdfs:Class</text>\n</g>\n<!-- 5&#45;&gt;14 -->\n<g id=\"edge22\" class=\"edge\">\n<title>5&#45;&gt;14</title>\n<path fill=\"none\" stroke=\"black\" d=\"M148.32,-86.84C151.2,-75.63 156.77,-61.71 167.35,-54 210.79,-22.35 363.35,-18 448.24,-18.14\"/>\n<polygon fill=\"black\" stroke=\"black\" points=\"448.22,-21.63 458.24,-18.18 448.25,-14.64 448.22,-21.63\"/>\n<text text-anchor=\"middle\" x=\"194.85\" y=\"-57.8\" font-family=\"Times,serif\" font-size=\"14.00\">rdfs:range</text>\n</g>\n<!-- 6&#45;&gt;9 -->\n<g id=\"edge8\" class=\"edge\">\n<title>6&#45;&gt;9</title>\n<path fill=\"none\" stroke=\"black\" d=\"M108.52,-262.31C95.02,-249.76 77.93,-230.85 70.35,-210 50.34,-155 62.63,-85.19 72.22,-47.04\"/>\n<polygon fill=\"black\" stroke=\"black\" points=\"75.51,-48.29 74.68,-37.73 68.74,-46.5 75.51,-48.29\"/>\n<text text-anchor=\"middle\" x=\"81.85\" y=\"-144.8\" font-family=\"Times,serif\" font-size=\"14.00\">rdf:type</text>\n</g>\n<!-- 6&#45;&gt;11 -->\n<g id=\"edge17\" class=\"edge\">\n<title>6&#45;&gt;11</title>\n<path fill=\"none\" stroke=\"black\" d=\"M127.35,-260.8C127.35,-249.58 127.35,-234.67 127.35,-221.69\"/>\n<polygon fill=\"black\" stroke=\"black\" points=\"130.85,-221.98 127.35,-211.98 123.85,-221.98 130.85,-221.98\"/>\n<text text-anchor=\"middle\" x=\"160.85\" y=\"-231.8\" font-family=\"Times,serif\" font-size=\"14.00\">rdfs:domain</text>\n</g>\n<!-- 15 -->\n<g id=\"node16\" class=\"node\">\n<title>15</title>\n<ellipse fill=\"none\" stroke=\"black\" cx=\"545.35\" cy=\"-105\" rx=\"48.19\" ry=\"18\"/>\n<text text-anchor=\"middle\" x=\"545.35\" y=\"-101.3\" font-family=\"Times,serif\" font-size=\"14.00\">ex:Animal</text>\n</g>\n<!-- 6&#45;&gt;15 -->\n<g id=\"edge18\" class=\"edge\">\n<title>6&#45;&gt;15</title>\n<path fill=\"none\" stroke=\"black\" d=\"M157.74,-265.49C231.36,-235.2 419.3,-157.86 503.48,-123.23\"/>\n<polygon fill=\"black\" stroke=\"black\" points=\"504.61,-126.55 512.53,-119.5 501.95,-120.07 504.61,-126.55\"/>\n<text text-anchor=\"middle\" x=\"405.85\" y=\"-188.3\" font-family=\"Times,serif\" font-size=\"14.00\">rdfs:range</text>\n</g>\n<!-- 7&#45;&gt;14 -->\n<g id=\"edge14\" class=\"edge\">\n<title>7&#45;&gt;14</title>\n<path fill=\"none\" stroke=\"black\" d=\"M628.2,-269.57C643.74,-264.36 660.41,-256.08 671.35,-243 716.49,-189.03 735.34,-146.86 698.35,-87 670.58,-42.08 609.87,-26.42 564.1,-21.18\"/>\n<polygon fill=\"black\" stroke=\"black\" points=\"564.62,-17.72 554.32,-20.21 563.93,-24.68 564.62,-17.72\"/>\n<text text-anchor=\"middle\" x=\"738.85\" y=\"-144.8\" font-family=\"Times,serif\" font-size=\"14.00\">rdf:type</text>\n</g>\n<!-- 17 -->\n<g id=\"node18\" class=\"node\">\n<title>17</title>\n<ellipse fill=\"none\" stroke=\"black\" cx=\"567.35\" cy=\"-192\" rx=\"54.69\" ry=\"18\"/>\n<text text-anchor=\"middle\" x=\"567.35\" y=\"-188.3\" font-family=\"Times,serif\" font-size=\"14.00\">ex:Mammal</text>\n</g>\n<!-- 7&#45;&gt;17 -->\n<g id=\"edge2\" class=\"edge\">\n<title>7&#45;&gt;17</title>\n<path fill=\"none\" stroke=\"black\" d=\"M584.1,-260.8C581.28,-249.39 577.52,-234.16 574.27,-221.03\"/>\n<polygon fill=\"black\" stroke=\"black\" points=\"577.75,-220.51 571.95,-211.64 570.95,-222.19 577.75,-220.51\"/>\n<text text-anchor=\"middle\" x=\"623.35\" y=\"-231.8\" font-family=\"Times,serif\" font-size=\"14.00\">rdfs:subClassOf</text>\n</g>\n<!-- 8&#45;&gt;7 -->\n<g id=\"edge5\" class=\"edge\">\n<title>8&#45;&gt;7</title>\n<path fill=\"none\" stroke=\"black\" d=\"M703.34,-351.34C681.3,-337.67 647.11,-316.46 621.74,-300.72\"/>\n<polygon fill=\"black\" stroke=\"black\" points=\"623.77,-297.86 613.43,-295.56 620.08,-303.81 623.77,-297.86\"/>\n<text text-anchor=\"middle\" x=\"686.85\" y=\"-318.8\" font-family=\"Times,serif\" font-size=\"14.00\">rdf:type</text>\n</g>\n<!-- 11&#45;&gt;15 -->\n<g id=\"edge12\" class=\"edge\">\n<title>11&#45;&gt;15</title>\n<path fill=\"none\" stroke=\"black\" d=\"M156.46,-177.33C182.93,-165.57 223.39,-149.23 260.35,-141 359.56,-118.9 388.42,-141.63 488.35,-123 491.95,-122.33 495.65,-121.52 499.35,-120.61\"/>\n<polygon fill=\"black\" stroke=\"black\" points=\"500.13,-124.03 508.9,-118.08 498.33,-117.26 500.13,-124.03\"/>\n<text text-anchor=\"middle\" x=\"304.35\" y=\"-144.8\" font-family=\"Times,serif\" font-size=\"14.00\">rdfs:subClassOf</text>\n</g>\n<!-- 12 -->\n<g id=\"node13\" class=\"node\">\n<title>12</title>\n<ellipse fill=\"none\" stroke=\"black\" cx=\"477.35\" cy=\"-279\" rx=\"43.59\" ry=\"18\"/>\n<text text-anchor=\"middle\" x=\"477.35\" y=\"-275.3\" font-family=\"Times,serif\" font-size=\"14.00\">ex:Feline</text>\n</g>\n<!-- 12&#45;&gt;17 -->\n<g id=\"edge9\" class=\"edge\">\n<title>12&#45;&gt;17</title>\n<path fill=\"none\" stroke=\"black\" d=\"M476.13,-260.61C476.3,-250.15 478.2,-237.15 485.35,-228 492.35,-219.03 502.09,-212.33 512.42,-207.33\"/>\n<polygon fill=\"black\" stroke=\"black\" points=\"513.65,-210.61 521.47,-203.47 510.9,-204.17 513.65,-210.61\"/>\n<text text-anchor=\"middle\" x=\"529.35\" y=\"-231.8\" font-family=\"Times,serif\" font-size=\"14.00\">rdfs:subClassOf</text>\n</g>\n<!-- 13 -->\n<g id=\"node14\" class=\"node\">\n<title>13</title>\n<ellipse fill=\"none\" stroke=\"black\" cx=\"263.35\" cy=\"-105\" rx=\"46.29\" ry=\"18\"/>\n<text text-anchor=\"middle\" x=\"263.35\" y=\"-101.3\" font-family=\"Times,serif\" font-size=\"14.00\">rdfs:range</text>\n</g>\n<!-- 13&#45;&gt;9 -->\n<g id=\"edge21\" class=\"edge\">\n<title>13&#45;&gt;9</title>\n<path fill=\"none\" stroke=\"black\" d=\"M254.93,-87.16C248.56,-76.11 238.77,-62.22 226.35,-54 202.09,-37.95 171.25,-29.25 144.17,-24.53\"/>\n<polygon fill=\"black\" stroke=\"black\" points=\"144.74,-21.08 134.32,-22.98 143.65,-27.99 144.74,-21.08\"/>\n<text text-anchor=\"middle\" x=\"276.85\" y=\"-57.8\" font-family=\"Times,serif\" font-size=\"14.00\">rdfs:domain</text>\n</g>\n<!-- 13&#45;&gt;14 -->\n<g id=\"edge19\" class=\"edge\">\n<title>13&#45;&gt;14</title>\n<path fill=\"none\" stroke=\"black\" d=\"M285.03,-88.87C301.87,-77.75 326.19,-63.06 349.35,-54 382.47,-41.04 421.49,-32.31 452.35,-26.81\"/>\n<polygon fill=\"black\" stroke=\"black\" points=\"452.56,-30.33 461.83,-25.19 451.38,-23.43 452.56,-30.33\"/>\n<text text-anchor=\"middle\" x=\"376.85\" y=\"-57.8\" font-family=\"Times,serif\" font-size=\"14.00\">rdfs:range</text>\n</g>\n<!-- 15&#45;&gt;14 -->\n<g id=\"edge10\" class=\"edge\">\n<title>15&#45;&gt;14</title>\n<path fill=\"none\" stroke=\"black\" d=\"M557.85,-87.16C563.65,-77.16 568.12,-64.42 562.35,-54 558.81,-47.62 553.57,-42.24 547.69,-37.77\"/>\n<polygon fill=\"black\" stroke=\"black\" points=\"549.63,-34.86 539.35,-32.31 545.79,-40.71 549.63,-34.86\"/>\n<text text-anchor=\"middle\" x=\"586.85\" y=\"-57.8\" font-family=\"Times,serif\" font-size=\"14.00\">rdf:type</text>\n</g>\n<!-- 16 -->\n<g id=\"node17\" class=\"node\">\n<title>16</title>\n<ellipse fill=\"none\" stroke=\"black\" cx=\"411.35\" cy=\"-105\" rx=\"67.69\" ry=\"18\"/>\n<text text-anchor=\"middle\" x=\"411.35\" y=\"-101.3\" font-family=\"Times,serif\" font-size=\"14.00\">rdfs:subClassOf</text>\n</g>\n<!-- 16&#45;&gt;14 -->\n<g id=\"edge13\" class=\"edge\">\n<title>16&#45;&gt;14</title>\n<path fill=\"none\" stroke=\"black\" d=\"M452.53,-90.4C463.91,-85.11 475.55,-78.09 484.35,-69 490.35,-62.79 494.87,-54.67 498.2,-46.79\"/>\n<polygon fill=\"black\" stroke=\"black\" points=\"501.47,-48.04 501.62,-37.44 494.9,-45.63 501.47,-48.04\"/>\n<text text-anchor=\"middle\" x=\"522.85\" y=\"-57.8\" font-family=\"Times,serif\" font-size=\"14.00\">rdfs:range</text>\n</g>\n<!-- 16&#45;&gt;14 -->\n<g id=\"edge25\" class=\"edge\">\n<title>16&#45;&gt;14</title>\n<path fill=\"none\" stroke=\"black\" d=\"M407.57,-86.72C406.31,-76.3 406.63,-63.3 413.35,-54 422.61,-41.17 437.18,-33.04 452.06,-27.89\"/>\n<polygon fill=\"black\" stroke=\"black\" points=\"452.85,-31.31 461.43,-25.08 450.84,-24.6 452.85,-31.31\"/>\n<text text-anchor=\"middle\" x=\"446.85\" y=\"-57.8\" font-family=\"Times,serif\" font-size=\"14.00\">rdfs:domain</text>\n</g>\n<!-- 17&#45;&gt;14 -->\n<g id=\"edge4\" class=\"edge\">\n<title>17&#45;&gt;14</title>\n<path fill=\"none\" stroke=\"black\" d=\"M603.76,-178.11C613.46,-172.82 622.78,-165.61 628.35,-156 643.28,-130.22 677.87,-129.18 612.35,-54 599.58,-39.35 580.56,-30.81 562.13,-25.84\"/>\n<polygon fill=\"black\" stroke=\"black\" points=\"563.11,-22.47 552.58,-23.59 561.51,-29.29 563.11,-22.47\"/>\n<text text-anchor=\"middle\" x=\"672.85\" y=\"-101.3\" font-family=\"Times,serif\" font-size=\"14.00\">rdf:type</text>\n</g>\n<!-- 17&#45;&gt;15 -->\n<g id=\"edge15\" class=\"edge\">\n<title>17&#45;&gt;15</title>\n<path fill=\"none\" stroke=\"black\" d=\"M551.11,-174.54C546.75,-169.08 542.62,-162.68 540.35,-156 538.01,-149.15 537.71,-141.48 538.38,-134.25\"/>\n<polygon fill=\"black\" stroke=\"black\" points=\"541.81,-134.99 539.91,-124.57 534.89,-133.9 541.81,-134.99\"/>\n<text text-anchor=\"middle\" x=\"584.35\" y=\"-144.8\" font-family=\"Times,serif\" font-size=\"14.00\">rdfs:subClassOf</text>\n</g>\n</g>\n</svg>\n",
      "text/plain": [
       "<graphviz.graphs.Digraph at 0x105527130>"
      ]
     },
     "metadata": {},
     "output_type": "display_data"
    }
   ],
   "source": [
    "%%rdf turtle -l pets\n",
    "# These are just some axiomatic triples. Do not remove them.\n",
    "rdfs:subClassOf rdfs:domain rdfs:Class .\n",
    "rdfs:subClassOf rdfs:range rdfs:Class .\n",
    "rdfs:range rdfs:range rdfs:Class .\n",
    "rdfs:range rdfs:domain rdf:Property .\n",
    "rdfs:domain rdfs:range rdfs:Class .\n",
    "rdfs:domain rdfs:domain rdf:Property .\n",
    "\n",
    "### YOUR SOLUTION HERE\n",
    "@prefix ex:<http://example.org/#> .\n",
    "\n",
    "\n",
    "### Declare the classes & properties\n",
    "ex:Animal a rdfs:Class .\n",
    "ex:Mammal a rdfs:Class .\n",
    "ex:Canine a rdfs:Class .\n",
    "ex:hasPet a rdf:Property . \n",
    "\n",
    "\n",
    "### Declare the subClassOf relations & subPropertyOf relations\n",
    "ex:Mammal rdfs:subClassOf ex:Animal .\n",
    "ex:Human rdfs:subClassOf ex:Animal .\n",
    "ex:Canine rdfs:subClassOf ex:Mammal .\n",
    "ex:Feline rdfs:subClassOf ex:Mammal .\n",
    "ex:hasDog rdfs:subPropertyOf ex:hasPet .\n",
    "\n",
    "###Domain & Range\n",
    "ex:hasPet rdfs:domain ex:Human .\n",
    "ex:hasPet rdfs:range ex:Animal .\n",
    "ex:hasDog rdfs:range ex:Canine .\n",
    "\n",
    "###facts\n",
    "ex:Max a ex:Human .\n",
    "ex:Fox a ex:Canine .\n",
    "ex:Dog a ex:Canine .\n",
    "ex:Spike a ex:Dog .\n",
    "\n",
    "### triples\n",
    "ex:Max ex:hasDog ex:Spike .\n",
    "ex:Spike rdfs:label \"Spike\" .\n",
    "ex:Spike rdfs:comment \"A gray bulldog. he likes to chase cats\" .\n",
    "\n",
    "\n"
   ]
  },
  {
   "cell_type": "markdown",
   "metadata": {
    "deletable": false,
    "editable": false,
    "nbgrader": {
     "cell_type": "markdown",
     "checksum": "6e2624d1f00a5fae8cf82f825ee61616",
     "grade": false,
     "grade_id": "cell-5aed95188f6f9a1d",
     "locked": true,
     "schema_version": 3,
     "solution": false,
     "task": false
    }
   },
   "source": [
    "The cell below will automatically compute the closure of the rdfs-entailment for your graph. The extension uses a brute-force approach and only a finite set of axiomatic triples. It also omits most axiomatic triples to make the graph less cluttered so the closure will not be complete but best-effort. Note that this graph grows quite quickly."
   ]
  },
  {
   "cell_type": "code",
   "execution_count": 15,
   "metadata": {
    "deletable": false,
    "editable": false,
    "nbgrader": {
     "cell_type": "code",
     "checksum": "4cab0e2209ac2db99010c9005ed4e53b",
     "grade": false,
     "grade_id": "cell-172648f531b503d8",
     "locked": true,
     "schema_version": 3,
     "solution": false,
     "task": false
    }
   },
   "outputs": [
    {
     "name": "stdout",
     "output_type": "stream",
     "text": [
      "Graphman: Graph labelled 'pets' has been entailed using the RDFS regime.\n"
     ]
    },
    {
     "data": {
      "image/svg+xml": "<?xml version=\"1.0\" encoding=\"UTF-8\" standalone=\"no\"?>\n<!DOCTYPE svg PUBLIC \"-//W3C//DTD SVG 1.1//EN\"\n \"http://www.w3.org/Graphics/SVG/1.1/DTD/svg11.dtd\">\n<!-- Generated by graphviz version 7.0.1 (20221109.1506)\n -->\n<!-- Pages: 1 -->\n<svg width=\"3552pt\" height=\"695pt\"\n viewBox=\"0.00 0.00 3552.00 695.00\" xmlns=\"http://www.w3.org/2000/svg\" xmlns:xlink=\"http://www.w3.org/1999/xlink\">\n<g id=\"graph0\" class=\"graph\" transform=\"scale(1 1) rotate(0) translate(4 691)\">\n<polygon fill=\"white\" stroke=\"none\" points=\"-4,4 -4,-691 3548,-691 3548,4 -4,4\"/>\n<!-- 0 -->\n<g id=\"node1\" class=\"node\">\n<title>0</title>\n<ellipse fill=\"none\" stroke=\"black\" cx=\"551\" cy=\"-669\" rx=\"38.19\" ry=\"18\"/>\n<text text-anchor=\"middle\" x=\"551\" y=\"-665.3\" font-family=\"Times,serif\" font-size=\"14.00\">ex:Max</text>\n</g>\n<!-- 2 -->\n<g id=\"node3\" class=\"node\">\n<title>2</title>\n<ellipse fill=\"none\" stroke=\"black\" cx=\"470\" cy=\"-582\" rx=\"41.69\" ry=\"18\"/>\n<text text-anchor=\"middle\" x=\"470\" y=\"-578.3\" font-family=\"Times,serif\" font-size=\"14.00\">ex:Spike</text>\n</g>\n<!-- 0&#45;&gt;2 -->\n<g id=\"edge83\" class=\"edge\">\n<title>0&#45;&gt;2</title>\n<path fill=\"none\" stroke=\"black\" d=\"M546.36,-650.77C542.89,-640.37 537.3,-627.37 529,-618 523.23,-611.49 515.96,-605.85 508.5,-601.11\"/>\n<polygon fill=\"black\" stroke=\"black\" points=\"510.42,-598.17 500.02,-596.16 506.89,-604.22 510.42,-598.17\"/>\n<text text-anchor=\"middle\" x=\"565\" y=\"-621.8\" font-family=\"Times,serif\" font-size=\"14.00\">ex:hasPet</text>\n</g>\n<!-- 0&#45;&gt;2 -->\n<g id=\"edge85\" class=\"edge\">\n<title>0&#45;&gt;2</title>\n<path fill=\"none\" stroke=\"black\" d=\"M514.84,-662.45C497.27,-657.74 477.69,-649.04 467,-633 462.82,-626.73 461.81,-618.98 462.31,-611.47\"/>\n<polygon fill=\"black\" stroke=\"black\" points=\"465.77,-612.02 463.85,-601.6 458.85,-610.94 465.77,-612.02\"/>\n<text text-anchor=\"middle\" x=\"496\" y=\"-621.8\" font-family=\"Times,serif\" font-size=\"14.00\">ex:hasDog</text>\n</g>\n<!-- 5 -->\n<g id=\"node6\" class=\"node\">\n<title>5</title>\n<ellipse fill=\"none\" stroke=\"black\" cx=\"955\" cy=\"-192\" rx=\"48.19\" ry=\"18\"/>\n<text text-anchor=\"middle\" x=\"955\" y=\"-188.3\" font-family=\"Times,serif\" font-size=\"14.00\">ex:Animal</text>\n</g>\n<!-- 0&#45;&gt;5 -->\n<g id=\"edge32\" class=\"edge\">\n<title>0&#45;&gt;5</title>\n<path fill=\"none\" stroke=\"black\" d=\"M588.9,-665.33C702.76,-656.8 1034,-628.13 1034,-583 1034,-583 1034,-583 1034,-440 1034,-342.43 1016.06,-317.41 977,-228 975.78,-225.2 974.35,-222.36 972.82,-219.58\"/>\n<polygon fill=\"black\" stroke=\"black\" points=\"975.94,-217.97 967.81,-211.18 969.93,-221.56 975.94,-217.97\"/>\n<text text-anchor=\"middle\" x=\"1055.5\" y=\"-437.3\" font-family=\"Times,serif\" font-size=\"14.00\">rdf:type</text>\n</g>\n<!-- 11 -->\n<g id=\"node12\" class=\"node\">\n<title>11</title>\n<ellipse fill=\"none\" stroke=\"black\" cx=\"1360\" cy=\"-279\" rx=\"48.19\" ry=\"18\"/>\n<text text-anchor=\"middle\" x=\"1360\" y=\"-275.3\" font-family=\"Times,serif\" font-size=\"14.00\">ex:Human</text>\n</g>\n<!-- 0&#45;&gt;11 -->\n<g id=\"edge25\" class=\"edge\">\n<title>0&#45;&gt;11</title>\n<path fill=\"none\" stroke=\"black\" d=\"M589.11,-666.49C762.09,-659.37 1465,-627.72 1465,-583 1465,-583 1465,-583 1465,-386 1465,-347.02 1428.72,-317.24 1398.81,-299.31\"/>\n<polygon fill=\"black\" stroke=\"black\" points=\"1400.7,-296.36 1390.28,-294.44 1397.23,-302.44 1400.7,-296.36\"/>\n<text text-anchor=\"middle\" x=\"1486.5\" y=\"-491.3\" font-family=\"Times,serif\" font-size=\"14.00\">rdf:type</text>\n</g>\n<!-- 17 -->\n<g id=\"node18\" class=\"node\">\n<title>17</title>\n<ellipse fill=\"none\" stroke=\"black\" cx=\"1321\" cy=\"-18\" rx=\"59.59\" ry=\"18\"/>\n<text text-anchor=\"middle\" x=\"1321\" y=\"-14.3\" font-family=\"Times,serif\" font-size=\"14.00\">rdfs:Resource</text>\n</g>\n<!-- 0&#45;&gt;17 -->\n<g id=\"edge42\" class=\"edge\">\n<title>0&#45;&gt;17</title>\n<path fill=\"none\" stroke=\"black\" d=\"M513.13,-666.16C388.64,-659.62 0,-635.03 0,-583 0,-583 0,-583 0,-104 0,-62.82 38.65,-66.13 78,-54 189.76,-19.54 1002.86,-18.34 1249.96,-18.78\"/>\n<polygon fill=\"black\" stroke=\"black\" points=\"1249.78,-22.28 1259.79,-18.8 1249.79,-15.28 1249.78,-22.28\"/>\n<text text-anchor=\"middle\" x=\"21.5\" y=\"-329.3\" font-family=\"Times,serif\" font-size=\"14.00\">rdf:type</text>\n</g>\n<!-- 1 -->\n<g id=\"node2\" class=\"node\">\n<title>1</title>\n<ellipse fill=\"none\" stroke=\"black\" cx=\"466\" cy=\"-495\" rx=\"35.19\" ry=\"18\"/>\n<text text-anchor=\"middle\" x=\"466\" y=\"-491.3\" font-family=\"Times,serif\" font-size=\"14.00\">ex:Fox</text>\n</g>\n<!-- 1&#45;&gt;5 -->\n<g id=\"edge73\" class=\"edge\">\n<title>1&#45;&gt;5</title>\n<path fill=\"none\" stroke=\"black\" d=\"M490.95,-481.87C495.84,-479.93 501.01,-478.18 506,-477 537.09,-469.65 766.93,-477.47 793,-459 849.72,-418.82 817.9,-374.4 854,-315 876.29,-278.33 908.94,-241.03 931.03,-217.5\"/>\n<polygon fill=\"black\" stroke=\"black\" points=\"933.54,-219.94 937.9,-210.28 928.47,-215.11 933.54,-219.94\"/>\n<text text-anchor=\"middle\" x=\"875.5\" y=\"-329.3\" font-family=\"Times,serif\" font-size=\"14.00\">rdf:type</text>\n</g>\n<!-- 12 -->\n<g id=\"node13\" class=\"node\">\n<title>12</title>\n<ellipse fill=\"none\" stroke=\"black\" cx=\"548\" cy=\"-387\" rx=\"46.29\" ry=\"18\"/>\n<text text-anchor=\"middle\" x=\"548\" y=\"-383.3\" font-family=\"Times,serif\" font-size=\"14.00\">ex:Canine</text>\n</g>\n<!-- 1&#45;&gt;12 -->\n<g id=\"edge40\" class=\"edge\">\n<title>1&#45;&gt;12</title>\n<path fill=\"none\" stroke=\"black\" d=\"M468.11,-476.59C470.75,-461.11 476.54,-438.59 489,-423 494.11,-416.6 500.73,-411.12 507.69,-406.52\"/>\n<polygon fill=\"black\" stroke=\"black\" points=\"509.18,-409.7 515.96,-401.56 505.58,-403.7 509.18,-409.7\"/>\n<text text-anchor=\"middle\" x=\"510.5\" y=\"-437.3\" font-family=\"Times,serif\" font-size=\"14.00\">rdf:type</text>\n</g>\n<!-- 1&#45;&gt;17 -->\n<g id=\"edge24\" class=\"edge\">\n<title>1&#45;&gt;17</title>\n<path fill=\"none\" stroke=\"black\" d=\"M434.91,-486.24C419.46,-480.92 401.66,-472.35 390,-459 345.98,-408.6 383.28,-370.58 346,-315 338.96,-304.51 331.08,-307.46 324,-297 308.21,-273.65 305,-264.68 305,-236.5 305,-236.5 305,-236.5 305,-104 305,-58.63 350.33,-66.31 394,-54 475.4,-31.05 1047.29,-22.2 1249.98,-19.76\"/>\n<polygon fill=\"black\" stroke=\"black\" points=\"1249.89,-23.26 1259.85,-19.64 1249.81,-16.26 1249.89,-23.26\"/>\n<text text-anchor=\"middle\" x=\"327.5\" y=\"-231.8\" font-family=\"Times,serif\" font-size=\"14.00\">rdf:type</text>\n</g>\n<!-- 22 -->\n<g id=\"node23\" class=\"node\">\n<title>22</title>\n<ellipse fill=\"none\" stroke=\"black\" cx=\"388\" cy=\"-279\" rx=\"54.69\" ry=\"18\"/>\n<text text-anchor=\"middle\" x=\"388\" y=\"-275.3\" font-family=\"Times,serif\" font-size=\"14.00\">ex:Mammal</text>\n</g>\n<!-- 1&#45;&gt;22 -->\n<g id=\"edge67\" class=\"edge\">\n<title>1&#45;&gt;22</title>\n<path fill=\"none\" stroke=\"black\" d=\"M461.93,-476.73C453.95,-444.22 434.78,-372.06 409,-315 407.8,-312.34 406.44,-309.64 405.01,-306.97\"/>\n<polygon fill=\"black\" stroke=\"black\" points=\"408.06,-305.25 400.04,-298.33 402,-308.74 408.06,-305.25\"/>\n<text text-anchor=\"middle\" x=\"463.5\" y=\"-383.3\" font-family=\"Times,serif\" font-size=\"14.00\">rdf:type</text>\n</g>\n<!-- 2&#45;&gt;5 -->\n<g id=\"edge55\" class=\"edge\">\n<title>2&#45;&gt;5</title>\n<path fill=\"none\" stroke=\"black\" d=\"M511.81,-579.68C592.72,-574.98 772.31,-553.79 881,-459 925.82,-419.91 941.53,-407.53 960,-351 974.21,-307.51 967.79,-253.66 961.59,-221.39\"/>\n<polygon fill=\"black\" stroke=\"black\" points=\"965.02,-220.71 959.57,-211.62 958.17,-222.12 965.02,-220.71\"/>\n<text text-anchor=\"middle\" x=\"974.5\" y=\"-383.3\" font-family=\"Times,serif\" font-size=\"14.00\">rdf:type</text>\n</g>\n<!-- 9 -->\n<g id=\"node10\" class=\"node\">\n<title>9</title>\n<ellipse fill=\"none\" stroke=\"black\" cx=\"736\" cy=\"-495\" rx=\"36.29\" ry=\"18\"/>\n<text text-anchor=\"middle\" x=\"736\" y=\"-491.3\" font-family=\"Times,serif\" font-size=\"14.00\">ex:Dog</text>\n</g>\n<!-- 2&#45;&gt;9 -->\n<g id=\"edge95\" class=\"edge\">\n<title>2&#45;&gt;9</title>\n<path fill=\"none\" stroke=\"black\" d=\"M502.88,-570.49C551.55,-554.94 642.66,-525.83 695.41,-508.97\"/>\n<polygon fill=\"black\" stroke=\"black\" points=\"696.15,-512.41 704.61,-506.03 694.02,-505.74 696.15,-512.41\"/>\n<text text-anchor=\"middle\" x=\"639.5\" y=\"-534.8\" font-family=\"Times,serif\" font-size=\"14.00\">rdf:type</text>\n</g>\n<!-- 2&#45;&gt;12 -->\n<g id=\"edge21\" class=\"edge\">\n<title>2&#45;&gt;12</title>\n<path fill=\"none\" stroke=\"black\" d=\"M480.73,-564.33C489.21,-550.79 501.07,-531.05 510,-513 521.49,-489.77 524.24,-483.73 532,-459 536.32,-445.25 539.97,-429.65 542.68,-416.59\"/>\n<polygon fill=\"black\" stroke=\"black\" points=\"546.09,-417.4 544.61,-406.91 539.22,-416.03 546.09,-417.4\"/>\n<text text-anchor=\"middle\" x=\"547.5\" y=\"-491.3\" font-family=\"Times,serif\" font-size=\"14.00\">rdf:type</text>\n</g>\n<!-- 16 -->\n<g id=\"node17\" class=\"node\">\n<title>16</title>\n<polygon fill=\"none\" stroke=\"black\" points=\"344.5,-351 111.5,-351 111.5,-315 344.5,-315 344.5,-351\"/>\n<text text-anchor=\"middle\" x=\"228\" y=\"-329.3\" font-family=\"Times,serif\" font-size=\"14.00\">&quot;A gray bulldog. he likes to chase cats&quot;</text>\n</g>\n<!-- 2&#45;&gt;16 -->\n<g id=\"edge71\" class=\"edge\">\n<title>2&#45;&gt;16</title>\n<path fill=\"none\" stroke=\"black\" d=\"M431.97,-574.3C394.88,-565.92 339.07,-548.18 304,-513 261.87,-470.72 241.68,-401.47 233.22,-362.66\"/>\n<polygon fill=\"black\" stroke=\"black\" points=\"236.66,-362.01 231.23,-352.92 229.81,-363.42 236.66,-362.01\"/>\n<text text-anchor=\"middle\" x=\"342.5\" y=\"-491.3\" font-family=\"Times,serif\" font-size=\"14.00\">rdfs:comment</text>\n</g>\n<!-- 2&#45;&gt;17 -->\n<g id=\"edge4\" class=\"edge\">\n<title>2&#45;&gt;17</title>\n<path fill=\"none\" stroke=\"black\" d=\"M428.23,-581.14C323.49,-580.38 58,-571.04 58,-496 58,-496 58,-496 58,-104 58,-59.79 101.49,-66.14 144,-54 249.89,-23.76 1011.35,-19.63 1249.8,-19.08\"/>\n<polygon fill=\"black\" stroke=\"black\" points=\"1249.59,-22.58 1259.58,-19.06 1249.57,-15.58 1249.59,-22.58\"/>\n<text text-anchor=\"middle\" x=\"79.5\" y=\"-275.3\" font-family=\"Times,serif\" font-size=\"14.00\">rdf:type</text>\n</g>\n<!-- 18 -->\n<g id=\"node19\" class=\"node\">\n<title>18</title>\n<polygon fill=\"none\" stroke=\"black\" points=\"160.5,-459 101.5,-459 101.5,-423 160.5,-423 160.5,-459\"/>\n<text text-anchor=\"middle\" x=\"131\" y=\"-437.3\" font-family=\"Times,serif\" font-size=\"14.00\">&quot;Spike&quot;</text>\n</g>\n<!-- 2&#45;&gt;18 -->\n<g id=\"edge12\" class=\"edge\">\n<title>2&#45;&gt;18</title>\n<path fill=\"none\" stroke=\"black\" d=\"M428.24,-580.29C359.93,-578.4 228.07,-571.47 190,-546 163.49,-528.26 147.54,-494.35 139.04,-470.07\"/>\n<polygon fill=\"black\" stroke=\"black\" points=\"142.44,-469.22 136.01,-460.8 135.79,-471.39 142.44,-469.22\"/>\n<text text-anchor=\"middle\" x=\"216\" y=\"-534.8\" font-family=\"Times,serif\" font-size=\"14.00\">rdfs:label</text>\n</g>\n<!-- 2&#45;&gt;22 -->\n<g id=\"edge16\" class=\"edge\">\n<title>2&#45;&gt;22</title>\n<path fill=\"none\" stroke=\"black\" d=\"M456.77,-564.69C446.38,-551.36 432.05,-531.71 422,-513 386.3,-446.52 384.41,-354.78 386.13,-308.77\"/>\n<polygon fill=\"black\" stroke=\"black\" points=\"389.62,-308.98 386.6,-298.83 382.63,-308.65 389.62,-308.98\"/>\n<text text-anchor=\"middle\" x=\"422.5\" y=\"-437.3\" font-family=\"Times,serif\" font-size=\"14.00\">rdf:type</text>\n</g>\n<!-- 3 -->\n<g id=\"node4\" class=\"node\">\n<title>3</title>\n<ellipse fill=\"none\" stroke=\"black\" cx=\"1931\" cy=\"-279\" rx=\"46.29\" ry=\"18\"/>\n<text text-anchor=\"middle\" x=\"1931\" y=\"-275.3\" font-family=\"Times,serif\" font-size=\"14.00\">rdfs:range</text>\n</g>\n<!-- 3&#45;&gt;3 -->\n<g id=\"edge23\" class=\"edge\">\n<title>3&#45;&gt;3</title>\n<path fill=\"none\" stroke=\"black\" d=\"M1972.95,-287.14C1985.43,-286.9 1995.15,-284.18 1995.15,-279 1995.15,-275.52 1990.76,-273.15 1984.1,-271.9\"/>\n<polygon fill=\"black\" stroke=\"black\" points=\"1984.74,-268.44 1974.46,-271 1984.09,-275.41 1984.74,-268.44\"/>\n<text text-anchor=\"middle\" x=\"2047.65\" y=\"-275.3\" font-family=\"Times,serif\" font-size=\"14.00\">rdfs:subPropertyOf</text>\n</g>\n<!-- 10 -->\n<g id=\"node11\" class=\"node\">\n<title>10</title>\n<ellipse fill=\"none\" stroke=\"black\" cx=\"2232\" cy=\"-192\" rx=\"53.89\" ry=\"18\"/>\n<text text-anchor=\"middle\" x=\"2232\" y=\"-188.3\" font-family=\"Times,serif\" font-size=\"14.00\">rdf:Property</text>\n</g>\n<!-- 3&#45;&gt;10 -->\n<g id=\"edge26\" class=\"edge\">\n<title>3&#45;&gt;10</title>\n<path fill=\"none\" stroke=\"black\" d=\"M1937.81,-260.77C1943.19,-249.54 1951.83,-235.61 1964,-228 1981.05,-217.34 2095.47,-205.26 2169.19,-198.44\"/>\n<polygon fill=\"black\" stroke=\"black\" points=\"2169.05,-201.97 2178.69,-197.57 2168.42,-195 2169.05,-201.97\"/>\n<text text-anchor=\"middle\" x=\"1997.5\" y=\"-231.8\" font-family=\"Times,serif\" font-size=\"14.00\">rdfs:domain</text>\n</g>\n<!-- 3&#45;&gt;10 -->\n<g id=\"edge89\" class=\"edge\">\n<title>3&#45;&gt;10</title>\n<path fill=\"none\" stroke=\"black\" d=\"M1964.65,-266.19C2001.2,-253.44 2057.27,-234.14 2079,-228 2110.71,-219.04 2146.61,-210.73 2175.66,-204.46\"/>\n<polygon fill=\"black\" stroke=\"black\" points=\"2176.31,-207.9 2185.36,-202.39 2174.85,-201.06 2176.31,-207.9\"/>\n<text text-anchor=\"middle\" x=\"2100.5\" y=\"-231.8\" font-family=\"Times,serif\" font-size=\"14.00\">rdf:type</text>\n</g>\n<!-- 13 -->\n<g id=\"node14\" class=\"node\">\n<title>13</title>\n<ellipse fill=\"none\" stroke=\"black\" cx=\"1585\" cy=\"-105\" rx=\"46.29\" ry=\"18\"/>\n<text text-anchor=\"middle\" x=\"1585\" y=\"-101.3\" font-family=\"Times,serif\" font-size=\"14.00\">rdfs:Class</text>\n</g>\n<!-- 3&#45;&gt;13 -->\n<g id=\"edge50\" class=\"edge\">\n<title>3&#45;&gt;13</title>\n<path fill=\"none\" stroke=\"black\" d=\"M1895.15,-267.19C1878.8,-261.37 1859.66,-253.27 1844,-243 1807.47,-219.05 1810.72,-197.66 1774,-174 1739.58,-151.83 1726.5,-154.92 1688,-141 1669.17,-134.19 1648.28,-127.02 1630.26,-120.96\"/>\n<polygon fill=\"black\" stroke=\"black\" points=\"1631.48,-117.67 1620.88,-117.82 1629.25,-124.31 1631.48,-117.67\"/>\n<text text-anchor=\"middle\" x=\"1837.5\" y=\"-188.3\" font-family=\"Times,serif\" font-size=\"14.00\">rdfs:range</text>\n</g>\n<!-- 3&#45;&gt;17 -->\n<g id=\"edge48\" class=\"edge\">\n<title>3&#45;&gt;17</title>\n<path fill=\"none\" stroke=\"black\" d=\"M1931.14,-260.96C1932.16,-250.11 1935.28,-236.53 1944,-228 1968.81,-203.72 1998.47,-237.23 2020,-210 2029.92,-197.45 2028.5,-187.55 2020,-174 1953.65,-68.24 1887,-84.77 1766,-54 1697.07,-36.47 1498.2,-26.09 1391.17,-21.61\"/>\n<polygon fill=\"black\" stroke=\"black\" points=\"1391.49,-18.12 1381.36,-21.21 1391.21,-25.12 1391.49,-18.12\"/>\n<text text-anchor=\"middle\" x=\"2028.5\" y=\"-144.8\" font-family=\"Times,serif\" font-size=\"14.00\">rdf:type</text>\n</g>\n<!-- 4 -->\n<g id=\"node5\" class=\"node\">\n<title>4</title>\n<ellipse fill=\"none\" stroke=\"black\" cx=\"2544\" cy=\"-279\" rx=\"60.39\" ry=\"18\"/>\n<text text-anchor=\"middle\" x=\"2544\" y=\"-275.3\" font-family=\"Times,serif\" font-size=\"14.00\">rdfs:comment</text>\n</g>\n<!-- 4&#45;&gt;4 -->\n<g id=\"edge68\" class=\"edge\">\n<title>4&#45;&gt;4</title>\n<path fill=\"none\" stroke=\"black\" d=\"M2598.62,-287.04C2612.26,-286.48 2622.44,-283.8 2622.44,-279 2622.44,-275.66 2617.52,-273.35 2609.93,-272.06\"/>\n<polygon fill=\"black\" stroke=\"black\" points=\"2610.42,-268.59 2600.13,-271.1 2609.74,-275.56 2610.42,-268.59\"/>\n<text text-anchor=\"middle\" x=\"2674.94\" y=\"-275.3\" font-family=\"Times,serif\" font-size=\"14.00\">rdfs:subPropertyOf</text>\n</g>\n<!-- 4&#45;&gt;10 -->\n<g id=\"edge94\" class=\"edge\">\n<title>4&#45;&gt;10</title>\n<path fill=\"none\" stroke=\"black\" d=\"M2500.94,-266.04C2477.3,-259.4 2447.49,-250.91 2421,-243 2399.58,-236.61 2394.52,-234.03 2373,-228 2344.52,-220.02 2312.55,-212.01 2286.26,-205.67\"/>\n<polygon fill=\"black\" stroke=\"black\" points=\"2287.38,-202.34 2276.84,-203.41 2285.75,-209.15 2287.38,-202.34\"/>\n<text text-anchor=\"middle\" x=\"2442.5\" y=\"-231.8\" font-family=\"Times,serif\" font-size=\"14.00\">rdf:type</text>\n</g>\n<!-- 4&#45;&gt;17 -->\n<g id=\"edge56\" class=\"edge\">\n<title>4&#45;&gt;17</title>\n<path fill=\"none\" stroke=\"black\" d=\"M2541.42,-260.96C2539.38,-250.89 2535.86,-238.15 2530,-228 2502.98,-181.18 2488.16,-173.55 2445,-141 2371.49,-85.57 2347.27,-72.12 2257,-54 2091.86,-20.85 1581.05,-18.43 1392.17,-18.72\"/>\n<polygon fill=\"black\" stroke=\"black\" points=\"1392.24,-15.22 1382.24,-18.73 1392.25,-22.22 1392.24,-15.22\"/>\n<text text-anchor=\"middle\" x=\"2485.5\" y=\"-144.8\" font-family=\"Times,serif\" font-size=\"14.00\">rdf:type</text>\n</g>\n<!-- 5&#45;&gt;5 -->\n<g id=\"edge76\" class=\"edge\">\n<title>5&#45;&gt;5</title>\n<path fill=\"none\" stroke=\"black\" d=\"M998.54,-200.13C1011.25,-199.85 1021.1,-197.14 1021.1,-192 1021.1,-188.55 1016.65,-186.19 1009.88,-184.93\"/>\n<polygon fill=\"black\" stroke=\"black\" points=\"1010.33,-181.46 1000.05,-184.01 1009.68,-188.43 1010.33,-181.46\"/>\n<text text-anchor=\"middle\" x=\"1065.1\" y=\"-188.3\" font-family=\"Times,serif\" font-size=\"14.00\">rdfs:subClassOf</text>\n</g>\n<!-- 5&#45;&gt;13 -->\n<g id=\"edge41\" class=\"edge\">\n<title>5&#45;&gt;13</title>\n<path fill=\"none\" stroke=\"black\" d=\"M1000.99,-186.33C1094.08,-176.87 1296.13,-156.31 1297,-156 1308.51,-151.93 1308.56,-145.24 1320,-141 1388.26,-115.73 1472.35,-108.28 1527.25,-106.31\"/>\n<polygon fill=\"black\" stroke=\"black\" points=\"1527.1,-109.82 1536.99,-106.01 1526.89,-102.82 1527.1,-109.82\"/>\n<text text-anchor=\"middle\" x=\"1341.5\" y=\"-144.8\" font-family=\"Times,serif\" font-size=\"14.00\">rdf:type</text>\n</g>\n<!-- 5&#45;&gt;17 -->\n<g id=\"edge30\" class=\"edge\">\n<title>5&#45;&gt;17</title>\n<path fill=\"none\" stroke=\"black\" d=\"M965.19,-174.29C979.81,-151.6 1008.77,-111.11 1043,-87 1104.54,-43.66 1190.59,-27.8 1250.6,-22.07\"/>\n<polygon fill=\"black\" stroke=\"black\" points=\"1250.7,-25.58 1260.35,-21.22 1250.09,-18.61 1250.7,-25.58\"/>\n<text text-anchor=\"middle\" x=\"1087\" y=\"-101.3\" font-family=\"Times,serif\" font-size=\"14.00\">rdfs:subClassOf</text>\n</g>\n<!-- 5&#45;&gt;17 -->\n<g id=\"edge69\" class=\"edge\">\n<title>5&#45;&gt;17</title>\n<path fill=\"none\" stroke=\"black\" d=\"M949.69,-173.88C943.88,-151.46 937.74,-112.06 957,-87 991.92,-41.57 1154.69,-26.44 1250.34,-21.44\"/>\n<polygon fill=\"black\" stroke=\"black\" points=\"1250.33,-24.94 1260.14,-20.95 1249.98,-17.95 1250.33,-24.94\"/>\n<text text-anchor=\"middle\" x=\"978.5\" y=\"-101.3\" font-family=\"Times,serif\" font-size=\"14.00\">rdf:type</text>\n</g>\n<!-- 6 -->\n<g id=\"node7\" class=\"node\">\n<title>6</title>\n<ellipse fill=\"none\" stroke=\"black\" cx=\"1676\" cy=\"-279\" rx=\"67.69\" ry=\"18\"/>\n<text text-anchor=\"middle\" x=\"1676\" y=\"-275.3\" font-family=\"Times,serif\" font-size=\"14.00\">rdfs:subClassOf</text>\n</g>\n<!-- 6&#45;&gt;6 -->\n<g id=\"edge37\" class=\"edge\">\n<title>6&#45;&gt;6</title>\n<path fill=\"none\" stroke=\"black\" d=\"M1737.55,-286.96C1751.44,-286.24 1761.59,-283.59 1761.59,-279 1761.59,-275.77 1756.57,-273.51 1748.77,-272.19\"/>\n<polygon fill=\"black\" stroke=\"black\" points=\"1749.36,-268.74 1739.06,-271.2 1748.65,-275.7 1749.36,-268.74\"/>\n<text text-anchor=\"middle\" x=\"1814.09\" y=\"-275.3\" font-family=\"Times,serif\" font-size=\"14.00\">rdfs:subPropertyOf</text>\n</g>\n<!-- 6&#45;&gt;10 -->\n<g id=\"edge92\" class=\"edge\">\n<title>6&#45;&gt;10</title>\n<path fill=\"none\" stroke=\"black\" d=\"M1723.54,-265.79C1768.87,-254.54 1839.2,-238.1 1901,-228 1993.46,-212.89 2101.56,-202.88 2168.41,-197.57\"/>\n<polygon fill=\"black\" stroke=\"black\" points=\"2168.38,-201.08 2178.08,-196.82 2167.83,-194.11 2168.38,-201.08\"/>\n<text text-anchor=\"middle\" x=\"1922.5\" y=\"-231.8\" font-family=\"Times,serif\" font-size=\"14.00\">rdf:type</text>\n</g>\n<!-- 6&#45;&gt;13 -->\n<g id=\"edge44\" class=\"edge\">\n<title>6&#45;&gt;13</title>\n<path fill=\"none\" stroke=\"black\" d=\"M1666.94,-260.88C1651.07,-230.87 1618.11,-168.58 1599.19,-132.81\"/>\n<polygon fill=\"black\" stroke=\"black\" points=\"1602.5,-131.59 1594.73,-124.39 1596.31,-134.87 1602.5,-131.59\"/>\n<text text-anchor=\"middle\" x=\"1666.5\" y=\"-188.3\" font-family=\"Times,serif\" font-size=\"14.00\">rdfs:range</text>\n</g>\n<!-- 6&#45;&gt;13 -->\n<g id=\"edge96\" class=\"edge\">\n<title>6&#45;&gt;13</title>\n<path fill=\"none\" stroke=\"black\" d=\"M1686.12,-261.05C1697.54,-239.5 1712.63,-201.77 1697,-174 1682.86,-148.87 1655.27,-131.96 1631.01,-121.28\"/>\n<polygon fill=\"black\" stroke=\"black\" points=\"1632.49,-118.11 1621.91,-117.53 1629.82,-124.58 1632.49,-118.11\"/>\n<text text-anchor=\"middle\" x=\"1736.5\" y=\"-188.3\" font-family=\"Times,serif\" font-size=\"14.00\">rdfs:domain</text>\n</g>\n<!-- 6&#45;&gt;17 -->\n<g id=\"edge54\" class=\"edge\">\n<title>6&#45;&gt;17</title>\n<path fill=\"none\" stroke=\"black\" d=\"M1716.16,-264.17C1772.37,-244.77 1867.84,-211.64 1869,-210 1903.73,-160.95 1818.1,-95.74 1807,-87 1776.14,-62.69 1763.21,-63.13 1725,-54 1610.55,-26.66 1473.34,-20.1 1391.87,-18.84\"/>\n<polygon fill=\"black\" stroke=\"black\" points=\"1392.31,-15.35 1382.27,-18.72 1392.22,-22.35 1392.31,-15.35\"/>\n<text text-anchor=\"middle\" x=\"1890.5\" y=\"-144.8\" font-family=\"Times,serif\" font-size=\"14.00\">rdf:type</text>\n</g>\n<!-- 7 -->\n<g id=\"node8\" class=\"node\">\n<title>7</title>\n<ellipse fill=\"none\" stroke=\"black\" cx=\"1580\" cy=\"-387\" rx=\"44.39\" ry=\"18\"/>\n<text text-anchor=\"middle\" x=\"1580\" y=\"-383.3\" font-family=\"Times,serif\" font-size=\"14.00\">ex:hasPet</text>\n</g>\n<!-- 7&#45;&gt;5 -->\n<g id=\"edge47\" class=\"edge\">\n<title>7&#45;&gt;5</title>\n<path fill=\"none\" stroke=\"black\" d=\"M1542.38,-376.95C1480.54,-361.83 1353.7,-329.87 1248,-297 1235.69,-293.17 1078.63,-237.16 999.68,-208.96\"/>\n<polygon fill=\"black\" stroke=\"black\" points=\"1001.1,-205.75 990.5,-205.69 998.74,-212.35 1001.1,-205.75\"/>\n<text text-anchor=\"middle\" x=\"1275.5\" y=\"-275.3\" font-family=\"Times,serif\" font-size=\"14.00\">rdfs:range</text>\n</g>\n<!-- 7&#45;&gt;7 -->\n<g id=\"edge19\" class=\"edge\">\n<title>7&#45;&gt;7</title>\n<path fill=\"none\" stroke=\"black\" d=\"M1617.34,-397.11C1631,-397.38 1642.2,-394.01 1642.2,-387 1642.2,-382.07 1636.66,-378.94 1628.63,-377.61\"/>\n<polygon fill=\"black\" stroke=\"black\" points=\"1629.06,-374.13 1618.85,-376.99 1628.61,-381.12 1629.06,-374.13\"/>\n<text text-anchor=\"middle\" x=\"1694.7\" y=\"-383.3\" font-family=\"Times,serif\" font-size=\"14.00\">rdfs:subPropertyOf</text>\n</g>\n<!-- 7&#45;&gt;10 -->\n<g id=\"edge8\" class=\"edge\">\n<title>7&#45;&gt;10</title>\n<path fill=\"none\" stroke=\"black\" d=\"M1623.3,-382.13C1733.86,-371.73 2023.84,-340.91 2109,-297 2129.11,-286.63 2128.05,-276 2145,-261 2163.05,-245.03 2184.35,-228.34 2201.36,-215.5\"/>\n<polygon fill=\"black\" stroke=\"black\" points=\"2203.2,-218.49 2209.11,-209.69 2199.01,-212.89 2203.2,-218.49\"/>\n<text text-anchor=\"middle\" x=\"2166.5\" y=\"-275.3\" font-family=\"Times,serif\" font-size=\"14.00\">rdf:type</text>\n</g>\n<!-- 7&#45;&gt;11 -->\n<g id=\"edge46\" class=\"edge\">\n<title>7&#45;&gt;11</title>\n<path fill=\"none\" stroke=\"black\" d=\"M1544.35,-375.79C1529.2,-370.21 1512.07,-362.12 1499,-351 1484.54,-338.69 1491.14,-326.45 1476,-315 1458.66,-301.88 1436.41,-293.65 1416.05,-288.5\"/>\n<polygon fill=\"black\" stroke=\"black\" points=\"1416.98,-285.12 1406.44,-286.28 1415.4,-291.94 1416.98,-285.12\"/>\n<text text-anchor=\"middle\" x=\"1532.5\" y=\"-329.3\" font-family=\"Times,serif\" font-size=\"14.00\">rdfs:domain</text>\n</g>\n<!-- 7&#45;&gt;17 -->\n<g id=\"edge74\" class=\"edge\">\n<title>7&#45;&gt;17</title>\n<path fill=\"none\" stroke=\"black\" d=\"M1578.09,-368.68C1576.12,-354.05 1572.41,-332.72 1566,-315 1541.7,-247.86 1531.35,-231.49 1489,-174 1449.18,-119.95 1388.63,-69.65 1352.13,-41.75\"/>\n<polygon fill=\"black\" stroke=\"black\" points=\"1354.69,-39.3 1344.61,-36.06 1350.47,-44.88 1354.69,-39.3\"/>\n<text text-anchor=\"middle\" x=\"1535.5\" y=\"-188.3\" font-family=\"Times,serif\" font-size=\"14.00\">rdf:type</text>\n</g>\n<!-- 8 -->\n<g id=\"node9\" class=\"node\">\n<title>8</title>\n<ellipse fill=\"none\" stroke=\"black\" cx=\"3312\" cy=\"-279\" rx=\"38.19\" ry=\"18\"/>\n<text text-anchor=\"middle\" x=\"3312\" y=\"-275.3\" font-family=\"Times,serif\" font-size=\"14.00\">rdf:type</text>\n</g>\n<!-- 8&#45;&gt;8 -->\n<g id=\"edge51\" class=\"edge\">\n<title>8&#45;&gt;8</title>\n<path fill=\"none\" stroke=\"black\" d=\"M3346.66,-287.15C3358.66,-287.24 3368.35,-284.52 3368.35,-279 3368.35,-275.38 3364.17,-272.96 3357.92,-271.75\"/>\n<polygon fill=\"black\" stroke=\"black\" points=\"3358.42,-268.28 3348.17,-270.97 3357.86,-275.26 3358.42,-268.28\"/>\n<text text-anchor=\"middle\" x=\"3420.85\" y=\"-275.3\" font-family=\"Times,serif\" font-size=\"14.00\">rdfs:subPropertyOf</text>\n</g>\n<!-- 8&#45;&gt;10 -->\n<g id=\"edge39\" class=\"edge\">\n<title>8&#45;&gt;10</title>\n<path fill=\"none\" stroke=\"black\" d=\"M3283.67,-266.61C3277.29,-264.42 3270.48,-262.39 3264,-261 3169.77,-240.81 2507.77,-206.66 2296.58,-196.16\"/>\n<polygon fill=\"black\" stroke=\"black\" points=\"2296.77,-192.67 2286.6,-195.67 2296.42,-199.66 2296.77,-192.67\"/>\n<text text-anchor=\"middle\" x=\"3112.5\" y=\"-231.8\" font-family=\"Times,serif\" font-size=\"14.00\">rdf:type</text>\n</g>\n<!-- 8&#45;&gt;17 -->\n<g id=\"edge90\" class=\"edge\">\n<title>8&#45;&gt;17</title>\n<path fill=\"none\" stroke=\"black\" d=\"M3282.37,-267.28C3276.31,-265.15 3269.96,-262.97 3264,-261 3090.97,-203.91 3047.55,-189.78 2872,-141 2776.66,-114.51 2753.2,-105.53 2656,-87 2546.34,-66.1 2518.26,-63.14 2407,-54 2025.23,-22.63 1565.81,-19 1392.13,-18.85\"/>\n<polygon fill=\"black\" stroke=\"black\" points=\"1392.38,-15.35 1382.38,-18.84 1392.38,-22.35 1392.38,-15.35\"/>\n<text text-anchor=\"middle\" x=\"2945.5\" y=\"-144.8\" font-family=\"Times,serif\" font-size=\"14.00\">rdf:type</text>\n</g>\n<!-- 9&#45;&gt;5 -->\n<g id=\"edge64\" class=\"edge\">\n<title>9&#45;&gt;5</title>\n<path fill=\"none\" stroke=\"black\" d=\"M772.33,-492.32C799.38,-489.22 835.54,-480.89 859,-459 868.12,-450.49 923.3,-287.75 945.63,-221.1\"/>\n<polygon fill=\"black\" stroke=\"black\" points=\"948.94,-222.22 948.8,-211.62 942.31,-220 948.94,-222.22\"/>\n<text text-anchor=\"middle\" x=\"934.5\" y=\"-329.3\" font-family=\"Times,serif\" font-size=\"14.00\">rdf:type</text>\n</g>\n<!-- 9&#45;&gt;12 -->\n<g id=\"edge88\" class=\"edge\">\n<title>9&#45;&gt;12</title>\n<path fill=\"none\" stroke=\"black\" d=\"M699.71,-492.05C669.56,-488.86 626.79,-480.55 596,-459 580.25,-447.98 568.17,-430 560.07,-414.89\"/>\n<polygon fill=\"black\" stroke=\"black\" points=\"563.4,-413.73 555.78,-406.37 557.15,-416.87 563.4,-413.73\"/>\n<text text-anchor=\"middle\" x=\"617.5\" y=\"-437.3\" font-family=\"Times,serif\" font-size=\"14.00\">rdf:type</text>\n</g>\n<!-- 9&#45;&gt;17 -->\n<g id=\"edge17\" class=\"edge\">\n<title>9&#45;&gt;17</title>\n<path fill=\"none\" stroke=\"black\" d=\"M743.78,-477.03C767.1,-426.24 836.32,-275.99 861,-228 893.85,-164.12 894.65,-142.71 940,-87 954.12,-69.65 957.47,-62.88 978,-54 1025.33,-33.52 1164.37,-24.75 1250.2,-21.21\"/>\n<polygon fill=\"black\" stroke=\"black\" points=\"1250.32,-24.71 1260.17,-20.81 1250.04,-17.71 1250.32,-24.71\"/>\n<text text-anchor=\"middle\" x=\"882.5\" y=\"-231.8\" font-family=\"Times,serif\" font-size=\"14.00\">rdf:type</text>\n</g>\n<!-- 9&#45;&gt;22 -->\n<g id=\"edge63\" class=\"edge\">\n<title>9&#45;&gt;22</title>\n<path fill=\"none\" stroke=\"black\" d=\"M737.57,-476.83C739.01,-450.01 737.56,-398.21 709,-369 687.14,-346.65 670.31,-361.89 641,-351 606.72,-338.26 601.68,-326.61 567,-315 528.93,-302.26 484.67,-293.55 449.68,-288.01\"/>\n<polygon fill=\"black\" stroke=\"black\" points=\"450.58,-284.61 440.16,-286.55 449.52,-291.53 450.58,-284.61\"/>\n<text text-anchor=\"middle\" x=\"750.5\" y=\"-383.3\" font-family=\"Times,serif\" font-size=\"14.00\">rdf:type</text>\n</g>\n<!-- 10&#45;&gt;10 -->\n<g id=\"edge91\" class=\"edge\">\n<title>10&#45;&gt;10</title>\n<path fill=\"none\" stroke=\"black\" d=\"M2280.76,-200.1C2293.93,-199.67 2303.95,-196.97 2303.95,-192 2303.95,-188.58 2299.21,-186.24 2291.97,-184.97\"/>\n<polygon fill=\"black\" stroke=\"black\" points=\"2292.55,-181.51 2282.26,-184.05 2291.89,-188.48 2292.55,-181.51\"/>\n<text text-anchor=\"middle\" x=\"2347.95\" y=\"-188.3\" font-family=\"Times,serif\" font-size=\"14.00\">rdfs:subClassOf</text>\n</g>\n<!-- 10&#45;&gt;13 -->\n<g id=\"edge6\" class=\"edge\">\n<title>10&#45;&gt;13</title>\n<path fill=\"none\" stroke=\"black\" d=\"M2185.62,-182.37C2159.99,-176.68 2127.98,-168.03 2101,-156 2089.85,-151.03 2089.57,-144.89 2078,-141 1998.86,-114.39 1755.13,-108.01 1642.8,-106.48\"/>\n<polygon fill=\"black\" stroke=\"black\" points=\"1642.93,-102.98 1632.89,-106.36 1642.85,-109.98 1642.93,-102.98\"/>\n<text text-anchor=\"middle\" x=\"2122.5\" y=\"-144.8\" font-family=\"Times,serif\" font-size=\"14.00\">rdf:type</text>\n</g>\n<!-- 10&#45;&gt;17 -->\n<g id=\"edge45\" class=\"edge\">\n<title>10&#45;&gt;17</title>\n<path fill=\"none\" stroke=\"black\" d=\"M2241.78,-174C2252.97,-152.07 2267.61,-113.58 2250,-87 2229.21,-55.62 2208.73,-62.24 2172,-54 2024.45,-20.9 1569.46,-18.35 1392.47,-18.66\"/>\n<polygon fill=\"black\" stroke=\"black\" points=\"1392.48,-15.16 1382.49,-18.68 1392.49,-22.16 1392.48,-15.16\"/>\n<text text-anchor=\"middle\" x=\"2279.5\" y=\"-101.3\" font-family=\"Times,serif\" font-size=\"14.00\">rdf:type</text>\n</g>\n<!-- 10&#45;&gt;17 -->\n<g id=\"edge52\" class=\"edge\">\n<title>10&#45;&gt;17</title>\n<path fill=\"none\" stroke=\"black\" d=\"M2213.37,-174.89C2174.44,-141.6 2085.02,-67.27 2048,-54 1987.42,-32.29 1562.97,-22.97 1392.06,-20.07\"/>\n<polygon fill=\"black\" stroke=\"black\" points=\"1392.26,-16.57 1382.2,-19.9 1392.14,-23.57 1392.26,-16.57\"/>\n<text text-anchor=\"middle\" x=\"2193\" y=\"-101.3\" font-family=\"Times,serif\" font-size=\"14.00\">rdfs:subClassOf</text>\n</g>\n<!-- 11&#45;&gt;5 -->\n<g id=\"edge13\" class=\"edge\">\n<title>11&#45;&gt;5</title>\n<path fill=\"none\" stroke=\"black\" d=\"M1320.7,-268.35C1277.5,-257.87 1205.99,-240.91 1144,-228 1098.85,-218.6 1047.37,-209.15 1009.55,-202.44\"/>\n<polygon fill=\"black\" stroke=\"black\" points=\"1010.22,-199 999.76,-200.71 1009,-205.9 1010.22,-199\"/>\n<text text-anchor=\"middle\" x=\"1253\" y=\"-231.8\" font-family=\"Times,serif\" font-size=\"14.00\">rdfs:subClassOf</text>\n</g>\n<!-- 11&#45;&gt;11 -->\n<g id=\"edge3\" class=\"edge\">\n<title>11&#45;&gt;11</title>\n<path fill=\"none\" stroke=\"black\" d=\"M1403.54,-287.13C1416.25,-286.85 1426.1,-284.14 1426.1,-279 1426.1,-275.55 1421.65,-273.19 1414.88,-271.93\"/>\n<polygon fill=\"black\" stroke=\"black\" points=\"1415.33,-268.46 1405.05,-271.01 1414.68,-275.43 1415.33,-268.46\"/>\n<text text-anchor=\"middle\" x=\"1470.1\" y=\"-275.3\" font-family=\"Times,serif\" font-size=\"14.00\">rdfs:subClassOf</text>\n</g>\n<!-- 11&#45;&gt;13 -->\n<g id=\"edge36\" class=\"edge\">\n<title>11&#45;&gt;13</title>\n<path fill=\"none\" stroke=\"black\" d=\"M1379.52,-262.13C1386.04,-256.41 1393.13,-249.71 1399,-243 1423.43,-215.07 1417.96,-198.3 1446,-174 1461.64,-160.45 1508.8,-138.58 1543.87,-123.31\"/>\n<polygon fill=\"black\" stroke=\"black\" points=\"1545.14,-126.58 1552.93,-119.4 1542.36,-120.15 1545.14,-126.58\"/>\n<text text-anchor=\"middle\" x=\"1467.5\" y=\"-188.3\" font-family=\"Times,serif\" font-size=\"14.00\">rdf:type</text>\n</g>\n<!-- 11&#45;&gt;17 -->\n<g id=\"edge62\" class=\"edge\">\n<title>11&#45;&gt;17</title>\n<path fill=\"none\" stroke=\"black\" d=\"M1357.41,-260.53C1353.03,-237.35 1341.98,-196.71 1316,-174 1293.11,-153.99 1268.46,-180.16 1250,-156 1222.35,-119.8 1262.74,-71.26 1292.99,-42.73\"/>\n<polygon fill=\"black\" stroke=\"black\" points=\"1295.05,-45.59 1300.08,-36.27 1290.33,-40.43 1295.05,-45.59\"/>\n<text text-anchor=\"middle\" x=\"1271.5\" y=\"-144.8\" font-family=\"Times,serif\" font-size=\"14.00\">rdf:type</text>\n</g>\n<!-- 11&#45;&gt;17 -->\n<g id=\"edge75\" class=\"edge\">\n<title>11&#45;&gt;17</title>\n<path fill=\"none\" stroke=\"black\" d=\"M1362.98,-260.61C1363.81,-255 1364.59,-248.76 1365,-243 1365.47,-236.35 1365.08,-234.67 1365,-228 1364.56,-189.33 1369.82,-179.07 1363,-141 1357.03,-107.69 1343.48,-71.21 1333.38,-46.9\"/>\n<polygon fill=\"black\" stroke=\"black\" points=\"1336.61,-45.55 1329.47,-37.72 1330.16,-48.29 1336.61,-45.55\"/>\n<text text-anchor=\"middle\" x=\"1409\" y=\"-144.8\" font-family=\"Times,serif\" font-size=\"14.00\">rdfs:subClassOf</text>\n</g>\n<!-- 12&#45;&gt;5 -->\n<g id=\"edge5\" class=\"edge\">\n<title>12&#45;&gt;5</title>\n<path fill=\"none\" stroke=\"black\" d=\"M593.06,-382.09C655.53,-376.21 762.17,-364.35 774,-351 800.55,-321.05 757.29,-295.83 777,-261 780.32,-255.13 821.84,-230.76 828,-228 851.4,-217.5 878.67,-209.49 901.93,-203.79\"/>\n<polygon fill=\"black\" stroke=\"black\" points=\"902.59,-207.23 911.52,-201.53 900.98,-200.42 902.59,-207.23\"/>\n<text text-anchor=\"middle\" x=\"821\" y=\"-275.3\" font-family=\"Times,serif\" font-size=\"14.00\">rdfs:subClassOf</text>\n</g>\n<!-- 12&#45;&gt;12 -->\n<g id=\"edge81\" class=\"edge\">\n<title>12&#45;&gt;12</title>\n<path fill=\"none\" stroke=\"black\" d=\"M587.15,-397.12C600.95,-397.28 612.15,-393.91 612.15,-387 612.15,-382.14 606.61,-379.03 598.53,-377.67\"/>\n<polygon fill=\"black\" stroke=\"black\" points=\"598.88,-374.19 588.66,-376.99 598.39,-381.17 598.88,-374.19\"/>\n<text text-anchor=\"middle\" x=\"656.15\" y=\"-383.3\" font-family=\"Times,serif\" font-size=\"14.00\">rdfs:subClassOf</text>\n</g>\n<!-- 12&#45;&gt;13 -->\n<g id=\"edge79\" class=\"edge\">\n<title>12&#45;&gt;13</title>\n<path fill=\"none\" stroke=\"black\" d=\"M592.16,-381.32C648.24,-374.93 739,-362.89 749,-351 759.3,-338.75 756.52,-329.12 749,-315 720.2,-260.9 601.46,-273.97 642,-228 663.19,-203.98 753.72,-216.89 785,-210 836.48,-198.66 846.38,-184.65 898,-174 1128.03,-126.52 1408.48,-111.89 1527.34,-107.63\"/>\n<polygon fill=\"black\" stroke=\"black\" points=\"1527.29,-111.14 1537.16,-107.29 1527.04,-104.14 1527.29,-111.14\"/>\n<text text-anchor=\"middle\" x=\"663.5\" y=\"-231.8\" font-family=\"Times,serif\" font-size=\"14.00\">rdf:type</text>\n</g>\n<!-- 12&#45;&gt;17 -->\n<g id=\"edge58\" class=\"edge\">\n<title>12&#45;&gt;17</title>\n<path fill=\"none\" stroke=\"black\" d=\"M556.92,-369C559.4,-363.42 561.75,-357.09 563,-351 566.22,-335.33 563.74,-330.98 563,-315 561.89,-290.92 564.15,-284.3 558,-261 551.66,-236.96 540.23,-234.31 535,-210 531.64,-194.36 528.21,-188.49 535,-174 570.34,-98.56 601.47,-84.48 679,-54 730.97,-33.57 1093.99,-23.69 1250.01,-20.35\"/>\n<polygon fill=\"black\" stroke=\"black\" points=\"1249.89,-23.86 1259.81,-20.15 1249.74,-16.86 1249.89,-23.86\"/>\n<text text-anchor=\"middle\" x=\"556.5\" y=\"-188.3\" font-family=\"Times,serif\" font-size=\"14.00\">rdf:type</text>\n</g>\n<!-- 12&#45;&gt;17 -->\n<g id=\"edge66\" class=\"edge\">\n<title>12&#45;&gt;17</title>\n<path fill=\"none\" stroke=\"black\" d=\"M563.8,-369.75C568.75,-364.11 573.98,-357.55 578,-351 608.97,-300.57 587.4,-270.09 629,-228 643.28,-213.55 655.65,-223.29 671,-210 685.18,-197.73 680.84,-188.28 693,-174 746.13,-111.6 757.21,-85.17 833,-54 906.46,-23.79 1133.04,-19.04 1249.81,-18.67\"/>\n<polygon fill=\"black\" stroke=\"black\" points=\"1249.59,-22.18 1259.58,-18.65 1249.57,-15.18 1249.59,-22.18\"/>\n<text text-anchor=\"middle\" x=\"737\" y=\"-188.3\" font-family=\"Times,serif\" font-size=\"14.00\">rdfs:subClassOf</text>\n</g>\n<!-- 12&#45;&gt;22 -->\n<g id=\"edge57\" class=\"edge\">\n<title>12&#45;&gt;22</title>\n<path fill=\"none\" stroke=\"black\" d=\"M514.04,-374.36C500.86,-368.72 486.26,-360.97 475,-351 460.78,-338.41 465.87,-327.96 452,-315 445.69,-309.11 438.21,-303.87 430.62,-299.36\"/>\n<polygon fill=\"black\" stroke=\"black\" points=\"432.45,-296.37 422,-294.59 429.06,-302.5 432.45,-296.37\"/>\n<text text-anchor=\"middle\" x=\"519\" y=\"-329.3\" font-family=\"Times,serif\" font-size=\"14.00\">rdfs:subClassOf</text>\n</g>\n<!-- 13&#45;&gt;13 -->\n<g id=\"edge15\" class=\"edge\">\n<title>13&#45;&gt;13</title>\n<path fill=\"none\" stroke=\"black\" d=\"M1630.55,-109C1641.25,-108.67 1649.15,-107.34 1649.15,-105 1649.15,-103.61 1646.36,-102.58 1641.86,-101.9\"/>\n<polygon fill=\"black\" stroke=\"black\" points=\"1642.3,-98.42 1632.06,-101.12 1641.75,-105.4 1642.3,-98.42\"/>\n<text text-anchor=\"middle\" x=\"1693.15\" y=\"-101.3\" font-family=\"Times,serif\" font-size=\"14.00\">rdfs:subClassOf</text>\n</g>\n<!-- 13&#45;&gt;13 -->\n<g id=\"edge18\" class=\"edge\">\n<title>13&#45;&gt;13</title>\n<path fill=\"none\" stroke=\"black\" d=\"M1628.56,-111.76C1674.78,-114.94 1737.15,-112.69 1737.15,-105 1737.15,-97.93 1684.37,-95.45 1639.93,-97.58\"/>\n<polygon fill=\"black\" stroke=\"black\" points=\"1639.85,-94.08 1630.07,-98.15 1640.25,-101.07 1639.85,-94.08\"/>\n<text text-anchor=\"middle\" x=\"1758.65\" y=\"-101.3\" font-family=\"Times,serif\" font-size=\"14.00\">rdf:type</text>\n</g>\n<!-- 13&#45;&gt;17 -->\n<g id=\"edge1\" class=\"edge\">\n<title>13&#45;&gt;17</title>\n<path fill=\"none\" stroke=\"black\" d=\"M1557.84,-90.03C1546.08,-83.81 1532.23,-76.26 1520,-69 1509.51,-62.77 1508.3,-58.61 1497,-54 1462.4,-39.89 1421.59,-31.32 1387.98,-26.2\"/>\n<polygon fill=\"black\" stroke=\"black\" points=\"1388.77,-22.78 1378.37,-24.8 1387.77,-29.7 1388.77,-22.78\"/>\n<text text-anchor=\"middle\" x=\"1541.5\" y=\"-57.8\" font-family=\"Times,serif\" font-size=\"14.00\">rdf:type</text>\n</g>\n<!-- 13&#45;&gt;17 -->\n<g id=\"edge49\" class=\"edge\">\n<title>13&#45;&gt;17</title>\n<path fill=\"none\" stroke=\"black\" d=\"M1581.93,-86.97C1579,-75.83 1573.42,-61.92 1563,-54 1536.71,-34.02 1453.01,-25.4 1391.38,-21.71\"/>\n<polygon fill=\"black\" stroke=\"black\" points=\"1391.84,-18.23 1381.66,-21.16 1391.44,-25.22 1391.84,-18.23\"/>\n<text text-anchor=\"middle\" x=\"1618\" y=\"-57.8\" font-family=\"Times,serif\" font-size=\"14.00\">rdfs:subClassOf</text>\n</g>\n<!-- 14 -->\n<g id=\"node15\" class=\"node\">\n<title>14</title>\n<ellipse fill=\"none\" stroke=\"black\" cx=\"2237\" cy=\"-495\" rx=\"48.19\" ry=\"18\"/>\n<text text-anchor=\"middle\" x=\"2237\" y=\"-491.3\" font-family=\"Times,serif\" font-size=\"14.00\">ex:hasDog</text>\n</g>\n<!-- 14&#45;&gt;7 -->\n<g id=\"edge84\" class=\"edge\">\n<title>14&#45;&gt;7</title>\n<path fill=\"none\" stroke=\"black\" d=\"M2193.38,-486.96C2076.66,-468.13 1757.5,-416.64 1631.83,-396.36\"/>\n<polygon fill=\"black\" stroke=\"black\" points=\"1632.56,-392.94 1622.13,-394.8 1631.45,-399.85 1632.56,-392.94\"/>\n<text text-anchor=\"middle\" x=\"2057.5\" y=\"-437.3\" font-family=\"Times,serif\" font-size=\"14.00\">rdfs:subPropertyOf</text>\n</g>\n<!-- 14&#45;&gt;10 -->\n<g id=\"edge78\" class=\"edge\">\n<title>14&#45;&gt;10</title>\n<path fill=\"none\" stroke=\"black\" d=\"M2265.7,-480.24C2335.23,-445.05 2502.35,-348.42 2437,-261 2420.08,-238.36 2402.91,-251.64 2376,-243 2343.19,-232.47 2306.5,-219.71 2278.37,-209.72\"/>\n<polygon fill=\"black\" stroke=\"black\" points=\"2279.67,-206.47 2269.07,-206.41 2277.32,-213.06 2279.67,-206.47\"/>\n<text text-anchor=\"middle\" x=\"2471.5\" y=\"-329.3\" font-family=\"Times,serif\" font-size=\"14.00\">rdf:type</text>\n</g>\n<!-- 14&#45;&gt;12 -->\n<g id=\"edge29\" class=\"edge\">\n<title>14&#45;&gt;12</title>\n<path fill=\"none\" stroke=\"black\" d=\"M2188.73,-492.88C1962.93,-487.59 1019.28,-465.22 957,-459 826.62,-445.97 675.14,-415.64 598.29,-399.15\"/>\n<polygon fill=\"black\" stroke=\"black\" points=\"599.5,-395.83 588.99,-397.14 598.02,-402.67 599.5,-395.83\"/>\n<text text-anchor=\"middle\" x=\"984.5\" y=\"-437.3\" font-family=\"Times,serif\" font-size=\"14.00\">rdfs:range</text>\n</g>\n<!-- 14&#45;&gt;14 -->\n<g id=\"edge43\" class=\"edge\">\n<title>14&#45;&gt;14</title>\n<path fill=\"none\" stroke=\"black\" d=\"M2280.54,-503.13C2293.25,-502.85 2303.1,-500.14 2303.1,-495 2303.1,-491.55 2298.65,-489.19 2291.88,-487.93\"/>\n<polygon fill=\"black\" stroke=\"black\" points=\"2292.33,-484.46 2282.05,-487.01 2291.68,-491.43 2292.33,-484.46\"/>\n<text text-anchor=\"middle\" x=\"2355.6\" y=\"-491.3\" font-family=\"Times,serif\" font-size=\"14.00\">rdfs:subPropertyOf</text>\n</g>\n<!-- 14&#45;&gt;17 -->\n<g id=\"edge31\" class=\"edge\">\n<title>14&#45;&gt;17</title>\n<path fill=\"none\" stroke=\"black\" d=\"M2285.01,-492.54C2515.89,-485.19 3501,-450.21 3501,-388 3501,-388 3501,-388 3501,-104 3501,-49.96 1767.76,-24.71 1392.22,-19.87\"/>\n<polygon fill=\"black\" stroke=\"black\" points=\"1392.28,-16.37 1382.24,-19.75 1392.19,-23.37 1392.28,-16.37\"/>\n<text text-anchor=\"middle\" x=\"3522.5\" y=\"-231.8\" font-family=\"Times,serif\" font-size=\"14.00\">rdf:type</text>\n</g>\n<!-- 15 -->\n<g id=\"node16\" class=\"node\">\n<title>15</title>\n<ellipse fill=\"none\" stroke=\"black\" cx=\"2251\" cy=\"-279\" rx=\"53.89\" ry=\"18\"/>\n<text text-anchor=\"middle\" x=\"2251\" y=\"-275.3\" font-family=\"Times,serif\" font-size=\"14.00\">rdfs:domain</text>\n</g>\n<!-- 15&#45;&gt;10 -->\n<g id=\"edge28\" class=\"edge\">\n<title>15&#45;&gt;10</title>\n<path fill=\"none\" stroke=\"black\" d=\"M2220.43,-263.9C2212.31,-258.57 2204.55,-251.65 2200,-243 2195.46,-234.39 2198.63,-225.32 2204.44,-217.31\"/>\n<polygon fill=\"black\" stroke=\"black\" points=\"2206.93,-219.78 2210.85,-209.94 2201.64,-215.19 2206.93,-219.78\"/>\n<text text-anchor=\"middle\" x=\"2221.5\" y=\"-231.8\" font-family=\"Times,serif\" font-size=\"14.00\">rdf:type</text>\n</g>\n<!-- 15&#45;&gt;10 -->\n<g id=\"edge59\" class=\"edge\">\n<title>15&#45;&gt;10</title>\n<path fill=\"none\" stroke=\"black\" d=\"M2248.87,-260.75C2247.52,-251.06 2245.54,-238.78 2243,-228 2242.48,-225.81 2241.9,-223.57 2241.28,-221.32\"/>\n<polygon fill=\"black\" stroke=\"black\" points=\"2244.64,-220.34 2238.42,-211.76 2237.94,-222.34 2244.64,-220.34\"/>\n<text text-anchor=\"middle\" x=\"2279.5\" y=\"-231.8\" font-family=\"Times,serif\" font-size=\"14.00\">rdfs:domain</text>\n</g>\n<!-- 15&#45;&gt;13 -->\n<g id=\"edge27\" class=\"edge\">\n<title>15&#45;&gt;13</title>\n<path fill=\"none\" stroke=\"black\" d=\"M2221.26,-263.6C2154.63,-231.56 1994.69,-156.06 1937,-141 1835.82,-114.6 1713.51,-107.83 1642.95,-106.26\"/>\n<polygon fill=\"black\" stroke=\"black\" points=\"1643.23,-102.77 1633.17,-106.08 1643.1,-109.77 1643.23,-102.77\"/>\n<text text-anchor=\"middle\" x=\"2129.5\" y=\"-188.3\" font-family=\"Times,serif\" font-size=\"14.00\">rdfs:range</text>\n</g>\n<!-- 15&#45;&gt;15 -->\n<g id=\"edge7\" class=\"edge\">\n<title>15&#45;&gt;15</title>\n<path fill=\"none\" stroke=\"black\" d=\"M2299.76,-287.1C2312.93,-286.67 2322.95,-283.97 2322.95,-279 2322.95,-275.58 2318.21,-273.24 2310.97,-271.97\"/>\n<polygon fill=\"black\" stroke=\"black\" points=\"2311.55,-268.51 2301.26,-271.05 2310.89,-275.48 2311.55,-268.51\"/>\n<text text-anchor=\"middle\" x=\"2375.45\" y=\"-275.3\" font-family=\"Times,serif\" font-size=\"14.00\">rdfs:subPropertyOf</text>\n</g>\n<!-- 15&#45;&gt;17 -->\n<g id=\"edge82\" class=\"edge\">\n<title>15&#45;&gt;17</title>\n<path fill=\"none\" stroke=\"black\" d=\"M2304.25,-275.48C2353.69,-271.88 2422.13,-263.3 2439,-243 2477.31,-196.9 2333.87,-104.53 2305,-87 2268.94,-65.11 2257.37,-62.26 2216,-54 2058.97,-22.65 1575.31,-19.09 1392.23,-18.89\"/>\n<polygon fill=\"black\" stroke=\"black\" points=\"1392.38,-15.4 1382.38,-18.89 1392.38,-22.4 1392.38,-15.4\"/>\n<text text-anchor=\"middle\" x=\"2419.5\" y=\"-144.8\" font-family=\"Times,serif\" font-size=\"14.00\">rdf:type</text>\n</g>\n<!-- 16&#45;&gt;17 -->\n<g id=\"edge80\" class=\"edge\">\n<title>16&#45;&gt;17</title>\n<path fill=\"none\" stroke=\"black\" d=\"M228.58,-314.75C229.17,-295.63 230,-263.86 230,-236.5 230,-236.5 230,-236.5 230,-104 230,-68.95 258.2,-66.36 291,-54 379.98,-20.48 1031.37,-18.49 1249.81,-18.79\"/>\n<polygon fill=\"black\" stroke=\"black\" points=\"1249.6,-22.29 1259.6,-18.8 1249.61,-15.29 1249.6,-22.29\"/>\n<text text-anchor=\"middle\" x=\"251.5\" y=\"-188.3\" font-family=\"Times,serif\" font-size=\"14.00\">rdf:type</text>\n</g>\n<!-- 17&#45;&gt;13 -->\n<g id=\"edge34\" class=\"edge\">\n<title>17&#45;&gt;13</title>\n<path fill=\"none\" stroke=\"black\" d=\"M1380.28,-20.62C1475.71,-23.85 1654.7,-32.69 1674,-54 1690.14,-71.82 1664.18,-84.8 1636.21,-93.06\"/>\n<polygon fill=\"black\" stroke=\"black\" points=\"1635.65,-89.58 1626.93,-95.59 1637.5,-96.33 1635.65,-89.58\"/>\n<text text-anchor=\"middle\" x=\"1699.5\" y=\"-57.8\" font-family=\"Times,serif\" font-size=\"14.00\">rdf:type</text>\n</g>\n<!-- 17&#45;&gt;17 -->\n<g id=\"edge11\" class=\"edge\">\n<title>17&#45;&gt;17</title>\n<path fill=\"none\" stroke=\"black\" d=\"M1379.69,-21.88C1390.88,-21.42 1398.79,-20.12 1398.79,-18 1398.79,-16.71 1395.86,-15.72 1391.03,-15.04\"/>\n<polygon fill=\"black\" stroke=\"black\" points=\"1391.45,-11.56 1381.2,-14.24 1390.88,-18.54 1391.45,-11.56\"/>\n<text text-anchor=\"middle\" x=\"1420.29\" y=\"-14.3\" font-family=\"Times,serif\" font-size=\"14.00\">rdf:type</text>\n</g>\n<!-- 17&#45;&gt;17 -->\n<g id=\"edge20\" class=\"edge\">\n<title>17&#45;&gt;17</title>\n<path fill=\"none\" stroke=\"black\" d=\"M1375.47,-25.75C1408.58,-27.23 1441.79,-24.65 1441.79,-18 1441.79,-12.1 1415.68,-9.41 1386.68,-9.9\"/>\n<polygon fill=\"black\" stroke=\"black\" points=\"1386.87,-6.39 1376.99,-10.2 1387.09,-13.39 1386.87,-6.39\"/>\n<text text-anchor=\"middle\" x=\"1485.79\" y=\"-14.3\" font-family=\"Times,serif\" font-size=\"14.00\">rdfs:subClassOf</text>\n</g>\n<!-- 18&#45;&gt;17 -->\n<g id=\"edge53\" class=\"edge\">\n<title>18&#45;&gt;17</title>\n<path fill=\"none\" stroke=\"black\" d=\"M125.69,-422.82C120.5,-405.04 112.95,-376.39 110,-351 108.15,-335.11 108.1,-330.89 110,-315 114.25,-279.36 129,-272.4 129,-236.5 129,-236.5 129,-236.5 129,-104 129,-47.04 191.37,-66.25 247,-54 344.26,-32.59 1026.53,-22.54 1250.18,-19.8\"/>\n<polygon fill=\"black\" stroke=\"black\" points=\"1249.96,-23.31 1259.92,-19.68 1249.87,-16.31 1249.96,-23.31\"/>\n<text text-anchor=\"middle\" x=\"150.5\" y=\"-231.8\" font-family=\"Times,serif\" font-size=\"14.00\">rdf:type</text>\n</g>\n<!-- 19 -->\n<g id=\"node20\" class=\"node\">\n<title>19</title>\n<ellipse fill=\"none\" stroke=\"black\" cx=\"1155\" cy=\"-387\" rx=\"43.59\" ry=\"18\"/>\n<text text-anchor=\"middle\" x=\"1155\" y=\"-383.3\" font-family=\"Times,serif\" font-size=\"14.00\">ex:Feline</text>\n</g>\n<!-- 19&#45;&gt;5 -->\n<g id=\"edge10\" class=\"edge\">\n<title>19&#45;&gt;5</title>\n<path fill=\"none\" stroke=\"black\" d=\"M1134.41,-370.69C1112.72,-353.99 1078.28,-325.78 1053,-297 1028.68,-269.31 1033,-254.12 1007,-228 1001.96,-222.94 996.09,-218.17 990.14,-213.88\"/>\n<polygon fill=\"black\" stroke=\"black\" points=\"992.33,-211.14 982.09,-208.41 988.39,-216.93 992.33,-211.14\"/>\n<text text-anchor=\"middle\" x=\"1097\" y=\"-275.3\" font-family=\"Times,serif\" font-size=\"14.00\">rdfs:subClassOf</text>\n</g>\n<!-- 19&#45;&gt;13 -->\n<g id=\"edge35\" class=\"edge\">\n<title>19&#45;&gt;13</title>\n<path fill=\"none\" stroke=\"black\" d=\"M1193.15,-377.76C1284.72,-357.85 1510.34,-307.95 1523,-297 1570.77,-255.71 1581.98,-177.24 1584.45,-134.86\"/>\n<polygon fill=\"black\" stroke=\"black\" points=\"1587.94,-135.1 1584.89,-124.95 1580.95,-134.79 1587.94,-135.1\"/>\n<text text-anchor=\"middle\" x=\"1587.5\" y=\"-231.8\" font-family=\"Times,serif\" font-size=\"14.00\">rdf:type</text>\n</g>\n<!-- 19&#45;&gt;17 -->\n<g id=\"edge60\" class=\"edge\">\n<title>19&#45;&gt;17</title>\n<path fill=\"none\" stroke=\"black\" d=\"M1153.29,-368.74C1150.12,-332.33 1144.87,-245.13 1159,-174 1170.16,-117.82 1163.95,-92.89 1206,-54 1219.58,-41.44 1237.53,-33.39 1255.21,-28.22\"/>\n<polygon fill=\"black\" stroke=\"black\" points=\"1255.88,-31.66 1264.67,-25.74 1254.11,-24.89 1255.88,-31.66\"/>\n<text text-anchor=\"middle\" x=\"1180.5\" y=\"-188.3\" font-family=\"Times,serif\" font-size=\"14.00\">rdf:type</text>\n</g>\n<!-- 19&#45;&gt;17 -->\n<g id=\"edge72\" class=\"edge\">\n<title>19&#45;&gt;17</title>\n<path fill=\"none\" stroke=\"black\" d=\"M1183.88,-373.14C1211.74,-358.96 1252.21,-333.26 1270,-297 1277.05,-282.64 1278.08,-274.81 1270,-261 1261.76,-246.91 1248.88,-255.16 1238,-243 1227.38,-231.13 1227.17,-225.61 1224,-210 1213.05,-156.13 1214.73,-137.26 1237,-87 1245.85,-67.03 1264.03,-51.15 1281.21,-39.78\"/>\n<polygon fill=\"black\" stroke=\"black\" points=\"1282.68,-43 1289.31,-34.74 1278.97,-37.06 1282.68,-43\"/>\n<text text-anchor=\"middle\" x=\"1268\" y=\"-188.3\" font-family=\"Times,serif\" font-size=\"14.00\">rdfs:subClassOf</text>\n</g>\n<!-- 19&#45;&gt;19 -->\n<g id=\"edge93\" class=\"edge\">\n<title>19&#45;&gt;19</title>\n<path fill=\"none\" stroke=\"black\" d=\"M1191.65,-397.1C1205.3,-397.43 1216.55,-394.07 1216.55,-387 1216.55,-382.03 1210.99,-378.89 1202.94,-377.58\"/>\n<polygon fill=\"black\" stroke=\"black\" points=\"1203.35,-374.1 1193.16,-376.99 1202.93,-381.09 1203.35,-374.1\"/>\n<text text-anchor=\"middle\" x=\"1260.55\" y=\"-383.3\" font-family=\"Times,serif\" font-size=\"14.00\">rdfs:subClassOf</text>\n</g>\n<!-- 19&#45;&gt;22 -->\n<g id=\"edge9\" class=\"edge\">\n<title>19&#45;&gt;22</title>\n<path fill=\"none\" stroke=\"black\" d=\"M1113.81,-380.62C1084.82,-376.96 1045.08,-372.23 1010,-369 890.68,-358.02 858.4,-374.98 741,-351 693.49,-341.29 685.13,-326.42 638,-315 575.63,-299.89 502.82,-290.62 451.92,-285.44\"/>\n<polygon fill=\"black\" stroke=\"black\" points=\"452.56,-281.99 442.26,-284.49 451.87,-288.96 452.56,-281.99\"/>\n<text text-anchor=\"middle\" x=\"785\" y=\"-329.3\" font-family=\"Times,serif\" font-size=\"14.00\">rdfs:subClassOf</text>\n</g>\n<!-- 20 -->\n<g id=\"node21\" class=\"node\">\n<title>20</title>\n<ellipse fill=\"none\" stroke=\"black\" cx=\"2824\" cy=\"-279\" rx=\"78.79\" ry=\"18\"/>\n<text text-anchor=\"middle\" x=\"2824\" y=\"-275.3\" font-family=\"Times,serif\" font-size=\"14.00\">rdfs:subPropertyOf</text>\n</g>\n<!-- 20&#45;&gt;10 -->\n<g id=\"edge77\" class=\"edge\">\n<title>20&#45;&gt;10</title>\n<path fill=\"none\" stroke=\"black\" d=\"M2766.85,-266.19C2756.6,-264.3 2746.01,-262.48 2736,-261 2658.21,-249.53 2637.98,-253.07 2560,-243 2517.17,-237.47 2506.68,-234.55 2464,-228 2405.42,-219 2338.48,-208.93 2291.61,-201.91\"/>\n<polygon fill=\"black\" stroke=\"black\" points=\"2292.35,-198.48 2281.94,-200.46 2291.31,-205.4 2292.35,-198.48\"/>\n<text text-anchor=\"middle\" x=\"2581.5\" y=\"-231.8\" font-family=\"Times,serif\" font-size=\"14.00\">rdf:type</text>\n</g>\n<!-- 20&#45;&gt;17 -->\n<g id=\"edge33\" class=\"edge\">\n<title>20&#45;&gt;17</title>\n<path fill=\"none\" stroke=\"black\" d=\"M2792.58,-262.02C2723.72,-227.37 2553.83,-143.84 2406,-87 2360.74,-69.6 2349.78,-62.27 2302,-54 2127.07,-23.71 1587.09,-19.54 1392.13,-19.04\"/>\n<polygon fill=\"black\" stroke=\"black\" points=\"1392.42,-15.54 1382.41,-19.02 1392.4,-22.54 1392.42,-15.54\"/>\n<text text-anchor=\"middle\" x=\"2588.5\" y=\"-144.8\" font-family=\"Times,serif\" font-size=\"14.00\">rdf:type</text>\n</g>\n<!-- 20&#45;&gt;20 -->\n<g id=\"edge38\" class=\"edge\">\n<title>20&#45;&gt;20</title>\n<path fill=\"none\" stroke=\"black\" d=\"M2895.65,-286.85C2910.21,-285.99 2920.64,-283.38 2920.64,-279 2920.64,-275.89 2915.37,-273.67 2907.09,-272.34\"/>\n<polygon fill=\"black\" stroke=\"black\" points=\"2907.46,-268.86 2897.15,-271.31 2906.74,-275.82 2907.46,-268.86\"/>\n<text text-anchor=\"middle\" x=\"2973.14\" y=\"-275.3\" font-family=\"Times,serif\" font-size=\"14.00\">rdfs:subPropertyOf</text>\n</g>\n<!-- 21 -->\n<g id=\"node22\" class=\"node\">\n<title>21</title>\n<ellipse fill=\"none\" stroke=\"black\" cx=\"3088\" cy=\"-279\" rx=\"44.39\" ry=\"18\"/>\n<text text-anchor=\"middle\" x=\"3088\" y=\"-275.3\" font-family=\"Times,serif\" font-size=\"14.00\">rdfs:label</text>\n</g>\n<!-- 21&#45;&gt;10 -->\n<g id=\"edge2\" class=\"edge\">\n<title>21&#45;&gt;10</title>\n<path fill=\"none\" stroke=\"black\" d=\"M3055.51,-266.31C3048.8,-264.25 3041.73,-262.35 3035,-261 3025.93,-259.19 2483.39,-213.93 2295.35,-198.27\"/>\n<polygon fill=\"black\" stroke=\"black\" points=\"2295.77,-194.79 2285.52,-197.45 2295.19,-201.77 2295.77,-194.79\"/>\n<text text-anchor=\"middle\" x=\"2835.5\" y=\"-231.8\" font-family=\"Times,serif\" font-size=\"14.00\">rdf:type</text>\n</g>\n<!-- 21&#45;&gt;17 -->\n<g id=\"edge61\" class=\"edge\">\n<title>21&#45;&gt;17</title>\n<path fill=\"none\" stroke=\"black\" d=\"M3067.28,-262.82C3051.45,-251.82 3028.72,-237.31 3007,-228 2727.4,-108.13 2646,-98.14 2345,-54 2160.7,-26.98 1592.6,-20.74 1392.02,-19.37\"/>\n<polygon fill=\"black\" stroke=\"black\" points=\"1392.3,-15.87 1382.28,-19.31 1392.25,-22.87 1392.3,-15.87\"/>\n<text text-anchor=\"middle\" x=\"2846.5\" y=\"-144.8\" font-family=\"Times,serif\" font-size=\"14.00\">rdf:type</text>\n</g>\n<!-- 21&#45;&gt;21 -->\n<g id=\"edge87\" class=\"edge\">\n<title>21&#45;&gt;21</title>\n<path fill=\"none\" stroke=\"black\" d=\"M3128.08,-287.15C3140.47,-286.98 3150.2,-284.27 3150.2,-279 3150.2,-275.46 3145.8,-273.07 3139.17,-271.84\"/>\n<polygon fill=\"black\" stroke=\"black\" points=\"3139.86,-268.39 3129.59,-270.99 3139.24,-275.36 3139.86,-268.39\"/>\n<text text-anchor=\"middle\" x=\"3202.7\" y=\"-275.3\" font-family=\"Times,serif\" font-size=\"14.00\">rdfs:subPropertyOf</text>\n</g>\n<!-- 22&#45;&gt;5 -->\n<g id=\"edge70\" class=\"edge\">\n<title>22&#45;&gt;5</title>\n<path fill=\"none\" stroke=\"black\" d=\"M441.6,-274.73C515.56,-269.71 644.78,-258.98 689,-243 700.48,-238.85 700.58,-232.3 712,-228 744.88,-215.61 836.2,-204.66 897.05,-198.44\"/>\n<polygon fill=\"black\" stroke=\"black\" points=\"897.3,-201.93 906.9,-197.44 896.6,-194.96 897.3,-201.93\"/>\n<text text-anchor=\"middle\" x=\"756\" y=\"-231.8\" font-family=\"Times,serif\" font-size=\"14.00\">rdfs:subClassOf</text>\n</g>\n<!-- 22&#45;&gt;13 -->\n<g id=\"edge86\" class=\"edge\">\n<title>22&#45;&gt;13</title>\n<path fill=\"none\" stroke=\"black\" d=\"M430.54,-267.42C471.01,-256.38 532.84,-236.89 582,-210 604.78,-197.54 603.88,-183.61 628,-174 711.44,-140.74 1333.78,-115.25 1527.57,-108.05\"/>\n<polygon fill=\"black\" stroke=\"black\" points=\"1527.53,-111.55 1537.39,-107.69 1527.27,-104.56 1527.53,-111.55\"/>\n<text text-anchor=\"middle\" x=\"649.5\" y=\"-188.3\" font-family=\"Times,serif\" font-size=\"14.00\">rdf:type</text>\n</g>\n<!-- 22&#45;&gt;17 -->\n<g id=\"edge14\" class=\"edge\">\n<title>22&#45;&gt;17</title>\n<path fill=\"none\" stroke=\"black\" d=\"M380.87,-260.87C370.98,-234.68 355.53,-183.26 367,-141 378.74,-97.75 379.55,-77.03 418,-54 453.48,-32.75 1043.29,-22.76 1250.07,-19.9\"/>\n<polygon fill=\"black\" stroke=\"black\" points=\"1249.91,-23.4 1259.86,-19.76 1249.82,-16.4 1249.91,-23.4\"/>\n<text text-anchor=\"middle\" x=\"388.5\" y=\"-144.8\" font-family=\"Times,serif\" font-size=\"14.00\">rdf:type</text>\n</g>\n<!-- 22&#45;&gt;17 -->\n<g id=\"edge22\" class=\"edge\">\n<title>22&#45;&gt;17</title>\n<path fill=\"none\" stroke=\"black\" d=\"M390.92,-260.88C396.12,-233.81 408.76,-180.17 433,-141 461.95,-94.24 470.6,-76.01 521,-54 586.72,-25.3 1066.16,-20.13 1249.75,-19.2\"/>\n<polygon fill=\"black\" stroke=\"black\" points=\"1249.65,-22.7 1259.63,-19.15 1249.61,-15.7 1249.65,-22.7\"/>\n<text text-anchor=\"middle\" x=\"477\" y=\"-144.8\" font-family=\"Times,serif\" font-size=\"14.00\">rdfs:subClassOf</text>\n</g>\n<!-- 22&#45;&gt;22 -->\n<g id=\"edge65\" class=\"edge\">\n<title>22&#45;&gt;22</title>\n<path fill=\"none\" stroke=\"black\" d=\"M437.54,-287.08C450.66,-286.62 460.6,-283.93 460.6,-279 460.6,-275.61 455.9,-273.28 448.7,-272\"/>\n<polygon fill=\"black\" stroke=\"black\" points=\"449.34,-268.55 439.04,-271.06 448.66,-275.52 449.34,-268.55\"/>\n<text text-anchor=\"middle\" x=\"504.6\" y=\"-275.3\" font-family=\"Times,serif\" font-size=\"14.00\">rdfs:subClassOf</text>\n</g>\n</g>\n</svg>\n",
      "text/plain": [
       "<graphviz.graphs.Digraph at 0x10575a760>"
      ]
     },
     "metadata": {},
     "output_type": "display_data"
    }
   ],
   "source": [
    "# This cell will compute the closure of the rdfs-entailment of your graph and draw it.\n",
    "%rdf graph entail-rdfs -l pets\n",
    "%rdf graph draw -l pets"
   ]
  },
  {
   "cell_type": "code",
   "execution_count": 19,
   "metadata": {
    "deletable": false,
    "editable": false,
    "nbgrader": {
     "cell_type": "code",
     "checksum": "a94b904955eb7de9a24d261b00e27ef8",
     "grade": true,
     "grade_id": "cell-545a303d2dc929f7",
     "locked": true,
     "points": 1,
     "schema_version": 3,
     "solution": false,
     "task": false
    }
   },
   "outputs": [
    {
     "name": "stdout",
     "output_type": "stream",
     "text": [
      "Graphman: Graph labelled 'pets' has been entailed using the RDFS regime.\n"
     ]
    }
   ],
   "source": [
    "# This test will check whether the entailment closure of your graph contains\n",
    "# all necessary class and property definitions. [1 point]\n",
    "%rdf graph entail-rdfs -l pets\n",
    "store = %rdf -r\n",
    "g = store['rdfgraphs']['pets']\n",
    "containCheck(g, uri(ex, \"Animal\"), RDF.type, RDFS.Class)\n",
    "containCheck(g, uri(ex, \"Mammal\"), RDF.type, RDFS.Class)\n",
    "containCheck(g, uri(ex, \"hasPet\"), RDF.type, RDF.Property)"
   ]
  },
  {
   "cell_type": "code",
   "execution_count": 17,
   "metadata": {
    "deletable": false,
    "editable": false,
    "nbgrader": {
     "cell_type": "code",
     "checksum": "869f7d9355cc428b6881c2b032364b6c",
     "grade": true,
     "grade_id": "cell-870e8045b6da1343",
     "locked": true,
     "points": 1,
     "schema_version": 3,
     "solution": false,
     "task": false
    }
   },
   "outputs": [
    {
     "name": "stdout",
     "output_type": "stream",
     "text": [
      "Graphman: Graph labelled 'pets' has been entailed using the RDFS regime.\n"
     ]
    }
   ],
   "source": [
    "# This test will check whether the entailment closure of your graph contains\n",
    "# all necessary subclass and subproperty definitions. [1 point]\n",
    "%rdf graph entail-rdfs -l pets\n",
    "store = %rdf -r\n",
    "g = store['rdfgraphs']['pets']\n",
    "containCheck(g, uri(ex, \"Mammal\"), RDFS.subClassOf, uri(ex, \"Animal\"))\n",
    "containCheck(g, uri(ex, \"Human\"), RDFS.subClassOf, uri(ex, \"Animal\"))"
   ]
  },
  {
   "cell_type": "code",
   "execution_count": null,
   "metadata": {
    "deletable": false,
    "editable": false,
    "nbgrader": {
     "cell_type": "code",
     "checksum": "f178619f8c8eb742c6f3ded04b251edd",
     "grade": true,
     "grade_id": "cell-bb9fd35fae47263f",
     "locked": true,
     "points": 1,
     "schema_version": 3,
     "solution": false,
     "task": false
    }
   },
   "outputs": [
    {
     "name": "stdout",
     "output_type": "stream",
     "text": [
      "Graphman: Graph labelled 'pets' has been entailed using the RDFS regime.\n"
     ]
    }
   ],
   "source": [
    "# This test will check whether the entailment closure of your graph contains\n",
    "# all necessary range and domain definitions. [1 point]\n",
    "%rdf graph entail-rdfs -l pets\n",
    "store = %rdf -r\n",
    "g = store['rdfgraphs']['pets']\n",
    "containCheck(g, uri(ex, \"hasPet\"), RDFS.domain, uri(ex, \"Human\"))"
   ]
  },
  {
   "cell_type": "code",
   "execution_count": null,
   "metadata": {
    "deletable": false,
    "editable": false,
    "nbgrader": {
     "cell_type": "code",
     "checksum": "6d8bad43c1f28c95b6f387a0aa5666bb",
     "grade": true,
     "grade_id": "cell-98cbe50027bad490",
     "locked": true,
     "points": 1,
     "schema_version": 3,
     "solution": false,
     "task": false
    }
   },
   "outputs": [],
   "source": [
    "# This test will check whether the entailment closure of your graph contains\n",
    "# all specified facts. [1 point]"
   ]
  },
  {
   "cell_type": "markdown",
   "metadata": {
    "deletable": false,
    "editable": false,
    "nbgrader": {
     "cell_type": "markdown",
     "checksum": "f042cdc8a3a53b883d268f41030e49e6",
     "grade": false,
     "grade_id": "cell-0bfc8cc310a8f149",
     "locked": true,
     "schema_version": 3,
     "solution": false,
     "task": false
    }
   },
   "source": [
    "#### 2b) Library [4 points]\n",
    "\n",
    "Model the following information using the RDFS vocabulary: All books and movies are mediums. The creator of a medium is a person and only mediums have a creator. Only books have an author and the author of a book is also the creator. Only mediums have titles and a publish date.\n",
    "\n",
    "Also add that Douglas Adams is the author of a book with the title \"The Hitchhiker's Guide to the Galaxy\" and published \"1979-10-12\".\n",
    "\n",
    "Use the following URIs:  \n",
    "Medium: **http://example.org/#Medium**  \n",
    "Books: **http://example.org/#Book**  \n",
    "Movies: **http://example.org/#Movie**  \n",
    "Persons: **http://example.org/#Person**  \n",
    "creator: **http://example.org/#createdBy**  \n",
    "author: **http://example.org/#authoredBy**  \n",
    "title: **http://example.org/#title**  \n",
    "publish date: **http://example.org/#published**  \n",
    "Douglas Adams: **http://example.org/#DouglasAdams**  \n",
    "The Hitchhiker's Guide to the Galaxy: **http://example.org/#HitchhikersGuide**\n",
    "\n",
    "You may use all terms from the RDFS vocabulary. Omit datatypes of literals."
   ]
  },
  {
   "cell_type": "code",
   "execution_count": 21,
   "metadata": {
    "deletable": false,
    "nbgrader": {
     "cell_type": "code",
     "checksum": "d3a6176b68fed76a0b00e7ef281ecb7a",
     "grade": false,
     "grade_id": "cell-f3aaa3f152446c75",
     "locked": false,
     "schema_version": 3,
     "solution": true,
     "task": false
    }
   },
   "outputs": [
    {
     "data": {
      "image/svg+xml": "<?xml version=\"1.0\" encoding=\"UTF-8\" standalone=\"no\"?>\n<!DOCTYPE svg PUBLIC \"-//W3C//DTD SVG 1.1//EN\"\n \"http://www.w3.org/Graphics/SVG/1.1/DTD/svg11.dtd\">\n<!-- Generated by graphviz version 7.0.1 (20221109.1506)\n -->\n<!-- Pages: 1 -->\n<svg width=\"1766pt\" height=\"305pt\"\n viewBox=\"0.00 0.00 1766.19 305.00\" xmlns=\"http://www.w3.org/2000/svg\" xmlns:xlink=\"http://www.w3.org/1999/xlink\">\n<g id=\"graph0\" class=\"graph\" transform=\"scale(1 1) rotate(0) translate(4 301)\">\n<polygon fill=\"white\" stroke=\"none\" points=\"-4,4 -4,-301 1762.19,-301 1762.19,4 -4,4\"/>\n<!-- 0 -->\n<g id=\"node1\" class=\"node\">\n<title>0</title>\n<polygon fill=\"none\" stroke=\"black\" points=\"1336.15,-210 1186.15,-210 1186.15,-174 1336.15,-174 1336.15,-210\"/>\n<text text-anchor=\"middle\" x=\"1261.15\" y=\"-188.3\" font-family=\"Times,serif\" font-size=\"14.00\">&quot;1979&#45;10&#45;12&quot;^^xsd:date</text>\n</g>\n<!-- 1 -->\n<g id=\"node2\" class=\"node\">\n<title>1</title>\n<ellipse fill=\"none\" stroke=\"black\" cx=\"1366.15\" cy=\"-279\" rx=\"83.69\" ry=\"18\"/>\n<text text-anchor=\"middle\" x=\"1366.15\" y=\"-275.3\" font-family=\"Times,serif\" font-size=\"14.00\">ex:HitchhikersGuide</text>\n</g>\n<!-- 1&#45;&gt;0 -->\n<g id=\"edge24\" class=\"edge\">\n<title>1&#45;&gt;0</title>\n<path fill=\"none\" stroke=\"black\" d=\"M1345.4,-261.21C1329.93,-248.68 1308.56,-231.39 1291.22,-217.35\"/>\n<polygon fill=\"black\" stroke=\"black\" points=\"1293.72,-214.87 1283.74,-211.29 1289.31,-220.31 1293.72,-214.87\"/>\n<text text-anchor=\"middle\" x=\"1354.15\" y=\"-231.8\" font-family=\"Times,serif\" font-size=\"14.00\">ex:published</text>\n</g>\n<!-- 5 -->\n<g id=\"node6\" class=\"node\">\n<title>5</title>\n<ellipse fill=\"none\" stroke=\"black\" cx=\"1682.15\" cy=\"-192\" rx=\"76.09\" ry=\"18\"/>\n<text text-anchor=\"middle\" x=\"1682.15\" y=\"-188.3\" font-family=\"Times,serif\" font-size=\"14.00\">ex:DouglasAdams</text>\n</g>\n<!-- 1&#45;&gt;5 -->\n<g id=\"edge4\" class=\"edge\">\n<title>1&#45;&gt;5</title>\n<path fill=\"none\" stroke=\"black\" d=\"M1416.92,-264.34C1472.89,-249.29 1562.85,-225.09 1622.24,-209.11\"/>\n<polygon fill=\"black\" stroke=\"black\" points=\"1623.11,-212.5 1631.86,-206.53 1621.29,-205.74 1623.11,-212.5\"/>\n<text text-anchor=\"middle\" x=\"1582.15\" y=\"-231.8\" font-family=\"Times,serif\" font-size=\"14.00\">ex:authoredBy</text>\n</g>\n<!-- 6 -->\n<g id=\"node7\" class=\"node\">\n<title>6</title>\n<polygon fill=\"none\" stroke=\"black\" points=\"1587.65,-210 1354.65,-210 1354.65,-174 1587.65,-174 1587.65,-210\"/>\n<text text-anchor=\"middle\" x=\"1471.15\" y=\"-188.3\" font-family=\"Times,serif\" font-size=\"14.00\">&quot;The Hitchhiker&#39;s Guide to the Galaxy&quot;</text>\n</g>\n<!-- 1&#45;&gt;6 -->\n<g id=\"edge11\" class=\"edge\">\n<title>1&#45;&gt;6</title>\n<path fill=\"none\" stroke=\"black\" d=\"M1386.89,-261.21C1402.36,-248.68 1423.73,-231.39 1441.07,-217.35\"/>\n<polygon fill=\"black\" stroke=\"black\" points=\"1442.98,-220.31 1448.55,-211.29 1438.57,-214.87 1442.98,-220.31\"/>\n<text text-anchor=\"middle\" x=\"1443.15\" y=\"-231.8\" font-family=\"Times,serif\" font-size=\"14.00\">ex:title</text>\n</g>\n<!-- 8 -->\n<g id=\"node9\" class=\"node\">\n<title>8</title>\n<ellipse fill=\"none\" stroke=\"black\" cx=\"842.15\" cy=\"-192\" rx=\"40.09\" ry=\"18\"/>\n<text text-anchor=\"middle\" x=\"842.15\" y=\"-188.3\" font-family=\"Times,serif\" font-size=\"14.00\">ex:Book</text>\n</g>\n<!-- 1&#45;&gt;8 -->\n<g id=\"edge5\" class=\"edge\">\n<title>1&#45;&gt;8</title>\n<path fill=\"none\" stroke=\"black\" d=\"M1289.19,-271.56C1194.53,-262.59 1029.38,-243.55 891.15,-210 888.39,-209.33 885.57,-208.57 882.74,-207.75\"/>\n<polygon fill=\"black\" stroke=\"black\" points=\"883.97,-204.46 873.38,-204.81 881.87,-211.14 883.97,-204.46\"/>\n<text text-anchor=\"middle\" x=\"1080.65\" y=\"-231.8\" font-family=\"Times,serif\" font-size=\"14.00\">rdf:type</text>\n</g>\n<!-- 2 -->\n<g id=\"node3\" class=\"node\">\n<title>2</title>\n<ellipse fill=\"none\" stroke=\"black\" cx=\"665.15\" cy=\"-192\" rx=\"44.69\" ry=\"18\"/>\n<text text-anchor=\"middle\" x=\"665.15\" y=\"-188.3\" font-family=\"Times,serif\" font-size=\"14.00\">ex:Movie</text>\n</g>\n<!-- 11 -->\n<g id=\"node12\" class=\"node\">\n<title>11</title>\n<ellipse fill=\"none\" stroke=\"black\" cx=\"648.15\" cy=\"-105\" rx=\"51.99\" ry=\"18\"/>\n<text text-anchor=\"middle\" x=\"648.15\" y=\"-101.3\" font-family=\"Times,serif\" font-size=\"14.00\">ex:Medium</text>\n</g>\n<!-- 2&#45;&gt;11 -->\n<g id=\"edge1\" class=\"edge\">\n<title>2&#45;&gt;11</title>\n<path fill=\"none\" stroke=\"black\" d=\"M661.71,-173.8C659.45,-162.51 656.44,-147.47 653.83,-134.43\"/>\n<polygon fill=\"black\" stroke=\"black\" points=\"657.27,-133.78 651.88,-124.66 650.41,-135.15 657.27,-133.78\"/>\n<text text-anchor=\"middle\" x=\"702.15\" y=\"-144.8\" font-family=\"Times,serif\" font-size=\"14.00\">rdfs:subClassOf</text>\n</g>\n<!-- 3 -->\n<g id=\"node4\" class=\"node\">\n<title>3</title>\n<ellipse fill=\"none\" stroke=\"black\" cx=\"208.15\" cy=\"-192\" rx=\"53.89\" ry=\"18\"/>\n<text text-anchor=\"middle\" x=\"208.15\" y=\"-188.3\" font-family=\"Times,serif\" font-size=\"14.00\">rdfs:domain</text>\n</g>\n<!-- 7 -->\n<g id=\"node8\" class=\"node\">\n<title>7</title>\n<ellipse fill=\"none\" stroke=\"black\" cx=\"328.15\" cy=\"-105\" rx=\"53.89\" ry=\"18\"/>\n<text text-anchor=\"middle\" x=\"328.15\" y=\"-101.3\" font-family=\"Times,serif\" font-size=\"14.00\">rdf:Property</text>\n</g>\n<!-- 3&#45;&gt;7 -->\n<g id=\"edge10\" class=\"edge\">\n<title>3&#45;&gt;7</title>\n<path fill=\"none\" stroke=\"black\" d=\"M215.4,-173.73C220.64,-163.06 228.64,-149.77 239.15,-141 249.6,-132.28 262.5,-125.55 275.19,-120.43\"/>\n<polygon fill=\"black\" stroke=\"black\" points=\"276.18,-123.8 284.33,-117.04 273.74,-117.24 276.18,-123.8\"/>\n<text text-anchor=\"middle\" x=\"272.65\" y=\"-144.8\" font-family=\"Times,serif\" font-size=\"14.00\">rdfs:domain</text>\n</g>\n<!-- 10 -->\n<g id=\"node11\" class=\"node\">\n<title>10</title>\n<ellipse fill=\"none\" stroke=\"black\" cx=\"471.15\" cy=\"-18\" rx=\"46.29\" ry=\"18\"/>\n<text text-anchor=\"middle\" x=\"471.15\" y=\"-14.3\" font-family=\"Times,serif\" font-size=\"14.00\">rdfs:Class</text>\n</g>\n<!-- 3&#45;&gt;10 -->\n<g id=\"edge23\" class=\"edge\">\n<title>3&#45;&gt;10</title>\n<path fill=\"none\" stroke=\"black\" d=\"M164.69,-180.91C141.17,-173.07 118.84,-160.25 129.15,-141 182.71,-40.91 330.16,-21.26 412.89,-18.42\"/>\n<polygon fill=\"black\" stroke=\"black\" points=\"412.95,-21.92 422.85,-18.15 412.76,-14.92 412.95,-21.92\"/>\n<text text-anchor=\"middle\" x=\"200.65\" y=\"-101.3\" font-family=\"Times,serif\" font-size=\"14.00\">rdfs:range</text>\n</g>\n<!-- 4 -->\n<g id=\"node5\" class=\"node\">\n<title>4</title>\n<ellipse fill=\"none\" stroke=\"black\" cx=\"842.15\" cy=\"-279\" rx=\"62.29\" ry=\"18\"/>\n<text text-anchor=\"middle\" x=\"842.15\" y=\"-275.3\" font-family=\"Times,serif\" font-size=\"14.00\">ex:authoredBy</text>\n</g>\n<!-- 4&#45;&gt;7 -->\n<g id=\"edge16\" class=\"edge\">\n<title>4&#45;&gt;7</title>\n<path fill=\"none\" stroke=\"black\" d=\"M781.86,-274.31C653.2,-265.82 360.96,-243.07 331.15,-210 312.94,-189.8 315.11,-157.39 319.99,-134.11\"/>\n<polygon fill=\"black\" stroke=\"black\" points=\"323.32,-135.22 322.25,-124.68 316.51,-133.58 323.32,-135.22\"/>\n<text text-anchor=\"middle\" x=\"352.65\" y=\"-188.3\" font-family=\"Times,serif\" font-size=\"14.00\">rdf:type</text>\n</g>\n<!-- 4&#45;&gt;8 -->\n<g id=\"edge20\" class=\"edge\">\n<title>4&#45;&gt;8</title>\n<path fill=\"none\" stroke=\"black\" d=\"M842.15,-260.8C842.15,-249.58 842.15,-234.67 842.15,-221.69\"/>\n<polygon fill=\"black\" stroke=\"black\" points=\"845.65,-221.98 842.15,-211.98 838.65,-221.98 845.65,-221.98\"/>\n<text text-anchor=\"middle\" x=\"875.65\" y=\"-231.8\" font-family=\"Times,serif\" font-size=\"14.00\">rdfs:domain</text>\n</g>\n<!-- 16 -->\n<g id=\"node17\" class=\"node\">\n<title>16</title>\n<ellipse fill=\"none\" stroke=\"black\" cx=\"1078.15\" cy=\"-105\" rx=\"45.49\" ry=\"18\"/>\n<text text-anchor=\"middle\" x=\"1078.15\" y=\"-101.3\" font-family=\"Times,serif\" font-size=\"14.00\">ex:Person</text>\n</g>\n<!-- 4&#45;&gt;16 -->\n<g id=\"edge18\" class=\"edge\">\n<title>4&#45;&gt;16</title>\n<path fill=\"none\" stroke=\"black\" d=\"M884.85,-265.49C922.43,-253.67 978.02,-234.17 1023.15,-210 1059.35,-190.61 1079.42,-192.56 1098.15,-156 1101.96,-148.56 1100.67,-140.22 1097.38,-132.52\"/>\n<polygon fill=\"black\" stroke=\"black\" points=\"1100.53,-130.98 1092.66,-123.88 1094.38,-134.34 1100.53,-130.98\"/>\n<text text-anchor=\"middle\" x=\"1112.65\" y=\"-188.3\" font-family=\"Times,serif\" font-size=\"14.00\">rdfs:range</text>\n</g>\n<!-- 5&#45;&gt;16 -->\n<g id=\"edge9\" class=\"edge\">\n<title>5&#45;&gt;16</title>\n<path fill=\"none\" stroke=\"black\" d=\"M1626.46,-179.31C1616.71,-177.42 1606.65,-175.57 1597.15,-174 1428.67,-146.15 1227.89,-122.55 1133,-111.96\"/>\n<polygon fill=\"black\" stroke=\"black\" points=\"1133.52,-108.5 1123.2,-110.87 1132.75,-115.45 1133.52,-108.5\"/>\n<text text-anchor=\"middle\" x=\"1490.65\" y=\"-144.8\" font-family=\"Times,serif\" font-size=\"14.00\">rdf:type</text>\n</g>\n<!-- 8&#45;&gt;11 -->\n<g id=\"edge7\" class=\"edge\">\n<title>8&#45;&gt;11</title>\n<path fill=\"none\" stroke=\"black\" d=\"M838.79,-173.68C835.77,-162.7 830.19,-149.1 820.15,-141 803.14,-127.29 751.24,-117.96 708.87,-112.4\"/>\n<polygon fill=\"black\" stroke=\"black\" points=\"709.35,-108.94 698.99,-111.16 708.47,-115.88 709.35,-108.94\"/>\n<text text-anchor=\"middle\" x=\"876.15\" y=\"-144.8\" font-family=\"Times,serif\" font-size=\"14.00\">rdfs:subClassOf</text>\n</g>\n<!-- 9 -->\n<g id=\"node10\" class=\"node\">\n<title>9</title>\n<ellipse fill=\"none\" stroke=\"black\" cx=\"46.15\" cy=\"-192\" rx=\"46.29\" ry=\"18\"/>\n<text text-anchor=\"middle\" x=\"46.15\" y=\"-188.3\" font-family=\"Times,serif\" font-size=\"14.00\">rdfs:range</text>\n</g>\n<!-- 9&#45;&gt;7 -->\n<g id=\"edge22\" class=\"edge\">\n<title>9&#45;&gt;7</title>\n<path fill=\"none\" stroke=\"black\" d=\"M72.59,-176.93C94.46,-165.79 126.61,-150.58 156.15,-141 192.6,-129.17 234.76,-120.52 268.21,-114.77\"/>\n<polygon fill=\"black\" stroke=\"black\" points=\"268.42,-118.29 277.71,-113.19 267.27,-111.38 268.42,-118.29\"/>\n<text text-anchor=\"middle\" x=\"189.65\" y=\"-144.8\" font-family=\"Times,serif\" font-size=\"14.00\">rdfs:domain</text>\n</g>\n<!-- 9&#45;&gt;10 -->\n<g id=\"edge19\" class=\"edge\">\n<title>9&#45;&gt;10</title>\n<path fill=\"none\" stroke=\"black\" d=\"M47.33,-173.64C49.84,-150.58 57.68,-110.07 82.15,-87 129.11,-42.7 317.53,-26.78 413.84,-21.46\"/>\n<polygon fill=\"black\" stroke=\"black\" points=\"413.8,-24.96 423.6,-20.94 413.43,-17.97 413.8,-24.96\"/>\n<text text-anchor=\"middle\" x=\"109.65\" y=\"-101.3\" font-family=\"Times,serif\" font-size=\"14.00\">rdfs:range</text>\n</g>\n<!-- 11&#45;&gt;10 -->\n<g id=\"edge2\" class=\"edge\">\n<title>11&#45;&gt;10</title>\n<path fill=\"none\" stroke=\"black\" d=\"M622.99,-88.91C605.18,-78.51 580.57,-64.69 558.15,-54 544.09,-47.3 528.4,-40.72 514.25,-35.11\"/>\n<polygon fill=\"black\" stroke=\"black\" points=\"515.78,-31.95 505.2,-31.57 513.24,-38.47 515.78,-31.95\"/>\n<text text-anchor=\"middle\" x=\"607.65\" y=\"-57.8\" font-family=\"Times,serif\" font-size=\"14.00\">rdf:type</text>\n</g>\n<!-- 12 -->\n<g id=\"node13\" class=\"node\">\n<title>12</title>\n<ellipse fill=\"none\" stroke=\"black\" cx=\"501.15\" cy=\"-105\" rx=\"67.69\" ry=\"18\"/>\n<text text-anchor=\"middle\" x=\"501.15\" y=\"-101.3\" font-family=\"Times,serif\" font-size=\"14.00\">rdfs:subClassOf</text>\n</g>\n<!-- 12&#45;&gt;10 -->\n<g id=\"edge13\" class=\"edge\">\n<title>12&#45;&gt;10</title>\n<path fill=\"none\" stroke=\"black\" d=\"M500.61,-86.87C499.85,-77 498.1,-64.5 494.15,-54 493.05,-51.1 491.69,-48.2 490.17,-45.37\"/>\n<polygon fill=\"black\" stroke=\"black\" points=\"493.21,-43.63 485.01,-36.92 487.23,-47.28 493.21,-43.63\"/>\n<text text-anchor=\"middle\" x=\"526.65\" y=\"-57.8\" font-family=\"Times,serif\" font-size=\"14.00\">rdfs:range</text>\n</g>\n<!-- 12&#45;&gt;10 -->\n<g id=\"edge25\" class=\"edge\">\n<title>12&#45;&gt;10</title>\n<path fill=\"none\" stroke=\"black\" d=\"M452.41,-92.19C440.9,-87.01 430,-79.59 423.15,-69 416.18,-58.24 423.32,-47.78 434.04,-39.23\"/>\n<polygon fill=\"black\" stroke=\"black\" points=\"435.77,-42.28 441.96,-33.68 431.76,-36.55 435.77,-42.28\"/>\n<text text-anchor=\"middle\" x=\"456.65\" y=\"-57.8\" font-family=\"Times,serif\" font-size=\"14.00\">rdfs:domain</text>\n</g>\n<!-- 13 -->\n<g id=\"node14\" class=\"node\">\n<title>13</title>\n<ellipse fill=\"none\" stroke=\"black\" cx=\"537.15\" cy=\"-192\" rx=\"55.79\" ry=\"18\"/>\n<text text-anchor=\"middle\" x=\"537.15\" y=\"-188.3\" font-family=\"Times,serif\" font-size=\"14.00\">ex:published</text>\n</g>\n<!-- 13&#45;&gt;7 -->\n<g id=\"edge3\" class=\"edge\">\n<title>13&#45;&gt;7</title>\n<path fill=\"none\" stroke=\"black\" d=\"M524.54,-174.11C515.37,-163.03 502,-149.14 487.15,-141 478.06,-136.03 427.26,-125.27 385.49,-116.99\"/>\n<polygon fill=\"black\" stroke=\"black\" points=\"386.24,-113.57 375.76,-115.08 384.89,-120.44 386.24,-113.57\"/>\n<text text-anchor=\"middle\" x=\"529.65\" y=\"-144.8\" font-family=\"Times,serif\" font-size=\"14.00\">rdf:type</text>\n</g>\n<!-- 13&#45;&gt;11 -->\n<g id=\"edge8\" class=\"edge\">\n<title>13&#45;&gt;11</title>\n<path fill=\"none\" stroke=\"black\" d=\"M550.76,-174.46C559.82,-164.08 572.37,-150.84 585.15,-141 592.32,-135.47 600.48,-130.27 608.49,-125.65\"/>\n<polygon fill=\"black\" stroke=\"black\" points=\"610.09,-128.77 617.15,-120.87 606.7,-122.64 610.09,-128.77\"/>\n<text text-anchor=\"middle\" x=\"618.65\" y=\"-144.8\" font-family=\"Times,serif\" font-size=\"14.00\">rdfs:domain</text>\n</g>\n<!-- 14 -->\n<g id=\"node15\" class=\"node\">\n<title>14</title>\n<ellipse fill=\"none\" stroke=\"black\" cx=\"418.15\" cy=\"-192\" rx=\"35.19\" ry=\"18\"/>\n<text text-anchor=\"middle\" x=\"418.15\" y=\"-188.3\" font-family=\"Times,serif\" font-size=\"14.00\">ex:title</text>\n</g>\n<!-- 14&#45;&gt;7 -->\n<g id=\"edge15\" class=\"edge\">\n<title>14&#45;&gt;7</title>\n<path fill=\"none\" stroke=\"black\" d=\"M390.56,-180.31C378.29,-174.52 364.34,-166.41 354.15,-156 347.93,-149.66 342.86,-141.53 338.89,-133.68\"/>\n<polygon fill=\"black\" stroke=\"black\" points=\"342.14,-132.36 334.8,-124.71 335.77,-135.26 342.14,-132.36\"/>\n<text text-anchor=\"middle\" x=\"375.65\" y=\"-144.8\" font-family=\"Times,serif\" font-size=\"14.00\">rdf:type</text>\n</g>\n<!-- 14&#45;&gt;11 -->\n<g id=\"edge21\" class=\"edge\">\n<title>14&#45;&gt;11</title>\n<path fill=\"none\" stroke=\"black\" d=\"M412.05,-174.14C409.32,-163.36 408.27,-149.8 416.15,-141 440.3,-114.01 542.47,-129.29 578.15,-123 584.23,-121.93 590.57,-120.64 596.84,-119.25\"/>\n<polygon fill=\"black\" stroke=\"black\" points=\"597.55,-122.68 606.51,-117.02 595.98,-115.86 597.55,-122.68\"/>\n<text text-anchor=\"middle\" x=\"449.65\" y=\"-144.8\" font-family=\"Times,serif\" font-size=\"14.00\">rdfs:domain</text>\n</g>\n<!-- 15 -->\n<g id=\"node16\" class=\"node\">\n<title>15</title>\n<ellipse fill=\"none\" stroke=\"black\" cx=\"957.15\" cy=\"-192\" rx=\"57.39\" ry=\"18\"/>\n<text text-anchor=\"middle\" x=\"957.15\" y=\"-188.3\" font-family=\"Times,serif\" font-size=\"14.00\">ex:createdBy</text>\n</g>\n<!-- 15&#45;&gt;7 -->\n<g id=\"edge12\" class=\"edge\">\n<title>15&#45;&gt;7</title>\n<path fill=\"none\" stroke=\"black\" d=\"M915.04,-179.48C907.13,-177.51 898.91,-175.59 891.15,-174 839.17,-163.37 822.71,-174.92 773.15,-156 761.74,-151.65 761.74,-144.8 750.15,-141 681.2,-118.42 496.22,-131.34 424.15,-123 411.27,-121.51 397.51,-119.39 384.54,-117.15\"/>\n<polygon fill=\"black\" stroke=\"black\" points=\"385.35,-113.74 374.89,-115.43 384.12,-120.63 385.35,-113.74\"/>\n<text text-anchor=\"middle\" x=\"794.65\" y=\"-144.8\" font-family=\"Times,serif\" font-size=\"14.00\">rdf:type</text>\n</g>\n<!-- 15&#45;&gt;11 -->\n<g id=\"edge17\" class=\"edge\">\n<title>15&#45;&gt;11</title>\n<path fill=\"none\" stroke=\"black\" d=\"M950.34,-173.76C944.97,-162.52 936.33,-148.58 924.15,-141 889.72,-119.57 781.73,-111.2 711.48,-107.97\"/>\n<polygon fill=\"black\" stroke=\"black\" points=\"711.77,-104.48 701.63,-107.54 711.46,-111.47 711.77,-104.48\"/>\n<text text-anchor=\"middle\" x=\"973.65\" y=\"-144.8\" font-family=\"Times,serif\" font-size=\"14.00\">rdfs:domain</text>\n</g>\n<!-- 15&#45;&gt;16 -->\n<g id=\"edge6\" class=\"edge\">\n<title>15&#45;&gt;16</title>\n<path fill=\"none\" stroke=\"black\" d=\"M987.27,-176.28C998.25,-170.46 1010.56,-163.4 1021.15,-156 1032.38,-148.15 1043.9,-138.41 1053.62,-129.62\"/>\n<polygon fill=\"black\" stroke=\"black\" points=\"1055.9,-132.28 1060.87,-122.92 1051.15,-127.14 1055.9,-132.28\"/>\n<text text-anchor=\"middle\" x=\"1066.65\" y=\"-144.8\" font-family=\"Times,serif\" font-size=\"14.00\">rdfs:range</text>\n</g>\n<!-- 16&#45;&gt;10 -->\n<g id=\"edge14\" class=\"edge\">\n<title>16&#45;&gt;10</title>\n<path fill=\"none\" stroke=\"black\" d=\"M1035.94,-98.09C928.62,-83.06 645.3,-43.39 525.67,-26.64\"/>\n<polygon fill=\"black\" stroke=\"black\" points=\"526.17,-23.17 515.78,-25.25 525.2,-30.1 526.17,-23.17\"/>\n<text text-anchor=\"middle\" x=\"832.65\" y=\"-57.8\" font-family=\"Times,serif\" font-size=\"14.00\">rdf:type</text>\n</g>\n</g>\n</svg>\n",
      "text/plain": [
       "<graphviz.graphs.Digraph at 0x1056355e0>"
      ]
     },
     "metadata": {},
     "output_type": "display_data"
    }
   ],
   "source": [
    "%%rdf turtle -l library\n",
    "# These are just some axiomatic triples. Do not remove them.\n",
    "rdfs:subClassOf rdfs:domain rdfs:Class .\n",
    "rdfs:subClassOf rdfs:range rdfs:Class .\n",
    "rdfs:range rdfs:range rdfs:Class .\n",
    "rdfs:range rdfs:domain rdf:Property .\n",
    "rdfs:domain rdfs:range rdfs:Class .\n",
    "rdfs:domain rdfs:domain rdf:Property .\n",
    "\n",
    "### YOUR SOLUTION HERE\n",
    "@prefix ex:<http://example.org/#> .\n",
    "\n",
    "### Declare the classes & properties\n",
    "ex:Medium a rdfs:Class .\n",
    "ex:Person a rdfs:Class .\n",
    "ex:createdBy a rdf:Property .\n",
    "ex:authoredBy a rdf:Property .\n",
    "ex:title a rdf:Property .\n",
    "ex:published a rdf:Property .\n",
    "\n",
    "### Declare the subClassOf relations & subPropertyOf relations\n",
    "ex:Movie rdfs:subClassOf ex:Medium .\n",
    "ex:Book rdfs:subClassOf ex:Medium .\n",
    "\n",
    "### Domain & Range\n",
    "ex:createdBy rdfs:domain ex:Medium .\n",
    "ex:createdBy rdfs:range ex:Person .\n",
    "\n",
    "ex:authoredBy rdfs:domain ex:Book .\n",
    "ex:authoredBy rdfs:range ex:Person .\n",
    "\n",
    "ex:title rdfs:domain ex:Medium .\n",
    "ex:published rdfs:domain ex:Medium .\n",
    "\n",
    "### facts\n",
    "ex:DouglasAdams a ex:Person .\n",
    "ex:HitchhikersGuide a ex:Book .\n",
    "\n",
    "ex:HitchhikersGuide ex:authoredBy ex:DouglasAdams .\n",
    "ex:HitchhikersGuide ex:title \"The Hitchhiker's Guide to the Galaxy\" .  \n",
    "ex:HitchhikersGuide ex:published \"1979-10-12\"^^xsd:date .\n",
    "\n",
    "\n",
    "\n",
    "\n",
    "\n"
   ]
  },
  {
   "cell_type": "code",
   "execution_count": 22,
   "metadata": {
    "deletable": false,
    "editable": false,
    "nbgrader": {
     "cell_type": "code",
     "checksum": "2d1bb46414ec72a592ec4ec1e31e1eeb",
     "grade": false,
     "grade_id": "cell-1bf611f650e94a71",
     "locked": true,
     "schema_version": 3,
     "solution": false,
     "task": false
    }
   },
   "outputs": [
    {
     "name": "stdout",
     "output_type": "stream",
     "text": [
      "Graphman: Graph labelled 'library' has been entailed using the RDFS regime.\n"
     ]
    },
    {
     "data": {
      "image/svg+xml": "<?xml version=\"1.0\" encoding=\"UTF-8\" standalone=\"no\"?>\n<!DOCTYPE svg PUBLIC \"-//W3C//DTD SVG 1.1//EN\"\n \"http://www.w3.org/Graphics/SVG/1.1/DTD/svg11.dtd\">\n<!-- Generated by graphviz version 7.0.1 (20221109.1506)\n -->\n<!-- Pages: 1 -->\n<svg width=\"3079pt\" height=\"434pt\"\n viewBox=\"0.00 0.00 3078.85 434.00\" xmlns=\"http://www.w3.org/2000/svg\" xmlns:xlink=\"http://www.w3.org/1999/xlink\">\n<g id=\"graph0\" class=\"graph\" transform=\"scale(1 1) rotate(0) translate(4 430)\">\n<polygon fill=\"white\" stroke=\"none\" points=\"-4,4 -4,-430 3074.85,-430 3074.85,4 -4,4\"/>\n<!-- 0 -->\n<g id=\"node1\" class=\"node\">\n<title>0</title>\n<ellipse fill=\"none\" stroke=\"black\" cx=\"2533.85\" cy=\"-321\" rx=\"40.09\" ry=\"18\"/>\n<text text-anchor=\"middle\" x=\"2533.85\" y=\"-317.3\" font-family=\"Times,serif\" font-size=\"14.00\">ex:Book</text>\n</g>\n<!-- 0&#45;&gt;0 -->\n<g id=\"edge19\" class=\"edge\">\n<title>0&#45;&gt;0</title>\n<path fill=\"none\" stroke=\"black\" d=\"M2570,-329.16C2582.27,-329.2 2592.14,-326.48 2592.14,-321 2592.14,-317.32 2587.69,-314.88 2581.04,-313.69\"/>\n<polygon fill=\"black\" stroke=\"black\" points=\"2581.74,-310.24 2571.51,-312.96 2581.21,-317.22 2581.74,-310.24\"/>\n<text text-anchor=\"middle\" x=\"2636.14\" y=\"-317.3\" font-family=\"Times,serif\" font-size=\"14.00\">rdfs:subClassOf</text>\n</g>\n<!-- 11 -->\n<g id=\"node12\" class=\"node\">\n<title>11</title>\n<ellipse fill=\"none\" stroke=\"black\" cx=\"1028.85\" cy=\"-105\" rx=\"46.29\" ry=\"18\"/>\n<text text-anchor=\"middle\" x=\"1028.85\" y=\"-101.3\" font-family=\"Times,serif\" font-size=\"14.00\">rdfs:Class</text>\n</g>\n<!-- 0&#45;&gt;11 -->\n<g id=\"edge63\" class=\"edge\">\n<title>0&#45;&gt;11</title>\n<path fill=\"none\" stroke=\"black\" d=\"M2496.28,-314.16C2473.25,-309.22 2444.03,-300.38 2421.85,-285 2405.19,-273.45 2411.79,-258.43 2393.85,-249 2332.36,-216.7 2145.22,-259.41 2081.85,-231 2061.2,-221.74 2065.85,-205.58 2045.85,-195 2007.86,-174.92 1990.83,-192.75 1950.85,-177 1922.97,-166.02 1922.51,-149.73 1893.85,-141 1825.58,-120.21 1323.11,-126.71 1251.85,-123 1194.95,-120.04 1130.02,-114.88 1084.95,-111.03\"/>\n<polygon fill=\"black\" stroke=\"black\" points=\"1085.43,-107.56 1075.16,-110.18 1084.82,-114.53 1085.43,-107.56\"/>\n<text text-anchor=\"middle\" x=\"2103.35\" y=\"-209.3\" font-family=\"Times,serif\" font-size=\"14.00\">rdf:type</text>\n</g>\n<!-- 16 -->\n<g id=\"node17\" class=\"node\">\n<title>16</title>\n<ellipse fill=\"none\" stroke=\"black\" cx=\"1658.85\" cy=\"-18\" rx=\"59.59\" ry=\"18\"/>\n<text text-anchor=\"middle\" x=\"1658.85\" y=\"-14.3\" font-family=\"Times,serif\" font-size=\"14.00\">rdfs:Resource</text>\n</g>\n<!-- 0&#45;&gt;16 -->\n<g id=\"edge4\" class=\"edge\">\n<title>0&#45;&gt;16</title>\n<path fill=\"none\" stroke=\"black\" d=\"M2529.65,-302.67C2526.04,-288.22 2520.54,-267.14 2514.85,-249 2504.66,-216.54 2499.53,-209.3 2488.85,-177 2470.92,-122.8 2496.9,-89.06 2451.85,-54 2423.62,-32.03 1919.43,-22.67 1729.99,-19.92\"/>\n<polygon fill=\"black\" stroke=\"black\" points=\"1730.08,-16.42 1720.03,-19.78 1729.98,-23.42 1730.08,-16.42\"/>\n<text text-anchor=\"middle\" x=\"2532.85\" y=\"-155.3\" font-family=\"Times,serif\" font-size=\"14.00\">rdfs:subClassOf</text>\n</g>\n<!-- 0&#45;&gt;16 -->\n<g id=\"edge48\" class=\"edge\">\n<title>0&#45;&gt;16</title>\n<path fill=\"none\" stroke=\"black\" d=\"M2544.96,-303.22C2565.06,-270.63 2603.02,-197.03 2576.85,-141 2551.34,-86.4 2529.04,-75.78 2472.85,-54 2404.66,-27.57 1915.47,-21 1729.94,-19.45\"/>\n<polygon fill=\"black\" stroke=\"black\" points=\"1730.24,-15.96 1720.21,-19.37 1730.18,-22.95 1730.24,-15.96\"/>\n<text text-anchor=\"middle\" x=\"2606.35\" y=\"-155.3\" font-family=\"Times,serif\" font-size=\"14.00\">rdf:type</text>\n</g>\n<!-- 17 -->\n<g id=\"node18\" class=\"node\">\n<title>17</title>\n<ellipse fill=\"none\" stroke=\"black\" cx=\"1878.85\" cy=\"-213\" rx=\"51.99\" ry=\"18\"/>\n<text text-anchor=\"middle\" x=\"1878.85\" y=\"-209.3\" font-family=\"Times,serif\" font-size=\"14.00\">ex:Medium</text>\n</g>\n<!-- 0&#45;&gt;17 -->\n<g id=\"edge61\" class=\"edge\">\n<title>0&#45;&gt;17</title>\n<path fill=\"none\" stroke=\"black\" d=\"M2497.65,-312.87C2480.73,-309.65 2460.29,-305.92 2441.85,-303 2381.63,-293.46 2364.19,-302.72 2305.85,-285 2271.23,-274.49 2267.63,-258.94 2232.85,-249 2232.85,-249 2040.94,-230.03 1939.72,-220.02\"/>\n<polygon fill=\"black\" stroke=\"black\" points=\"1940.24,-216.55 1929.95,-219.05 1939.55,-223.52 1940.24,-216.55\"/>\n<text text-anchor=\"middle\" x=\"2349.85\" y=\"-263.3\" font-family=\"Times,serif\" font-size=\"14.00\">rdfs:subClassOf</text>\n</g>\n<!-- 1 -->\n<g id=\"node2\" class=\"node\">\n<title>1</title>\n<ellipse fill=\"none\" stroke=\"black\" cx=\"752.85\" cy=\"-321\" rx=\"46.29\" ry=\"18\"/>\n<text text-anchor=\"middle\" x=\"752.85\" y=\"-317.3\" font-family=\"Times,serif\" font-size=\"14.00\">rdfs:range</text>\n</g>\n<!-- 1&#45;&gt;1 -->\n<g id=\"edge20\" class=\"edge\">\n<title>1&#45;&gt;1</title>\n<path fill=\"none\" stroke=\"black\" d=\"M794.8,-329.14C807.28,-328.9 816.99,-326.18 816.99,-321 816.99,-317.52 812.61,-315.15 805.94,-313.9\"/>\n<polygon fill=\"black\" stroke=\"black\" points=\"806.59,-310.44 796.31,-313 805.94,-317.41 806.59,-310.44\"/>\n<text text-anchor=\"middle\" x=\"869.49\" y=\"-317.3\" font-family=\"Times,serif\" font-size=\"14.00\">rdfs:subPropertyOf</text>\n</g>\n<!-- 7 -->\n<g id=\"node8\" class=\"node\">\n<title>7</title>\n<ellipse fill=\"none\" stroke=\"black\" cx=\"1182.85\" cy=\"-213\" rx=\"53.89\" ry=\"18\"/>\n<text text-anchor=\"middle\" x=\"1182.85\" y=\"-209.3\" font-family=\"Times,serif\" font-size=\"14.00\">rdf:Property</text>\n</g>\n<!-- 1&#45;&gt;7 -->\n<g id=\"edge26\" class=\"edge\">\n<title>1&#45;&gt;7</title>\n<path fill=\"none\" stroke=\"black\" d=\"M789.31,-309.49C804.25,-303.92 821.01,-295.92 833.85,-285 848.31,-272.69 840.56,-258.76 856.85,-249 901.01,-222.53 1036.77,-237.54 1087.85,-231 1100.32,-229.4 1113.64,-227.28 1126.24,-225.08\"/>\n<polygon fill=\"black\" stroke=\"black\" points=\"1126.85,-228.53 1136.07,-223.32 1125.61,-221.64 1126.85,-228.53\"/>\n<text text-anchor=\"middle\" x=\"890.35\" y=\"-263.3\" font-family=\"Times,serif\" font-size=\"14.00\">rdfs:domain</text>\n</g>\n<!-- 1&#45;&gt;7 -->\n<g id=\"edge70\" class=\"edge\">\n<title>1&#45;&gt;7</title>\n<path fill=\"none\" stroke=\"black\" d=\"M796.62,-314.48C831.72,-309.24 881.87,-299.91 923.85,-285 956.44,-273.42 960.14,-260.26 992.85,-249 996.04,-247.9 1070.72,-234.28 1125.48,-224.36\"/>\n<polygon fill=\"black\" stroke=\"black\" points=\"1125.78,-227.86 1134.99,-222.64 1124.53,-220.97 1125.78,-227.86\"/>\n<text text-anchor=\"middle\" x=\"1014.35\" y=\"-263.3\" font-family=\"Times,serif\" font-size=\"14.00\">rdf:type</text>\n</g>\n<!-- 1&#45;&gt;11 -->\n<g id=\"edge43\" class=\"edge\">\n<title>1&#45;&gt;11</title>\n<path fill=\"none\" stroke=\"black\" d=\"M725.04,-306.25C717.04,-300.81 709.29,-293.73 704.85,-285 697.59,-270.74 695.36,-261.89 704.85,-249 768.58,-162.38 840.32,-226.38 935.85,-177 960.43,-164.29 985.19,-145 1002.97,-129.73\"/>\n<polygon fill=\"black\" stroke=\"black\" points=\"1005.25,-132.39 1010.46,-123.17 1000.64,-127.13 1005.25,-132.39\"/>\n<text text-anchor=\"middle\" x=\"909.35\" y=\"-209.3\" font-family=\"Times,serif\" font-size=\"14.00\">rdfs:range</text>\n</g>\n<!-- 1&#45;&gt;16 -->\n<g id=\"edge40\" class=\"edge\">\n<title>1&#45;&gt;16</title>\n<path fill=\"none\" stroke=\"black\" d=\"M720.31,-307.93C710.34,-302.52 700.51,-295.04 694.85,-285 686.98,-271.07 687.42,-263.17 694.85,-249 766.59,-112.08 835.18,-99.7 982.85,-54 1093.97,-19.61 1437.48,-17.48 1587.51,-18.28\"/>\n<polygon fill=\"black\" stroke=\"black\" points=\"1587.3,-21.78 1597.32,-18.34 1587.34,-14.78 1587.3,-21.78\"/>\n<text text-anchor=\"middle\" x=\"797.35\" y=\"-155.3\" font-family=\"Times,serif\" font-size=\"14.00\">rdf:type</text>\n</g>\n<!-- 2 -->\n<g id=\"node3\" class=\"node\">\n<title>2</title>\n<ellipse fill=\"none\" stroke=\"black\" cx=\"280.85\" cy=\"-321\" rx=\"67.69\" ry=\"18\"/>\n<text text-anchor=\"middle\" x=\"280.85\" y=\"-317.3\" font-family=\"Times,serif\" font-size=\"14.00\">rdfs:subClassOf</text>\n</g>\n<!-- 2&#45;&gt;2 -->\n<g id=\"edge34\" class=\"edge\">\n<title>2&#45;&gt;2</title>\n<path fill=\"none\" stroke=\"black\" d=\"M342.4,-328.96C356.28,-328.24 366.44,-325.59 366.44,-321 366.44,-317.77 361.42,-315.51 353.61,-314.19\"/>\n<polygon fill=\"black\" stroke=\"black\" points=\"354.21,-310.74 343.9,-313.2 353.5,-317.7 354.21,-310.74\"/>\n<text text-anchor=\"middle\" x=\"418.94\" y=\"-317.3\" font-family=\"Times,serif\" font-size=\"14.00\">rdfs:subPropertyOf</text>\n</g>\n<!-- 2&#45;&gt;7 -->\n<g id=\"edge75\" class=\"edge\">\n<title>2&#45;&gt;7</title>\n<path fill=\"none\" stroke=\"black\" d=\"M339.61,-311.86C387.82,-305.07 457.84,-294.92 518.85,-285 608.86,-270.36 630.23,-259.25 720.85,-249 883.12,-230.64 925.58,-249.42 1087.85,-231 1100.59,-229.55 1114.21,-227.45 1127.05,-225.21\"/>\n<polygon fill=\"black\" stroke=\"black\" points=\"1127.37,-228.71 1136.59,-223.5 1126.12,-221.82 1127.37,-228.71\"/>\n<text text-anchor=\"middle\" x=\"742.35\" y=\"-263.3\" font-family=\"Times,serif\" font-size=\"14.00\">rdf:type</text>\n</g>\n<!-- 2&#45;&gt;11 -->\n<g id=\"edge38\" class=\"edge\">\n<title>2&#45;&gt;11</title>\n<path fill=\"none\" stroke=\"black\" d=\"M315.56,-305.27C326.72,-299.73 338.8,-292.84 348.85,-285 419.69,-229.69 407.6,-174.91 490.85,-141 576.5,-106.11 850.53,-104.23 971.04,-105.19\"/>\n<polygon fill=\"black\" stroke=\"black\" points=\"970.67,-108.68 980.7,-105.27 970.73,-101.68 970.67,-108.68\"/>\n<text text-anchor=\"middle\" x=\"449.35\" y=\"-209.3\" font-family=\"Times,serif\" font-size=\"14.00\">rdfs:range</text>\n</g>\n<!-- 2&#45;&gt;11 -->\n<g id=\"edge77\" class=\"edge\">\n<title>2&#45;&gt;11</title>\n<path fill=\"none\" stroke=\"black\" d=\"M323.76,-306.64C341.65,-300.65 362.51,-293.1 380.85,-285 427.05,-264.59 439.78,-260.41 480.85,-231 528.66,-196.76 523.97,-164.59 577.85,-141 646.84,-110.79 865.63,-106.2 971.01,-105.8\"/>\n<polygon fill=\"black\" stroke=\"black\" points=\"970.87,-109.3 980.86,-105.78 970.85,-102.3 970.87,-109.3\"/>\n<text text-anchor=\"middle\" x=\"551.35\" y=\"-209.3\" font-family=\"Times,serif\" font-size=\"14.00\">rdfs:domain</text>\n</g>\n<!-- 2&#45;&gt;16 -->\n<g id=\"edge47\" class=\"edge\">\n<title>2&#45;&gt;16</title>\n<path fill=\"none\" stroke=\"black\" d=\"M276.59,-302.65C268.89,-266.65 257.33,-183.64 301.85,-141 395.36,-51.41 1321.92,-25.82 1587.84,-20.29\"/>\n<polygon fill=\"black\" stroke=\"black\" points=\"1587.82,-23.8 1597.74,-20.09 1587.67,-16.8 1587.82,-23.8\"/>\n<text text-anchor=\"middle\" x=\"323.35\" y=\"-155.3\" font-family=\"Times,serif\" font-size=\"14.00\">rdf:type</text>\n</g>\n<!-- 3 -->\n<g id=\"node4\" class=\"node\">\n<title>3</title>\n<polygon fill=\"none\" stroke=\"black\" points=\"2888.85,-285 2738.85,-285 2738.85,-249 2888.85,-249 2888.85,-285\"/>\n<text text-anchor=\"middle\" x=\"2813.85\" y=\"-263.3\" font-family=\"Times,serif\" font-size=\"14.00\">&quot;1979&#45;10&#45;12&quot;^^xsd:date</text>\n</g>\n<!-- 3&#45;&gt;16 -->\n<g id=\"edge57\" class=\"edge\">\n<title>3&#45;&gt;16</title>\n<path fill=\"none\" stroke=\"black\" d=\"M2793.06,-248.76C2773.99,-232.04 2746.04,-205.15 2727.85,-177 2695.91,-127.58 2726.98,-87.85 2678.85,-54 2640.12,-26.76 1954.75,-20.61 1729.76,-19.32\"/>\n<polygon fill=\"black\" stroke=\"black\" points=\"1729.98,-15.82 1719.96,-19.26 1729.94,-22.82 1729.98,-15.82\"/>\n<text text-anchor=\"middle\" x=\"2749.35\" y=\"-155.3\" font-family=\"Times,serif\" font-size=\"14.00\">rdf:type</text>\n</g>\n<!-- 4 -->\n<g id=\"node5\" class=\"node\">\n<title>4</title>\n<ellipse fill=\"none\" stroke=\"black\" cx=\"527.85\" cy=\"-321\" rx=\"38.19\" ry=\"18\"/>\n<text text-anchor=\"middle\" x=\"527.85\" y=\"-317.3\" font-family=\"Times,serif\" font-size=\"14.00\">rdf:type</text>\n</g>\n<!-- 4&#45;&gt;4 -->\n<g id=\"edge44\" class=\"edge\">\n<title>4&#45;&gt;4</title>\n<path fill=\"none\" stroke=\"black\" d=\"M562.51,-329.15C574.51,-329.24 584.19,-326.52 584.19,-321 584.19,-317.38 580.02,-314.96 573.76,-313.75\"/>\n<polygon fill=\"black\" stroke=\"black\" points=\"574.27,-310.28 564.02,-312.97 573.71,-317.26 574.27,-310.28\"/>\n<text text-anchor=\"middle\" x=\"636.69\" y=\"-317.3\" font-family=\"Times,serif\" font-size=\"14.00\">rdfs:subPropertyOf</text>\n</g>\n<!-- 4&#45;&gt;7 -->\n<g id=\"edge36\" class=\"edge\">\n<title>4&#45;&gt;7</title>\n<path fill=\"none\" stroke=\"black\" d=\"M565.22,-316.42C628.53,-310.09 751.6,-296.48 767.85,-285 782.62,-274.56 771.64,-258.8 786.85,-249 815.01,-230.85 1054.58,-234.96 1087.85,-231 1100.33,-229.51 1113.66,-227.44 1126.26,-225.25\"/>\n<polygon fill=\"black\" stroke=\"black\" points=\"1126.87,-228.7 1136.1,-223.48 1125.63,-221.81 1126.87,-228.7\"/>\n<text text-anchor=\"middle\" x=\"808.35\" y=\"-263.3\" font-family=\"Times,serif\" font-size=\"14.00\">rdf:type</text>\n</g>\n<!-- 4&#45;&gt;16 -->\n<g id=\"edge72\" class=\"edge\">\n<title>4&#45;&gt;16</title>\n<path fill=\"none\" stroke=\"black\" d=\"M539.94,-303.67C565.54,-269.94 628.34,-191.51 694.85,-141 736.32,-109.5 750.14,-105.44 798.85,-87 855.4,-65.59 871.02,-62.83 930.85,-54 1056.17,-35.51 1430.84,-24.53 1588.11,-20.63\"/>\n<polygon fill=\"black\" stroke=\"black\" points=\"1588.08,-24.13 1597.99,-20.38 1587.91,-17.13 1588.08,-24.13\"/>\n<text text-anchor=\"middle\" x=\"716.35\" y=\"-155.3\" font-family=\"Times,serif\" font-size=\"14.00\">rdf:type</text>\n</g>\n<!-- 5 -->\n<g id=\"node6\" class=\"node\">\n<title>5</title>\n<ellipse fill=\"none\" stroke=\"black\" cx=\"44.85\" cy=\"-321\" rx=\"44.69\" ry=\"18\"/>\n<text text-anchor=\"middle\" x=\"44.85\" y=\"-317.3\" font-family=\"Times,serif\" font-size=\"14.00\">ex:Movie</text>\n</g>\n<!-- 5&#45;&gt;5 -->\n<g id=\"edge67\" class=\"edge\">\n<title>5&#45;&gt;5</title>\n<path fill=\"none\" stroke=\"black\" d=\"M85.34,-329.15C97.86,-328.98 107.69,-326.27 107.69,-321 107.69,-317.46 103.25,-315.07 96.55,-313.84\"/>\n<polygon fill=\"black\" stroke=\"black\" points=\"97.12,-310.38 86.85,-312.98 96.51,-317.35 97.12,-310.38\"/>\n<text text-anchor=\"middle\" x=\"151.69\" y=\"-317.3\" font-family=\"Times,serif\" font-size=\"14.00\">rdfs:subClassOf</text>\n</g>\n<!-- 5&#45;&gt;11 -->\n<g id=\"edge68\" class=\"edge\">\n<title>5&#45;&gt;11</title>\n<path fill=\"none\" stroke=\"black\" d=\"M83.2,-311.25C107.6,-305.14 139.6,-296.1 166.85,-285 291.7,-234.12 304.15,-177.83 433.85,-141 533.61,-112.67 841.94,-107.25 971.05,-106.23\"/>\n<polygon fill=\"black\" stroke=\"black\" points=\"970.75,-109.73 980.73,-106.16 970.7,-102.73 970.75,-109.73\"/>\n<text text-anchor=\"middle\" x=\"337.35\" y=\"-209.3\" font-family=\"Times,serif\" font-size=\"14.00\">rdf:type</text>\n</g>\n<!-- 5&#45;&gt;16 -->\n<g id=\"edge8\" class=\"edge\">\n<title>5&#45;&gt;16</title>\n<path fill=\"none\" stroke=\"black\" d=\"M44.28,-302.73C43.7,-252.43 49.98,-106.28 138.85,-54 201.88,-16.91 1295.36,-17.81 1587.55,-18.72\"/>\n<polygon fill=\"black\" stroke=\"black\" points=\"1587.3,-22.22 1597.31,-18.75 1587.32,-15.22 1587.3,-22.22\"/>\n<text text-anchor=\"middle\" x=\"91.35\" y=\"-155.3\" font-family=\"Times,serif\" font-size=\"14.00\">rdf:type</text>\n</g>\n<!-- 5&#45;&gt;16 -->\n<g id=\"edge53\" class=\"edge\">\n<title>5&#45;&gt;16</title>\n<path fill=\"none\" stroke=\"black\" d=\"M54.19,-302.94C74.21,-267.83 124.64,-186.98 187.85,-141 242.78,-101.04 264.76,-102.73 330.85,-87 572.8,-29.4 1348.25,-20.59 1587.72,-19.24\"/>\n<polygon fill=\"black\" stroke=\"black\" points=\"1587.56,-22.74 1597.54,-19.19 1587.52,-15.74 1587.56,-22.74\"/>\n<text text-anchor=\"middle\" x=\"231.85\" y=\"-155.3\" font-family=\"Times,serif\" font-size=\"14.00\">rdfs:subClassOf</text>\n</g>\n<!-- 5&#45;&gt;17 -->\n<g id=\"edge29\" class=\"edge\">\n<title>5&#45;&gt;17</title>\n<path fill=\"none\" stroke=\"black\" d=\"M86.94,-314.41C118.93,-310.43 164.08,-305.38 203.85,-303 242.47,-300.69 1563.84,-305.2 1596.85,-285 1612.28,-275.56 1601,-259.35 1615.85,-249 1647.19,-227.15 1748.36,-218.92 1815.69,-215.84\"/>\n<polygon fill=\"black\" stroke=\"black\" points=\"1815.67,-219.34 1825.51,-215.41 1815.37,-212.35 1815.67,-219.34\"/>\n<text text-anchor=\"middle\" x=\"1659.85\" y=\"-263.3\" font-family=\"Times,serif\" font-size=\"14.00\">rdfs:subClassOf</text>\n</g>\n<!-- 6 -->\n<g id=\"node7\" class=\"node\">\n<title>6</title>\n<polygon fill=\"none\" stroke=\"black\" points=\"3012.35,-177 2779.35,-177 2779.35,-141 3012.35,-141 3012.35,-177\"/>\n<text text-anchor=\"middle\" x=\"2895.85\" y=\"-155.3\" font-family=\"Times,serif\" font-size=\"14.00\">&quot;The Hitchhiker&#39;s Guide to the Galaxy&quot;</text>\n</g>\n<!-- 6&#45;&gt;16 -->\n<g id=\"edge31\" class=\"edge\">\n<title>6&#45;&gt;16</title>\n<path fill=\"none\" stroke=\"black\" d=\"M2878.21,-140.68C2851.82,-116.04 2799.28,-71.9 2744.85,-54 2649.07,-22.51 1955.91,-19.21 1729.89,-18.97\"/>\n<polygon fill=\"black\" stroke=\"black\" points=\"1730.05,-15.47 1720.05,-18.96 1730.04,-22.47 1730.05,-15.47\"/>\n<text text-anchor=\"middle\" x=\"2877.35\" y=\"-101.3\" font-family=\"Times,serif\" font-size=\"14.00\">rdf:type</text>\n</g>\n<!-- 7&#45;&gt;7 -->\n<g id=\"edge73\" class=\"edge\">\n<title>7&#45;&gt;7</title>\n<path fill=\"none\" stroke=\"black\" d=\"M1228.16,-223.12C1242.99,-223.07 1254.79,-219.7 1254.79,-213 1254.79,-208.13 1248.56,-205.02 1239.47,-203.66\"/>\n<polygon fill=\"black\" stroke=\"black\" points=\"1239.89,-200.19 1229.67,-202.98 1239.4,-207.17 1239.89,-200.19\"/>\n<text text-anchor=\"middle\" x=\"1298.79\" y=\"-209.3\" font-family=\"Times,serif\" font-size=\"14.00\">rdfs:subClassOf</text>\n</g>\n<!-- 7&#45;&gt;11 -->\n<g id=\"edge7\" class=\"edge\">\n<title>7&#45;&gt;11</title>\n<path fill=\"none\" stroke=\"black\" d=\"M1160.12,-196.36C1133.74,-178.2 1090.05,-148.13 1060.39,-127.71\"/>\n<polygon fill=\"black\" stroke=\"black\" points=\"1062.38,-124.83 1052.16,-122.05 1058.41,-130.6 1062.38,-124.83\"/>\n<text text-anchor=\"middle\" x=\"1150.35\" y=\"-155.3\" font-family=\"Times,serif\" font-size=\"14.00\">rdf:type</text>\n</g>\n<!-- 7&#45;&gt;16 -->\n<g id=\"edge39\" class=\"edge\">\n<title>7&#45;&gt;16</title>\n<path fill=\"none\" stroke=\"black\" d=\"M1194.98,-195.31C1213.86,-170.02 1252.24,-121.32 1291.85,-87 1312.25,-69.32 1317.41,-63.06 1342.85,-54 1386.77,-38.35 1510.34,-28.11 1589.3,-22.96\"/>\n<polygon fill=\"black\" stroke=\"black\" points=\"1589.35,-26.46 1599.11,-22.33 1588.9,-19.48 1589.35,-26.46\"/>\n<text text-anchor=\"middle\" x=\"1313.35\" y=\"-101.3\" font-family=\"Times,serif\" font-size=\"14.00\">rdf:type</text>\n</g>\n<!-- 7&#45;&gt;16 -->\n<g id=\"edge46\" class=\"edge\">\n<title>7&#45;&gt;16</title>\n<path fill=\"none\" stroke=\"black\" d=\"M1212.54,-197.51C1244.25,-181.39 1295.27,-153.56 1334.85,-123 1352.76,-109.17 1351.82,-99.25 1370.85,-87 1405.97,-64.39 1418.54,-64.98 1458.85,-54 1502.96,-41.98 1553.71,-33.16 1593.05,-27.38\"/>\n<polygon fill=\"black\" stroke=\"black\" points=\"1593.45,-30.85 1602.85,-25.97 1592.45,-23.93 1593.45,-30.85\"/>\n<text text-anchor=\"middle\" x=\"1414.85\" y=\"-101.3\" font-family=\"Times,serif\" font-size=\"14.00\">rdfs:subClassOf</text>\n</g>\n<!-- 8 -->\n<g id=\"node9\" class=\"node\">\n<title>8</title>\n<ellipse fill=\"none\" stroke=\"black\" cx=\"1854.85\" cy=\"-321\" rx=\"35.19\" ry=\"18\"/>\n<text text-anchor=\"middle\" x=\"1854.85\" y=\"-317.3\" font-family=\"Times,serif\" font-size=\"14.00\">ex:title</text>\n</g>\n<!-- 8&#45;&gt;7 -->\n<g id=\"edge56\" class=\"edge\">\n<title>8&#45;&gt;7</title>\n<path fill=\"none\" stroke=\"black\" d=\"M1828.72,-308.44C1822.93,-306.3 1816.76,-304.32 1810.85,-303 1699.09,-278.09 1660.27,-327.24 1553.85,-285 1530.36,-275.68 1533.16,-258.75 1509.85,-249 1463.94,-229.8 1328.96,-220.52 1247.47,-216.55\"/>\n<polygon fill=\"black\" stroke=\"black\" points=\"1248.01,-213.07 1237.86,-216.1 1247.68,-220.07 1248.01,-213.07\"/>\n<text text-anchor=\"middle\" x=\"1575.35\" y=\"-263.3\" font-family=\"Times,serif\" font-size=\"14.00\">rdf:type</text>\n</g>\n<!-- 8&#45;&gt;8 -->\n<g id=\"edge74\" class=\"edge\">\n<title>8&#45;&gt;8</title>\n<path fill=\"none\" stroke=\"black\" d=\"M1886.73,-329.14C1898.39,-329.36 1907.94,-326.65 1907.94,-321 1907.94,-317.38 1904.02,-314.97 1898.14,-313.76\"/>\n<polygon fill=\"black\" stroke=\"black\" points=\"1898.48,-310.27 1888.23,-312.98 1897.93,-317.25 1898.48,-310.27\"/>\n<text text-anchor=\"middle\" x=\"1960.44\" y=\"-317.3\" font-family=\"Times,serif\" font-size=\"14.00\">rdfs:subPropertyOf</text>\n</g>\n<!-- 8&#45;&gt;16 -->\n<g id=\"edge24\" class=\"edge\">\n<title>8&#45;&gt;16</title>\n<path fill=\"none\" stroke=\"black\" d=\"M1841.11,-304.32C1836.13,-298.4 1830.56,-291.52 1825.85,-285 1764.96,-200.83 1702.2,-94.61 1674.08,-45.79\"/>\n<polygon fill=\"black\" stroke=\"black\" points=\"1677.23,-44.24 1669.22,-37.31 1671.16,-47.72 1677.23,-44.24\"/>\n<text text-anchor=\"middle\" x=\"1773.35\" y=\"-155.3\" font-family=\"Times,serif\" font-size=\"14.00\">rdf:type</text>\n</g>\n<!-- 8&#45;&gt;17 -->\n<g id=\"edge22\" class=\"edge\">\n<title>8&#45;&gt;17</title>\n<path fill=\"none\" stroke=\"black\" d=\"M1873.79,-305.59C1879.78,-299.91 1885.66,-292.85 1888.85,-285 1894.31,-271.53 1892.71,-255.57 1889.35,-242.2\"/>\n<polygon fill=\"black\" stroke=\"black\" points=\"1892.73,-241.28 1886.51,-232.69 1886.02,-243.28 1892.73,-241.28\"/>\n<text text-anchor=\"middle\" x=\"1925.35\" y=\"-263.3\" font-family=\"Times,serif\" font-size=\"14.00\">rdfs:domain</text>\n</g>\n<!-- 9 -->\n<g id=\"node10\" class=\"node\">\n<title>9</title>\n<ellipse fill=\"none\" stroke=\"black\" cx=\"2423.85\" cy=\"-408\" rx=\"62.29\" ry=\"18\"/>\n<text text-anchor=\"middle\" x=\"2423.85\" y=\"-404.3\" font-family=\"Times,serif\" font-size=\"14.00\">ex:authoredBy</text>\n</g>\n<!-- 9&#45;&gt;0 -->\n<g id=\"edge16\" class=\"edge\">\n<title>9&#45;&gt;0</title>\n<path fill=\"none\" stroke=\"black\" d=\"M2451.02,-391.43C2460.41,-385.69 2470.83,-378.89 2479.85,-372 2490.31,-364 2501.1,-354.34 2510.26,-345.65\"/>\n<polygon fill=\"black\" stroke=\"black\" points=\"2512.63,-348.22 2517.39,-338.75 2507.76,-343.19 2512.63,-348.22\"/>\n<text text-anchor=\"middle\" x=\"2530.35\" y=\"-360.8\" font-family=\"Times,serif\" font-size=\"14.00\">rdfs:domain</text>\n</g>\n<!-- 9&#45;&gt;7 -->\n<g id=\"edge12\" class=\"edge\">\n<title>9&#45;&gt;7</title>\n<path fill=\"none\" stroke=\"black\" d=\"M2361.92,-405.57C2121.34,-399.76 1259.9,-376.42 1215.85,-339 1184.62,-312.47 1207.45,-288.3 1195.85,-249 1195.17,-246.72 1194.42,-244.37 1193.64,-242.02\"/>\n<polygon fill=\"black\" stroke=\"black\" points=\"1196.97,-240.95 1190.31,-232.71 1190.38,-243.31 1196.97,-240.95\"/>\n<text text-anchor=\"middle\" x=\"1237.35\" y=\"-317.3\" font-family=\"Times,serif\" font-size=\"14.00\">rdf:type</text>\n</g>\n<!-- 9&#45;&gt;9 -->\n<g id=\"edge78\" class=\"edge\">\n<title>9&#45;&gt;9</title>\n<path fill=\"none\" stroke=\"black\" d=\"M2480.2,-416.03C2493.98,-415.43 2504.24,-412.76 2504.24,-408 2504.24,-404.69 2499.28,-402.39 2491.62,-401.09\"/>\n<polygon fill=\"black\" stroke=\"black\" points=\"2492,-397.61 2481.7,-400.12 2491.31,-404.58 2492,-397.61\"/>\n<text text-anchor=\"middle\" x=\"2556.74\" y=\"-404.3\" font-family=\"Times,serif\" font-size=\"14.00\">rdfs:subPropertyOf</text>\n</g>\n<!-- 13 -->\n<g id=\"node14\" class=\"node\">\n<title>13</title>\n<ellipse fill=\"none\" stroke=\"black\" cx=\"2178.85\" cy=\"-213\" rx=\"45.49\" ry=\"18\"/>\n<text text-anchor=\"middle\" x=\"2178.85\" y=\"-209.3\" font-family=\"Times,serif\" font-size=\"14.00\">ex:Person</text>\n</g>\n<!-- 9&#45;&gt;13 -->\n<g id=\"edge41\" class=\"edge\">\n<title>9&#45;&gt;13</title>\n<path fill=\"none\" stroke=\"black\" d=\"M2416.6,-389.81C2410.94,-376.14 2403.03,-356.48 2396.85,-339 2382.88,-299.5 2400.18,-276.8 2368.85,-249 2349.39,-231.74 2283.79,-222.55 2235.09,-217.98\"/>\n<polygon fill=\"black\" stroke=\"black\" points=\"2235.51,-214.51 2225.24,-217.11 2234.89,-221.48 2235.51,-214.51\"/>\n<text text-anchor=\"middle\" x=\"2424.35\" y=\"-317.3\" font-family=\"Times,serif\" font-size=\"14.00\">rdfs:range</text>\n</g>\n<!-- 9&#45;&gt;16 -->\n<g id=\"edge62\" class=\"edge\">\n<title>9&#45;&gt;16</title>\n<path fill=\"none\" stroke=\"black\" d=\"M2433.05,-389.98C2439.75,-376.56 2448.25,-357.16 2451.85,-339 2454.95,-323.3 2454.19,-318.83 2451.85,-303 2440.84,-228.59 2450.3,-199.37 2402.85,-141 2371.23,-102.11 2349.3,-108.11 2303.85,-87 2267.09,-69.93 2258.43,-62.7 2218.85,-54 2127.53,-33.93 1858.3,-24.28 1729.31,-20.71\"/>\n<polygon fill=\"black\" stroke=\"black\" points=\"1729.63,-17.21 1719.53,-20.44 1729.44,-24.21 1729.63,-17.21\"/>\n<text text-anchor=\"middle\" x=\"2464.35\" y=\"-209.3\" font-family=\"Times,serif\" font-size=\"14.00\">rdf:type</text>\n</g>\n<!-- 10 -->\n<g id=\"node11\" class=\"node\">\n<title>10</title>\n<ellipse fill=\"none\" stroke=\"black\" cx=\"2773.85\" cy=\"-321\" rx=\"76.09\" ry=\"18\"/>\n<text text-anchor=\"middle\" x=\"2773.85\" y=\"-317.3\" font-family=\"Times,serif\" font-size=\"14.00\">ex:DouglasAdams</text>\n</g>\n<!-- 10&#45;&gt;13 -->\n<g id=\"edge5\" class=\"edge\">\n<title>10&#45;&gt;13</title>\n<path fill=\"none\" stroke=\"black\" d=\"M2718.01,-308.34C2633.78,-290.82 2478.06,-258.71 2421.85,-249 2357.1,-237.82 2282.23,-227.41 2232.89,-220.9\"/>\n<polygon fill=\"black\" stroke=\"black\" points=\"2233.41,-217.44 2223.04,-219.61 2232.5,-224.38 2233.41,-217.44\"/>\n<text text-anchor=\"middle\" x=\"2620.35\" y=\"-263.3\" font-family=\"Times,serif\" font-size=\"14.00\">rdf:type</text>\n</g>\n<!-- 10&#45;&gt;16 -->\n<g id=\"edge10\" class=\"edge\">\n<title>10&#45;&gt;16</title>\n<path fill=\"none\" stroke=\"black\" d=\"M2750.33,-303.42C2743.36,-297.95 2735.96,-291.58 2729.85,-285 2677.18,-228.26 2683.91,-198.3 2631.85,-141 2606.59,-113.2 2598.1,-107.83 2566.85,-87 2540.54,-69.47 2534.38,-62.19 2503.85,-54 2430.22,-34.26 1920.07,-23.52 1730,-20.16\"/>\n<polygon fill=\"black\" stroke=\"black\" points=\"1730.06,-16.66 1720,-19.99 1729.94,-23.66 1730.06,-16.66\"/>\n<text text-anchor=\"middle\" x=\"2681.35\" y=\"-155.3\" font-family=\"Times,serif\" font-size=\"14.00\">rdf:type</text>\n</g>\n<!-- 11&#45;&gt;11 -->\n<g id=\"edge11\" class=\"edge\">\n<title>11&#45;&gt;11</title>\n<path fill=\"none\" stroke=\"black\" d=\"M1074.39,-109C1085.1,-108.67 1092.99,-107.34 1092.99,-105 1092.99,-103.61 1090.21,-102.58 1085.71,-101.9\"/>\n<polygon fill=\"black\" stroke=\"black\" points=\"1086.15,-98.42 1075.9,-101.12 1085.59,-105.4 1086.15,-98.42\"/>\n<text text-anchor=\"middle\" x=\"1136.99\" y=\"-101.3\" font-family=\"Times,serif\" font-size=\"14.00\">rdfs:subClassOf</text>\n</g>\n<!-- 11&#45;&gt;11 -->\n<g id=\"edge15\" class=\"edge\">\n<title>11&#45;&gt;11</title>\n<path fill=\"none\" stroke=\"black\" d=\"M1072.4,-111.76C1118.62,-114.94 1180.99,-112.69 1180.99,-105 1180.99,-97.93 1128.21,-95.45 1083.78,-97.58\"/>\n<polygon fill=\"black\" stroke=\"black\" points=\"1083.69,-94.08 1073.91,-98.15 1084.1,-101.07 1083.69,-94.08\"/>\n<text text-anchor=\"middle\" x=\"1202.49\" y=\"-101.3\" font-family=\"Times,serif\" font-size=\"14.00\">rdf:type</text>\n</g>\n<!-- 11&#45;&gt;16 -->\n<g id=\"edge2\" class=\"edge\">\n<title>11&#45;&gt;16</title>\n<path fill=\"none\" stroke=\"black\" d=\"M1071.61,-97.77C1104.74,-92.23 1151.49,-82.84 1190.85,-69 1204.91,-64.05 1206.49,-58 1220.85,-54 1288.03,-35.28 1482.67,-25.45 1588.43,-21.36\"/>\n<polygon fill=\"black\" stroke=\"black\" points=\"1588.26,-24.87 1598.12,-20.99 1587.99,-17.87 1588.26,-24.87\"/>\n<text text-anchor=\"middle\" x=\"1242.35\" y=\"-57.8\" font-family=\"Times,serif\" font-size=\"14.00\">rdf:type</text>\n</g>\n<!-- 11&#45;&gt;16 -->\n<g id=\"edge42\" class=\"edge\">\n<title>11&#45;&gt;16</title>\n<path fill=\"none\" stroke=\"black\" d=\"M1023.89,-86.94C1021.88,-76.08 1021.65,-62.5 1029.85,-54 1048.98,-34.17 1427.83,-23.87 1588.15,-20.39\"/>\n<polygon fill=\"black\" stroke=\"black\" points=\"1587.87,-23.89 1597.8,-20.18 1587.72,-16.89 1587.87,-23.89\"/>\n<text text-anchor=\"middle\" x=\"1073.85\" y=\"-57.8\" font-family=\"Times,serif\" font-size=\"14.00\">rdfs:subClassOf</text>\n</g>\n<!-- 12 -->\n<g id=\"node13\" class=\"node\">\n<title>12</title>\n<ellipse fill=\"none\" stroke=\"black\" cx=\"2087.85\" cy=\"-321\" rx=\"57.39\" ry=\"18\"/>\n<text text-anchor=\"middle\" x=\"2087.85\" y=\"-317.3\" font-family=\"Times,serif\" font-size=\"14.00\">ex:createdBy</text>\n</g>\n<!-- 12&#45;&gt;7 -->\n<g id=\"edge54\" class=\"edge\">\n<title>12&#45;&gt;7</title>\n<path fill=\"none\" stroke=\"black\" d=\"M2046.16,-308.24C2038.14,-306.27 2029.77,-304.41 2021.85,-303 1982.27,-295.97 1875.2,-307.45 1841.85,-285 1826.84,-274.9 1838.08,-258.76 1822.85,-249 1775.35,-218.56 1401.46,-214.38 1248.12,-213.96\"/>\n<polygon fill=\"black\" stroke=\"black\" points=\"1248.55,-210.46 1238.55,-213.94 1248.54,-217.46 1248.55,-210.46\"/>\n<text text-anchor=\"middle\" x=\"1863.35\" y=\"-263.3\" font-family=\"Times,serif\" font-size=\"14.00\">rdf:type</text>\n</g>\n<!-- 12&#45;&gt;12 -->\n<g id=\"edge45\" class=\"edge\">\n<title>12&#45;&gt;12</title>\n<path fill=\"none\" stroke=\"black\" d=\"M2139.86,-329.06C2153.1,-328.53 2163.04,-325.84 2163.04,-321 2163.04,-317.67 2158.34,-315.36 2151.1,-314.07\"/>\n<polygon fill=\"black\" stroke=\"black\" points=\"2151.66,-310.61 2141.36,-313.09 2150.96,-317.57 2151.66,-310.61\"/>\n<text text-anchor=\"middle\" x=\"2215.54\" y=\"-317.3\" font-family=\"Times,serif\" font-size=\"14.00\">rdfs:subPropertyOf</text>\n</g>\n<!-- 12&#45;&gt;13 -->\n<g id=\"edge76\" class=\"edge\">\n<title>12&#45;&gt;13</title>\n<path fill=\"none\" stroke=\"black\" d=\"M2102.06,-303.44C2116.89,-286.17 2140.3,-258.9 2157.38,-239\"/>\n<polygon fill=\"black\" stroke=\"black\" points=\"2159.88,-241.46 2163.74,-231.59 2154.57,-236.9 2159.88,-241.46\"/>\n<text text-anchor=\"middle\" x=\"2173.35\" y=\"-263.3\" font-family=\"Times,serif\" font-size=\"14.00\">rdfs:range</text>\n</g>\n<!-- 12&#45;&gt;16 -->\n<g id=\"edge14\" class=\"edge\">\n<title>12&#45;&gt;16</title>\n<path fill=\"none\" stroke=\"black\" d=\"M2141.91,-314.43C2215.06,-306.62 2337.26,-292.55 2343.85,-285 2405.82,-213.98 2345.13,-140.97 2267.85,-87 2182.44,-27.36 1871.36,-19.18 1729.82,-18.62\"/>\n<polygon fill=\"black\" stroke=\"black\" points=\"1730.23,-15.12 1720.22,-18.59 1730.21,-22.12 1730.23,-15.12\"/>\n<text text-anchor=\"middle\" x=\"2377.35\" y=\"-155.3\" font-family=\"Times,serif\" font-size=\"14.00\">rdf:type</text>\n</g>\n<!-- 12&#45;&gt;17 -->\n<g id=\"edge13\" class=\"edge\">\n<title>12&#45;&gt;17</title>\n<path fill=\"none\" stroke=\"black\" d=\"M2062.48,-304.38C2037.57,-289.33 1998.26,-266.35 1962.85,-249 1950.21,-242.81 1936.2,-236.69 1923.3,-231.34\"/>\n<polygon fill=\"black\" stroke=\"black\" points=\"1924.76,-228.16 1914.18,-227.62 1922.12,-234.64 1924.76,-228.16\"/>\n<text text-anchor=\"middle\" x=\"2061.35\" y=\"-263.3\" font-family=\"Times,serif\" font-size=\"14.00\">rdfs:domain</text>\n</g>\n<!-- 13&#45;&gt;11 -->\n<g id=\"edge71\" class=\"edge\">\n<title>13&#45;&gt;11</title>\n<path fill=\"none\" stroke=\"black\" d=\"M2143.01,-201.5C2135.38,-199.31 2127.35,-197.05 2119.85,-195 2088.85,-186.55 2080.58,-186.35 2049.85,-177 2003.86,-163 1995.12,-149.73 1947.85,-141 1796.58,-113.06 1409.48,-130.75 1255.85,-123 1197.45,-120.06 1130.72,-114.84 1084.81,-110.95\"/>\n<polygon fill=\"black\" stroke=\"black\" points=\"1085.37,-107.49 1075.11,-110.13 1084.77,-114.46 1085.37,-107.49\"/>\n<text text-anchor=\"middle\" x=\"2071.35\" y=\"-155.3\" font-family=\"Times,serif\" font-size=\"14.00\">rdf:type</text>\n</g>\n<!-- 13&#45;&gt;13 -->\n<g id=\"edge55\" class=\"edge\">\n<title>13&#45;&gt;13</title>\n<path fill=\"none\" stroke=\"black\" d=\"M2217.28,-223.12C2231.09,-223.33 2242.34,-219.96 2242.34,-213 2242.34,-208.11 2236.78,-204.99 2228.68,-203.64\"/>\n<polygon fill=\"black\" stroke=\"black\" points=\"2229,-200.15 2218.79,-202.99 2228.54,-207.14 2229,-200.15\"/>\n<text text-anchor=\"middle\" x=\"2286.34\" y=\"-209.3\" font-family=\"Times,serif\" font-size=\"14.00\">rdfs:subClassOf</text>\n</g>\n<!-- 13&#45;&gt;16 -->\n<g id=\"edge18\" class=\"edge\">\n<title>13&#45;&gt;16</title>\n<path fill=\"none\" stroke=\"black\" d=\"M2168.39,-195.19C2150.86,-168.4 2112.99,-116.06 2067.85,-87 2012.77,-51.55 1829.31,-32.14 1727.83,-23.88\"/>\n<polygon fill=\"black\" stroke=\"black\" points=\"1728.23,-20.4 1717.98,-23.09 1727.67,-27.37 1728.23,-20.4\"/>\n<text text-anchor=\"middle\" x=\"2131.35\" y=\"-101.3\" font-family=\"Times,serif\" font-size=\"14.00\">rdf:type</text>\n</g>\n<!-- 13&#45;&gt;16 -->\n<g id=\"edge59\" class=\"edge\">\n<title>13&#45;&gt;16</title>\n<path fill=\"none\" stroke=\"black\" d=\"M2181.25,-194.86C2183.96,-168.07 2184.84,-116.33 2156.85,-87 2099.66,-27.09 1853.47,-18.64 1730.01,-18.27\"/>\n<polygon fill=\"black\" stroke=\"black\" points=\"1730.33,-14.77 1720.33,-18.26 1730.33,-21.77 1730.33,-14.77\"/>\n<text text-anchor=\"middle\" x=\"2219.85\" y=\"-101.3\" font-family=\"Times,serif\" font-size=\"14.00\">rdfs:subClassOf</text>\n</g>\n<!-- 14 -->\n<g id=\"node15\" class=\"node\">\n<title>14</title>\n<ellipse fill=\"none\" stroke=\"black\" cx=\"2824.85\" cy=\"-408\" rx=\"83.69\" ry=\"18\"/>\n<text text-anchor=\"middle\" x=\"2824.85\" y=\"-404.3\" font-family=\"Times,serif\" font-size=\"14.00\">ex:HitchhikersGuide</text>\n</g>\n<!-- 14&#45;&gt;0 -->\n<g id=\"edge33\" class=\"edge\">\n<title>14&#45;&gt;0</title>\n<path fill=\"none\" stroke=\"black\" d=\"M2776.47,-392.87C2721.09,-376.69 2631.18,-350.43 2577.75,-334.82\"/>\n<polygon fill=\"black\" stroke=\"black\" points=\"2578.96,-331.53 2568.38,-332.09 2577,-338.25 2578.96,-331.53\"/>\n<text text-anchor=\"middle\" x=\"2717.35\" y=\"-360.8\" font-family=\"Times,serif\" font-size=\"14.00\">rdf:type</text>\n</g>\n<!-- 14&#45;&gt;3 -->\n<g id=\"edge28\" class=\"edge\">\n<title>14&#45;&gt;3</title>\n<path fill=\"none\" stroke=\"black\" d=\"M2842.67,-390.25C2847.38,-384.88 2851.94,-378.59 2854.85,-372 2867.22,-343.88 2872.34,-330.59 2858.85,-303 2857.1,-299.42 2854.79,-296.11 2852.14,-293.06\"/>\n<polygon fill=\"black\" stroke=\"black\" points=\"2854.66,-290.63 2845.03,-286.22 2849.81,-295.68 2854.66,-290.63\"/>\n<text text-anchor=\"middle\" x=\"2895.85\" y=\"-360.8\" font-family=\"Times,serif\" font-size=\"14.00\">ex:published</text>\n</g>\n<!-- 14&#45;&gt;6 -->\n<g id=\"edge37\" class=\"edge\">\n<title>14&#45;&gt;6</title>\n<path fill=\"none\" stroke=\"black\" d=\"M2896.2,-398.37C2911.27,-393.11 2925.44,-384.86 2934.85,-372 2975.66,-316.18 2937.24,-230.5 2912.7,-187.14\"/>\n<polygon fill=\"black\" stroke=\"black\" points=\"2915.8,-185.5 2907.73,-178.63 2909.75,-189.03 2915.8,-185.5\"/>\n<text text-anchor=\"middle\" x=\"2970.85\" y=\"-317.3\" font-family=\"Times,serif\" font-size=\"14.00\">ex:title</text>\n</g>\n<!-- 14&#45;&gt;10 -->\n<g id=\"edge65\" class=\"edge\">\n<title>14&#45;&gt;10</title>\n<path fill=\"none\" stroke=\"black\" d=\"M2792.62,-391.1C2785.54,-386.01 2778.94,-379.67 2774.85,-372 2771.4,-365.54 2770.12,-357.92 2769.94,-350.59\"/>\n<polygon fill=\"black\" stroke=\"black\" points=\"2773.44,-350.84 2770.4,-340.69 2766.44,-350.52 2773.44,-350.84\"/>\n<text text-anchor=\"middle\" x=\"2814.85\" y=\"-360.8\" font-family=\"Times,serif\" font-size=\"14.00\">ex:authoredBy</text>\n</g>\n<!-- 14&#45;&gt;16 -->\n<g id=\"edge17\" class=\"edge\">\n<title>14&#45;&gt;16</title>\n<path fill=\"none\" stroke=\"black\" d=\"M2906.83,-404.09C2963.17,-397.18 3027.85,-377.21 3027.85,-322 3027.85,-322 3027.85,-322 3027.85,-104 3027.85,10.62 2888.73,-66.95 2774.85,-54 2571.18,-30.84 1942.39,-22.06 1729.87,-19.71\"/>\n<polygon fill=\"black\" stroke=\"black\" points=\"1730.12,-16.21 1720.08,-19.6 1730.04,-23.21 1730.12,-16.21\"/>\n<text text-anchor=\"middle\" x=\"3049.35\" y=\"-209.3\" font-family=\"Times,serif\" font-size=\"14.00\">rdf:type</text>\n</g>\n<!-- 14&#45;&gt;17 -->\n<g id=\"edge69\" class=\"edge\">\n<title>14&#45;&gt;17</title>\n<path fill=\"none\" stroke=\"black\" d=\"M2748.12,-400.6C2661.6,-393.15 2526.4,-380.76 2475.85,-372 2415.84,-361.6 2399.6,-361.1 2342.85,-339 2311.71,-326.88 2306.84,-317.73 2276.85,-303 2258.98,-294.23 2251.85,-296.83 2235.85,-285 2218.87,-272.44 2223.54,-258.81 2204.85,-249 2199.03,-245.95 2032.18,-229.11 1939.49,-219.94\"/>\n<polygon fill=\"black\" stroke=\"black\" points=\"1940.1,-216.49 1929.81,-218.99 1939.41,-223.45 1940.1,-216.49\"/>\n<text text-anchor=\"middle\" x=\"2364.35\" y=\"-317.3\" font-family=\"Times,serif\" font-size=\"14.00\">rdf:type</text>\n</g>\n<!-- 15 -->\n<g id=\"node16\" class=\"node\">\n<title>15</title>\n<ellipse fill=\"none\" stroke=\"black\" cx=\"993.85\" cy=\"-321\" rx=\"53.89\" ry=\"18\"/>\n<text text-anchor=\"middle\" x=\"993.85\" y=\"-317.3\" font-family=\"Times,serif\" font-size=\"14.00\">rdfs:domain</text>\n</g>\n<!-- 15&#45;&gt;7 -->\n<g id=\"edge27\" class=\"edge\">\n<title>15&#45;&gt;7</title>\n<path fill=\"none\" stroke=\"black\" d=\"M1045.84,-315.78C1072.96,-311.43 1105.46,-302.67 1129.85,-285 1145.22,-273.86 1141.53,-264.25 1152.85,-249 1155.21,-245.82 1157.78,-242.56 1160.39,-239.37\"/>\n<polygon fill=\"black\" stroke=\"black\" points=\"1162.96,-241.75 1166.73,-231.85 1157.61,-237.24 1162.96,-241.75\"/>\n<text text-anchor=\"middle\" x=\"1174.35\" y=\"-263.3\" font-family=\"Times,serif\" font-size=\"14.00\">rdf:type</text>\n</g>\n<!-- 15&#45;&gt;7 -->\n<g id=\"edge52\" class=\"edge\">\n<title>15&#45;&gt;7</title>\n<path fill=\"none\" stroke=\"black\" d=\"M1017.99,-304.69C1025.59,-299.11 1033.62,-292.35 1039.85,-285 1051.54,-271.2 1044.78,-260.38 1058.85,-249 1076.32,-234.86 1099.18,-226.43 1120.51,-221.41\"/>\n<polygon fill=\"black\" stroke=\"black\" points=\"1120.95,-224.89 1130,-219.39 1119.5,-218.04 1120.95,-224.89\"/>\n<text text-anchor=\"middle\" x=\"1092.35\" y=\"-263.3\" font-family=\"Times,serif\" font-size=\"14.00\">rdfs:domain</text>\n</g>\n<!-- 15&#45;&gt;11 -->\n<g id=\"edge25\" class=\"edge\">\n<title>15&#45;&gt;11</title>\n<path fill=\"none\" stroke=\"black\" d=\"M1006,-303.31C1009.45,-297.75 1012.82,-291.35 1014.85,-285 1031.21,-233.78 1031.88,-170.31 1030.57,-134.36\"/>\n<polygon fill=\"black\" stroke=\"black\" points=\"1034.09,-134.62 1030.14,-124.79 1027.09,-134.94 1034.09,-134.62\"/>\n<text text-anchor=\"middle\" x=\"1057.35\" y=\"-209.3\" font-family=\"Times,serif\" font-size=\"14.00\">rdfs:range</text>\n</g>\n<!-- 15&#45;&gt;15 -->\n<g id=\"edge6\" class=\"edge\">\n<title>15&#45;&gt;15</title>\n<path fill=\"none\" stroke=\"black\" d=\"M1042.6,-329.1C1055.77,-328.67 1065.79,-325.97 1065.79,-321 1065.79,-317.58 1061.06,-315.24 1053.82,-313.97\"/>\n<polygon fill=\"black\" stroke=\"black\" points=\"1054.4,-310.51 1044.11,-313.05 1053.73,-317.48 1054.4,-310.51\"/>\n<text text-anchor=\"middle\" x=\"1118.29\" y=\"-317.3\" font-family=\"Times,serif\" font-size=\"14.00\">rdfs:subPropertyOf</text>\n</g>\n<!-- 15&#45;&gt;16 -->\n<g id=\"edge66\" class=\"edge\">\n<title>15&#45;&gt;16</title>\n<path fill=\"none\" stroke=\"black\" d=\"M998.23,-302.66C1001.12,-286.8 1002.37,-263.63 989.85,-249 965.02,-220 929.85,-260.69 905.85,-231 895.79,-218.56 901.41,-210.37 905.85,-195 928.19,-117.57 943.83,-80.76 1019.85,-54 1072.24,-35.55 1432.77,-24.57 1588,-20.64\"/>\n<polygon fill=\"black\" stroke=\"black\" points=\"1587.84,-24.15 1597.75,-20.4 1587.67,-17.15 1587.84,-24.15\"/>\n<text text-anchor=\"middle\" x=\"945.35\" y=\"-155.3\" font-family=\"Times,serif\" font-size=\"14.00\">rdf:type</text>\n</g>\n<!-- 16&#45;&gt;11 -->\n<g id=\"edge32\" class=\"edge\">\n<title>16&#45;&gt;11</title>\n<path fill=\"none\" stroke=\"black\" d=\"M1599.12,-19.15C1482.01,-20.08 1226.42,-25.43 1143.85,-54 1132.66,-57.87 1132.35,-63.54 1121.85,-69 1107.06,-76.68 1090.2,-83.55 1074.93,-89.12\"/>\n<polygon fill=\"black\" stroke=\"black\" points=\"1073.83,-85.8 1065.57,-92.44 1076.17,-92.39 1073.83,-85.8\"/>\n<text text-anchor=\"middle\" x=\"1165.35\" y=\"-57.8\" font-family=\"Times,serif\" font-size=\"14.00\">rdf:type</text>\n</g>\n<!-- 16&#45;&gt;16 -->\n<g id=\"edge9\" class=\"edge\">\n<title>16&#45;&gt;16</title>\n<path fill=\"none\" stroke=\"black\" d=\"M1717.54,-21.88C1728.73,-21.42 1736.64,-20.12 1736.64,-18 1736.64,-16.71 1733.7,-15.72 1728.87,-15.04\"/>\n<polygon fill=\"black\" stroke=\"black\" points=\"1729.3,-11.56 1719.05,-14.24 1728.73,-18.54 1729.3,-11.56\"/>\n<text text-anchor=\"middle\" x=\"1758.14\" y=\"-14.3\" font-family=\"Times,serif\" font-size=\"14.00\">rdf:type</text>\n</g>\n<!-- 16&#45;&gt;16 -->\n<g id=\"edge21\" class=\"edge\">\n<title>16&#45;&gt;16</title>\n<path fill=\"none\" stroke=\"black\" d=\"M1713.32,-25.75C1746.43,-27.23 1779.64,-24.65 1779.64,-18 1779.64,-12.1 1753.53,-9.41 1724.53,-9.9\"/>\n<polygon fill=\"black\" stroke=\"black\" points=\"1724.72,-6.39 1714.83,-10.2 1724.94,-13.39 1724.72,-6.39\"/>\n<text text-anchor=\"middle\" x=\"1823.64\" y=\"-14.3\" font-family=\"Times,serif\" font-size=\"14.00\">rdfs:subClassOf</text>\n</g>\n<!-- 17&#45;&gt;11 -->\n<g id=\"edge64\" class=\"edge\">\n<title>17&#45;&gt;11</title>\n<path fill=\"none\" stroke=\"black\" d=\"M1862.61,-195.42C1857.36,-189.76 1851.66,-183.27 1846.85,-177 1835.29,-161.94 1840.35,-150.38 1823.85,-141 1796.4,-125.4 1287.37,-124.68 1255.85,-123 1197.45,-119.89 1130.73,-114.7 1084.81,-110.87\"/>\n<polygon fill=\"black\" stroke=\"black\" points=\"1085.37,-107.4 1075.11,-110.05 1084.78,-114.38 1085.37,-107.4\"/>\n<text text-anchor=\"middle\" x=\"1868.35\" y=\"-155.3\" font-family=\"Times,serif\" font-size=\"14.00\">rdf:type</text>\n</g>\n<!-- 17&#45;&gt;16 -->\n<g id=\"edge3\" class=\"edge\">\n<title>17&#45;&gt;16</title>\n<path fill=\"none\" stroke=\"black\" d=\"M1926.92,-205.8C1961.22,-200.27 2003.1,-190.88 2013.85,-177 2038.81,-144.74 2023.54,-116.95 1995.85,-87 1960.38,-48.63 1815.81,-30.94 1727.95,-23.59\"/>\n<polygon fill=\"black\" stroke=\"black\" points=\"1728.49,-20.12 1718.24,-22.8 1727.93,-27.1 1728.49,-20.12\"/>\n<text text-anchor=\"middle\" x=\"2042.35\" y=\"-101.3\" font-family=\"Times,serif\" font-size=\"14.00\">rdf:type</text>\n</g>\n<!-- 17&#45;&gt;16 -->\n<g id=\"edge50\" class=\"edge\">\n<title>17&#45;&gt;16</title>\n<path fill=\"none\" stroke=\"black\" d=\"M1886.62,-194.95C1892.21,-180.11 1897.53,-158.33 1889.85,-141 1866.51,-88.36 1844.52,-81.35 1793.85,-54 1772.06,-42.24 1746.13,-34.29 1722.85,-28.98\"/>\n<polygon fill=\"black\" stroke=\"black\" points=\"1723.66,-25.58 1713.15,-26.9 1722.19,-32.42 1723.66,-25.58\"/>\n<text text-anchor=\"middle\" x=\"1923.85\" y=\"-101.3\" font-family=\"Times,serif\" font-size=\"14.00\">rdfs:subClassOf</text>\n</g>\n<!-- 17&#45;&gt;17 -->\n<g id=\"edge23\" class=\"edge\">\n<title>17&#45;&gt;17</title>\n<path fill=\"none\" stroke=\"black\" d=\"M1922.59,-223.12C1937.18,-223.12 1948.84,-219.75 1948.84,-213 1948.84,-208.15 1942.81,-205.04 1934.01,-203.68\"/>\n<polygon fill=\"black\" stroke=\"black\" points=\"1934.32,-200.19 1924.1,-202.98 1933.83,-207.17 1934.32,-200.19\"/>\n<text text-anchor=\"middle\" x=\"1992.84\" y=\"-209.3\" font-family=\"Times,serif\" font-size=\"14.00\">rdfs:subClassOf</text>\n</g>\n<!-- 18 -->\n<g id=\"node19\" class=\"node\">\n<title>18</title>\n<ellipse fill=\"none\" stroke=\"black\" cx=\"1346.85\" cy=\"-321\" rx=\"78.79\" ry=\"18\"/>\n<text text-anchor=\"middle\" x=\"1346.85\" y=\"-317.3\" font-family=\"Times,serif\" font-size=\"14.00\">rdfs:subPropertyOf</text>\n</g>\n<!-- 18&#45;&gt;7 -->\n<g id=\"edge60\" class=\"edge\">\n<title>18&#45;&gt;7</title>\n<path fill=\"none\" stroke=\"black\" d=\"M1321.58,-303.67C1293.37,-285.43 1247.57,-255.84 1216.38,-235.67\"/>\n<polygon fill=\"black\" stroke=\"black\" points=\"1218.37,-232.8 1208.08,-230.31 1214.58,-238.68 1218.37,-232.8\"/>\n<text text-anchor=\"middle\" x=\"1311.35\" y=\"-263.3\" font-family=\"Times,serif\" font-size=\"14.00\">rdf:type</text>\n</g>\n<!-- 18&#45;&gt;16 -->\n<g id=\"edge30\" class=\"edge\">\n<title>18&#45;&gt;16</title>\n<path fill=\"none\" stroke=\"black\" d=\"M1400.31,-307.48C1414.35,-302.27 1428.67,-295.02 1439.85,-285 1493.28,-237.11 1468.18,-197.16 1512.85,-141 1545.18,-100.35 1592.87,-63.61 1624.86,-41.32\"/>\n<polygon fill=\"black\" stroke=\"black\" points=\"1626.73,-44.27 1633,-35.73 1622.77,-38.5 1626.73,-44.27\"/>\n<text text-anchor=\"middle\" x=\"1534.35\" y=\"-155.3\" font-family=\"Times,serif\" font-size=\"14.00\">rdf:type</text>\n</g>\n<!-- 18&#45;&gt;18 -->\n<g id=\"edge35\" class=\"edge\">\n<title>18&#45;&gt;18</title>\n<path fill=\"none\" stroke=\"black\" d=\"M1418.49,-328.85C1433.06,-327.99 1443.49,-325.38 1443.49,-321 1443.49,-317.89 1438.22,-315.67 1429.94,-314.34\"/>\n<polygon fill=\"black\" stroke=\"black\" points=\"1430.31,-310.86 1420,-313.31 1429.59,-317.82 1430.31,-310.86\"/>\n<text text-anchor=\"middle\" x=\"1495.99\" y=\"-317.3\" font-family=\"Times,serif\" font-size=\"14.00\">rdfs:subPropertyOf</text>\n</g>\n<!-- 19 -->\n<g id=\"node20\" class=\"node\">\n<title>19</title>\n<ellipse fill=\"none\" stroke=\"black\" cx=\"1622.85\" cy=\"-321\" rx=\"55.79\" ry=\"18\"/>\n<text text-anchor=\"middle\" x=\"1622.85\" y=\"-317.3\" font-family=\"Times,serif\" font-size=\"14.00\">ex:published</text>\n</g>\n<!-- 19&#45;&gt;7 -->\n<g id=\"edge1\" class=\"edge\">\n<title>19&#45;&gt;7</title>\n<path fill=\"none\" stroke=\"black\" d=\"M1581.34,-308.69C1573.56,-306.7 1565.47,-304.72 1557.85,-303 1515.92,-293.56 1504.66,-294.91 1462.85,-285 1406.18,-271.56 1393.26,-263.46 1336.85,-249 1304.35,-240.67 1267.73,-232.31 1238.36,-225.85\"/>\n<polygon fill=\"black\" stroke=\"black\" points=\"1239.47,-222.51 1228.96,-223.79 1237.98,-229.35 1239.47,-222.51\"/>\n<text text-anchor=\"middle\" x=\"1484.35\" y=\"-263.3\" font-family=\"Times,serif\" font-size=\"14.00\">rdf:type</text>\n</g>\n<!-- 19&#45;&gt;16 -->\n<g id=\"edge51\" class=\"edge\">\n<title>19&#45;&gt;16</title>\n<path fill=\"none\" stroke=\"black\" d=\"M1581.37,-308.62C1561.04,-302.12 1539.69,-293.58 1533.85,-285 1524.84,-271.78 1529.9,-264.51 1533.85,-249 1554.27,-168.64 1609.08,-85.99 1638.88,-45.14\"/>\n<polygon fill=\"black\" stroke=\"black\" points=\"1641.68,-47.25 1644.81,-37.13 1636.05,-43.09 1641.68,-47.25\"/>\n<text text-anchor=\"middle\" x=\"1598.35\" y=\"-155.3\" font-family=\"Times,serif\" font-size=\"14.00\">rdf:type</text>\n</g>\n<!-- 19&#45;&gt;17 -->\n<g id=\"edge49\" class=\"edge\">\n<title>19&#45;&gt;17</title>\n<path fill=\"none\" stroke=\"black\" d=\"M1659.78,-307.14C1675.07,-301.22 1692.72,-293.6 1707.85,-285 1731.03,-271.82 1731.96,-260.85 1755.85,-249 1776.85,-238.58 1801.45,-230.81 1823.11,-225.26\"/>\n<polygon fill=\"black\" stroke=\"black\" points=\"1823.78,-228.7 1832.67,-222.92 1822.12,-221.9 1823.78,-228.7\"/>\n<text text-anchor=\"middle\" x=\"1789.35\" y=\"-263.3\" font-family=\"Times,serif\" font-size=\"14.00\">rdfs:domain</text>\n</g>\n<!-- 19&#45;&gt;19 -->\n<g id=\"edge58\" class=\"edge\">\n<title>19&#45;&gt;19</title>\n<path fill=\"none\" stroke=\"black\" d=\"M1673.27,-329.08C1686.63,-328.62 1696.74,-325.93 1696.74,-321 1696.74,-317.61 1691.96,-315.28 1684.63,-314\"/>\n<polygon fill=\"black\" stroke=\"black\" points=\"1685.07,-310.53 1674.78,-313.06 1684.4,-317.5 1685.07,-310.53\"/>\n<text text-anchor=\"middle\" x=\"1749.24\" y=\"-317.3\" font-family=\"Times,serif\" font-size=\"14.00\">rdfs:subPropertyOf</text>\n</g>\n</g>\n</svg>\n",
      "text/plain": [
       "<graphviz.graphs.Digraph at 0x1054f60d0>"
      ]
     },
     "metadata": {},
     "output_type": "display_data"
    }
   ],
   "source": [
    "# This cell will compute the closure of the rdfs-entailment of your graph and draw it.\n",
    "%rdf graph entail-rdfs -l library\n",
    "%rdf graph draw -l library"
   ]
  },
  {
   "cell_type": "code",
   "execution_count": null,
   "metadata": {
    "deletable": false,
    "editable": false,
    "nbgrader": {
     "cell_type": "code",
     "checksum": "5ed490f52a613fecc4af92d779e2ec6a",
     "grade": true,
     "grade_id": "cell-37dd9e59365f85a7",
     "locked": true,
     "points": 1,
     "schema_version": 3,
     "solution": false,
     "task": false
    }
   },
   "outputs": [],
   "source": [
    "# This test will check whether the entailment closure of your graph contains\n",
    "# all necessary class and property definitions. [1 point]"
   ]
  },
  {
   "cell_type": "code",
   "execution_count": null,
   "metadata": {
    "deletable": false,
    "editable": false,
    "nbgrader": {
     "cell_type": "code",
     "checksum": "9d6945a330859f0fcdd7a5f35e785d17",
     "grade": true,
     "grade_id": "cell-324f82b1b688bdd8",
     "locked": true,
     "points": 1,
     "schema_version": 3,
     "solution": false,
     "task": false
    }
   },
   "outputs": [],
   "source": [
    "# This test will check whether the entailment closure of your graph contains\n",
    "# all necessary subclass and subproperty definitions. [1 point]"
   ]
  },
  {
   "cell_type": "code",
   "execution_count": null,
   "metadata": {
    "deletable": false,
    "editable": false,
    "nbgrader": {
     "cell_type": "code",
     "checksum": "da72dc2a4daaa4f27f6d061981c09796",
     "grade": true,
     "grade_id": "cell-3a66804cfcbe5d62",
     "locked": true,
     "points": 1,
     "schema_version": 3,
     "solution": false,
     "task": false
    }
   },
   "outputs": [],
   "source": [
    "# This test will check whether the entailment closure of your graph contains\n",
    "# all necessary range and domain definitions. [1 point]"
   ]
  },
  {
   "cell_type": "code",
   "execution_count": null,
   "metadata": {
    "deletable": false,
    "editable": false,
    "nbgrader": {
     "cell_type": "code",
     "checksum": "dba4e3c7dc8db02e4e86ae50d2fc66c3",
     "grade": true,
     "grade_id": "cell-1deb9b6a3345d701",
     "locked": true,
     "points": 1,
     "schema_version": 3,
     "solution": false,
     "task": false
    }
   },
   "outputs": [],
   "source": [
    "# This test will check whether the entailment closure of your graph contains\n",
    "# all specified facts. [1 point]"
   ]
  },
  {
   "cell_type": "markdown",
   "metadata": {
    "deletable": false,
    "editable": false,
    "nbgrader": {
     "cell_type": "markdown",
     "checksum": "3e97ad7a0d07adae2cd320a3dc8bc1bc",
     "grade": false,
     "grade_id": "cell-a5cd7e400e7f49d8",
     "locked": true,
     "schema_version": 3,
     "solution": false,
     "task": false
    }
   },
   "source": [
    "## Other Vocabularies/Ontologies\n",
    "\n",
    "We looked at the RDF and RDFS vocabularies which are both very basic, domain-independent vocabularies. There are countless more domain specific vocabularies which provide classes, properties or even individuals with agreed upon meaning. We can use these vocabularies to make our graphs easier to interpret by humans and machines. For example, above we defined the properties creator and publish date. These properties are very general and thus often used. If everyone defined their own properties, we would have many properties with the same meaning. Instead if everyone agreed to use a specific URI for specifying e.g. the creator of a resource, it would be a lot easier to work on multiple graphs with different origin. An example for such a vocabulary is the well known Dublin Core(TM) vocabulary. This vocabulary defines 15 core properties to describe resources like creator, date, title, description, format and similar. "
   ]
  }
 ],
 "metadata": {
  "kernelspec": {
   "display_name": "tekweb",
   "language": "python",
   "name": "tekweb"
  },
  "vscode": {
   "interpreter": {
    "hash": "51e65bdb93ce2cb35ed1181c30e601a3ff89eaa8fdcd6f296d67f36368726ab3"
   }
  }
 },
 "nbformat": 4,
 "nbformat_minor": 4
}
