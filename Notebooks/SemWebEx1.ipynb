{
 "cells": [
  {
   "cell_type": "code",
   "execution_count": 2,
   "metadata": {
    "deletable": false,
    "editable": false,
    "nbgrader": {
     "cell_type": "code",
     "checksum": "73c565738f463863ec6757fecc9af9bf",
     "grade": false,
     "grade_id": "cell-da806457bddca4c8",
     "locked": true,
     "schema_version": 3,
     "solution": false,
     "task": false
    }
   },
   "outputs": [
    {
     "data": {
      "application/javascript": "\n    if (typeof IPython !== \"undefined\") {\n        IPython.CodeCell.options_default.highlight_modes['application/sparql-query'] = {'reg':[/^%%rdf sparql/]};\n        IPython.CodeCell.options_default.highlight_modes['text/turtle'] = {'reg':[/^%%rdf turtle/, /^%%rdf shex/]};\n        IPython.CodeCell.options_default.highlight_modes['application/ld+json'] = {'reg':[/^%%rdf json-ld/]};\n        IPython.notebook.get_cells().map(function(cell){ if (cell.cell_type == 'code'){ cell.auto_highlight(); } });\n    }\n    "
     },
     "metadata": {},
     "output_type": "display_data"
    }
   ],
   "source": [
    "%reload_ext jupyter-rdfify"
   ]
  },
  {
   "cell_type": "markdown",
   "metadata": {
    "deletable": false,
    "editable": false,
    "nbgrader": {
     "cell_type": "markdown",
     "checksum": "747a7aa1da3e923b1e595bd9a2561c87",
     "grade": false,
     "grade_id": "cell-147e9d5d78c18ec7",
     "locked": true,
     "schema_version": 3,
     "solution": false,
     "task": false
    }
   },
   "source": [
    "**A small reminder that these assignments will be graded automatically. Please read the tasks carefully and be as pedantic as possible. Run your answers to check if your code parses correctly. Typing errors will lead to point loss. Do not change code that is already given as this may break the unit tests and lead to 0 points. Do not use comments in your code.**"
   ]
  },
  {
   "cell_type": "markdown",
   "metadata": {
    "deletable": false,
    "editable": false,
    "nbgrader": {
     "cell_type": "markdown",
     "checksum": "36191cdbb140b5ac7301deda4207ab36",
     "grade": false,
     "grade_id": "cell-baccffb6bb4a152d",
     "locked": true,
     "schema_version": 3,
     "solution": false,
     "task": false
    }
   },
   "source": [
    "# Turtle\n",
    "*Turtle* stands for **Terse RDF Triple Language** and is a [W3C recommended](https://www.w3.org/TR/turtle/) syntax and file format for serializing RDF Graphs. To serialize an RDF triple of the form *(Subject, Predicate, Object)* in Turtle, you just write them in that sequence, followed by a period. In this example you would write:\n",
    "\n",
    "**Subject Predicate Object .**\n",
    "\n",
    "Please note the period after a triple.\n",
    "\n",
    "In turtle, URIs are encased in angled brackets (&lt; &gt;). The RDF triple *(http://example.org/#Germany, http://example.org/#capital, http://example.org/#Berlin)* is serialized like this:\n",
    "\n",
    "**&lt;http://example.org/#Germany&gt; &lt;http://example.org/#capital&gt; &lt;http://example.org/#Berlin&gt; .**\n",
    "\n",
    "**Because of its very simple syntax, Turtle is intuitive and human-readable.**\n",
    "\n",
    "### Syntactic sugar:\n",
    "Because subjects or subject-predicate-combinations often repeat in the same graph, Turtle introduces some syntactic sugar.\n",
    "To repeat a subject, one can use a semicolon instead of a period after a triple. To express that germany has the capital Berlin and the state Bavaria, one would write the following:\n",
    "\n",
    "**&lt;http://example.org/#Germany&gt; &lt;http://example.org/#capital&gt; &lt;http://example.org/#Berlin&gt; ;  \n",
    "&nbsp;&nbsp;&nbsp;&nbsp;&lt;http://example.org/#state&gt; &lt;http://example.org/#Bavaria&gt; .**\n",
    "\n",
    "To repeat a subject-predicate-combination, one can use a comma instead of a period after the triple. To express that germany has the state Berlin and the state Bavaria, one would write the following:\n",
    "\n",
    "**&lt;http://example.org/#Germany&gt; &lt;http://example.org/#state&gt; &lt;http://example.org/#Berlin&gt; ,  \n",
    "&nbsp;&nbsp;&nbsp;&nbsp;&lt;http://example.org/#Bavaria&gt; .**\n",
    "\n",
    "Both of these can be chained to repeat the same subject/subject-predicate-combination over and over.\n",
    "\n",
    "**You are allowed and even encouraged to use syntactic sugar throughout all our assignments.**\n",
    "    "
   ]
  },
  {
   "cell_type": "markdown",
   "metadata": {
    "deletable": false,
    "editable": false,
    "nbgrader": {
     "cell_type": "markdown",
     "checksum": "4bd660d81b6f246a1e419d24ca0644ee",
     "grade": false,
     "grade_id": "cell-5e8f9a1e110133aa",
     "locked": true,
     "schema_version": 3,
     "solution": false,
     "task": false
    }
   },
   "source": [
    "## Task 1: My first Graph [6 points]\n",
    "### 1a) Sightseeing [3 points]\n",
    "The task is to create an RDF graph about places of interest using Turtle. The graph must contain the following Sights and their locations: The Louvre, the Colosseum and the Eiffel Tower.\n",
    "\n",
    "The graph should contain the following information: Both the **Louvre** and the **Eiffel Tower** are **located in** **France**. The **Colosseum** is **located in** **Italy**. **All** three **are sights**.\n",
    "\n",
    "Use the following URIs:  \n",
    "The Louvre: http://example.org/sights#Louvre  \n",
    "The Colosseum: http://example.org/sights#Colosseum  \n",
    "The Eiffel Tower: http://example.org/sights#EiffelTower  \n",
    "Located in: http://example.org/properties#locatedIn  \n",
    "France: http://example.org/countries#France  \n",
    "Italy: http://example.org/countries#Italy  \n",
    "Sight: http://example.org/classes#Sight  \n",
    "Is of type: http://www.w3.org/1999/02/22-rdf-syntax-ns#type\n",
    "\n",
    "**Do not use or define CURIEs (Prefixes) in this part of the task. The graph must not contain additional triples.**"
   ]
  },
  {
   "cell_type": "code",
   "execution_count": 3,
   "metadata": {
    "deletable": false,
    "nbgrader": {
     "cell_type": "code",
     "checksum": "66ae973e1d9e00f6cfa1d75897aa74ac",
     "grade": false,
     "grade_id": "cell-a625a6dee09ca0d5",
     "locked": false,
     "schema_version": 3,
     "solution": true,
     "task": false
    }
   },
   "outputs": [
    {
     "data": {
      "image/svg+xml": "<?xml version=\"1.0\" encoding=\"UTF-8\" standalone=\"no\"?>\n<!DOCTYPE svg PUBLIC \"-//W3C//DTD SVG 1.1//EN\"\n \"http://www.w3.org/Graphics/SVG/1.1/DTD/svg11.dtd\">\n<!-- Generated by graphviz version 7.0.1 (20221109.1506)\n -->\n<!-- Pages: 1 -->\n<svg width=\"1010pt\" height=\"131pt\"\n viewBox=\"0.00 0.00 1010.29 131.00\" xmlns=\"http://www.w3.org/2000/svg\" xmlns:xlink=\"http://www.w3.org/1999/xlink\">\n<g id=\"graph0\" class=\"graph\" transform=\"scale(1 1) rotate(0) translate(4 127)\">\n<polygon fill=\"white\" stroke=\"none\" points=\"-4,4 -4,-127 1006.29,-127 1006.29,4 -4,4\"/>\n<!-- 0 -->\n<g id=\"node1\" class=\"node\">\n<title>0</title>\n<ellipse fill=\"none\" stroke=\"black\" cx=\"131.29\" cy=\"-18\" rx=\"131.08\" ry=\"18\"/>\n<text text-anchor=\"start\" x=\"38.29\" y=\"-14.3\" font-family=\"Times,serif\" font-size=\"14.00\">http://example.org/countries#Italy</text>\n</g>\n<!-- 1 -->\n<g id=\"node2\" class=\"node\">\n<title>1</title>\n<ellipse fill=\"none\" stroke=\"black\" cx=\"774.29\" cy=\"-105\" rx=\"146.47\" ry=\"18\"/>\n<text text-anchor=\"start\" x=\"669.79\" y=\"-101.3\" font-family=\"Times,serif\" font-size=\"14.00\">http://example.org/sights#EiffelTower</text>\n</g>\n<!-- 3 -->\n<g id=\"node4\" class=\"node\">\n<title>3</title>\n<ellipse fill=\"none\" stroke=\"black\" cx=\"763.29\" cy=\"-18\" rx=\"139.18\" ry=\"18\"/>\n<text text-anchor=\"start\" x=\"664.29\" y=\"-14.3\" font-family=\"Times,serif\" font-size=\"14.00\">http://example.org/countries#France</text>\n</g>\n<!-- 1&#45;&gt;3 -->\n<g id=\"edge2\" class=\"edge\">\n<title>1&#45;&gt;3</title>\n<path fill=\"none\" stroke=\"black\" d=\"M782.32,-86.74C785.77,-77.04 788.39,-64.76 785.29,-54 784.53,-51.38 783.52,-48.77 782.34,-46.22\"/>\n<polygon fill=\"black\" stroke=\"black\" points=\"785.44,-44.6 777.52,-37.56 779.32,-48 785.44,-44.6\"/>\n<text text-anchor=\"start\" x=\"786.29\" y=\"-57.8\" font-family=\"Times,serif\" font-size=\"14.00\">http://example.org/properties#locatedIn</text>\n</g>\n<!-- 4 -->\n<g id=\"node5\" class=\"node\">\n<title>4</title>\n<ellipse fill=\"none\" stroke=\"black\" cx=\"436.29\" cy=\"-18\" rx=\"126.18\" ry=\"18\"/>\n<text text-anchor=\"start\" x=\"347.29\" y=\"-14.3\" font-family=\"Times,serif\" font-size=\"14.00\">http://example.org/classes#Sight</text>\n</g>\n<!-- 1&#45;&gt;4 -->\n<g id=\"edge5\" class=\"edge\">\n<title>1&#45;&gt;4</title>\n<path fill=\"none\" stroke=\"black\" d=\"M756.35,-86.69C742.06,-73.06 723.72,-56.03 719.29,-54 703.73,-46.86 622.33,-37.21 550.81,-29.86\"/>\n<polygon fill=\"black\" stroke=\"black\" points=\"551.23,-26.38 540.93,-28.85 550.52,-33.34 551.23,-26.38\"/>\n<text text-anchor=\"middle\" x=\"758.79\" y=\"-57.8\" font-family=\"Times,serif\" font-size=\"14.00\">rdf:type</text>\n</g>\n<!-- 2 -->\n<g id=\"node3\" class=\"node\">\n<title>2</title>\n<ellipse fill=\"none\" stroke=\"black\" cx=\"161.29\" cy=\"-105\" rx=\"142.97\" ry=\"18\"/>\n<text text-anchor=\"start\" x=\"59.29\" y=\"-101.3\" font-family=\"Times,serif\" font-size=\"14.00\">http://example.org/sights#Colosseum</text>\n</g>\n<!-- 2&#45;&gt;0 -->\n<g id=\"edge4\" class=\"edge\">\n<title>2&#45;&gt;0</title>\n<path fill=\"none\" stroke=\"black\" d=\"M143.34,-86.97C138.89,-81.68 134.71,-75.51 132.29,-69 129.81,-62.33 128.81,-54.8 128.61,-47.65\"/>\n<polygon fill=\"black\" stroke=\"black\" points=\"132.11,-47.78 128.85,-37.7 125.11,-47.61 132.11,-47.78\"/>\n<text text-anchor=\"start\" x=\"132.29\" y=\"-57.8\" font-family=\"Times,serif\" font-size=\"14.00\">http://example.org/properties#locatedIn</text>\n</g>\n<!-- 2&#45;&gt;4 -->\n<g id=\"edge3\" class=\"edge\">\n<title>2&#45;&gt;4</title>\n<path fill=\"none\" stroke=\"black\" d=\"M260.47,-91.74C289.32,-86.49 320.53,-79.16 348.29,-69 367.01,-62.15 386.42,-51.55 402.23,-41.87\"/>\n<polygon fill=\"black\" stroke=\"black\" points=\"403.69,-45.09 410.29,-36.81 399.96,-39.16 403.69,-45.09\"/>\n<text text-anchor=\"middle\" x=\"402.79\" y=\"-57.8\" font-family=\"Times,serif\" font-size=\"14.00\">rdf:type</text>\n</g>\n<!-- 5 -->\n<g id=\"node6\" class=\"node\">\n<title>5</title>\n<ellipse fill=\"none\" stroke=\"black\" cx=\"458.29\" cy=\"-105\" rx=\"128.88\" ry=\"18\"/>\n<text text-anchor=\"start\" x=\"367.29\" y=\"-101.3\" font-family=\"Times,serif\" font-size=\"14.00\">http://example.org/sights#Louvre</text>\n</g>\n<!-- 5&#45;&gt;3 -->\n<g id=\"edge1\" class=\"edge\">\n<title>5&#45;&gt;3</title>\n<path fill=\"none\" stroke=\"black\" d=\"M469.07,-86.72C477.07,-75.47 489.04,-61.53 503.29,-54 525.99,-42.01 579.11,-33.79 631.47,-28.35\"/>\n<polygon fill=\"black\" stroke=\"black\" points=\"631.51,-31.86 641.11,-27.38 630.81,-24.9 631.51,-31.86\"/>\n<text text-anchor=\"start\" x=\"503.29\" y=\"-57.8\" font-family=\"Times,serif\" font-size=\"14.00\">http://example.org/properties#locatedIn</text>\n</g>\n<!-- 5&#45;&gt;4 -->\n<g id=\"edge6\" class=\"edge\">\n<title>5&#45;&gt;4</title>\n<path fill=\"none\" stroke=\"black\" d=\"M445.47,-86.67C442.17,-81.27 439.05,-75.13 437.29,-69 435.35,-62.27 434.53,-54.81 434.33,-47.75\"/>\n<polygon fill=\"black\" stroke=\"black\" points=\"437.82,-48.01 434.44,-37.97 430.82,-47.92 437.82,-48.01\"/>\n<text text-anchor=\"middle\" x=\"458.79\" y=\"-57.8\" font-family=\"Times,serif\" font-size=\"14.00\">rdf:type</text>\n</g>\n</g>\n</svg>\n",
      "text/plain": [
       "<graphviz.graphs.Digraph at 0x110b5d6a0>"
      ]
     },
     "metadata": {},
     "output_type": "display_data"
    }
   ],
   "source": [
    "%%rdf turtle -l sights\n",
    "### YOUR SOLUTION HERE\n",
    "<http://example.org/sights#Louvre> <http://www.w3.org/1999/02/22-rdf-syntax-ns#type> <http://example.org/classes#Sight> .\n",
    "<http://example.org/sights#EiffelTower> <http://www.w3.org/1999/02/22-rdf-syntax-ns#type> <http://example.org/classes#Sight> .\n",
    "<http://example.org/sights#Colosseum> <http://www.w3.org/1999/02/22-rdf-syntax-ns#type> <http://example.org/classes#Sight> .\n",
    "\n",
    "<http://example.org/sights#Louvre> <http://example.org/properties#locatedIn> <http://example.org/countries#France> .\n",
    "<http://example.org/sights#EiffelTower> <http://example.org/properties#locatedIn> <http://example.org/countries#France> .\n",
    "<http://example.org/sights#Colosseum> <http://example.org/properties#locatedIn> <http://example.org/countries#Italy> .\n",
    "\n",
    "\n"
   ]
  },
  {
   "cell_type": "markdown",
   "metadata": {
    "deletable": false,
    "editable": false,
    "nbgrader": {
     "cell_type": "markdown",
     "checksum": "8423b3ecf4767b8bddfee3a5e7341197",
     "grade": false,
     "grade_id": "cell-f3bf946883727b5f",
     "locked": true,
     "schema_version": 3,
     "solution": false,
     "task": false
    }
   },
   "source": [
    "The following cell is a test cell to check your answer. Please remember that this is only a fraction of the tests to give you an orientation and that the real evaluation is a lot more thorough."
   ]
  },
  {
   "cell_type": "code",
   "execution_count": 35,
   "metadata": {
    "deletable": false,
    "editable": false,
    "nbgrader": {
     "cell_type": "code",
     "checksum": "5bbce85ea329cbb932a7b9181151ad2f",
     "grade": true,
     "grade_id": "cell-c927d061ef093322",
     "locked": true,
     "points": 2,
     "schema_version": 3,
     "solution": false,
     "task": false
    }
   },
   "outputs": [],
   "source": [
    "# This test will check whether your graph is complete and correct. [2 points]\n",
    "from rdflib import URIRef\n",
    "m = \"The graph is missing the following information: {}\"\n",
    "store = %rdf -r\n",
    "g = store['rdfgraphs'][\"sights\"]\n",
    "ex = \"http://example.org/{}\"\n",
    "tower = URIRef(ex.format(\"sights#EiffelTower\"))\n",
    "louvre = URIRef(ex.format(\"sights#Louvre\"))\n",
    "locIn = URIRef(ex.format(\"properties#locatedIn\"))\n",
    "ofType = URIRef(\"http://www.w3.org/1999/02/22-rdf-syntax-ns#type\")\n",
    "sight = URIRef(ex.format(\"classes#Sight\"))\n",
    "france = URIRef(ex.format(\"countries#France\"))\n",
    "assert((tower, locIn, france) in g), m.format(\"The Eiffel Tower is located in France.\")\n",
    "assert((louvre, ofType, sight) in g), m.format(\"The Louvre is a sight.\")"
   ]
  },
  {
   "cell_type": "code",
   "execution_count": 36,
   "metadata": {
    "deletable": false,
    "editable": false,
    "nbgrader": {
     "cell_type": "code",
     "checksum": "cf9940d61fd53964206633f15b2259be",
     "grade": true,
     "grade_id": "cell-d2bfeecaca65d849",
     "locked": true,
     "points": 1,
     "schema_version": 3,
     "solution": false,
     "task": false
    }
   },
   "outputs": [],
   "source": [
    "# This test will check whether your graph is minimal (does not contain additional triples). [1 point]\n",
    "# This point will not be granted when you use CURIEs or define prefixes (which is forbidden in this part of the task)\n",
    "# Some tests - like this one - are instructor only and can't be seen/run by students."
   ]
  },
  {
   "cell_type": "markdown",
   "metadata": {
    "deletable": false,
    "editable": false,
    "nbgrader": {
     "cell_type": "markdown",
     "checksum": "cec20352d55bec9b564f2fc3bb54e2fe",
     "grade": false,
     "grade_id": "cell-af5942891348c4fb",
     "locked": true,
     "schema_version": 3,
     "solution": false,
     "task": false
    }
   },
   "source": [
    "### CURIEs\n",
    "Because we only used full URIs in 1a), the graph looks cluttered and both the graph and the turtle source are hard to read. But many URIs have the same prefix (http://example.org/sights for example) and turtle allows us to define abbreviations for these prefixes. These abbreviated URIs are called *Compact URIs* or *CURIES*. In Turtle, such a prefix is defined using the **@prefix** keyword, followed by the abbreviation, then the URI prefix in angled brackets (&lt; &gt;) and finally a period. For example, if we want to abbreviate *http://example.org/#* with *ex:*, then we need to prepend the following line to the turtle document:\n",
    "\n",
    "**@prefix ex: &lt;http://example.org/#&gt; .**\n",
    "\n",
    "Now we can abbreviate the RDF triple:\n",
    "\n",
    "**&lt;http://example.org/#Germany&gt; &lt;http://example.org/#capital&gt; &lt;http://example.org/#Berlin&gt; .**\n",
    "\n",
    "to:\n",
    "\n",
    "**ex:Germany ex:capital ex:Berlin .**\n",
    "\n",
    "Note, that we omit the angled brackets when using CURIEs.\n",
    "\n",
    "### 1b) Using CURIEs [3 points]\n",
    "Create the same RDF graph as in 1a) but use CURIEs and introduce the following abbreviations:  \n",
    "Abbreviate http://example.org/sights# to **si:**  \n",
    "Abbreviate http://example.org/countries# to **co:**  \n",
    "Abbreviate http://example.org/properties# to **pr:**  \n",
    "Abbreviate http://example.org/classes# to **cl:**  \n",
    "\n",
    "http://www.w3.org/1999/02/22-rdf-syntax-ns# can be abbreviated to **rdf:** (optional)\n",
    "\n",
    "Because the predicate rdf:type (http://www.w3.org/1999/02/22-rdf-syntax-ns#type) is used very frequently, you can just write **a** instead of the URI. Try it!  \n",
    "\n",
    "**Use the defined prefixes whenever they are applicable.**  \n",
    "**You are allowed and even encouraged to define and use as many prefixes as you want in all following tasks and assignments.**"
   ]
  },
  {
   "cell_type": "code",
   "execution_count": 37,
   "metadata": {
    "deletable": false,
    "nbgrader": {
     "cell_type": "code",
     "checksum": "5c0b1da427d39dbb7088a78c75736bc0",
     "grade": false,
     "grade_id": "cell-622f9e5d8ef2cccd",
     "locked": false,
     "schema_version": 3,
     "solution": true,
     "task": false
    }
   },
   "outputs": [
    {
     "data": {
      "image/svg+xml": "<?xml version=\"1.0\" encoding=\"UTF-8\" standalone=\"no\"?>\n<!DOCTYPE svg PUBLIC \"-//W3C//DTD SVG 1.1//EN\"\n \"http://www.w3.org/Graphics/SVG/1.1/DTD/svg11.dtd\">\n<!-- Generated by graphviz version 7.0.1 (20221109.1506)\n -->\n<!-- Pages: 1 -->\n<svg width=\"456pt\" height=\"131pt\"\n viewBox=\"0.00 0.00 456.20 131.00\" xmlns=\"http://www.w3.org/2000/svg\" xmlns:xlink=\"http://www.w3.org/1999/xlink\">\n<g id=\"graph0\" class=\"graph\" transform=\"scale(1 1) rotate(0) translate(4 127)\">\n<polygon fill=\"white\" stroke=\"none\" points=\"-4,4 -4,-127 452.2,-127 452.2,4 -4,4\"/>\n<!-- 0 -->\n<g id=\"node1\" class=\"node\">\n<title>0</title>\n<ellipse fill=\"none\" stroke=\"black\" cx=\"264.2\" cy=\"-18\" rx=\"38.19\" ry=\"18\"/>\n<text text-anchor=\"middle\" x=\"264.2\" y=\"-14.3\" font-family=\"Times,serif\" font-size=\"14.00\">cl:Sight</text>\n</g>\n<!-- 1 -->\n<g id=\"node2\" class=\"node\">\n<title>1</title>\n<ellipse fill=\"none\" stroke=\"black\" cx=\"183.2\" cy=\"-105\" rx=\"61.99\" ry=\"18\"/>\n<text text-anchor=\"middle\" x=\"183.2\" y=\"-101.3\" font-family=\"Times,serif\" font-size=\"14.00\">si:EiffelTower</text>\n</g>\n<!-- 1&#45;&gt;0 -->\n<g id=\"edge5\" class=\"edge\">\n<title>1&#45;&gt;0</title>\n<path fill=\"none\" stroke=\"black\" d=\"M215.87,-89.41C225.27,-84.03 234.93,-77.2 242.2,-69 247.84,-62.63 252.23,-54.58 255.55,-46.82\"/>\n<polygon fill=\"black\" stroke=\"black\" points=\"258.75,-48.24 259.02,-37.65 252.21,-45.76 258.75,-48.24\"/>\n<text text-anchor=\"middle\" x=\"273.7\" y=\"-57.8\" font-family=\"Times,serif\" font-size=\"14.00\">rdf:type</text>\n</g>\n<!-- 3 -->\n<g id=\"node4\" class=\"node\">\n<title>3</title>\n<ellipse fill=\"none\" stroke=\"black\" cx=\"91.2\" cy=\"-18\" rx=\"45.49\" ry=\"18\"/>\n<text text-anchor=\"middle\" x=\"91.2\" y=\"-14.3\" font-family=\"Times,serif\" font-size=\"14.00\">co:France</text>\n</g>\n<!-- 1&#45;&gt;3 -->\n<g id=\"edge4\" class=\"edge\">\n<title>1&#45;&gt;3</title>\n<path fill=\"none\" stroke=\"black\" d=\"M175.64,-86.73C170.45,-76.32 162.77,-63.32 153.2,-54 146.72,-47.69 138.89,-42.13 131,-37.41\"/>\n<polygon fill=\"black\" stroke=\"black\" points=\"132.83,-34.43 122.39,-32.62 129.43,-40.54 132.83,-34.43\"/>\n<text text-anchor=\"middle\" x=\"199.2\" y=\"-57.8\" font-family=\"Times,serif\" font-size=\"14.00\">pr:locatedIn</text>\n</g>\n<!-- 2 -->\n<g id=\"node3\" class=\"node\">\n<title>2</title>\n<ellipse fill=\"none\" stroke=\"black\" cx=\"396.2\" cy=\"-18\" rx=\"37.89\" ry=\"18\"/>\n<text text-anchor=\"middle\" x=\"396.2\" y=\"-14.3\" font-family=\"Times,serif\" font-size=\"14.00\">co:Italy</text>\n</g>\n<!-- 4 -->\n<g id=\"node5\" class=\"node\">\n<title>4</title>\n<ellipse fill=\"none\" stroke=\"black\" cx=\"44.2\" cy=\"-105\" rx=\"44.39\" ry=\"18\"/>\n<text text-anchor=\"middle\" x=\"44.2\" y=\"-101.3\" font-family=\"Times,serif\" font-size=\"14.00\">si:Louvre</text>\n</g>\n<!-- 4&#45;&gt;0 -->\n<g id=\"edge1\" class=\"edge\">\n<title>4&#45;&gt;0</title>\n<path fill=\"none\" stroke=\"black\" d=\"M63.29,-88.43C81.04,-73.98 104.95,-54.6 106.2,-54 140.7,-37.41 183.24,-28.56 215.48,-23.92\"/>\n<polygon fill=\"black\" stroke=\"black\" points=\"215.91,-27.39 225.36,-22.59 214.98,-20.45 215.91,-27.39\"/>\n<text text-anchor=\"middle\" x=\"127.7\" y=\"-57.8\" font-family=\"Times,serif\" font-size=\"14.00\">rdf:type</text>\n</g>\n<!-- 4&#45;&gt;3 -->\n<g id=\"edge3\" class=\"edge\">\n<title>4&#45;&gt;3</title>\n<path fill=\"none\" stroke=\"black\" d=\"M28.57,-87.72C20.89,-77.69 14.57,-64.73 21.2,-54 26.54,-45.35 34.74,-38.77 43.68,-33.78\"/>\n<polygon fill=\"black\" stroke=\"black\" points=\"45.12,-36.97 52.59,-29.46 42.07,-30.67 45.12,-36.97\"/>\n<text text-anchor=\"middle\" x=\"54.2\" y=\"-57.8\" font-family=\"Times,serif\" font-size=\"14.00\">pr:locatedIn</text>\n</g>\n<!-- 5 -->\n<g id=\"node6\" class=\"node\">\n<title>5</title>\n<ellipse fill=\"none\" stroke=\"black\" cx=\"363.2\" cy=\"-105\" rx=\"58.49\" ry=\"18\"/>\n<text text-anchor=\"middle\" x=\"363.2\" y=\"-101.3\" font-family=\"Times,serif\" font-size=\"14.00\">si:Colosseum</text>\n</g>\n<!-- 5&#45;&gt;0 -->\n<g id=\"edge6\" class=\"edge\">\n<title>5&#45;&gt;0</title>\n<path fill=\"none\" stroke=\"black\" d=\"M344.11,-87.61C328.8,-74.47 307.15,-55.88 290.24,-41.36\"/>\n<polygon fill=\"black\" stroke=\"black\" points=\"292.91,-39.04 283.04,-35.18 288.35,-44.35 292.91,-39.04\"/>\n<text text-anchor=\"middle\" x=\"341.7\" y=\"-57.8\" font-family=\"Times,serif\" font-size=\"14.00\">rdf:type</text>\n</g>\n<!-- 5&#45;&gt;2 -->\n<g id=\"edge2\" class=\"edge\">\n<title>5&#45;&gt;2</title>\n<path fill=\"none\" stroke=\"black\" d=\"M369.87,-86.8C374.35,-75.28 380.33,-59.86 385.47,-46.63\"/>\n<polygon fill=\"black\" stroke=\"black\" points=\"388.62,-48.18 388.98,-37.59 382.1,-45.64 388.62,-48.18\"/>\n<text text-anchor=\"middle\" x=\"415.2\" y=\"-57.8\" font-family=\"Times,serif\" font-size=\"14.00\">pr:locatedIn</text>\n</g>\n</g>\n</svg>\n",
      "text/plain": [
       "<graphviz.graphs.Digraph at 0x112ca7ee0>"
      ]
     },
     "metadata": {},
     "output_type": "display_data"
    }
   ],
   "source": [
    "%%rdf turtle -l sights2\n",
    "### YOUR SOLUTION HERE\n",
    "@prefix ex: <http://example.org/> .\n",
    "@prefix si: <http://example.org/sights#> .\n",
    "@prefix co: <http://example.org/countries#> .\n",
    "@prefix pr: <http://example.org/properties#> .\n",
    "@prefix cl: <http://example.org/classes#> .\n",
    "@prefix rdf: <http://www.w3.org/1999/02/22-rdf-syntax-ns#> .\n",
    "\n",
    "si:Louvre pr:locatedIn co:France .\n",
    "si:EiffelTower pr:locatedIn co:France .\n",
    "si:Colosseum pr:locatedIn co:Italy .\n",
    "si:Louvre rdf:type cl:Sight .\n",
    "si:EiffelTower rdf:type cl:Sight .\n",
    "si:Colosseum rdf:type cl:Sight .\n"
   ]
  },
  {
   "cell_type": "code",
   "execution_count": 38,
   "metadata": {
    "deletable": false,
    "editable": false,
    "nbgrader": {
     "cell_type": "code",
     "checksum": "68e8df2519e6e8834e8676802861453e",
     "grade": true,
     "grade_id": "cell-083e36ac4704a48b",
     "locked": true,
     "points": 1,
     "schema_version": 3,
     "solution": false,
     "task": false
    }
   },
   "outputs": [],
   "source": [
    "# This test will check whether you defined all mandatory prefixes [1 point]\n",
    "from rdflib import URIRef\n",
    "store = %rdf -r\n",
    "g = store['rdfgraphs'][\"sights2\"]\n",
    "ns = list(g.namespaces())\n",
    "assert(('si', URIRef(\"http://example.org/sights#\")) in ns)"
   ]
  },
  {
   "cell_type": "code",
   "execution_count": 39,
   "metadata": {
    "deletable": false,
    "editable": false,
    "nbgrader": {
     "cell_type": "code",
     "checksum": "fff9c6d94f145387b1fe46fa1ceaa3e1",
     "grade": true,
     "grade_id": "cell-cc0cb388f72d175c",
     "locked": true,
     "points": 1,
     "schema_version": 3,
     "solution": false,
     "task": false
    }
   },
   "outputs": [],
   "source": [
    "# This test will check whether you actually used CURIEs whenever applicable. [1 point]"
   ]
  },
  {
   "cell_type": "code",
   "execution_count": 40,
   "metadata": {
    "deletable": false,
    "editable": false,
    "nbgrader": {
     "cell_type": "code",
     "checksum": "d5cb6437d567f26d2eb3e5f4c2417704",
     "grade": true,
     "grade_id": "cell-00a42b342af34ba8",
     "locked": true,
     "points": 1,
     "schema_version": 3,
     "solution": false,
     "task": false
    }
   },
   "outputs": [],
   "source": [
    "# This test will check whether the graph is complete and correct. [1 point]"
   ]
  },
  {
   "cell_type": "markdown",
   "metadata": {
    "deletable": false,
    "editable": false,
    "nbgrader": {
     "cell_type": "markdown",
     "checksum": "1e367d7fc0c413eab5975e59bab7cc91",
     "grade": false,
     "grade_id": "cell-0020acafde24d970",
     "locked": true,
     "schema_version": 3,
     "solution": false,
     "task": false
    }
   },
   "source": [
    "## Task 2: Literals [3 points]\n",
    "For basic values such as numbers and strings, it is impractical to use URIs. Instead of URIs we use literals. Literals have a datatype, which is string by default. Literals can only be used in the object position of triples and are encased in double quotes (\" \"). An example for a triple with a string literal is:\n",
    "\n",
    "**ex:Germany ex:name \"Deutschland\" .**\n",
    "\n",
    "To specify a *datatype*, it is appended to the literal with *two carets* (^^). A datatype can be an arbitrary URI, but there are some predefined datatypes which should suffice in most cases. These predefined datatypes use the prefix *http://www.w3.org/2001/XMLSchema#*, which is usually abbreviated with *xsd:*. An example for an integer literal:\n",
    "\n",
    "**ex:Germany ex:population \"83042235\"^^xsd:int .**\n",
    "\n",
    "There are also string literals with a specified language. This is useful for names that differ in different languages. To specify a language, we append a two character language tag with an at symbol (@) behind the literal. The literal is then automatically interpreted as a language tagged string (this datatype is never specified explicitly). To express that ex:germany has a different name in english and in german, one would add two triples:\n",
    "\n",
    "**ex:Germany ex:name \"Deutschland\"@de .**  \n",
    "**ex:Germany ex:name \"Germany\"@en .**  \n",
    "\n",
    "Please note that the URI ex:Germany is **not** the same as the literal \"Germany\" and in some cases you can't deduce the name of an entity from the URI (for example www.wikidata.org uses numerical IDs, e.g https://www.wikidata.org/entity/Q1017).\n",
    "\n",
    "### 2a) Austria [3 points]\n",
    "The task is to create an RDF graph about Austria with Turtle. The graph must contain the following information:\n",
    "\n",
    "Austria is called **Österreich** in german (*de*), **Austria** in english (*en*) and **Oostenrijk** in dutch (*nl*). Austria has a population of **8901064** and an area of **83878.99**km². The capital of Austria is Vienna, which is called **Vienna** in english and **Wenen** in dutch.\n",
    "\n",
    "Use the following URIs:  \n",
    "Austria: http://example.org/countries#Austria  \n",
    "Vienna: http://example.org/cities#Vienna  \n",
    "Capital: http://example.org/properties#capital  \n",
    "Area: http://example.org/properties#area  \n",
    "Population: http://example.org/properties#population  \n",
    "Is called: rdfs:label\n",
    "\n",
    "Language tags:\n",
    "\n",
    "| Language | Tag |\n",
    "| --- | --- |\n",
    "| English | en |\n",
    "| German | de |\n",
    "| Dutch | nl |\n",
    "\n",
    "Only use the datatypes **xsd:string**, **rdf:langString**, **xsd:int** and **xsd:float**.\n",
    "\n",
    "Tip: CURIEs do not change the graph but they make the result more readable and less error prone. Use them whenever possible!"
   ]
  },
  {
   "cell_type": "code",
   "execution_count": 41,
   "metadata": {
    "deletable": false,
    "nbgrader": {
     "cell_type": "code",
     "checksum": "8c62a8376c23bfb1ea925a5792b8a3bc",
     "grade": false,
     "grade_id": "cell-3e75579d76831c23",
     "locked": false,
     "schema_version": 3,
     "solution": true,
     "task": false
    }
   },
   "outputs": [
    {
     "data": {
      "image/svg+xml": "<?xml version=\"1.0\" encoding=\"UTF-8\" standalone=\"no\"?>\n<!DOCTYPE svg PUBLIC \"-//W3C//DTD SVG 1.1//EN\"\n \"http://www.w3.org/Graphics/SVG/1.1/DTD/svg11.dtd\">\n<!-- Generated by graphviz version 7.0.1 (20221109.1506)\n -->\n<!-- Pages: 1 -->\n<svg width=\"768pt\" height=\"218pt\"\n viewBox=\"0.00 0.00 768.00 218.00\" xmlns=\"http://www.w3.org/2000/svg\" xmlns:xlink=\"http://www.w3.org/1999/xlink\">\n<g id=\"graph0\" class=\"graph\" transform=\"scale(1 1) rotate(0) translate(4 214)\">\n<polygon fill=\"white\" stroke=\"none\" points=\"-4,4 -4,-214 764,-214 764,4 -4,4\"/>\n<!-- 0 -->\n<g id=\"node1\" class=\"node\">\n<title>0</title>\n<polygon fill=\"none\" stroke=\"black\" points=\"140,-123 0,-123 0,-87 140,-87 140,-123\"/>\n<text text-anchor=\"middle\" x=\"70\" y=\"-101.3\" font-family=\"Times,serif\" font-size=\"14.00\">&quot;83878.99&quot;^^xsd:float</text>\n</g>\n<!-- 1 -->\n<g id=\"node2\" class=\"node\">\n<title>1</title>\n<polygon fill=\"none\" stroke=\"black\" points=\"593,-36 503,-36 503,0 593,0 593,-36\"/>\n<text text-anchor=\"middle\" x=\"548\" y=\"-14.3\" font-family=\"Times,serif\" font-size=\"14.00\">&quot;Wenen&quot;@nl</text>\n</g>\n<!-- 2 -->\n<g id=\"node3\" class=\"node\">\n<title>2</title>\n<polygon fill=\"none\" stroke=\"black\" points=\"267.5,-123 158.5,-123 158.5,-87 267.5,-87 267.5,-123\"/>\n<text text-anchor=\"middle\" x=\"213\" y=\"-101.3\" font-family=\"Times,serif\" font-size=\"14.00\">&quot;Oostenrijk&quot;@nl</text>\n</g>\n<!-- 3 -->\n<g id=\"node4\" class=\"node\">\n<title>3</title>\n<polygon fill=\"none\" stroke=\"black\" points=\"396,-123 286,-123 286,-87 396,-87 396,-123\"/>\n<text text-anchor=\"middle\" x=\"341\" y=\"-101.3\" font-family=\"Times,serif\" font-size=\"14.00\">&quot;Österreich&quot;@de</text>\n</g>\n<!-- 4 -->\n<g id=\"node5\" class=\"node\">\n<title>4</title>\n<polygon fill=\"none\" stroke=\"black\" points=\"540,-123 414,-123 414,-87 540,-87 540,-123\"/>\n<text text-anchor=\"middle\" x=\"477\" y=\"-101.3\" font-family=\"Times,serif\" font-size=\"14.00\">&quot;8901064&quot;^^xsd:int</text>\n</g>\n<!-- 5 -->\n<g id=\"node6\" class=\"node\">\n<title>5</title>\n<polygon fill=\"none\" stroke=\"black\" points=\"704.5,-36 611.5,-36 611.5,0 704.5,0 704.5,-36\"/>\n<text text-anchor=\"middle\" x=\"658\" y=\"-14.3\" font-family=\"Times,serif\" font-size=\"14.00\">&quot;Vienna&quot;@en</text>\n</g>\n<!-- 6 -->\n<g id=\"node7\" class=\"node\">\n<title>6</title>\n<ellipse fill=\"none\" stroke=\"black\" cx=\"603\" cy=\"-105\" rx=\"44.69\" ry=\"18\"/>\n<text text-anchor=\"middle\" x=\"603\" y=\"-101.3\" font-family=\"Times,serif\" font-size=\"14.00\">ci:Vienna</text>\n</g>\n<!-- 6&#45;&gt;1 -->\n<g id=\"edge3\" class=\"edge\">\n<title>6&#45;&gt;1</title>\n<path fill=\"none\" stroke=\"black\" d=\"M592.13,-87.21C584.48,-75.37 574.06,-59.28 565.27,-45.69\"/>\n<polygon fill=\"black\" stroke=\"black\" points=\"568.41,-44.11 560.04,-37.61 562.54,-47.91 568.41,-44.11\"/>\n<text text-anchor=\"middle\" x=\"605\" y=\"-57.8\" font-family=\"Times,serif\" font-size=\"14.00\">rdfs:label</text>\n</g>\n<!-- 6&#45;&gt;5 -->\n<g id=\"edge5\" class=\"edge\">\n<title>6&#45;&gt;5</title>\n<path fill=\"none\" stroke=\"black\" d=\"M619.42,-88.14C624.8,-82.43 630.54,-75.72 635,-69 639.54,-62.15 643.63,-54.26 647.05,-46.81\"/>\n<polygon fill=\"black\" stroke=\"black\" points=\"650.21,-48.31 650.97,-37.75 643.79,-45.54 650.21,-48.31\"/>\n<text text-anchor=\"middle\" x=\"670\" y=\"-57.8\" font-family=\"Times,serif\" font-size=\"14.00\">rdfs:label</text>\n</g>\n<!-- 7 -->\n<g id=\"node8\" class=\"node\">\n<title>7</title>\n<ellipse fill=\"none\" stroke=\"black\" cx=\"409\" cy=\"-192\" rx=\"47.39\" ry=\"18\"/>\n<text text-anchor=\"middle\" x=\"409\" y=\"-188.3\" font-family=\"Times,serif\" font-size=\"14.00\">co:Austria</text>\n</g>\n<!-- 7&#45;&gt;0 -->\n<g id=\"edge1\" class=\"edge\">\n<title>7&#45;&gt;0</title>\n<path fill=\"none\" stroke=\"black\" d=\"M367.28,-183.17C333.37,-176.59 284.39,-166.59 242,-156 207.05,-147.27 168.51,-136.2 136.79,-126.7\"/>\n<polygon fill=\"black\" stroke=\"black\" points=\"137.9,-123.38 127.32,-123.85 135.88,-130.08 137.9,-123.38\"/>\n<text text-anchor=\"middle\" x=\"261\" y=\"-144.8\" font-family=\"Times,serif\" font-size=\"14.00\">pr:area</text>\n</g>\n<!-- 7&#45;&gt;2 -->\n<g id=\"edge2\" class=\"edge\">\n<title>7&#45;&gt;2</title>\n<path fill=\"none\" stroke=\"black\" d=\"M374.74,-179.17C356.78,-172.73 334.52,-164.39 315,-156 295.46,-147.6 274.29,-137.4 256.32,-128.42\"/>\n<polygon fill=\"black\" stroke=\"black\" points=\"258,-125.35 247.5,-123.97 254.85,-131.6 258,-125.35\"/>\n<text text-anchor=\"middle\" x=\"341\" y=\"-144.8\" font-family=\"Times,serif\" font-size=\"14.00\">rdfs:label</text>\n</g>\n<!-- 7&#45;&gt;3 -->\n<g id=\"edge4\" class=\"edge\">\n<title>7&#45;&gt;3</title>\n<path fill=\"none\" stroke=\"black\" d=\"M395.89,-174.61C386.2,-162.5 372.82,-145.77 361.69,-131.87\"/>\n<polygon fill=\"black\" stroke=\"black\" points=\"364.7,-130.02 355.72,-124.4 359.23,-134.39 364.7,-130.02\"/>\n<text text-anchor=\"middle\" x=\"406\" y=\"-144.8\" font-family=\"Times,serif\" font-size=\"14.00\">rdfs:label</text>\n</g>\n<!-- 7&#45;&gt;4 -->\n<g id=\"edge8\" class=\"edge\">\n<title>7&#45;&gt;4</title>\n<path fill=\"none\" stroke=\"black\" d=\"M422.11,-174.61C431.8,-162.5 445.18,-145.77 456.31,-131.87\"/>\n<polygon fill=\"black\" stroke=\"black\" points=\"458.77,-134.39 462.28,-124.4 453.3,-130.02 458.77,-134.39\"/>\n<text text-anchor=\"middle\" x=\"484.5\" y=\"-144.8\" font-family=\"Times,serif\" font-size=\"14.00\">pr:population</text>\n</g>\n<!-- 7&#45;&gt;6 -->\n<g id=\"edge7\" class=\"edge\">\n<title>7&#45;&gt;6</title>\n<path fill=\"none\" stroke=\"black\" d=\"M448.93,-181.88C471.77,-175.94 500.64,-167.22 525,-156 541.74,-148.29 559.12,-137.47 573.21,-127.86\"/>\n<polygon fill=\"black\" stroke=\"black\" points=\"574.95,-130.92 581.15,-122.33 570.95,-125.18 574.95,-130.92\"/>\n<text text-anchor=\"middle\" x=\"578\" y=\"-144.8\" font-family=\"Times,serif\" font-size=\"14.00\">pr:capital</text>\n</g>\n<!-- 8 -->\n<g id=\"node9\" class=\"node\">\n<title>8</title>\n<polygon fill=\"none\" stroke=\"black\" points=\"760,-123 666,-123 666,-87 760,-87 760,-123\"/>\n<text text-anchor=\"middle\" x=\"713\" y=\"-101.3\" font-family=\"Times,serif\" font-size=\"14.00\">&quot;Austria&quot;@en</text>\n</g>\n<!-- 7&#45;&gt;8 -->\n<g id=\"edge6\" class=\"edge\">\n<title>7&#45;&gt;8</title>\n<path fill=\"none\" stroke=\"black\" d=\"M454.49,-186.54C495.38,-181.71 556.71,-172.39 608,-156 629.91,-149 653.11,-138.33 672.11,-128.64\"/>\n<polygon fill=\"black\" stroke=\"black\" points=\"673.61,-131.81 680.86,-124.09 670.37,-125.6 673.61,-131.81\"/>\n<text text-anchor=\"middle\" x=\"670\" y=\"-144.8\" font-family=\"Times,serif\" font-size=\"14.00\">rdfs:label</text>\n</g>\n</g>\n</svg>\n",
      "text/plain": [
       "<graphviz.graphs.Digraph at 0x1144aefd0>"
      ]
     },
     "metadata": {},
     "output_type": "display_data"
    }
   ],
   "source": [
    "%%rdf turtle -l literals\n",
    "@prefix rdf: <http://www.w3.org/1999/02/22-rdf-syntax-ns#> .\n",
    "@prefix rdfs: <http://www.w3.org/2000/01/rdf-schema#> .\n",
    "@prefix xsd: <http://www.w3.org/2001/XMLSchema#> .\n",
    "### YOUR SOLUTION HERE\n",
    "@prefix co: <http://example.org/countries#> .\n",
    "@prefix ci: <http://example.org/cities#> .\n",
    "@prefix pr: <http://example.org/properties#> .\n",
    "\n",
    "co:Austria \n",
    "    rdfs:label \"Österreich\"@de ;\n",
    "    rdfs:label \"Austria\"@en ;\n",
    "    rdfs:label \"Oostenrijk\"@nl ;\n",
    "    pr:population \"8901064\"^^xsd:int ;\n",
    "    pr:area \"83878.99\"^^xsd:float ;\n",
    "    pr:capital ci:Vienna .\n",
    "\n",
    "ci:Vienna \n",
    "    rdfs:label \"Vienna\"@en;\n",
    "    rdfs:label \"Wenen\"@nl .\n",
    "    \n",
    "    "
   ]
  },
  {
   "cell_type": "code",
   "execution_count": 42,
   "metadata": {
    "deletable": false,
    "editable": false,
    "nbgrader": {
     "cell_type": "code",
     "checksum": "6397a553fe3cc0f07fd3d6a25e7c9039",
     "grade": true,
     "grade_id": "cell-ec4e45a2d27a7d3f",
     "locked": true,
     "points": 1,
     "schema_version": 3,
     "solution": false,
     "task": false
    }
   },
   "outputs": [],
   "source": [
    "# This test will check whether your graph contains the facts (even if their datatype,value or quantity is wrong). [1 point]\n",
    "from rdflib import URIRef\n",
    "store = %rdf -r\n",
    "g = store['rdfgraphs'][\"literals\"]\n",
    "ex = \"http://example.org/{}\"\n",
    "au = URIRef(ex.format(\"countries#Austria\"))\n",
    "pop = URIRef(ex.format(\"properties#population\"))\n",
    "vi = URIRef(ex.format(\"cities#Vienna\"))\n",
    "lab = URIRef(\"http://www.w3.org/2000/01/rdf-schema#label\")\n",
    "err = \"The graph does not contain information about {}.\"\n",
    "assert (au, pop, None) in g, err.format(\"Austria's population\")\n",
    "assert (vi, lab, None) in g, err.format(\"Vienna's name\")"
   ]
  },
  {
   "cell_type": "code",
   "execution_count": 43,
   "metadata": {
    "deletable": false,
    "editable": false,
    "nbgrader": {
     "cell_type": "code",
     "checksum": "b79443c2944aaf80b0b6477819509040",
     "grade": true,
     "grade_id": "cell-ee0f15f19acfbd0d",
     "locked": true,
     "points": 1,
     "schema_version": 3,
     "solution": false,
     "task": false
    }
   },
   "outputs": [],
   "source": [
    "# This test will check whether your graph contains all numerical literals with correct datatypes. [1 point]"
   ]
  },
  {
   "cell_type": "code",
   "execution_count": 44,
   "metadata": {
    "deletable": false,
    "editable": false,
    "nbgrader": {
     "cell_type": "code",
     "checksum": "b21e637e389b94cd11d86080a8021185",
     "grade": true,
     "grade_id": "cell-d8cbac1ebdcccb0f",
     "locked": true,
     "points": 1,
     "schema_version": 3,
     "solution": false,
     "task": false
    }
   },
   "outputs": [],
   "source": [
    "# This test will check whether your graph contains all language tagged literals. [1 point]"
   ]
  },
  {
   "cell_type": "markdown",
   "metadata": {
    "deletable": false,
    "editable": false,
    "nbgrader": {
     "cell_type": "markdown",
     "checksum": "0985abaabe7ae9b9c90ca5b7ccfd0c18",
     "grade": false,
     "grade_id": "cell-d95a51a59335c2de",
     "locked": true,
     "schema_version": 3,
     "solution": false,
     "task": false
    }
   },
   "source": [
    "## Task 3: Blank Nodes [3 points]\n",
    "Sometimes resources do not or should not have an identifier but still stand in relation to other resources. These anonymous resources are represented by blank nodes in RDF graphs. In Turtle, blank nodes are are represented with an underscore followed by a colon and an identifier (\\_:identifier). The purpose of the identifier is to be able to locally reference the anonymous resource multiple times. Even if two blank nodes in different graphs use the same identifier, they usually reference a different resource. For example, when you want to express that you know someone who is a professor but doesn't have an identifier and there is someone else you don't know who is also a professor, you do it like this:\n",
    "\n",
    "**ex:me ex:knows \\_:1 .  \n",
    "\\_:1 rdf:type ex:professor .  \n",
    "\\_:2 rdf:type ex:professor .**\n",
    "\n",
    "You know \\_:1 but don't know \\_:2 but they are both professors.\n",
    "\n",
    "Additionally, blank nodes are often used to represent n-ary relations. For example, a grading that needs to have a grade and a grader can be expressed like this:\n",
    "\n",
    "**ex:student ex:grading \\_:1 .  \n",
    "\\_:1 ex:grade \"1.0\" .  \n",
    "\\_:1 ex:grader ex:professor .**\n",
    "\n",
    "**Syntactic sugar:**  \n",
    "To make this more readable, you can instead use square brackets (\\[ \\]) and every predicate-object-combination in between the square brackets will reference the same blank node. The grade example would then look like this:\n",
    "\n",
    "**ex:student ex:grading \\[  \n",
    "&nbsp;&nbsp;&nbsp;&nbsp;ex:grade \"1.0\" ;  \n",
    "&nbsp;&nbsp;&nbsp;&nbsp;ex:grader ex:professor  \n",
    "\\] .**\n",
    "\n",
    "Note that we must use semicolons and commas in between the brackets (see syntactic sugar at top of assignment) and there is still a period after the brackets.\n",
    "\n",
    "Also Note that the blank node identifier is exchangable as long as we use the same one when referencing the same node. That is why the bracket notation does not need an identifier.\n",
    "\n",
    "### 3a) I know someone who lives somewhere [3 points]\n",
    "Create an RDF graph using turtle that expresses the following:  \n",
    "You, a person without an identifier, knows another person without an identifier, who lives at the following address:\n",
    "\n",
    "Street: Templergraben  \n",
    "House number: 55  \n",
    "Postal code: 52062  \n",
    "City: Aachen\n",
    "\n",
    "Use the following URIs:  \n",
    "Type: rdf:type  \n",
    "Knows: foaf:knows  \n",
    "Person: http://example.org/classes#Person  \n",
    "Address: http://example.org/properties#address  \n",
    "Street: http://example.org/properties#street  \n",
    "House number: http://example.org/properties#houseNumber  \n",
    "Postal code: http://example.org/properties#postalCode  \n",
    "City: http://example.org/properties#city  \n",
    "\n",
    "Hint: use an n-ary relation for the address.\n",
    "\n",
    "**Use only string literals without language tags.**"
   ]
  },
  {
   "cell_type": "code",
   "execution_count": 45,
   "metadata": {
    "deletable": false,
    "nbgrader": {
     "cell_type": "code",
     "checksum": "79a506cd3eb3e91d9e2ea74a90ba5570",
     "grade": false,
     "grade_id": "cell-865f7b3dbf506688",
     "locked": false,
     "schema_version": 3,
     "solution": true,
     "task": false
    }
   },
   "outputs": [
    {
     "data": {
      "image/svg+xml": "<?xml version=\"1.0\" encoding=\"UTF-8\" standalone=\"no\"?>\n<!DOCTYPE svg PUBLIC \"-//W3C//DTD SVG 1.1//EN\"\n \"http://www.w3.org/Graphics/SVG/1.1/DTD/svg11.dtd\">\n<!-- Generated by graphviz version 7.0.1 (20221109.1506)\n -->\n<!-- Pages: 1 -->\n<svg width=\"464pt\" height=\"305pt\"\n viewBox=\"0.00 0.00 463.50 305.00\" xmlns=\"http://www.w3.org/2000/svg\" xmlns:xlink=\"http://www.w3.org/1999/xlink\">\n<g id=\"graph0\" class=\"graph\" transform=\"scale(1 1) rotate(0) translate(4 301)\">\n<polygon fill=\"white\" stroke=\"none\" points=\"-4,4 -4,-301 459.5,-301 459.5,4 -4,4\"/>\n<!-- 0 -->\n<g id=\"node1\" class=\"node\">\n<title>0</title>\n<ellipse fill=\"none\" stroke=\"black\" cx=\"333.5\" cy=\"-279\" rx=\"30.59\" ry=\"18\"/>\n<text text-anchor=\"middle\" x=\"333.5\" y=\"-275.3\" font-family=\"Times,serif\" font-size=\"14.00\">_:bn0</text>\n</g>\n<!-- 3 -->\n<g id=\"node4\" class=\"node\">\n<title>3</title>\n<ellipse fill=\"none\" stroke=\"black\" cx=\"295.5\" cy=\"-192\" rx=\"30.59\" ry=\"18\"/>\n<text text-anchor=\"middle\" x=\"295.5\" y=\"-188.3\" font-family=\"Times,serif\" font-size=\"14.00\">_:bn1</text>\n</g>\n<!-- 0&#45;&gt;3 -->\n<g id=\"edge5\" class=\"edge\">\n<title>0&#45;&gt;3</title>\n<path fill=\"none\" stroke=\"black\" d=\"M314.18,-264.86C307.29,-259.05 300.29,-251.57 296.5,-243 293.62,-236.49 292.48,-229.02 292.27,-221.87\"/>\n<polygon fill=\"black\" stroke=\"black\" points=\"295.76,-222 292.58,-211.89 288.77,-221.78 295.76,-222\"/>\n<text text-anchor=\"middle\" x=\"327\" y=\"-231.8\" font-family=\"Times,serif\" font-size=\"14.00\">foaf:knows</text>\n</g>\n<!-- 6 -->\n<g id=\"node7\" class=\"node\">\n<title>6</title>\n<ellipse fill=\"none\" stroke=\"black\" cx=\"348.5\" cy=\"-105\" rx=\"43.59\" ry=\"18\"/>\n<text text-anchor=\"middle\" x=\"348.5\" y=\"-101.3\" font-family=\"Times,serif\" font-size=\"14.00\">cl:Person</text>\n</g>\n<!-- 0&#45;&gt;6 -->\n<g id=\"edge8\" class=\"edge\">\n<title>0&#45;&gt;6</title>\n<path fill=\"none\" stroke=\"black\" d=\"M346.94,-262.69C351.18,-256.92 355.32,-250.04 357.5,-243 368.74,-206.74 362.51,-162.58 356.2,-134.38\"/>\n<polygon fill=\"black\" stroke=\"black\" points=\"359.64,-133.71 353.89,-124.81 352.83,-135.35 359.64,-133.71\"/>\n<text text-anchor=\"middle\" x=\"386\" y=\"-188.3\" font-family=\"Times,serif\" font-size=\"14.00\">rdf:type</text>\n</g>\n<!-- 1 -->\n<g id=\"node2\" class=\"node\">\n<title>1</title>\n<polygon fill=\"none\" stroke=\"black\" points=\"113,-36 0,-36 0,0 113,0 113,-36\"/>\n<text text-anchor=\"middle\" x=\"56.5\" y=\"-14.3\" font-family=\"Times,serif\" font-size=\"14.00\">&quot;52062&quot;^^xsd:int</text>\n</g>\n<!-- 2 -->\n<g id=\"node3\" class=\"node\">\n<title>2</title>\n<polygon fill=\"none\" stroke=\"black\" points=\"223.5,-36 131.5,-36 131.5,0 223.5,0 223.5,-36\"/>\n<text text-anchor=\"middle\" x=\"177.5\" y=\"-14.3\" font-family=\"Times,serif\" font-size=\"14.00\">&quot;55&quot;^^xsd:int</text>\n</g>\n<!-- 5 -->\n<g id=\"node6\" class=\"node\">\n<title>5</title>\n<ellipse fill=\"none\" stroke=\"black\" cx=\"234.5\" cy=\"-105\" rx=\"30.59\" ry=\"18\"/>\n<text text-anchor=\"middle\" x=\"234.5\" y=\"-101.3\" font-family=\"Times,serif\" font-size=\"14.00\">_:bn2</text>\n</g>\n<!-- 3&#45;&gt;5 -->\n<g id=\"edge2\" class=\"edge\">\n<title>3&#45;&gt;5</title>\n<path fill=\"none\" stroke=\"black\" d=\"M273.19,-179.3C264,-173.44 254,-165.55 247.5,-156 243.19,-149.67 240.32,-142.01 238.39,-134.61\"/>\n<polygon fill=\"black\" stroke=\"black\" points=\"241.83,-133.98 236.39,-124.89 234.98,-135.39 241.83,-133.98\"/>\n<text text-anchor=\"middle\" x=\"275.5\" y=\"-144.8\" font-family=\"Times,serif\" font-size=\"14.00\">pr:address</text>\n</g>\n<!-- 3&#45;&gt;6 -->\n<g id=\"edge3\" class=\"edge\">\n<title>3&#45;&gt;6</title>\n<path fill=\"none\" stroke=\"black\" d=\"M300.06,-173.99C303.22,-163.92 308.02,-151.18 314.5,-141 316.94,-137.17 319.85,-133.41 322.92,-129.86\"/>\n<polygon fill=\"black\" stroke=\"black\" points=\"325.4,-132.33 329.69,-122.64 320.3,-127.54 325.4,-132.33\"/>\n<text text-anchor=\"middle\" x=\"336\" y=\"-144.8\" font-family=\"Times,serif\" font-size=\"14.00\">rdf:type</text>\n</g>\n<!-- 4 -->\n<g id=\"node5\" class=\"node\">\n<title>4</title>\n<polygon fill=\"none\" stroke=\"black\" points=\"327.5,-36 257.5,-36 257.5,0 327.5,0 327.5,-36\"/>\n<text text-anchor=\"middle\" x=\"292.5\" y=\"-14.3\" font-family=\"Times,serif\" font-size=\"14.00\">&quot;Aachen&quot;</text>\n</g>\n<!-- 5&#45;&gt;1 -->\n<g id=\"edge6\" class=\"edge\">\n<title>5&#45;&gt;1</title>\n<path fill=\"none\" stroke=\"black\" d=\"M204.04,-102.21C174,-99.17 127.86,-91 94.5,-69 85.51,-63.07 77.79,-54.27 71.71,-45.69\"/>\n<polygon fill=\"black\" stroke=\"black\" points=\"74.79,-44 66.39,-37.55 68.93,-47.83 74.79,-44\"/>\n<text text-anchor=\"middle\" x=\"132.5\" y=\"-57.8\" font-family=\"Times,serif\" font-size=\"14.00\">pr:postalCode</text>\n</g>\n<!-- 5&#45;&gt;2 -->\n<g id=\"edge1\" class=\"edge\">\n<title>5&#45;&gt;2</title>\n<path fill=\"none\" stroke=\"black\" d=\"M209.05,-94.71C197.6,-89.12 185.18,-80.77 178.5,-69 174.89,-62.63 173.55,-55.04 173.37,-47.72\"/>\n<polygon fill=\"black\" stroke=\"black\" points=\"176.86,-47.95 173.87,-37.79 169.87,-47.61 176.86,-47.95\"/>\n<text text-anchor=\"middle\" x=\"224.5\" y=\"-57.8\" font-family=\"Times,serif\" font-size=\"14.00\">pr:houseNumber</text>\n</g>\n<!-- 5&#45;&gt;4 -->\n<g id=\"edge4\" class=\"edge\">\n<title>5&#45;&gt;4</title>\n<path fill=\"none\" stroke=\"black\" d=\"M251.67,-89.85C258.15,-83.89 265.23,-76.59 270.5,-69 275.22,-62.2 279.29,-54.21 282.59,-46.65\"/>\n<polygon fill=\"black\" stroke=\"black\" points=\"285.8,-48.04 286.3,-37.46 279.31,-45.42 285.8,-48.04\"/>\n<text text-anchor=\"middle\" x=\"297.5\" y=\"-57.8\" font-family=\"Times,serif\" font-size=\"14.00\">pr:city</text>\n</g>\n<!-- 7 -->\n<g id=\"node8\" class=\"node\">\n<title>7</title>\n<polygon fill=\"none\" stroke=\"black\" points=\"455.5,-36 345.5,-36 345.5,0 455.5,0 455.5,-36\"/>\n<text text-anchor=\"middle\" x=\"400.5\" y=\"-14.3\" font-family=\"Times,serif\" font-size=\"14.00\">&quot;Templergraber&quot;</text>\n</g>\n<!-- 5&#45;&gt;7 -->\n<g id=\"edge7\" class=\"edge\">\n<title>5&#45;&gt;7</title>\n<path fill=\"none\" stroke=\"black\" d=\"M259.9,-94.78C277.05,-88.26 300.02,-78.94 319.5,-69 334.9,-61.14 351.24,-51.36 365.18,-42.53\"/>\n<polygon fill=\"black\" stroke=\"black\" points=\"367.06,-45.48 373.58,-37.14 363.28,-39.59 367.06,-45.48\"/>\n<text text-anchor=\"middle\" x=\"368\" y=\"-57.8\" font-family=\"Times,serif\" font-size=\"14.00\">pr:street</text>\n</g>\n</g>\n</svg>\n",
      "text/plain": [
       "<graphviz.graphs.Digraph at 0x11421d490>"
      ]
     },
     "metadata": {},
     "output_type": "display_data"
    }
   ],
   "source": [
    "%%rdf turtle -l bnodes\n",
    "@prefix rdf: <http://www.w3.org/1999/02/22-rdf-syntax-ns#> .\n",
    "@prefix foaf: <http://xmlns.com/foaf/0.1/> .\n",
    "@prefix xsd: <http://www.w3.org/2001/XMLSchema#> .\n",
    "### YOUR SOLUTION HERE\n",
    "@prefix cl:<http://example.org/classes#> .\n",
    "@prefix pr:<http://example.org/properties#> .\n",
    "\n",
    "_:1 rdf:type cl:Person .\n",
    "_:2 rdf:type cl:Person .\n",
    "\n",
    "_:1 foaf:knows _:2 .\n",
    "\n",
    "_:2 pr:address [\n",
    "    pr:street \"Templergraber\" ;\n",
    "    pr:houseNumber \"55\"^^xsd:int ;\n",
    "    pr:postalCode \"52062\"^^xsd:int ;\n",
    "    pr:city \"Aachen\"\n",
    "] ."
   ]
  },
  {
   "cell_type": "code",
   "execution_count": 46,
   "metadata": {
    "deletable": false,
    "editable": false,
    "nbgrader": {
     "cell_type": "code",
     "checksum": "215d24621daf48fb93b6f86a8239841f",
     "grade": true,
     "grade_id": "cell-c99512ff1812ee4d",
     "locked": true,
     "points": 1,
     "schema_version": 3,
     "solution": false,
     "task": false
    }
   },
   "outputs": [],
   "source": [
    "# This test will check whether there is an anonymous person that knows another anonymous person. [1 point]"
   ]
  },
  {
   "cell_type": "code",
   "execution_count": 47,
   "metadata": {
    "deletable": false,
    "editable": false,
    "nbgrader": {
     "cell_type": "code",
     "checksum": "4fed1f72fcd8f0716d453131de412727",
     "grade": true,
     "grade_id": "cell-34bb05ce1f74e4e4",
     "locked": true,
     "points": 1,
     "schema_version": 3,
     "solution": false,
     "task": false
    }
   },
   "outputs": [],
   "source": [
    "# This test will check whether there is an anonymous entity with an n-ary address. [1 point]"
   ]
  },
  {
   "cell_type": "code",
   "execution_count": 48,
   "metadata": {
    "deletable": false,
    "editable": false,
    "nbgrader": {
     "cell_type": "code",
     "checksum": "111a0c7bc027a0cebaf090b53c52ef58",
     "grade": true,
     "grade_id": "cell-b317826a68e2bede",
     "locked": true,
     "points": 1,
     "schema_version": 3,
     "solution": false,
     "task": false
    }
   },
   "outputs": [],
   "source": [
    "# This test will check whether there is a correct n-ary address. [1 point]"
   ]
  }
 ],
 "metadata": {
  "kernelspec": {
   "display_name": "Python 3",
   "language": "python",
   "name": "python3"
  },
  "language_info": {
   "codemirror_mode": {
    "name": "ipython",
    "version": 3
   },
   "file_extension": ".py",
   "mimetype": "text/x-python",
   "name": "python",
   "nbconvert_exporter": "python",
   "pygments_lexer": "ipython3",
   "version": "3.9.13"
  },
  "vscode": {
   "interpreter": {
    "hash": "aee8b7b246df8f9039afb4144a1f6fd8d2ca17a180786b69acc140d282b71a49"
   }
  }
 },
 "nbformat": 4,
 "nbformat_minor": 4
}
