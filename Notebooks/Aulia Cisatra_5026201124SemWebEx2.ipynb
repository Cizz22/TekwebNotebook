{
 "cells": [
  {
   "cell_type": "code",
   "execution_count": 2,
   "metadata": {
    "deletable": false,
    "editable": false,
    "nbgrader": {
     "cell_type": "code",
     "checksum": "ae0c74aacde83ff97c2f002a918bc287",
     "grade": false,
     "grade_id": "cell-0783aaa83db8ff42",
     "locked": true,
     "schema_version": 3,
     "solution": false,
     "task": false
    }
   },
   "outputs": [
    {
     "data": {
      "application/javascript": "\n    if (typeof IPython !== \"undefined\") {\n        IPython.CodeCell.options_default.highlight_modes['application/sparql-query'] = {'reg':[/^%%rdf sparql/]};\n        IPython.CodeCell.options_default.highlight_modes['text/turtle'] = {'reg':[/^%%rdf turtle/, /^%%rdf shex/]};\n        IPython.CodeCell.options_default.highlight_modes['application/ld+json'] = {'reg':[/^%%rdf json-ld/]};\n        IPython.notebook.get_cells().map(function(cell){ if (cell.cell_type == 'code'){ cell.auto_highlight(); } });\n    }\n    "
     },
     "metadata": {},
     "output_type": "display_data"
    }
   ],
   "source": [
    "%reload_ext jupyter-rdfify"
   ]
  },
  {
   "cell_type": "code",
   "execution_count": 3,
   "metadata": {
    "deletable": false,
    "editable": false,
    "nbgrader": {
     "cell_type": "code",
     "checksum": "963d34679bbcc425a92e9500b2ef5dec",
     "grade": false,
     "grade_id": "cell-af515fa937df43ae",
     "locked": true,
     "schema_version": 3,
     "solution": false,
     "task": false
    }
   },
   "outputs": [],
   "source": [
    "# This cell defines some helpers, imports and strings for tests. Run it!\n",
    "from rdflib import Variable, URIRef, Literal, XSD\n",
    "s = \"http://example.org/subjects#{}\"\n",
    "p = \"http://example.org/properties#{}\"\n",
    "c = \"http://example.org/classes#{}\"\n",
    "lab = \"http://www.w3.org/2000/01/rdf-schema#label\"\n",
    "err = \"Your query gave no result.\"\n",
    "def project(bindings, variables):\n",
    "    result = list()\n",
    "    for binding in bindings:\n",
    "        result.append(binding.project(variables))\n",
    "    return result\n",
    "def bindingToString(binding):\n",
    "    res = \"\"\n",
    "    for var in binding:\n",
    "        res += f\"{var.n3()} -> {binding[var].n3()}\\n\"\n",
    "    return res\n",
    "def lenCheck(bindings, length, msg=None):\n",
    "    assert len(bindings) == length, \\\n",
    "        f\"Your query returned the wrong number of results. It returned {len(bindings)} but should have returned {length}.\\n\" \\\n",
    "        + (msg if msg is not None else \"\")\n",
    "def exCheck(bindings, binding):\n",
    "    assert binding in bindings, \\\n",
    "        f\"Your result is missing the following binding:\\n{bindingToString(binding)}\"\n",
    "def bindCheck(bindings, pos, binding):\n",
    "    assert(bindings[pos] == binding), \\\n",
    "        f\"\"\"The result of your query has the wrong binding in position {pos}.\n",
    "            Expected binding:\\n{bindingToString(binding)}\n",
    "            Your binding:\\n{bindingToString(bindings[pos])}\"\"\"\n",
    "def uri(prefix, name):\n",
    "    return URIRef(prefix.format(name))"
   ]
  },
  {
   "cell_type": "markdown",
   "metadata": {
    "deletable": false,
    "editable": false,
    "nbgrader": {
     "cell_type": "markdown",
     "checksum": "f6b5c539c5ecb877b52b8c342d5b5135",
     "grade": false,
     "grade_id": "cell-f54cf67d6cecc000",
     "locked": true,
     "schema_version": 3,
     "solution": false,
     "task": false
    }
   },
   "source": [
    "# SPARQL\n",
    "SPARQL stands for **S**PARQL **P**rotocol **A**nd **R**DF **Q**uery **L**anguage and is a [W3C recommended](https://www.w3.org/TR/sparql11-overview/) language for querying and manipulating RDF graph content. As its syntax is similar Turtle, we will first look at an example:\n",
    "\n",
    "**PREFIX ex: http://example.org/#<br>   \n",
    "SELECT ?countryName ?capitalName  \n",
    "WHERE {  \n",
    "&nbsp;&nbsp;&nbsp;&nbsp;ex:Germany ex:name ?countryName .  \n",
    "&nbsp;&nbsp;&nbsp;&nbsp;ex:Germany ex:capital ?capital .  \n",
    "&nbsp;&nbsp;&nbsp;&nbsp;?capital ex:name ?capitalName  \n",
    "}**\n",
    "\n",
    "The following information was extracted from the [W3C SPARQL Query Language Specification](https://www.w3.org/TR/2013/REC-sparql11-query-20130321/). If you have any questions regarding SPARQL please first consult this document.\n",
    "\n",
    "## Prefixes\n",
    "As in Turtle, we can define *prefixes* to make our query more human-readable. In SPARQL, prefix declarations start with the keyword **PREFIX** and are then followed by the desired abbreviation and then the IRI to abbreviate. This syntax also works in turtle but note that there is *no period* at the end of the line (in contrary to the *@prefix* syntax which only works in Turtle). In the example above, we abbreviate the URI http://example.org/# to *ex:*.\n",
    "\n",
    "\n",
    "## Queries\n",
    "After all our prefix declarations, the query starts. First we need to specify a *query type*. SPARQL defines four query types which all match a given graph pattern against an RDF graph but differ in what they return:\n",
    "- **SELECT:** Queries return the variable bindings of user-specified variables which satisfy the given graph pattern.\n",
    "- **ASK:** Queries return a boolean result based on whether the given graph pattern could be matched against the RDF graph or not.\n",
    "- **CONSTRUCT:** Queries return a new graph which is constructed from a template and the variable bindings which satisfy the given graph pattern.\n",
    "- **DESCRIBE:** Queries return an RDF graph which describes the resource based on what the query service deems important (different query services can yield different results for the same graph).\n",
    "\n",
    "In our example above, we use a SELECT query. The graph pattern follows after the keyword **WHERE** and is surrounded by braces ({}).\n",
    "## Basic Graph Patterns\n",
    "We use so-called **Graph Patterns** to query an RDF graph. *Basic Graph Patterns* look very similar to Turtle as they use the same triple syntax. The only difference is that in Graph Patterns, we can also use variables at every position where an IRI can be used. Variables always start with a question mark and need an identifier. The graph pattern in our example (after the WHERE keyword) features three variables - namely ?countryName, ?capital and ?capitalName - in three triples. When matching a Graph Pattern against an RDF graph, the query service searches for variables bindings such that the Graph Pattern matches a part of the queried graph. When a variable occurs more than once in a pattern, both occurences have to be bound to the same value in a match. Also note that the period at the end of a line represents a conjuction (AND), which is why we the last period of a Graph Pattern is optional. There are also more complex Graph Patterns called Group Graph Patterns, which we will cover later on.\n",
    "\n",
    "## Parameters\n",
    "The four query types take different parameters:  \n",
    "- **SELECT:** A set of variables delimited by spaces, on which the variable bindings should be projected. In our example we use the three variables ?capital, ?capitalName and ?countryName but we only want the last two to appear in our results, thus we specify ?capitalName and ?countryName after the SELECT keyword. If you want to project all variables, you can use an asterisk (\\*) at this position.\n",
    "- **ASK:** No parameters except for the graph pattern to match the RDF graph against.\n",
    "- **CONSTRUCT:** A Basic Graph Pattern as a template and a Graph Pattern for matching. The variable bindings resulting from matching the Graph Pattern against the RDF graph are then used to construct a new graph based on the template. When no template is given, the Graph Pattern used for matching is also used as the template but then only Basic Graph Patterns are allowed.\n",
    "- **DESCRIBE:** A set of variables and IRIs delimited by space which should be described by the resulting graph. One can also provide a Graph Pattern to identify resources or give constraints.\n",
    "\n",
    "## FROM Statement\n",
    "One can also use a FROM or a FROM NAMED statement to specify a dataset which should be queried. With this multiple graphs can be queried and/or merged. This won't be needed in this exercise but if you're interested you can [read about it](https://www.w3.org/TR/sparql11-query/#specifyingDataset).\n",
    "\n",
    "## Syntactic Sugar\n",
    "All the syntactic sugar from Turtle can also be used in SPARQL Graph Patterns!\n",
    "\n",
    "## Graph: Simpsons\n",
    "The RDF graph below contains some information about a family called Simpsons.\n",
    "**You must run the following cell or the graph won't be in scope for following tasks.**"
   ]
  },
  {
   "cell_type": "code",
   "execution_count": 4,
   "metadata": {
    "deletable": false,
    "editable": false,
    "nbgrader": {
     "cell_type": "code",
     "checksum": "3e9c37112eb8fc323eed8d35a6365cb6",
     "grade": false,
     "grade_id": "cell-df044b5f1b195eff",
     "locked": true,
     "schema_version": 3,
     "solution": false,
     "task": false
    }
   },
   "outputs": [
    {
     "data": {
      "image/svg+xml": "<?xml version=\"1.0\" encoding=\"UTF-8\" standalone=\"no\"?>\n<!DOCTYPE svg PUBLIC \"-//W3C//DTD SVG 1.1//EN\"\n \"http://www.w3.org/Graphics/SVG/1.1/DTD/svg11.dtd\">\n<!-- Generated by graphviz version 7.1.0 (20230121.1956)\n -->\n<!-- Pages: 1 -->\n<svg width=\"1047pt\" height=\"566pt\"\n viewBox=\"0.00 0.00 1047.00 566.00\" xmlns=\"http://www.w3.org/2000/svg\" xmlns:xlink=\"http://www.w3.org/1999/xlink\">\n<g id=\"graph0\" class=\"graph\" transform=\"scale(1 1) rotate(0) translate(4 562)\">\n<polygon fill=\"white\" stroke=\"none\" points=\"-4,4 -4,-562 1043,-562 1043,4 -4,4\"/>\n<!-- 0 -->\n<g id=\"node1\" class=\"node\">\n<title>0</title>\n<ellipse fill=\"none\" stroke=\"black\" cx=\"510\" cy=\"-540\" rx=\"31.7\" ry=\"18\"/>\n<text text-anchor=\"middle\" x=\"510\" y=\"-536.3\" font-family=\"Times,serif\" font-size=\"14.00\">s:Lisa</text>\n</g>\n<!-- 1 -->\n<g id=\"node2\" class=\"node\">\n<title>1</title>\n<ellipse fill=\"none\" stroke=\"black\" cx=\"474\" cy=\"-279\" rx=\"40.09\" ry=\"18\"/>\n<text text-anchor=\"middle\" x=\"474\" y=\"-275.3\" font-family=\"Times,serif\" font-size=\"14.00\">s:Marge</text>\n</g>\n<!-- 0&#45;&gt;1 -->\n<g id=\"edge6\" class=\"edge\">\n<title>0&#45;&gt;1</title>\n<path fill=\"none\" stroke=\"black\" d=\"M530.43,-526.1C537.71,-520.32 545.07,-512.81 549,-504 564.16,-470.03 649.81,-619.64 531,-348 523.75,-331.42 511.15,-315.73 499.63,-303.62\"/>\n<polygon fill=\"black\" stroke=\"black\" points=\"502.13,-301.17 492.6,-296.54 497.17,-306.1 502.13,-301.17\"/>\n<text text-anchor=\"middle\" x=\"581.5\" y=\"-405.8\" font-family=\"Times,serif\" font-size=\"14.00\">p:parent</text>\n</g>\n<!-- 3 -->\n<g id=\"node4\" class=\"node\">\n<title>3</title>\n<ellipse fill=\"none\" stroke=\"black\" cx=\"135\" cy=\"-18\" rx=\"82.59\" ry=\"18\"/>\n<text text-anchor=\"middle\" x=\"135\" y=\"-14.3\" font-family=\"Times,serif\" font-size=\"14.00\">c:FictionalCharacter</text>\n</g>\n<!-- 0&#45;&gt;3 -->\n<g id=\"edge26\" class=\"edge\">\n<title>0&#45;&gt;3</title>\n<path fill=\"none\" stroke=\"black\" d=\"M478.48,-537.1C367.29,-529.97 0,-502.75 0,-454 0,-454 0,-454 0,-104 0,-68.76 33.35,-47.55 66.89,-35.14\"/>\n<polygon fill=\"black\" stroke=\"black\" points=\"68,-38.46 76.32,-31.9 65.72,-31.84 68,-38.46\"/>\n<text text-anchor=\"middle\" x=\"21.5\" y=\"-275.3\" font-family=\"Times,serif\" font-size=\"14.00\">rdf:type</text>\n</g>\n<!-- 6 -->\n<g id=\"node7\" class=\"node\">\n<title>6</title>\n<ellipse fill=\"none\" stroke=\"black\" cx=\"439\" cy=\"-453\" rx=\"31.7\" ry=\"18\"/>\n<text text-anchor=\"middle\" x=\"439\" y=\"-449.3\" font-family=\"Times,serif\" font-size=\"14.00\">s:Bart</text>\n</g>\n<!-- 0&#45;&gt;6 -->\n<g id=\"edge24\" class=\"edge\">\n<title>0&#45;&gt;6</title>\n<path fill=\"none\" stroke=\"black\" d=\"M480.9,-532.16C465.97,-527.04 449.07,-518.36 440,-504 435.98,-497.64 434.57,-489.86 434.46,-482.35\"/>\n<polygon fill=\"black\" stroke=\"black\" points=\"437.94,-482.72 435.07,-472.52 430.96,-482.28 437.94,-482.72\"/>\n<text text-anchor=\"middle\" x=\"464\" y=\"-492.8\" font-family=\"Times,serif\" font-size=\"14.00\">p:sibling</text>\n</g>\n<!-- 8 -->\n<g id=\"node9\" class=\"node\">\n<title>8</title>\n<ellipse fill=\"none\" stroke=\"black\" cx=\"622\" cy=\"-18\" rx=\"43.59\" ry=\"18\"/>\n<text text-anchor=\"middle\" x=\"622\" y=\"-14.3\" font-family=\"Times,serif\" font-size=\"14.00\">c:Female</text>\n</g>\n<!-- 0&#45;&gt;8 -->\n<g id=\"edge15\" class=\"edge\">\n<title>0&#45;&gt;8</title>\n<path fill=\"none\" stroke=\"black\" d=\"M540.35,-533.87C602.76,-521.42 743.62,-483 791,-384 856.28,-247.58 818.35,-157.41 708,-54 697.33,-44 683.41,-36.69 669.9,-31.42\"/>\n<polygon fill=\"black\" stroke=\"black\" points=\"671.24,-28.18 660.64,-28.13 668.89,-34.78 671.24,-28.18\"/>\n<text text-anchor=\"middle\" x=\"844.5\" y=\"-275.3\" font-family=\"Times,serif\" font-size=\"14.00\">rdf:type</text>\n</g>\n<!-- 11 -->\n<g id=\"node12\" class=\"node\">\n<title>11</title>\n<polygon fill=\"none\" stroke=\"black\" points=\"937,-471 833,-471 833,-435 937,-435 937,-471\"/>\n<text text-anchor=\"middle\" x=\"885\" y=\"-449.3\" font-family=\"Times,serif\" font-size=\"14.00\">&quot;Lisa Simpson&quot;</text>\n</g>\n<!-- 0&#45;&gt;11 -->\n<g id=\"edge21\" class=\"edge\">\n<title>0&#45;&gt;11</title>\n<path fill=\"none\" stroke=\"black\" d=\"M541.72,-537.53C610.07,-534.03 769.12,-523.95 819,-504 833.53,-498.19 847.64,-488.27 859.06,-478.8\"/>\n<polygon fill=\"black\" stroke=\"black\" points=\"861.2,-481.57 866.46,-472.37 856.61,-476.29 861.2,-481.57\"/>\n<text text-anchor=\"middle\" x=\"870\" y=\"-492.8\" font-family=\"Times,serif\" font-size=\"14.00\">rdfs:label</text>\n</g>\n<!-- 13 -->\n<g id=\"node14\" class=\"node\">\n<title>13</title>\n<ellipse fill=\"none\" stroke=\"black\" cx=\"524\" cy=\"-192\" rx=\"41.69\" ry=\"18\"/>\n<text text-anchor=\"middle\" x=\"524\" y=\"-188.3\" font-family=\"Times,serif\" font-size=\"14.00\">s:Homer</text>\n</g>\n<!-- 0&#45;&gt;13 -->\n<g id=\"edge35\" class=\"edge\">\n<title>0&#45;&gt;13</title>\n<path fill=\"none\" stroke=\"black\" d=\"M536.88,-530.25C579.47,-514.84 661.6,-478.52 700,-417 745.19,-344.6 790.74,-291.76 734,-228 711.09,-202.26 613.73,-217.03 580,-210 575.88,-209.14 571.62,-208.11 567.39,-207\"/>\n<polygon fill=\"black\" stroke=\"black\" points=\"568.35,-203.63 557.78,-204.29 566.45,-210.37 568.35,-203.63\"/>\n<text text-anchor=\"middle\" x=\"765.5\" y=\"-362.3\" font-family=\"Times,serif\" font-size=\"14.00\">p:parent</text>\n</g>\n<!-- 18 -->\n<g id=\"node19\" class=\"node\">\n<title>18</title>\n<ellipse fill=\"none\" stroke=\"black\" cx=\"275\" cy=\"-366\" rx=\"44.39\" ry=\"18\"/>\n<text text-anchor=\"middle\" x=\"275\" y=\"-362.3\" font-family=\"Times,serif\" font-size=\"14.00\">s:Maggie</text>\n</g>\n<!-- 0&#45;&gt;18 -->\n<g id=\"edge18\" class=\"edge\">\n<title>0&#45;&gt;18</title>\n<path fill=\"none\" stroke=\"black\" d=\"M478.5,-536.33C411.4,-529.9 258.02,-511.04 228,-471 209.53,-446.37 230.8,-413.33 250.36,-391.16\"/>\n<polygon fill=\"black\" stroke=\"black\" points=\"252.71,-393.77 256.94,-384.06 247.58,-389.01 252.71,-393.77\"/>\n<text text-anchor=\"middle\" x=\"252\" y=\"-449.3\" font-family=\"Times,serif\" font-size=\"14.00\">p:sibling</text>\n</g>\n<!-- 1&#45;&gt;3 -->\n<g id=\"edge17\" class=\"edge\">\n<title>1&#45;&gt;3</title>\n<path fill=\"none\" stroke=\"black\" d=\"M445.82,-266C430.22,-259.31 410.49,-250.79 393,-243 360.84,-228.68 350.39,-229.38 321,-210 272.93,-178.3 265.25,-164.18 225,-123 211.41,-109.1 178.71,-70.82 156.7,-44.79\"/>\n<polygon fill=\"black\" stroke=\"black\" points=\"159.51,-42.69 150.38,-37.31 154.16,-47.21 159.51,-42.69\"/>\n<text text-anchor=\"middle\" x=\"278.5\" y=\"-144.8\" font-family=\"Times,serif\" font-size=\"14.00\">rdf:type</text>\n</g>\n<!-- 1&#45;&gt;8 -->\n<g id=\"edge7\" class=\"edge\">\n<title>1&#45;&gt;8</title>\n<path fill=\"none\" stroke=\"black\" d=\"M505.18,-267.23C524.27,-260.52 549.16,-251.55 571,-243 606.05,-229.27 619.91,-233.89 649,-210 685.1,-180.35 694.28,-167.66 708,-123 717.45,-92.23 709.73,-75.74 686,-54 678.82,-47.42 670.18,-41.64 661.6,-36.76\"/>\n<polygon fill=\"black\" stroke=\"black\" points=\"663.46,-33.79 652.99,-32.18 660.17,-39.97 663.46,-33.79\"/>\n<text text-anchor=\"middle\" x=\"723.5\" y=\"-144.8\" font-family=\"Times,serif\" font-size=\"14.00\">rdf:type</text>\n</g>\n<!-- 1&#45;&gt;13 -->\n<g id=\"edge3\" class=\"edge\">\n<title>1&#45;&gt;13</title>\n<path fill=\"none\" stroke=\"black\" d=\"M465.14,-261.3C461.02,-251.11 458.18,-238.13 464,-228 468.35,-220.43 475.04,-214.34 482.4,-209.5\"/>\n<polygon fill=\"black\" stroke=\"black\" points=\"483.71,-212.78 490.64,-204.77 480.22,-206.71 483.71,-212.78\"/>\n<text text-anchor=\"middle\" x=\"488\" y=\"-231.8\" font-family=\"Times,serif\" font-size=\"14.00\">p:spouse</text>\n</g>\n<!-- 17 -->\n<g id=\"node18\" class=\"node\">\n<title>17</title>\n<polygon fill=\"none\" stroke=\"black\" points=\"446,-210 330,-210 330,-174 446,-174 446,-210\"/>\n<text text-anchor=\"middle\" x=\"388\" y=\"-188.3\" font-family=\"Times,serif\" font-size=\"14.00\">&quot;Marge Simpson&quot;</text>\n</g>\n<!-- 1&#45;&gt;17 -->\n<g id=\"edge37\" class=\"edge\">\n<title>1&#45;&gt;17</title>\n<path fill=\"none\" stroke=\"black\" d=\"M442.07,-267.87C429.04,-262.34 414.77,-254.26 405,-243 399.67,-236.86 395.99,-228.97 393.46,-221.28\"/>\n<polygon fill=\"black\" stroke=\"black\" points=\"396.9,-220.59 390.91,-211.85 390.15,-222.42 396.9,-220.59\"/>\n<text text-anchor=\"middle\" x=\"431\" y=\"-231.8\" font-family=\"Times,serif\" font-size=\"14.00\">rdfs:label</text>\n</g>\n<!-- 2 -->\n<g id=\"node3\" class=\"node\">\n<title>2</title>\n<ellipse fill=\"none\" stroke=\"black\" cx=\"870\" cy=\"-105\" rx=\"33.6\" ry=\"18\"/>\n<text text-anchor=\"middle\" x=\"870\" y=\"-101.3\" font-family=\"Times,serif\" font-size=\"14.00\">s:Matt</text>\n</g>\n<!-- 14 -->\n<g id=\"node15\" class=\"node\">\n<title>14</title>\n<ellipse fill=\"none\" stroke=\"black\" cx=\"870\" cy=\"-18\" rx=\"40.89\" ry=\"18\"/>\n<text text-anchor=\"middle\" x=\"870\" y=\"-14.3\" font-family=\"Times,serif\" font-size=\"14.00\">c:Person</text>\n</g>\n<!-- 2&#45;&gt;14 -->\n<g id=\"edge10\" class=\"edge\">\n<title>2&#45;&gt;14</title>\n<path fill=\"none\" stroke=\"black\" d=\"M870,-86.8C870,-75.58 870,-60.67 870,-47.69\"/>\n<polygon fill=\"black\" stroke=\"black\" points=\"873.5,-47.98 870,-37.98 866.5,-47.98 873.5,-47.98\"/>\n<text text-anchor=\"middle\" x=\"891.5\" y=\"-57.8\" font-family=\"Times,serif\" font-size=\"14.00\">rdf:type</text>\n</g>\n<!-- 15 -->\n<g id=\"node16\" class=\"node\">\n<title>15</title>\n<ellipse fill=\"none\" stroke=\"black\" cx=\"737\" cy=\"-18\" rx=\"36\" ry=\"18\"/>\n<text text-anchor=\"middle\" x=\"737\" y=\"-14.3\" font-family=\"Times,serif\" font-size=\"14.00\">c:Male</text>\n</g>\n<!-- 2&#45;&gt;15 -->\n<g id=\"edge27\" class=\"edge\">\n<title>2&#45;&gt;15</title>\n<path fill=\"none\" stroke=\"black\" d=\"M848.93,-90.53C827.17,-76.63 792.98,-54.78 768.11,-38.88\"/>\n<polygon fill=\"black\" stroke=\"black\" points=\"770,-35.94 759.69,-33.5 766.23,-41.84 770,-35.94\"/>\n<text text-anchor=\"middle\" x=\"832.5\" y=\"-57.8\" font-family=\"Times,serif\" font-size=\"14.00\">rdf:type</text>\n</g>\n<!-- 19 -->\n<g id=\"node20\" class=\"node\">\n<title>19</title>\n<polygon fill=\"none\" stroke=\"black\" points=\"1039,-36 929,-36 929,0 1039,0 1039,-36\"/>\n<text text-anchor=\"middle\" x=\"984\" y=\"-14.3\" font-family=\"Times,serif\" font-size=\"14.00\">&quot;Matt Groening&quot;</text>\n</g>\n<!-- 2&#45;&gt;19 -->\n<g id=\"edge1\" class=\"edge\">\n<title>2&#45;&gt;19</title>\n<path fill=\"none\" stroke=\"black\" d=\"M888.76,-90.04C897.36,-83.63 907.7,-75.93 917,-69 928.36,-60.53 940.81,-51.24 951.85,-43\"/>\n<polygon fill=\"black\" stroke=\"black\" points=\"953.62,-46.05 959.54,-37.27 949.43,-40.44 953.62,-46.05\"/>\n<text text-anchor=\"middle\" x=\"961\" y=\"-57.8\" font-family=\"Times,serif\" font-size=\"14.00\">rdfs:label</text>\n</g>\n<!-- 4 -->\n<g id=\"node5\" class=\"node\">\n<title>4</title>\n<polygon fill=\"none\" stroke=\"black\" points=\"448,-384 344,-384 344,-348 448,-348 448,-384\"/>\n<text text-anchor=\"middle\" x=\"396\" y=\"-362.3\" font-family=\"Times,serif\" font-size=\"14.00\">&quot;Bart Simpson&quot;</text>\n</g>\n<!-- 5 -->\n<g id=\"node6\" class=\"node\">\n<title>5</title>\n<polygon fill=\"none\" stroke=\"black\" points=\"398.5,-36 285.5,-36 285.5,0 398.5,0 398.5,-36\"/>\n<text text-anchor=\"middle\" x=\"342\" y=\"-14.3\" font-family=\"Times,serif\" font-size=\"14.00\">&quot;Mona Simpson&quot;</text>\n</g>\n<!-- 6&#45;&gt;0 -->\n<g id=\"edge32\" class=\"edge\">\n<title>6&#45;&gt;0</title>\n<path fill=\"none\" stroke=\"black\" d=\"M461.06,-466.14C470.31,-472.08 480.61,-479.91 488,-489 493.37,-495.6 497.67,-503.72 501.01,-511.48\"/>\n<polygon fill=\"black\" stroke=\"black\" points=\"497.66,-512.53 504.53,-520.6 504.19,-510.01 497.66,-512.53\"/>\n<text text-anchor=\"middle\" x=\"521\" y=\"-492.8\" font-family=\"Times,serif\" font-size=\"14.00\">p:sibling</text>\n</g>\n<!-- 6&#45;&gt;1 -->\n<g id=\"edge40\" class=\"edge\">\n<title>6&#45;&gt;1</title>\n<path fill=\"none\" stroke=\"black\" d=\"M455.85,-437.6C461.41,-431.82 466.95,-424.7 470,-417 484.03,-381.57 482.07,-336.87 478.64,-308.35\"/>\n<polygon fill=\"black\" stroke=\"black\" points=\"482.14,-308.13 477.32,-298.69 475.21,-309.07 482.14,-308.13\"/>\n<text text-anchor=\"middle\" x=\"504.5\" y=\"-362.3\" font-family=\"Times,serif\" font-size=\"14.00\">p:parent</text>\n</g>\n<!-- 6&#45;&gt;3 -->\n<g id=\"edge13\" class=\"edge\">\n<title>6&#45;&gt;3</title>\n<path fill=\"none\" stroke=\"black\" d=\"M410.3,-444.96C396.88,-441.76 380.66,-438.02 366,-435 321.77,-425.88 307.75,-434.22 266,-417 154.26,-370.91 101.65,-355.32 57,-243 28.91,-172.35 81.9,-87.1 113.64,-45.06\"/>\n<polygon fill=\"black\" stroke=\"black\" points=\"116.34,-47.29 119.69,-37.24 110.8,-43 116.34,-47.29\"/>\n<text text-anchor=\"middle\" x=\"78.5\" y=\"-231.8\" font-family=\"Times,serif\" font-size=\"14.00\">rdf:type</text>\n</g>\n<!-- 6&#45;&gt;4 -->\n<g id=\"edge11\" class=\"edge\">\n<title>6&#45;&gt;4</title>\n<path fill=\"none\" stroke=\"black\" d=\"M428.52,-435.51C425.02,-429.74 421.19,-423.17 418,-417 414.35,-409.95 410.74,-402.17 407.53,-394.89\"/>\n<polygon fill=\"black\" stroke=\"black\" points=\"410.77,-393.57 403.61,-385.77 404.34,-396.34 410.77,-393.57\"/>\n<text text-anchor=\"middle\" x=\"444\" y=\"-405.8\" font-family=\"Times,serif\" font-size=\"14.00\">rdfs:label</text>\n</g>\n<!-- 6&#45;&gt;13 -->\n<g id=\"edge25\" class=\"edge\">\n<title>6&#45;&gt;13</title>\n<path fill=\"none\" stroke=\"black\" d=\"M465.03,-442.28C504.44,-425.97 577.85,-388.96 608,-330 624.46,-297.81 622.81,-293.88 571,-228 566.89,-222.77 561.82,-217.94 556.54,-213.63\"/>\n<polygon fill=\"black\" stroke=\"black\" points=\"558.9,-211.03 548.81,-207.81 554.7,-216.62 558.9,-211.03\"/>\n<text text-anchor=\"middle\" x=\"637.5\" y=\"-318.8\" font-family=\"Times,serif\" font-size=\"14.00\">p:parent</text>\n</g>\n<!-- 6&#45;&gt;15 -->\n<g id=\"edge16\" class=\"edge\">\n<title>6&#45;&gt;15</title>\n<path fill=\"none\" stroke=\"black\" d=\"M471.12,-452.52C507.4,-451.58 566.75,-445.32 608,-417 657.35,-383.13 743.89,-169.76 747,-156 755.38,-118.96 749.47,-74.99 743.8,-47.04\"/>\n<polygon fill=\"black\" stroke=\"black\" points=\"747.29,-46.62 741.75,-37.59 740.45,-48.11 747.29,-46.62\"/>\n<text text-anchor=\"middle\" x=\"739.5\" y=\"-231.8\" font-family=\"Times,serif\" font-size=\"14.00\">rdf:type</text>\n</g>\n<!-- 6&#45;&gt;18 -->\n<g id=\"edge2\" class=\"edge\">\n<title>6&#45;&gt;18</title>\n<path fill=\"none\" stroke=\"black\" d=\"M407.39,-449.77C364.79,-446.03 292.39,-436.87 276,-417 271.08,-411.04 269.47,-403.18 269.44,-395.47\"/>\n<polygon fill=\"black\" stroke=\"black\" points=\"272.92,-395.9 270.29,-385.64 265.95,-395.3 272.92,-395.9\"/>\n<text text-anchor=\"middle\" x=\"300\" y=\"-405.8\" font-family=\"Times,serif\" font-size=\"14.00\">p:sibling</text>\n</g>\n<!-- 7 -->\n<g id=\"node8\" class=\"node\">\n<title>7</title>\n<polygon fill=\"none\" stroke=\"black\" points=\"458.5,-123 327.5,-123 327.5,-87 458.5,-87 458.5,-123\"/>\n<text text-anchor=\"middle\" x=\"393\" y=\"-101.3\" font-family=\"Times,serif\" font-size=\"14.00\">&quot;Homer J. Simpson&quot;</text>\n</g>\n<!-- 9 -->\n<g id=\"node10\" class=\"node\">\n<title>9</title>\n<ellipse fill=\"none\" stroke=\"black\" cx=\"272\" cy=\"-105\" rx=\"37.89\" ry=\"18\"/>\n<text text-anchor=\"middle\" x=\"272\" y=\"-101.3\" font-family=\"Times,serif\" font-size=\"14.00\">s:Mona</text>\n</g>\n<!-- 9&#45;&gt;3 -->\n<g id=\"edge22\" class=\"edge\">\n<title>9&#45;&gt;3</title>\n<path fill=\"none\" stroke=\"black\" d=\"M251.32,-89.73C233.21,-77.29 208.24,-60.29 198,-54 190.73,-49.54 182.87,-44.97 175.25,-40.67\"/>\n<polygon fill=\"black\" stroke=\"black\" points=\"177.19,-37.75 166.75,-35.94 173.79,-43.87 177.19,-37.75\"/>\n<text text-anchor=\"middle\" x=\"241.5\" y=\"-57.8\" font-family=\"Times,serif\" font-size=\"14.00\">rdf:type</text>\n</g>\n<!-- 9&#45;&gt;5 -->\n<g id=\"edge39\" class=\"edge\">\n<title>9&#45;&gt;5</title>\n<path fill=\"none\" stroke=\"black\" d=\"M300.22,-92.71C311,-87.08 322.5,-79.25 330,-69 334.62,-62.68 337.48,-54.83 339.25,-47.24\"/>\n<polygon fill=\"black\" stroke=\"black\" points=\"342.66,-48.08 340.92,-37.63 335.76,-46.88 342.66,-48.08\"/>\n<text text-anchor=\"middle\" x=\"364\" y=\"-57.8\" font-family=\"Times,serif\" font-size=\"14.00\">rdfs:label</text>\n</g>\n<!-- 9&#45;&gt;8 -->\n<g id=\"edge9\" class=\"edge\">\n<title>9&#45;&gt;8</title>\n<path fill=\"none\" stroke=\"black\" d=\"M299.86,-92.35C305.76,-90.27 312.02,-88.34 318,-87 408.11,-66.81 437.71,-99.13 525,-69 536.54,-65.02 537.35,-59.96 548,-54 558.9,-47.9 571.05,-41.87 582.29,-36.57\"/>\n<polygon fill=\"black\" stroke=\"black\" points=\"583.75,-39.75 591.35,-32.37 580.8,-33.4 583.75,-39.75\"/>\n<text text-anchor=\"middle\" x=\"569.5\" y=\"-57.8\" font-family=\"Times,serif\" font-size=\"14.00\">rdf:type</text>\n</g>\n<!-- 10 -->\n<g id=\"node11\" class=\"node\">\n<title>10</title>\n<polygon fill=\"none\" stroke=\"black\" points=\"547.5,-36 416.5,-36 416.5,0 547.5,0 547.5,-36\"/>\n<text text-anchor=\"middle\" x=\"482\" y=\"-14.3\" font-family=\"Times,serif\" font-size=\"14.00\">&quot;Abraham Simpson&quot;</text>\n</g>\n<!-- 12 -->\n<g id=\"node13\" class=\"node\">\n<title>12</title>\n<ellipse fill=\"none\" stroke=\"black\" cx=\"527\" cy=\"-105\" rx=\"50.09\" ry=\"18\"/>\n<text text-anchor=\"middle\" x=\"527\" y=\"-101.3\" font-family=\"Times,serif\" font-size=\"14.00\">s:Abraham</text>\n</g>\n<!-- 12&#45;&gt;3 -->\n<g id=\"edge28\" class=\"edge\">\n<title>12&#45;&gt;3</title>\n<path fill=\"none\" stroke=\"black\" d=\"M490.12,-92.43C482.53,-90.37 474.55,-88.43 467,-87 386.26,-71.74 359.22,-99.7 283,-69 273.02,-64.98 273.61,-58.84 264,-54 246.5,-45.19 226.51,-38.38 207.58,-33.21\"/>\n<polygon fill=\"black\" stroke=\"black\" points=\"208.61,-29.86 198.05,-30.74 206.85,-36.64 208.61,-29.86\"/>\n<text text-anchor=\"middle\" x=\"304.5\" y=\"-57.8\" font-family=\"Times,serif\" font-size=\"14.00\">rdf:type</text>\n</g>\n<!-- 12&#45;&gt;10 -->\n<g id=\"edge5\" class=\"edge\">\n<title>12&#45;&gt;10</title>\n<path fill=\"none\" stroke=\"black\" d=\"M495.24,-90.6C486.44,-85.24 477.96,-78.13 473,-69 469.36,-62.31 469.2,-54.45 470.59,-46.96\"/>\n<polygon fill=\"black\" stroke=\"black\" points=\"473.9,-48.12 473.22,-37.55 467.16,-46.24 473.9,-48.12\"/>\n<text text-anchor=\"middle\" x=\"499\" y=\"-57.8\" font-family=\"Times,serif\" font-size=\"14.00\">rdfs:label</text>\n</g>\n<!-- 12&#45;&gt;15 -->\n<g id=\"edge30\" class=\"edge\">\n<title>12&#45;&gt;15</title>\n<path fill=\"none\" stroke=\"black\" d=\"M556.21,-90.22C578.66,-79.81 610.54,-65.42 639,-54 657.88,-46.43 679.12,-38.74 696.98,-32.51\"/>\n<polygon fill=\"black\" stroke=\"black\" points=\"697.88,-35.9 706.19,-29.33 695.59,-29.29 697.88,-35.9\"/>\n<text text-anchor=\"middle\" x=\"660.5\" y=\"-57.8\" font-family=\"Times,serif\" font-size=\"14.00\">rdf:type</text>\n</g>\n<!-- 13&#45;&gt;1 -->\n<g id=\"edge12\" class=\"edge\">\n<title>13&#45;&gt;1</title>\n<path fill=\"none\" stroke=\"black\" d=\"M522.41,-210.14C520.88,-220.26 517.88,-232.99 512,-243 509.43,-247.38 506.13,-251.54 502.56,-255.35\"/>\n<polygon fill=\"black\" stroke=\"black\" points=\"500.35,-252.62 495.56,-262.07 505.2,-257.67 500.35,-252.62\"/>\n<text text-anchor=\"middle\" x=\"543\" y=\"-231.8\" font-family=\"Times,serif\" font-size=\"14.00\">p:spouse</text>\n</g>\n<!-- 13&#45;&gt;3 -->\n<g id=\"edge20\" class=\"edge\">\n<title>13&#45;&gt;3</title>\n<path fill=\"none\" stroke=\"black\" d=\"M488.99,-181.94C478.13,-179.25 466.1,-176.38 455,-174 439.92,-170.76 194.13,-132.54 182,-123 158.42,-104.46 146.29,-71.46 140.32,-47.6\"/>\n<polygon fill=\"black\" stroke=\"black\" points=\"143.74,-46.87 138.12,-37.88 136.91,-48.41 143.74,-46.87\"/>\n<text text-anchor=\"middle\" x=\"203.5\" y=\"-101.3\" font-family=\"Times,serif\" font-size=\"14.00\">rdf:type</text>\n</g>\n<!-- 13&#45;&gt;7 -->\n<g id=\"edge33\" class=\"edge\">\n<title>13&#45;&gt;7</title>\n<path fill=\"none\" stroke=\"black\" d=\"M501.67,-176.53C491.94,-170.23 480.4,-162.75 470,-156 456.68,-147.36 442.07,-137.87 429.19,-129.51\"/>\n<polygon fill=\"black\" stroke=\"black\" points=\"431.28,-126.7 420.99,-124.18 427.47,-132.57 431.28,-126.7\"/>\n<text text-anchor=\"middle\" x=\"496\" y=\"-144.8\" font-family=\"Times,serif\" font-size=\"14.00\">rdfs:label</text>\n</g>\n<!-- 13&#45;&gt;9 -->\n<g id=\"edge31\" class=\"edge\">\n<title>13&#45;&gt;9</title>\n<path fill=\"none\" stroke=\"black\" d=\"M488.71,-182.02C463.75,-175.43 429.58,-165.93 400,-156 369.46,-145.75 335.53,-132.41 310.28,-122.08\"/>\n<polygon fill=\"black\" stroke=\"black\" points=\"311.66,-118.86 301.08,-118.29 308.99,-125.33 311.66,-118.86\"/>\n<text text-anchor=\"middle\" x=\"422.5\" y=\"-144.8\" font-family=\"Times,serif\" font-size=\"14.00\">p:parent</text>\n</g>\n<!-- 13&#45;&gt;12 -->\n<g id=\"edge34\" class=\"edge\">\n<title>13&#45;&gt;12</title>\n<path fill=\"none\" stroke=\"black\" d=\"M524.61,-173.8C525,-162.58 525.53,-147.67 525.99,-134.69\"/>\n<polygon fill=\"black\" stroke=\"black\" points=\"529.48,-135.1 526.33,-124.98 522.48,-134.85 529.48,-135.1\"/>\n<text text-anchor=\"middle\" x=\"548.5\" y=\"-144.8\" font-family=\"Times,serif\" font-size=\"14.00\">p:parent</text>\n</g>\n<!-- 13&#45;&gt;15 -->\n<g id=\"edge19\" class=\"edge\">\n<title>13&#45;&gt;15</title>\n<path fill=\"none\" stroke=\"black\" d=\"M546.11,-176.4C555.18,-170.26 565.71,-162.95 575,-156 624.09,-119.3 635.53,-108.96 682,-69 692.19,-60.24 703.19,-50.33 712.65,-41.66\"/>\n<polygon fill=\"black\" stroke=\"black\" points=\"714.75,-44.49 719.73,-35.14 710.01,-39.34 714.75,-44.49\"/>\n<text text-anchor=\"middle\" x=\"682.5\" y=\"-101.3\" font-family=\"Times,serif\" font-size=\"14.00\">rdf:type</text>\n</g>\n<!-- 16 -->\n<g id=\"node17\" class=\"node\">\n<title>16</title>\n<polygon fill=\"none\" stroke=\"black\" points=\"259,-297 137,-297 137,-261 259,-261 259,-297\"/>\n<text text-anchor=\"middle\" x=\"198\" y=\"-275.3\" font-family=\"Times,serif\" font-size=\"14.00\">&quot;Maggie Simpson&quot;</text>\n</g>\n<!-- 18&#45;&gt;0 -->\n<g id=\"edge14\" class=\"edge\">\n<title>18&#45;&gt;0</title>\n<path fill=\"none\" stroke=\"black\" d=\"M266.61,-384.1C262.91,-394.2 260.51,-406.94 266,-417 306.64,-491.44 409.8,-521.43 468.14,-532.73\"/>\n<polygon fill=\"black\" stroke=\"black\" points=\"467.23,-536.13 477.69,-534.48 468.49,-529.24 467.23,-536.13\"/>\n<text text-anchor=\"middle\" x=\"338\" y=\"-449.3\" font-family=\"Times,serif\" font-size=\"14.00\">p:sibling</text>\n</g>\n<!-- 18&#45;&gt;1 -->\n<g id=\"edge29\" class=\"edge\">\n<title>18&#45;&gt;1</title>\n<path fill=\"none\" stroke=\"black\" d=\"M304.79,-352.27C339.58,-337.42 397.21,-312.8 435.4,-296.49\"/>\n<polygon fill=\"black\" stroke=\"black\" points=\"436.4,-299.86 444.23,-292.72 433.65,-293.43 436.4,-299.86\"/>\n<text text-anchor=\"middle\" x=\"409.5\" y=\"-318.8\" font-family=\"Times,serif\" font-size=\"14.00\">p:parent</text>\n</g>\n<!-- 18&#45;&gt;3 -->\n<g id=\"edge4\" class=\"edge\">\n<title>18&#45;&gt;3</title>\n<path fill=\"none\" stroke=\"black\" d=\"M234.35,-358.52C199.47,-350.57 151.25,-333.37 128,-297 77.85,-218.55 107.23,-100.53 124.78,-47.08\"/>\n<polygon fill=\"black\" stroke=\"black\" points=\"128.02,-48.43 127.93,-37.83 121.39,-46.17 128.02,-48.43\"/>\n<text text-anchor=\"middle\" x=\"122.5\" y=\"-188.3\" font-family=\"Times,serif\" font-size=\"14.00\">rdf:type</text>\n</g>\n<!-- 18&#45;&gt;6 -->\n<g id=\"edge36\" class=\"edge\">\n<title>18&#45;&gt;6</title>\n<path fill=\"none\" stroke=\"black\" d=\"M298.09,-381.81C314.73,-392.21 337.87,-406.14 359,-417 373.29,-424.34 389.46,-431.61 403.5,-437.59\"/>\n<polygon fill=\"black\" stroke=\"black\" points=\"401.79,-440.67 412.37,-441.32 404.5,-434.22 401.79,-440.67\"/>\n<text text-anchor=\"middle\" x=\"383\" y=\"-405.8\" font-family=\"Times,serif\" font-size=\"14.00\">p:sibling</text>\n</g>\n<!-- 18&#45;&gt;8 -->\n<g id=\"edge38\" class=\"edge\">\n<title>18&#45;&gt;8</title>\n<path fill=\"none\" stroke=\"black\" d=\"M309.75,-354.52C317.99,-352.21 326.77,-349.89 335,-348 419.37,-328.58 451.71,-346.12 523,-297 549.44,-278.78 556.31,-271.55 571,-243 588.52,-208.95 608.46,-99.93 617.32,-47.58\"/>\n<polygon fill=\"black\" stroke=\"black\" points=\"620.74,-48.38 618.94,-37.94 613.83,-47.22 620.74,-48.38\"/>\n<text text-anchor=\"middle\" x=\"614.5\" y=\"-188.3\" font-family=\"Times,serif\" font-size=\"14.00\">rdf:type</text>\n</g>\n<!-- 18&#45;&gt;13 -->\n<g id=\"edge8\" class=\"edge\">\n<title>18&#45;&gt;13</title>\n<path fill=\"none\" stroke=\"black\" d=\"M284.69,-348.24C302.38,-319.18 342.75,-259.54 393,-228 396.76,-225.64 441.6,-213.9 477.79,-204.66\"/>\n<polygon fill=\"black\" stroke=\"black\" points=\"478.39,-208.12 487.22,-202.26 476.66,-201.34 478.39,-208.12\"/>\n<text text-anchor=\"middle\" x=\"373.5\" y=\"-275.3\" font-family=\"Times,serif\" font-size=\"14.00\">p:parent</text>\n</g>\n<!-- 18&#45;&gt;16 -->\n<g id=\"edge23\" class=\"edge\">\n<title>18&#45;&gt;16</title>\n<path fill=\"none\" stroke=\"black\" d=\"M252.09,-350.12C244.24,-344.39 235.75,-337.43 229,-330 222.79,-323.17 217.1,-314.93 212.34,-307.12\"/>\n<polygon fill=\"black\" stroke=\"black\" points=\"215.44,-305.49 207.4,-298.58 209.38,-308.99 215.44,-305.49\"/>\n<text text-anchor=\"middle\" x=\"255\" y=\"-318.8\" font-family=\"Times,serif\" font-size=\"14.00\">rdfs:label</text>\n</g>\n</g>\n</svg>\n",
      "text/plain": [
       "<graphviz.graphs.Digraph at 0x112d7f6a0>"
      ]
     },
     "metadata": {},
     "output_type": "display_data"
    }
   ],
   "source": [
    "%%rdf turtle -l simpsons\n",
    "PREFIX rdfs: <http://www.w3.org/2000/01/rdf-schema#>\n",
    "PREFIX s: <http://example.org/subjects#>\n",
    "PREFIX p: <http://example.org/properties#>\n",
    "PREFIX c: <http://example.org/classes#>\n",
    "\n",
    "s:Homer a c:FictionalCharacter, c:Male ;\n",
    "    p:spouse s:Marge ;\n",
    "    p:parent s:Abraham ;\n",
    "    p:parent s:Mona ;\n",
    "    rdfs:label \"Homer J. Simpson\" .\n",
    "s:Marge a c:FictionalCharacter, c:Female ;\n",
    "    p:spouse s:Homer ;\n",
    "    rdfs:label \"Marge Simpson\" .\n",
    "s:Bart a c:FictionalCharacter, c:Male ;\n",
    "    p:parent s:Homer ;\n",
    "    p:parent s:Marge ;\n",
    "    p:sibling s:Lisa ;\n",
    "    p:sibling s:Maggie ;\n",
    "    rdfs:label \"Bart Simpson\" .\n",
    "s:Lisa a c:FictionalCharacter, c:Female ;\n",
    "    p:parent s:Homer ;\n",
    "    p:parent s:Marge ;\n",
    "    p:sibling s:Bart ;\n",
    "    p:sibling s:Maggie ;\n",
    "    rdfs:label \"Lisa Simpson\" .\n",
    "s:Maggie a c:FictionalCharacter, c:Female ;\n",
    "    p:parent s:Homer ;\n",
    "    p:parent s:Marge ;\n",
    "    p:sibling s:Bart ;\n",
    "    p:sibling s:Lisa ;\n",
    "    rdfs:label \"Maggie Simpson\" .\n",
    "s:Mona a c:FictionalCharacter, c:Female ;\n",
    "    rdfs:label \"Mona Simpson\" .\n",
    "s:Abraham a c:FictionalCharacter, c:Male ;\n",
    "    rdfs:label \"Abraham Simpson\" .\n",
    "s:Matt a c:Person, c:Male ;\n",
    "    rdfs:label \"Matt Groening\" ."
   ]
  },
  {
   "cell_type": "markdown",
   "metadata": {
    "deletable": false,
    "editable": false,
    "nbgrader": {
     "cell_type": "markdown",
     "checksum": "aef9ea8af31d92abdd887911df7d9087",
     "grade": false,
     "grade_id": "cell-bfabead684f54bd3",
     "locked": true,
     "schema_version": 3,
     "solution": false,
     "task": false
    }
   },
   "source": [
    "The Cell below will define some prefixes which can be used throughout the whole exercise notebook. You do not need to define them yourself and can just use them. You need to run the cell or you won't be able to use them."
   ]
  },
  {
   "cell_type": "code",
   "execution_count": 5,
   "metadata": {
    "deletable": false,
    "editable": false,
    "nbgrader": {
     "cell_type": "code",
     "checksum": "84182776b4d1801cfe6d27f9cb90f9b2",
     "grade": false,
     "grade_id": "cell-927d0fa8a05cd4c7",
     "locked": true,
     "schema_version": 3,
     "solution": false,
     "task": false
    }
   },
   "outputs": [
    {
     "name": "stdout",
     "output_type": "stream",
     "text": [
      "SPARQL: Stored prefix.\n"
     ]
    }
   ],
   "source": [
    "%%rdf sparql --prefix\n",
    "PREFIX rdfs: <http://www.w3.org/2000/01/rdf-schema#>\n",
    "PREFIX xsd: <http://www.w3.org/2001/XMLSchema#>\n",
    "PREFIX s: <http://example.org/subjects#>\n",
    "PREFIX p: <http://example.org/properties#>\n",
    "PREFIX c: <http://example.org/classes#>"
   ]
  },
  {
   "cell_type": "markdown",
   "metadata": {
    "deletable": false,
    "editable": false,
    "nbgrader": {
     "cell_type": "markdown",
     "checksum": "73c5d6e9fdbfab140fcbc14959272db7",
     "grade": false,
     "grade_id": "cell-4b1eafccc15945ac",
     "locked": true,
     "schema_version": 3,
     "solution": false,
     "task": false
    }
   },
   "source": [
    "## Task 1: Basic Queries [1.5 points]\n",
    "Formulate the following questions as SPARQL queries using simple SELECT queries, variables and Basic Graph Patterns. You can use as many variables as you need but the answer to the question must be bound to the variable **?result**. For example, if the question is \"What is the name of germany?\", the solution would be:\n",
    "\n",
    "**SELECT ?result  \n",
    "WHERE {  \n",
    "&nbsp;&nbsp;&nbsp;&nbsp;ex:Germany rdfs:label ?result  \n",
    "}**\n",
    "\n",
    "Please note the difference between a resource (an IRI) and the name of a resource (a human readable literal often assigned with the predicate *rdfs:label*). Read the question carefully and try to recognize whether we are asking for an entity (e.g. Who is xy?) or for the name of an entity (e.g. What is xy's name?).\n",
    "\n",
    "**This task refers to [this graph](#Graph:-Simpsons) about a family called Simpsons. Assume a closed world (information that isn't explicitly stated is false).**\n",
    "\n",
    "### 1a) [0.5 points]\n",
    "Who are Homer Simpson's parents?"
   ]
  },
  {
   "cell_type": "code",
   "execution_count": 6,
   "metadata": {
    "deletable": false,
    "nbgrader": {
     "cell_type": "code",
     "checksum": "bd10115fc21e2af2fca6541a70c956fb",
     "grade": false,
     "grade_id": "cell-86a2319bde5487c2",
     "locked": false,
     "schema_version": 3,
     "solution": true,
     "task": false
    }
   },
   "outputs": [
    {
     "data": {
      "text/html": [
       "<table><tr><th>?result</th></tr><tr><td>http://example.org/subjects#Abraham</td></tr><tr><td>http://example.org/subjects#Mona</td></tr></table>"
      ],
      "text/plain": [
       "<IPython.core.display.HTML object>"
      ]
     },
     "metadata": {},
     "output_type": "display_data"
    }
   ],
   "source": [
    "%%rdf sparql -l simpsons -s 1a\n",
    "### YOUR SOLUTION HERE\n",
    "\n",
    "SELECT ?result\n",
    "WHERE {\n",
    "    s:Homer p:parent ?result .\n",
    "\n",
    "}\n"
   ]
  },
  {
   "cell_type": "code",
   "execution_count": 7,
   "metadata": {
    "deletable": false,
    "editable": false,
    "nbgrader": {
     "cell_type": "code",
     "checksum": "a254fa3e45b5195e81eb09a8579d1dbb",
     "grade": true,
     "grade_id": "cell-7e16991aa7f445d4",
     "locked": true,
     "points": 0.5,
     "schema_version": 3,
     "solution": false,
     "task": false
    }
   },
   "outputs": [],
   "source": [
    "# This test checks whether your query gives the correct result. [0.5 points]\n",
    "store = %rdf -r\n",
    "assert '1a' in store['rdfresults'], err\n",
    "var = Variable(\"result\")\n",
    "b = store['rdfresults'][\"1a\"].bindings\n",
    "lenCheck(b, 2)\n",
    "exCheck(b, {var: uri(s,\"Mona\")})"
   ]
  },
  {
   "cell_type": "markdown",
   "metadata": {
    "deletable": false,
    "editable": false,
    "nbgrader": {
     "cell_type": "markdown",
     "checksum": "52cfda017a42676acc36e1063b2c6750",
     "grade": false,
     "grade_id": "cell-79e3247f768bbc80",
     "locked": true,
     "schema_version": 3,
     "solution": false,
     "task": false
    }
   },
   "source": [
    "### 1b) [0.5 points]\n",
    "Whose mother is Marge Simpson? Hint: A query can result in multiple bindings"
   ]
  },
  {
   "cell_type": "code",
   "execution_count": 8,
   "metadata": {
    "deletable": false,
    "nbgrader": {
     "cell_type": "code",
     "checksum": "6b70f2b3346862cc45d29120c4690821",
     "grade": false,
     "grade_id": "cell-76add1fe5dc1a462",
     "locked": false,
     "schema_version": 3,
     "solution": true,
     "task": false
    }
   },
   "outputs": [
    {
     "data": {
      "text/html": [
       "<table><tr><th>?result</th></tr><tr><td>http://example.org/subjects#Bart</td></tr><tr><td>http://example.org/subjects#Lisa</td></tr><tr><td>http://example.org/subjects#Maggie</td></tr></table>"
      ],
      "text/plain": [
       "<IPython.core.display.HTML object>"
      ]
     },
     "metadata": {},
     "output_type": "display_data"
    }
   ],
   "source": [
    "%%rdf sparql -l simpsons -s 1b\n",
    "### YOUR SOLUTION HERE\n",
    "\n",
    "SELECT ?result\n",
    "WHERE {\n",
    "    ?result p:parent s:Marge .\n",
    "}"
   ]
  },
  {
   "cell_type": "code",
   "execution_count": 9,
   "metadata": {
    "deletable": false,
    "editable": false,
    "nbgrader": {
     "cell_type": "code",
     "checksum": "9e9bf6aafdf01bd9a1629c555ccb541d",
     "grade": true,
     "grade_id": "cell-4188b77eb41c645d",
     "locked": true,
     "points": 0.5,
     "schema_version": 3,
     "solution": false,
     "task": false
    }
   },
   "outputs": [],
   "source": [
    "# This test will check whether your query returns the right results. [0.5 points]\n",
    "store = %rdf -r\n",
    "assert '1b' in store['rdfresults'], err\n",
    "var = Variable(\"result\")\n",
    "b = store['rdfresults'][\"1b\"].bindings\n",
    "exCheck(b, {var: uri(s, \"Maggie\")})"
   ]
  },
  {
   "cell_type": "markdown",
   "metadata": {
    "deletable": false,
    "editable": false,
    "nbgrader": {
     "cell_type": "markdown",
     "checksum": "2febef97c9a52a7fa4ed96150faf3412",
     "grade": false,
     "grade_id": "cell-281362feba0b6c88",
     "locked": true,
     "schema_version": 3,
     "solution": false,
     "task": false
    }
   },
   "source": [
    "### 1c) [0.5 points]\n",
    "How is Marge Simpson related to Homer Simpson? Hint: Variables can also be used at predicate positions."
   ]
  },
  {
   "cell_type": "code",
   "execution_count": 10,
   "metadata": {
    "deletable": false,
    "nbgrader": {
     "cell_type": "code",
     "checksum": "6be2c88eda918ecff82e4010ba940684",
     "grade": false,
     "grade_id": "cell-8a5d8ebe54cd2359",
     "locked": false,
     "schema_version": 3,
     "solution": true,
     "task": false
    }
   },
   "outputs": [
    {
     "data": {
      "text/html": [
       "<table><tr><th>?result</th></tr><tr><td>http://example.org/properties#spouse</td></tr></table>"
      ],
      "text/plain": [
       "<IPython.core.display.HTML object>"
      ]
     },
     "metadata": {},
     "output_type": "display_data"
    }
   ],
   "source": [
    "%%rdf sparql -l simpsons -s 1c\n",
    "### YOUR SOLUTION HERE\n",
    "\n",
    "SELECT ?result\n",
    "WHERE {\n",
    "    s:Homer ?result s:Marge .\n",
    "}"
   ]
  },
  {
   "cell_type": "code",
   "execution_count": 11,
   "metadata": {
    "deletable": false,
    "editable": false,
    "nbgrader": {
     "cell_type": "code",
     "checksum": "49a6e45e2772a2ad8283f29272037d73",
     "grade": true,
     "grade_id": "cell-5edc8389f843f823",
     "locked": true,
     "points": 0.5,
     "schema_version": 3,
     "solution": false,
     "task": false
    }
   },
   "outputs": [],
   "source": [
    "# This test will check whether your query returns the right results. [0.5 points]\n",
    "store = %rdf -r\n",
    "assert '1c' in store['rdfresults'], err\n",
    "var = Variable(\"result\")\n",
    "b = store['rdfresults'][\"1c\"].bindings\n",
    "lenCheck(b, 1)"
   ]
  },
  {
   "cell_type": "markdown",
   "metadata": {
    "deletable": false,
    "editable": false,
    "nbgrader": {
     "cell_type": "markdown",
     "checksum": "626036e4adb96064f7b65faa12f5b359",
     "grade": false,
     "grade_id": "cell-dc1c0ec9fce9513a",
     "locked": true,
     "schema_version": 3,
     "solution": false,
     "task": false
    }
   },
   "source": [
    "## Task 2: Constructing Queries [2 points]\n",
    "Formulate the following questions as SPARQL queries. You can use as many variables as you need but the answer to the question must be bound to the variable **?result**. Again, please note that the URI/IRI of a resource is not the same as the literal name of that resource.\n",
    "\n",
    "**This task refers to [this graph](#Graph:-Simpsons) about a family called Simpsons. Assume a closed world (information that isn't explicitly stated is false).**\n",
    "\n",
    "### 2a) [0.5 points]\n",
    "Who is called \"Abraham Simpson\"? Hint: Basic Graph Patterns can also match literals for equality."
   ]
  },
  {
   "cell_type": "code",
   "execution_count": 12,
   "metadata": {
    "deletable": false,
    "nbgrader": {
     "cell_type": "code",
     "checksum": "8f63129630a674768cf21a5d2c45c9e2",
     "grade": false,
     "grade_id": "cell-8a19febbeea3348a",
     "locked": false,
     "schema_version": 3,
     "solution": true,
     "task": false
    }
   },
   "outputs": [
    {
     "data": {
      "text/html": [
       "<table><tr><th>?result</th></tr><tr><td>http://example.org/subjects#Abraham</td></tr></table>"
      ],
      "text/plain": [
       "<IPython.core.display.HTML object>"
      ]
     },
     "metadata": {},
     "output_type": "display_data"
    }
   ],
   "source": [
    "%%rdf sparql -l simpsons -s 2a\n",
    "### YOUR SOLUTION HERE\n",
    "SELECT ?result\n",
    "WHERE {\n",
    "    ?result rdfs:label \"Abraham Simpson\" .\n",
    "}"
   ]
  },
  {
   "cell_type": "code",
   "execution_count": 13,
   "metadata": {
    "deletable": false,
    "editable": false,
    "nbgrader": {
     "cell_type": "code",
     "checksum": "341510bccfdbd5ae4d83b88da602eaad",
     "grade": true,
     "grade_id": "cell-2bbdf09d330113c4",
     "locked": true,
     "points": 0.5,
     "schema_version": 3,
     "solution": false,
     "task": false
    }
   },
   "outputs": [],
   "source": [
    "# This test will check whether your query returns the right results. [0.5 points]\n",
    "store = %rdf -r\n",
    "assert '2a' in store['rdfresults'], err\n",
    "var = Variable(\"result\")\n",
    "b = store['rdfresults'][\"2a\"].bindings\n",
    "lenCheck(b, 1)"
   ]
  },
  {
   "cell_type": "markdown",
   "metadata": {
    "deletable": false,
    "editable": false,
    "nbgrader": {
     "cell_type": "markdown",
     "checksum": "d94ca1d8fb8a0b6f3f827cee91f2af58",
     "grade": false,
     "grade_id": "cell-ee7226c0b86effa4",
     "locked": true,
     "schema_version": 3,
     "solution": false,
     "task": false
    }
   },
   "source": [
    "### 2b) [0.5 points]\n",
    "What are the names of all fictional characters?"
   ]
  },
  {
   "cell_type": "code",
   "execution_count": 14,
   "metadata": {
    "deletable": false,
    "nbgrader": {
     "cell_type": "code",
     "checksum": "c4ba9c8d025a1f035ae64f34ea4131c1",
     "grade": false,
     "grade_id": "cell-387c3d5f180def78",
     "locked": false,
     "schema_version": 3,
     "solution": true,
     "task": false
    }
   },
   "outputs": [
    {
     "data": {
      "text/html": [
       "<table><tr><th>?result</th></tr><tr><td>Homer J. Simpson</td></tr><tr><td>Marge Simpson</td></tr><tr><td>Bart Simpson</td></tr><tr><td>Lisa Simpson</td></tr><tr><td>Maggie Simpson</td></tr><tr><td>Mona Simpson</td></tr><tr><td>Abraham Simpson</td></tr></table>"
      ],
      "text/plain": [
       "<IPython.core.display.HTML object>"
      ]
     },
     "metadata": {},
     "output_type": "display_data"
    }
   ],
   "source": [
    "%%rdf sparql -l simpsons -s 2b\n",
    "### YOUR SOLUTION HERE\n",
    "SELECT ?result\n",
    "WHERE {\n",
    "    ?someone rdf:type c:FictionalCharacter .\n",
    "    ?someone rdfs:label ?result .\n",
    "}"
   ]
  },
  {
   "cell_type": "code",
   "execution_count": 15,
   "metadata": {
    "deletable": false,
    "editable": false,
    "nbgrader": {
     "cell_type": "code",
     "checksum": "2a4a4f2e1a8f64801e35d825f963b11d",
     "grade": true,
     "grade_id": "cell-92f463e4509cb4b3",
     "locked": true,
     "points": 0.5,
     "schema_version": 3,
     "solution": false,
     "task": false
    }
   },
   "outputs": [],
   "source": [
    "# This test will check whether your query returns the right results. [0.5 points]\n",
    "store = %rdf -r\n",
    "assert '2b' in store['rdfresults'], err\n",
    "var = Variable(\"result\")\n",
    "b = store['rdfresults']['2b'].bindings\n",
    "exCheck(b, {var: Literal(\"Marge Simpson\")})\n",
    "exCheck(b, {var: Literal(\"Lisa Simpson\")})"
   ]
  },
  {
   "cell_type": "markdown",
   "metadata": {
    "deletable": false,
    "editable": false,
    "nbgrader": {
     "cell_type": "markdown",
     "checksum": "9fb807558a40efdb2ef4ae60d02ba785",
     "grade": false,
     "grade_id": "cell-0cc3737fb28eac4b",
     "locked": true,
     "schema_version": 3,
     "solution": false,
     "task": false
    }
   },
   "source": [
    "### 2c) [1 point]\n",
    "What are the names of all fathers?  \n",
    "Do **not** use the DISTINCT keyword.  \n",
    "Note: This query will yield the same binding for ?result multiple times. Think about why that is. If you can't think of a reason try projecting the other variables as well."
   ]
  },
  {
   "cell_type": "code",
   "execution_count": 16,
   "metadata": {
    "deletable": false,
    "nbgrader": {
     "cell_type": "code",
     "checksum": "75596a3e8bee6e504e923c0a942b0cd8",
     "grade": false,
     "grade_id": "cell-bb3c364c57df25ad",
     "locked": false,
     "schema_version": 3,
     "solution": true,
     "task": false
    }
   },
   "outputs": [
    {
     "data": {
      "text/html": [
       "<table><tr><th>?result</th></tr><tr><td>Homer J. Simpson</td></tr><tr><td>Homer J. Simpson</td></tr><tr><td>Homer J. Simpson</td></tr><tr><td>Abraham Simpson</td></tr></table>"
      ],
      "text/plain": [
       "<IPython.core.display.HTML object>"
      ]
     },
     "metadata": {},
     "output_type": "display_data"
    }
   ],
   "source": [
    "%%rdf sparql -l simpsons -s 2c\n",
    "### YOUR SOLUTION HERE\n",
    "\n",
    "SELECT ?result\n",
    "WHERE {\n",
    "    ?someone a c:FictionalCharacter .\n",
    "    ?father a c:FictionalCharacter, c:Male .\n",
    "    ?someone p:parent ?father .\n",
    "    ?father rdfs:label ?result .\n",
    "}\n"
   ]
  },
  {
   "cell_type": "code",
   "execution_count": 17,
   "metadata": {
    "deletable": false,
    "editable": false,
    "nbgrader": {
     "cell_type": "code",
     "checksum": "78751cba712869f0e8a13eb203100b42",
     "grade": true,
     "grade_id": "cell-f82b48b140972195",
     "locked": true,
     "points": 1,
     "schema_version": 3,
     "solution": false,
     "task": false
    }
   },
   "outputs": [],
   "source": [
    "# This test will check whether your query returns the right results. [1 point]\n",
    "store = %rdf -r\n",
    "assert '2c', err\n",
    "var = Variable(\"result\")\n",
    "b = store['rdfresults']['2c'].bindings\n",
    "b = project(b, [var])\n",
    "exCheck(b, {var: Literal(\"Abraham Simpson\")})"
   ]
  },
  {
   "cell_type": "markdown",
   "metadata": {
    "deletable": false,
    "editable": false,
    "nbgrader": {
     "cell_type": "markdown",
     "checksum": "3cde38573051bb3dc89f1d17bfc77af8",
     "grade": false,
     "grade_id": "cell-a2a0a7e40dee5a5c",
     "locked": true,
     "schema_version": 3,
     "solution": false,
     "task": false
    }
   },
   "source": [
    "## Solution Modifiers\n",
    "SPARQL provides many ways to modify the result of a query. These are all applied after pattern matching and in the sequence that they are introduced here.\n",
    "\n",
    "### ORDER BY\n",
    "\n",
    "**SELECT ?employee WHERE {  \n",
    "&nbsp;&nbsp;&nbsp;&nbsp;?employee a c:Employee .  \n",
    "&nbsp;&nbsp;&nbsp;&nbsp;?employee p:income ?income  \n",
    "}<br>\n",
    "ORDER BY DESC(?income)**\n",
    "\n",
    "The **ORDER BY** modifier can be used to sort the bindings by a specific variable. The example above sorts all employees descending by income. To sort ascending instead, either use **ASC** instead of **DESC** or just omit DESC as ASC is the default. When using no ORDER BY, the results are in no specific sequence and may vary from service to service.\n",
    "\n",
    "### DISTINCT\n",
    "\n",
    "**SELECT DISTINCT ?parent WHERE {  \n",
    "&nbsp;&nbsp;&nbsp;&nbsp;?parent p:child ?child .  \n",
    "}**\n",
    "\n",
    "The **DISTINCT** modifier can be used to eliminate duplicate bindings. The example above shows all parents with at least one child but it shows all parents only once, even if they have multiple children. This could have been used in 2c). Note that DISTINCT only looks at projected variables.\n",
    "\n",
    "### OFFSET\n",
    "\n",
    "**SELECT ?employee WHERE {\n",
    "&nbsp;&nbsp;&nbsp;&nbsp;?employee a c:Employee .  \n",
    "}<br>\n",
    "OFFSET 3**\n",
    "\n",
    "The **OFFSET** modifier skips the first n>=0 results. The example above shows all employees but skips the first 3. OFFSET does nothing for n=0. OFFSET is often combined with ORDER BY and LIMIT to give predictable results (e.g. skip the 3 employees with the highest income).\n",
    "\n",
    "### LIMIT\n",
    "\n",
    "**SELECT ?employee WHERE {  \n",
    "&nbsp;&nbsp;&nbsp;&nbsp;?employee a c:Employee .  \n",
    "}<br>\n",
    "LIMIT 3**\n",
    "\n",
    "The **LIMIT** modifier specifies an upper bound n>=0 to the number of solutions returned. The example above shows only the first three employees. For n=0 no results will be returned. LIMIT is often combined with ORDER BY and LIMIT to give predictable results (e.g. only show the 3 employees with the highest income).\n",
    "\n",
    "## Graph: Scientists\n",
    "The following graph contains information about some well-known scientists.  \n",
    "**You must run the following cell or the graph won't be in scope for following tasks.**"
   ]
  },
  {
   "cell_type": "code",
   "execution_count": 18,
   "metadata": {
    "deletable": false,
    "editable": false,
    "nbgrader": {
     "cell_type": "code",
     "checksum": "afa9204e8a6d903c8da05abea8e0e483",
     "grade": false,
     "grade_id": "cell-122d6f3a1ae75ed5",
     "locked": true,
     "schema_version": 3,
     "solution": false,
     "task": false
    }
   },
   "outputs": [
    {
     "data": {
      "image/svg+xml": "<?xml version=\"1.0\" encoding=\"UTF-8\" standalone=\"no\"?>\n<!DOCTYPE svg PUBLIC \"-//W3C//DTD SVG 1.1//EN\"\n \"http://www.w3.org/Graphics/SVG/1.1/DTD/svg11.dtd\">\n<!-- Generated by graphviz version 7.1.0 (20230121.1956)\n -->\n<!-- Pages: 1 -->\n<svg width=\"2854pt\" height=\"131pt\"\n viewBox=\"0.00 0.00 2853.85 131.00\" xmlns=\"http://www.w3.org/2000/svg\" xmlns:xlink=\"http://www.w3.org/1999/xlink\">\n<g id=\"graph0\" class=\"graph\" transform=\"scale(1 1) rotate(0) translate(4 127)\">\n<polygon fill=\"white\" stroke=\"none\" points=\"-4,4 -4,-127 2849.85,-127 2849.85,4 -4,4\"/>\n<!-- 0 -->\n<g id=\"node1\" class=\"node\">\n<title>0</title>\n<ellipse fill=\"none\" stroke=\"black\" cx=\"340.5\" cy=\"-105\" rx=\"45.49\" ry=\"18\"/>\n<text text-anchor=\"middle\" x=\"340.5\" y=\"-101.3\" font-family=\"Times,serif\" font-size=\"14.00\">s:Einstein</text>\n</g>\n<!-- 4 -->\n<g id=\"node5\" class=\"node\">\n<title>4</title>\n<ellipse fill=\"none\" stroke=\"black\" cx=\"807.5\" cy=\"-18\" rx=\"48.99\" ry=\"18\"/>\n<text text-anchor=\"middle\" x=\"807.5\" y=\"-14.3\" font-family=\"Times,serif\" font-size=\"14.00\">c:Physicist</text>\n</g>\n<!-- 0&#45;&gt;4 -->\n<g id=\"edge27\" class=\"edge\">\n<title>0&#45;&gt;4</title>\n<path fill=\"none\" stroke=\"black\" d=\"M383.92,-98.98C459.1,-89.81 618.08,-68.26 749.5,-36 752.86,-35.18 756.31,-34.28 759.78,-33.35\"/>\n<polygon fill=\"black\" stroke=\"black\" points=\"760.66,-36.74 769.36,-30.69 758.78,-30 760.66,-36.74\"/>\n<text text-anchor=\"middle\" x=\"682\" y=\"-57.8\" font-family=\"Times,serif\" font-size=\"14.00\">rdf:type</text>\n</g>\n<!-- 14 -->\n<g id=\"node15\" class=\"node\">\n<title>14</title>\n<polygon fill=\"none\" stroke=\"black\" points=\"258,-36 147,-36 147,0 258,0 258,-36\"/>\n<text text-anchor=\"middle\" x=\"202.5\" y=\"-14.3\" font-family=\"Times,serif\" font-size=\"14.00\">&quot;Albert Einstein&quot;</text>\n</g>\n<!-- 0&#45;&gt;14 -->\n<g id=\"edge9\" class=\"edge\">\n<title>0&#45;&gt;14</title>\n<path fill=\"none\" stroke=\"black\" d=\"M316.78,-89.39C295.78,-76.46 264.77,-57.35 240.35,-42.31\"/>\n<polygon fill=\"black\" stroke=\"black\" points=\"242.31,-39.41 231.96,-37.15 238.64,-45.37 242.31,-39.41\"/>\n<text text-anchor=\"middle\" x=\"305.5\" y=\"-57.8\" font-family=\"Times,serif\" font-size=\"14.00\">rdfs:label</text>\n</g>\n<!-- 15 -->\n<g id=\"node16\" class=\"node\">\n<title>15</title>\n<polygon fill=\"none\" stroke=\"black\" points=\"405,-36 276,-36 276,0 405,0 405,-36\"/>\n<text text-anchor=\"middle\" x=\"340.5\" y=\"-14.3\" font-family=\"Times,serif\" font-size=\"14.00\">&quot;1879&quot;^^xsd:integer</text>\n</g>\n<!-- 0&#45;&gt;15 -->\n<g id=\"edge7\" class=\"edge\">\n<title>0&#45;&gt;15</title>\n<path fill=\"none\" stroke=\"black\" d=\"M340.5,-86.8C340.5,-75.58 340.5,-60.67 340.5,-47.69\"/>\n<polygon fill=\"black\" stroke=\"black\" points=\"344,-47.98 340.5,-37.98 337,-47.98 344,-47.98\"/>\n<text text-anchor=\"middle\" x=\"358.5\" y=\"-57.8\" font-family=\"Times,serif\" font-size=\"14.00\">p:born</text>\n</g>\n<!-- 16 -->\n<g id=\"node17\" class=\"node\">\n<title>16</title>\n<ellipse fill=\"none\" stroke=\"black\" cx=\"1337.5\" cy=\"-18\" rx=\"40.89\" ry=\"18\"/>\n<text text-anchor=\"middle\" x=\"1337.5\" y=\"-14.3\" font-family=\"Times,serif\" font-size=\"14.00\">c:Person</text>\n</g>\n<!-- 0&#45;&gt;16 -->\n<g id=\"edge12\" class=\"edge\">\n<title>0&#45;&gt;16</title>\n<path fill=\"none\" stroke=\"black\" d=\"M385.79,-102.13C560.76,-94.91 1182.91,-69.22 1183.5,-69 1193.59,-65.26 1192.81,-58.68 1202.5,-54 1233.75,-38.89 1244.92,-44.81 1278.5,-36 1283.33,-34.73 1288.36,-33.36 1293.37,-31.96\"/>\n<polygon fill=\"black\" stroke=\"black\" points=\"1294.07,-35.41 1302.73,-29.31 1292.16,-28.67 1294.07,-35.41\"/>\n<text text-anchor=\"middle\" x=\"1224\" y=\"-57.8\" font-family=\"Times,serif\" font-size=\"14.00\">rdf:type</text>\n</g>\n<!-- 22 -->\n<g id=\"node23\" class=\"node\">\n<title>22</title>\n<polygon fill=\"none\" stroke=\"black\" points=\"129,-36 0,-36 0,0 129,0 129,-36\"/>\n<text text-anchor=\"middle\" x=\"64.5\" y=\"-14.3\" font-family=\"Times,serif\" font-size=\"14.00\">&quot;1921&quot;^^xsd:integer</text>\n</g>\n<!-- 0&#45;&gt;22 -->\n<g id=\"edge23\" class=\"edge\">\n<title>0&#45;&gt;22</title>\n<path fill=\"none\" stroke=\"black\" d=\"M297.44,-98.83C261.06,-93.68 207.93,-84.29 163.5,-69 142.95,-61.93 121.28,-51.38 103.47,-41.78\"/>\n<polygon fill=\"black\" stroke=\"black\" points=\"105.24,-38.76 94.8,-37.01 101.87,-44.9 105.24,-38.76\"/>\n<text text-anchor=\"middle\" x=\"211\" y=\"-57.8\" font-family=\"Times,serif\" font-size=\"14.00\">p:wonNobelPrize</text>\n</g>\n<!-- 1 -->\n<g id=\"node2\" class=\"node\">\n<title>1</title>\n<polygon fill=\"none\" stroke=\"black\" points=\"1122,-36 1021,-36 1021,0 1122,0 1122,-36\"/>\n<text text-anchor=\"middle\" x=\"1071.5\" y=\"-14.3\" font-family=\"Times,serif\" font-size=\"14.00\">&quot;Alfred Nobel&quot;</text>\n</g>\n<!-- 2 -->\n<g id=\"node3\" class=\"node\">\n<title>2</title>\n<ellipse fill=\"none\" stroke=\"black\" cx=\"2794.5\" cy=\"-18\" rx=\"51.19\" ry=\"18\"/>\n<text text-anchor=\"middle\" x=\"2794.5\" y=\"-14.3\" font-family=\"Times,serif\" font-size=\"14.00\">c:Physician</text>\n</g>\n<!-- 3 -->\n<g id=\"node4\" class=\"node\">\n<title>3</title>\n<polygon fill=\"none\" stroke=\"black\" points=\"2273.5,-36 2175.5,-36 2175.5,0 2273.5,0 2273.5,-36\"/>\n<text text-anchor=\"middle\" x=\"2224.5\" y=\"-14.3\" font-family=\"Times,serif\" font-size=\"14.00\">&quot;Robert Koch&quot;</text>\n</g>\n<!-- 5 -->\n<g id=\"node6\" class=\"node\">\n<title>5</title>\n<polygon fill=\"none\" stroke=\"black\" points=\"2421,-36 2292,-36 2292,0 2421,0 2421,-36\"/>\n<text text-anchor=\"middle\" x=\"2356.5\" y=\"-14.3\" font-family=\"Times,serif\" font-size=\"14.00\">&quot;1905&quot;^^xsd:integer</text>\n</g>\n<!-- 6 -->\n<g id=\"node7\" class=\"node\">\n<title>6</title>\n<polygon fill=\"none\" stroke=\"black\" points=\"2131,-36 2002,-36 2002,0 2131,0 2131,-36\"/>\n<text text-anchor=\"middle\" x=\"2066.5\" y=\"-14.3\" font-family=\"Times,serif\" font-size=\"14.00\">&quot;1911&quot;^^xsd:integer</text>\n</g>\n<!-- 7 -->\n<g id=\"node8\" class=\"node\">\n<title>7</title>\n<polygon fill=\"none\" stroke=\"black\" points=\"1269,-36 1140,-36 1140,0 1269,0 1269,-36\"/>\n<text text-anchor=\"middle\" x=\"1204.5\" y=\"-14.3\" font-family=\"Times,serif\" font-size=\"14.00\">&quot;1833&quot;^^xsd:integer</text>\n</g>\n<!-- 8 -->\n<g id=\"node9\" class=\"node\">\n<title>8</title>\n<ellipse fill=\"none\" stroke=\"black\" cx=\"1242.5\" cy=\"-105\" rx=\"38.19\" ry=\"18\"/>\n<text text-anchor=\"middle\" x=\"1242.5\" y=\"-101.3\" font-family=\"Times,serif\" font-size=\"14.00\">s:Nobel</text>\n</g>\n<!-- 8&#45;&gt;1 -->\n<g id=\"edge21\" class=\"edge\">\n<title>8&#45;&gt;1</title>\n<path fill=\"none\" stroke=\"black\" d=\"M1205.48,-99.89C1165.27,-94.71 1104.49,-84.56 1087.5,-69 1081.29,-63.31 1077.48,-55.21 1075.14,-47.18\"/>\n<polygon fill=\"black\" stroke=\"black\" points=\"1078.6,-46.64 1073.05,-37.62 1071.77,-48.14 1078.6,-46.64\"/>\n<text text-anchor=\"middle\" x=\"1113.5\" y=\"-57.8\" font-family=\"Times,serif\" font-size=\"14.00\">rdfs:label</text>\n</g>\n<!-- 8&#45;&gt;7 -->\n<g id=\"edge26\" class=\"edge\">\n<title>8&#45;&gt;7</title>\n<path fill=\"none\" stroke=\"black\" d=\"M1205.13,-100.44C1184.49,-96.34 1160.47,-87.6 1147.5,-69 1140.87,-59.49 1145.54,-50.61 1154.53,-43.05\"/>\n<polygon fill=\"black\" stroke=\"black\" points=\"1156.42,-46 1162.56,-37.37 1152.37,-40.29 1156.42,-46\"/>\n<text text-anchor=\"middle\" x=\"1165.5\" y=\"-57.8\" font-family=\"Times,serif\" font-size=\"14.00\">p:born</text>\n</g>\n<!-- 13 -->\n<g id=\"node14\" class=\"node\">\n<title>13</title>\n<ellipse fill=\"none\" stroke=\"black\" cx=\"1530.5\" cy=\"-18\" rx=\"46.59\" ry=\"18\"/>\n<text text-anchor=\"middle\" x=\"1530.5\" y=\"-14.3\" font-family=\"Times,serif\" font-size=\"14.00\">c:Chemist</text>\n</g>\n<!-- 8&#45;&gt;13 -->\n<g id=\"edge8\" class=\"edge\">\n<title>8&#45;&gt;13</title>\n<path fill=\"none\" stroke=\"black\" d=\"M1281.08,-103.9C1347.28,-102.95 1478.76,-97.43 1513.5,-69 1520.06,-63.63 1524.1,-55.62 1526.58,-47.58\"/>\n<polygon fill=\"black\" stroke=\"black\" points=\"1529.97,-48.46 1528.82,-37.93 1523.15,-46.88 1529.97,-48.46\"/>\n<text text-anchor=\"middle\" x=\"1545\" y=\"-57.8\" font-family=\"Times,serif\" font-size=\"14.00\">rdf:type</text>\n</g>\n<!-- 8&#45;&gt;16 -->\n<g id=\"edge19\" class=\"edge\">\n<title>8&#45;&gt;16</title>\n<path fill=\"none\" stroke=\"black\" d=\"M1273.94,-94.56C1288.11,-89 1304.16,-80.71 1315.5,-69 1321.51,-62.79 1326.02,-54.67 1329.35,-46.79\"/>\n<polygon fill=\"black\" stroke=\"black\" points=\"1332.62,-48.04 1332.77,-37.44 1326.05,-45.63 1332.62,-48.04\"/>\n<text text-anchor=\"middle\" x=\"1347\" y=\"-57.8\" font-family=\"Times,serif\" font-size=\"14.00\">rdf:type</text>\n</g>\n<!-- 9 -->\n<g id=\"node10\" class=\"node\">\n<title>9</title>\n<polygon fill=\"none\" stroke=\"black\" points=\"1003,-36 874,-36 874,0 1003,0 1003,-36\"/>\n<text text-anchor=\"middle\" x=\"938.5\" y=\"-14.3\" font-family=\"Times,serif\" font-size=\"14.00\">&quot;1845&quot;^^xsd:integer</text>\n</g>\n<!-- 10 -->\n<g id=\"node11\" class=\"node\">\n<title>10</title>\n<polygon fill=\"none\" stroke=\"black\" points=\"552,-36 423,-36 423,0 552,0 552,-36\"/>\n<text text-anchor=\"middle\" x=\"487.5\" y=\"-14.3\" font-family=\"Times,serif\" font-size=\"14.00\">&quot;1901&quot;^^xsd:integer</text>\n</g>\n<!-- 11 -->\n<g id=\"node12\" class=\"node\">\n<title>11</title>\n<polygon fill=\"none\" stroke=\"black\" points=\"740.5,-36 570.5,-36 570.5,0 740.5,0 740.5,-36\"/>\n<text text-anchor=\"middle\" x=\"655.5\" y=\"-14.3\" font-family=\"Times,serif\" font-size=\"14.00\">&quot;Wilhelm Conrad Röntgen&quot;</text>\n</g>\n<!-- 12 -->\n<g id=\"node13\" class=\"node\">\n<title>12</title>\n<polygon fill=\"none\" stroke=\"black\" points=\"2568,-36 2439,-36 2439,0 2568,0 2568,-36\"/>\n<text text-anchor=\"middle\" x=\"2503.5\" y=\"-14.3\" font-family=\"Times,serif\" font-size=\"14.00\">&quot;1843&quot;^^xsd:integer</text>\n</g>\n<!-- 17 -->\n<g id=\"node18\" class=\"node\">\n<title>17</title>\n<ellipse fill=\"none\" stroke=\"black\" cx=\"2655.5\" cy=\"-18\" rx=\"69.59\" ry=\"18\"/>\n<text text-anchor=\"middle\" x=\"2655.5\" y=\"-14.3\" font-family=\"Times,serif\" font-size=\"14.00\">c:Microbiologist</text>\n</g>\n<!-- 18 -->\n<g id=\"node19\" class=\"node\">\n<title>18</title>\n<ellipse fill=\"none\" stroke=\"black\" cx=\"807.5\" cy=\"-105\" rx=\"46.29\" ry=\"18\"/>\n<text text-anchor=\"middle\" x=\"807.5\" y=\"-101.3\" font-family=\"Times,serif\" font-size=\"14.00\">s:Röntgen</text>\n</g>\n<!-- 18&#45;&gt;4 -->\n<g id=\"edge4\" class=\"edge\">\n<title>18&#45;&gt;4</title>\n<path fill=\"none\" stroke=\"black\" d=\"M807.5,-86.8C807.5,-75.58 807.5,-60.67 807.5,-47.69\"/>\n<polygon fill=\"black\" stroke=\"black\" points=\"811,-47.98 807.5,-37.98 804,-47.98 811,-47.98\"/>\n<text text-anchor=\"middle\" x=\"829\" y=\"-57.8\" font-family=\"Times,serif\" font-size=\"14.00\">rdf:type</text>\n</g>\n<!-- 18&#45;&gt;9 -->\n<g id=\"edge11\" class=\"edge\">\n<title>18&#45;&gt;9</title>\n<path fill=\"none\" stroke=\"black\" d=\"M830.62,-89C850.41,-76.16 879.26,-57.44 902.14,-42.59\"/>\n<polygon fill=\"black\" stroke=\"black\" points=\"903.79,-45.69 910.27,-37.32 899.98,-39.82 903.79,-45.69\"/>\n<text text-anchor=\"middle\" x=\"898.5\" y=\"-57.8\" font-family=\"Times,serif\" font-size=\"14.00\">p:born</text>\n</g>\n<!-- 18&#45;&gt;10 -->\n<g id=\"edge22\" class=\"edge\">\n<title>18&#45;&gt;10</title>\n<path fill=\"none\" stroke=\"black\" d=\"M761.37,-102.25C677.41,-98.58 506.57,-88.76 488.5,-69 483.29,-63.3 481.58,-55.52 481.56,-47.8\"/>\n<polygon fill=\"black\" stroke=\"black\" points=\"485.04,-48.18 482.48,-37.9 478.07,-47.54 485.04,-48.18\"/>\n<text text-anchor=\"middle\" x=\"536\" y=\"-57.8\" font-family=\"Times,serif\" font-size=\"14.00\">p:wonNobelPrize</text>\n</g>\n<!-- 18&#45;&gt;11 -->\n<g id=\"edge14\" class=\"edge\">\n<title>18&#45;&gt;11</title>\n<path fill=\"none\" stroke=\"black\" d=\"M781.72,-89.58C758.43,-76.56 723.77,-57.18 696.66,-42.02\"/>\n<polygon fill=\"black\" stroke=\"black\" points=\"698.43,-39 688,-37.17 695.02,-45.11 698.43,-39\"/>\n<text text-anchor=\"middle\" x=\"766.5\" y=\"-57.8\" font-family=\"Times,serif\" font-size=\"14.00\">rdfs:label</text>\n</g>\n<!-- 18&#45;&gt;16 -->\n<g id=\"edge16\" class=\"edge\">\n<title>18&#45;&gt;16</title>\n<path fill=\"none\" stroke=\"black\" d=\"M853.99,-103.71C952.37,-102.56 1178.46,-96.85 1249.5,-69 1259.52,-65.07 1259.44,-59.8 1268.5,-54 1278.26,-47.76 1289.28,-41.75 1299.59,-36.53\"/>\n<polygon fill=\"black\" stroke=\"black\" points=\"1300.83,-39.82 1308.25,-32.25 1297.73,-33.54 1300.83,-39.82\"/>\n<text text-anchor=\"middle\" x=\"1290\" y=\"-57.8\" font-family=\"Times,serif\" font-size=\"14.00\">rdf:type</text>\n</g>\n<!-- 19 -->\n<g id=\"node20\" class=\"node\">\n<title>19</title>\n<polygon fill=\"none\" stroke=\"black\" points=\"1724,-36 1595,-36 1595,0 1724,0 1724,-36\"/>\n<text text-anchor=\"middle\" x=\"1659.5\" y=\"-14.3\" font-family=\"Times,serif\" font-size=\"14.00\">&quot;1903&quot;^^xsd:integer</text>\n</g>\n<!-- 20 -->\n<g id=\"node21\" class=\"node\">\n<title>20</title>\n<ellipse fill=\"none\" stroke=\"black\" cx=\"2429.5\" cy=\"-105\" rx=\"36\" ry=\"18\"/>\n<text text-anchor=\"middle\" x=\"2429.5\" y=\"-101.3\" font-family=\"Times,serif\" font-size=\"14.00\">s:Koch</text>\n</g>\n<!-- 20&#45;&gt;2 -->\n<g id=\"edge10\" class=\"edge\">\n<title>20&#45;&gt;2</title>\n<path fill=\"none\" stroke=\"black\" d=\"M2463.43,-98.43C2500.67,-92.13 2562.12,-81.14 2614.5,-69 2668.39,-56.52 2681.22,-50.87 2734.5,-36 2737.78,-35.08 2741.17,-34.14 2744.58,-33.18\"/>\n<polygon fill=\"black\" stroke=\"black\" points=\"2745.33,-36.6 2754,-30.52 2743.43,-29.86 2745.33,-36.6\"/>\n<text text-anchor=\"middle\" x=\"2692\" y=\"-57.8\" font-family=\"Times,serif\" font-size=\"14.00\">rdf:type</text>\n</g>\n<!-- 20&#45;&gt;3 -->\n<g id=\"edge25\" class=\"edge\">\n<title>20&#45;&gt;3</title>\n<path fill=\"none\" stroke=\"black\" d=\"M2398.15,-95.62C2375.85,-89.28 2345.38,-79.83 2319.5,-69 2300.85,-61.2 2280.94,-51.03 2264.2,-41.9\"/>\n<polygon fill=\"black\" stroke=\"black\" points=\"2265.99,-38.89 2255.54,-37.11 2262.6,-45.02 2265.99,-38.89\"/>\n<text text-anchor=\"middle\" x=\"2345.5\" y=\"-57.8\" font-family=\"Times,serif\" font-size=\"14.00\">rdfs:label</text>\n</g>\n<!-- 20&#45;&gt;5 -->\n<g id=\"edge2\" class=\"edge\">\n<title>20&#45;&gt;5</title>\n<path fill=\"none\" stroke=\"black\" d=\"M2409.39,-89.97C2401.7,-84.04 2393.18,-76.71 2386.5,-69 2380.51,-62.08 2375.01,-53.82 2370.4,-46.02\"/>\n<polygon fill=\"black\" stroke=\"black\" points=\"2373.57,-44.52 2365.63,-37.51 2367.46,-47.94 2373.57,-44.52\"/>\n<text text-anchor=\"middle\" x=\"2434\" y=\"-57.8\" font-family=\"Times,serif\" font-size=\"14.00\">p:wonNobelPrize</text>\n</g>\n<!-- 20&#45;&gt;12 -->\n<g id=\"edge15\" class=\"edge\">\n<title>20&#45;&gt;12</title>\n<path fill=\"none\" stroke=\"black\" d=\"M2453.98,-91.47C2463.53,-85.65 2473.96,-78.02 2481.5,-69 2486.96,-62.47 2491.29,-54.38 2494.62,-46.62\"/>\n<polygon fill=\"black\" stroke=\"black\" points=\"2497.81,-48.07 2498.13,-37.48 2491.28,-45.57 2497.81,-48.07\"/>\n<text text-anchor=\"middle\" x=\"2507.5\" y=\"-57.8\" font-family=\"Times,serif\" font-size=\"14.00\">p:born</text>\n</g>\n<!-- 20&#45;&gt;16 -->\n<g id=\"edge5\" class=\"edge\">\n<title>20&#45;&gt;16</title>\n<path fill=\"none\" stroke=\"black\" d=\"M2395.66,-98.33C2329.94,-87.58 2180.34,-64.38 2053.5,-54 1796.9,-33 1731.19,-55.87 1474.5,-36 1445.36,-33.74 1412.89,-29.78 1386.88,-26.25\"/>\n<polygon fill=\"black\" stroke=\"black\" points=\"1387.67,-22.82 1377.29,-24.92 1386.71,-29.76 1387.67,-22.82\"/>\n<text text-anchor=\"middle\" x=\"2209\" y=\"-57.8\" font-family=\"Times,serif\" font-size=\"14.00\">rdf:type</text>\n</g>\n<!-- 20&#45;&gt;17 -->\n<g id=\"edge18\" class=\"edge\">\n<title>20&#45;&gt;17</title>\n<path fill=\"none\" stroke=\"black\" d=\"M2458.49,-94.2C2478.52,-87.35 2505.72,-77.88 2529.5,-69 2555.98,-59.12 2585.35,-47.5 2609.07,-37.95\"/>\n<polygon fill=\"black\" stroke=\"black\" points=\"2610.17,-41.28 2618.13,-34.29 2607.55,-34.79 2610.17,-41.28\"/>\n<text text-anchor=\"middle\" x=\"2589\" y=\"-57.8\" font-family=\"Times,serif\" font-size=\"14.00\">rdf:type</text>\n</g>\n<!-- 21 -->\n<g id=\"node22\" class=\"node\">\n<title>21</title>\n<polygon fill=\"none\" stroke=\"black\" points=\"1837,-36 1742,-36 1742,0 1837,0 1837,-36\"/>\n<text text-anchor=\"middle\" x=\"1789.5\" y=\"-14.3\" font-family=\"Times,serif\" font-size=\"14.00\">&quot;Marie Curie&quot;</text>\n</g>\n<!-- 23 -->\n<g id=\"node24\" class=\"node\">\n<title>23</title>\n<ellipse fill=\"none\" stroke=\"black\" cx=\"1667.5\" cy=\"-105\" rx=\"36.29\" ry=\"18\"/>\n<text text-anchor=\"middle\" x=\"1667.5\" y=\"-101.3\" font-family=\"Times,serif\" font-size=\"14.00\">s:Curie</text>\n</g>\n<!-- 23&#45;&gt;4 -->\n<g id=\"edge20\" class=\"edge\">\n<title>23&#45;&gt;4</title>\n<path fill=\"none\" stroke=\"black\" d=\"M1631.19,-103.36C1578.96,-101.52 1480.17,-94.61 1400.5,-69 1387.06,-64.68 1386.13,-57.68 1372.5,-54 1263.66,-24.62 976.79,-53.99 865.5,-36 861.65,-35.38 857.7,-34.58 853.76,-33.67\"/>\n<polygon fill=\"black\" stroke=\"black\" points=\"854.78,-30.32 844.22,-31.23 853.05,-37.1 854.78,-30.32\"/>\n<text text-anchor=\"middle\" x=\"1422\" y=\"-57.8\" font-family=\"Times,serif\" font-size=\"14.00\">rdf:type</text>\n</g>\n<!-- 23&#45;&gt;6 -->\n<g id=\"edge1\" class=\"edge\">\n<title>23&#45;&gt;6</title>\n<path fill=\"none\" stroke=\"black\" d=\"M1702.77,-100.25C1748.49,-95.03 1830.54,-84.44 1899.5,-69 1934.64,-61.13 1973.18,-49.78 2004.38,-39.88\"/>\n<polygon fill=\"black\" stroke=\"black\" points=\"2005.2,-43.29 2013.65,-36.91 2003.06,-36.62 2005.2,-43.29\"/>\n<text text-anchor=\"middle\" x=\"2002\" y=\"-57.8\" font-family=\"Times,serif\" font-size=\"14.00\">p:wonNobelPrize</text>\n</g>\n<!-- 23&#45;&gt;13 -->\n<g id=\"edge17\" class=\"edge\">\n<title>23&#45;&gt;13</title>\n<path fill=\"none\" stroke=\"black\" d=\"M1645.49,-90.34C1623.45,-76.67 1589.27,-55.46 1563.89,-39.72\"/>\n<polygon fill=\"black\" stroke=\"black\" points=\"1565.93,-36.86 1555.58,-34.56 1562.24,-42.81 1565.93,-36.86\"/>\n<text text-anchor=\"middle\" x=\"1628\" y=\"-57.8\" font-family=\"Times,serif\" font-size=\"14.00\">rdf:type</text>\n</g>\n<!-- 23&#45;&gt;16 -->\n<g id=\"edge3\" class=\"edge\">\n<title>23&#45;&gt;16</title>\n<path fill=\"none\" stroke=\"black\" d=\"M1631.09,-103C1589.59,-100.68 1520.5,-93.14 1466.5,-69 1456.68,-64.61 1457,-59.05 1447.5,-54 1427.88,-43.58 1404.62,-35.62 1384.56,-29.95\"/>\n<polygon fill=\"black\" stroke=\"black\" points=\"1385.51,-26.58 1374.94,-27.34 1383.68,-33.33 1385.51,-26.58\"/>\n<text text-anchor=\"middle\" x=\"1488\" y=\"-57.8\" font-family=\"Times,serif\" font-size=\"14.00\">rdf:type</text>\n</g>\n<!-- 23&#45;&gt;19 -->\n<g id=\"edge13\" class=\"edge\">\n<title>23&#45;&gt;19</title>\n<path fill=\"none\" stroke=\"black\" d=\"M1665.88,-86.8C1664.83,-75.58 1663.42,-60.67 1662.2,-47.69\"/>\n<polygon fill=\"black\" stroke=\"black\" points=\"1665.71,-47.6 1661.29,-37.97 1658.74,-48.26 1665.71,-47.6\"/>\n<text text-anchor=\"middle\" x=\"1711\" y=\"-57.8\" font-family=\"Times,serif\" font-size=\"14.00\">p:wonNobelPrize</text>\n</g>\n<!-- 23&#45;&gt;21 -->\n<g id=\"edge6\" class=\"edge\">\n<title>23&#45;&gt;21</title>\n<path fill=\"none\" stroke=\"black\" d=\"M1701.34,-97.79C1721.01,-92.76 1745.24,-83.97 1762.5,-69 1769.44,-62.98 1774.91,-54.72 1779.05,-46.64\"/>\n<polygon fill=\"black\" stroke=\"black\" points=\"1782.16,-48.27 1783.13,-37.72 1775.79,-45.37 1782.16,-48.27\"/>\n<text text-anchor=\"middle\" x=\"1799.5\" y=\"-57.8\" font-family=\"Times,serif\" font-size=\"14.00\">rdfs:label</text>\n</g>\n<!-- 24 -->\n<g id=\"node25\" class=\"node\">\n<title>24</title>\n<polygon fill=\"none\" stroke=\"black\" points=\"1984,-36 1855,-36 1855,0 1984,0 1984,-36\"/>\n<text text-anchor=\"middle\" x=\"1919.5\" y=\"-14.3\" font-family=\"Times,serif\" font-size=\"14.00\">&quot;1867&quot;^^xsd:integer</text>\n</g>\n<!-- 23&#45;&gt;24 -->\n<g id=\"edge24\" class=\"edge\">\n<title>23&#45;&gt;24</title>\n<path fill=\"none\" stroke=\"black\" d=\"M1702.47,-99.48C1735.87,-94.47 1787.22,-84.91 1829.5,-69 1848.06,-62.01 1867.44,-51.69 1883.45,-42.23\"/>\n<polygon fill=\"black\" stroke=\"black\" points=\"1884.89,-45.45 1891.64,-37.28 1881.27,-39.46 1884.89,-45.45\"/>\n<text text-anchor=\"middle\" x=\"1877.5\" y=\"-57.8\" font-family=\"Times,serif\" font-size=\"14.00\">p:born</text>\n</g>\n</g>\n</svg>\n",
      "text/plain": [
       "<graphviz.graphs.Digraph at 0x113005f40>"
      ]
     },
     "metadata": {},
     "output_type": "display_data"
    }
   ],
   "source": [
    "%%rdf turtle -l scientists\n",
    "PREFIX rdfs: <http://www.w3.org/2000/01/rdf-schema#>\n",
    "PREFIX xsd: <http://www.w3.org/2001/XMLSchema#>\n",
    "PREFIX s: <http://example.org/subjects#>\n",
    "PREFIX p: <http://example.org/properties#>\n",
    "PREFIX c: <http://example.org/classes#>\n",
    "\n",
    "s:Einstein a c:Person, c:Physicist ;\n",
    "    p:born \"1879\"^^xsd:integer ;\n",
    "    p:wonNobelPrize \"1921\"^^xsd:integer ;\n",
    "    rdfs:label \"Albert Einstein\" .\n",
    "s:Nobel a c:Person, c:Chemist ;\n",
    "    p:born \"1833\"^^xsd:integer ;\n",
    "    rdfs:label \"Alfred Nobel\" .\n",
    "s:Curie a c:Person, c:Physicist, c:Chemist ;\n",
    "    p:born \"1867\"^^xsd:integer ;\n",
    "    p:wonNobelPrize \"1903\"^^xsd:integer ;\n",
    "    p:wonNobelPrize \"1911\"^^xsd:integer ;\n",
    "    rdfs:label \"Marie Curie\" .\n",
    "s:Koch a c:Person, c:Physician, c:Microbiologist ;\n",
    "    p:born \"1843\"^^xsd:integer ;\n",
    "    p:wonNobelPrize \"1905\"^^xsd:integer ;\n",
    "    rdfs:label \"Robert Koch\" .\n",
    "s:Röntgen a c:Person, c:Physicist ;\n",
    "    p:born \"1845\"^^xsd:integer ;\n",
    "    p:wonNobelPrize \"1901\"^^xsd:integer ;\n",
    "    rdfs:label \"Wilhelm Conrad Röntgen\" ."
   ]
  },
  {
   "cell_type": "markdown",
   "metadata": {
    "deletable": false,
    "editable": false,
    "nbgrader": {
     "cell_type": "markdown",
     "checksum": "d187ee109553384dd0dd43db624ca23b",
     "grade": false,
     "grade_id": "cell-ef97a467f6b8290d",
     "locked": true,
     "schema_version": 3,
     "solution": false,
     "task": false
    }
   },
   "source": [
    "## Task 3: Modifying Solutions [2.5 points]\n",
    "Use the above keywords to obtain the desired information with SPARQL queries.\n",
    "\n",
    "**This task refers to [this graph](#Graph:-Scientists) about scientists. Assume a closed world (information that isn't explicitly stated is false).**\n",
    "\n",
    "### 3a) [0.5 points]\n",
    "The names of all persons that have won a nobel prize, ordered alphabetically without duplicates.\n",
    "Use variable **?name** for the name."
   ]
  },
  {
   "cell_type": "code",
   "execution_count": 19,
   "metadata": {
    "deletable": false,
    "nbgrader": {
     "cell_type": "code",
     "checksum": "49d13f17cdfbf2612ec9c6e74abb252b",
     "grade": false,
     "grade_id": "cell-b2e6b033a3eb53f8",
     "locked": false,
     "schema_version": 3,
     "solution": true,
     "task": false
    }
   },
   "outputs": [
    {
     "data": {
      "text/html": [
       "<table><tr><th>?name</th></tr><tr><td>Albert Einstein</td></tr><tr><td>Marie Curie</td></tr><tr><td>Robert Koch</td></tr><tr><td>Wilhelm Conrad Röntgen</td></tr></table>"
      ],
      "text/plain": [
       "<IPython.core.display.HTML object>"
      ]
     },
     "metadata": {},
     "output_type": "display_data"
    }
   ],
   "source": [
    "%%rdf sparql -l scientists -s 3a\n",
    "### YOUR SOLUTION HERE\n",
    "SELECT DISTINCT ?name\n",
    "WHERE{\n",
    "    ?someone a c:Person .\n",
    "    ?someone p:wonNobelPrize ?year .\n",
    "    ?someone rdfs:label ?name .\n",
    "}\n",
    "ORDER BY ASC(?name)\n",
    "\n"
   ]
  },
  {
   "cell_type": "code",
   "execution_count": 20,
   "metadata": {
    "deletable": false,
    "editable": false,
    "nbgrader": {
     "cell_type": "code",
     "checksum": "4ce0d89992e3c8e31f824a2eb34a46a4",
     "grade": true,
     "grade_id": "cell-2467587e8fcb9bee",
     "locked": true,
     "points": 0.5,
     "schema_version": 3,
     "solution": false,
     "task": false
    }
   },
   "outputs": [],
   "source": [
    "# This test will check whether your query returns the right results. [0.5 points]\n",
    "store = %rdf -r\n",
    "assert '3a' in store['rdfresults'], err\n",
    "name = Variable(\"name\")\n",
    "b = store['rdfresults'][\"3a\"].bindings\n",
    "b = project(b, [name])\n",
    "bindCheck(b, 0, {name: Literal(\"Albert Einstein\")})\n",
    "bindCheck(b, 2, {name: Literal(\"Robert Koch\")})"
   ]
  },
  {
   "cell_type": "markdown",
   "metadata": {
    "deletable": false,
    "editable": false,
    "nbgrader": {
     "cell_type": "markdown",
     "checksum": "e3759e64e0159de11ef04ccd8bd1d534",
     "grade": false,
     "grade_id": "cell-71b74a7ee6a7b9c3",
     "locked": true,
     "schema_version": 3,
     "solution": false,
     "task": false
    }
   },
   "source": [
    "### 3b) [1 point]\n",
    "The second, third and fourth nobel prize sorted ascending by year with their respective owner's name.\n",
    "Use variable **?year** for the year and **?name** for the name."
   ]
  },
  {
   "cell_type": "code",
   "execution_count": 21,
   "metadata": {
    "deletable": false,
    "nbgrader": {
     "cell_type": "code",
     "checksum": "a5eb4d43ad902a995e0515897ff12d2d",
     "grade": false,
     "grade_id": "cell-79bcb7f2d508e165",
     "locked": false,
     "schema_version": 3,
     "solution": true,
     "task": false
    }
   },
   "outputs": [
    {
     "data": {
      "text/html": [
       "<table><tr><th>?name</th><th>?year</th></tr><tr><td>Marie Curie</td><td>1903</td></tr><tr><td>Robert Koch</td><td>1905</td></tr><tr><td>Marie Curie</td><td>1911</td></tr></table>"
      ],
      "text/plain": [
       "<IPython.core.display.HTML object>"
      ]
     },
     "metadata": {},
     "output_type": "display_data"
    }
   ],
   "source": [
    "%%rdf sparql -l scientists -s 3b\n",
    "### YOUR SOLUTION HERE\n",
    "\n",
    "SELECT ?name ?year\n",
    "WHERE{\n",
    "    ?someone a c:Person .\n",
    "    ?someone p:wonNobelPrize ?year .\n",
    "    ?someone rdfs:label ?name .\n",
    "}\n",
    "ORDER BY ASC(?year)\n",
    "LIMIT 3\n",
    "OFFSET 1\n"
   ]
  },
  {
   "cell_type": "code",
   "execution_count": 22,
   "metadata": {
    "deletable": false,
    "editable": false,
    "nbgrader": {
     "cell_type": "code",
     "checksum": "c91e892d517abd8730c0bafceab2f52b",
     "grade": true,
     "grade_id": "cell-e1075d31b9e38dc4",
     "locked": true,
     "points": 1,
     "schema_version": 3,
     "solution": false,
     "task": false
    }
   },
   "outputs": [],
   "source": [
    "# This test will check whether your query returns the right results. [1 point]"
   ]
  },
  {
   "cell_type": "markdown",
   "metadata": {
    "deletable": false,
    "editable": false,
    "nbgrader": {
     "cell_type": "markdown",
     "checksum": "4c53b2734c4ef35411431c3e39a140ea",
     "grade": false,
     "grade_id": "cell-f6041ec1c9f41c12",
     "locked": true,
     "schema_version": 3,
     "solution": false,
     "task": false
    }
   },
   "source": [
    "### 3c) [1 point]\n",
    "The name and birth year of the owner of the last nobel prize. Use variable **?name** for the name and **?year** for the birth year."
   ]
  },
  {
   "cell_type": "code",
   "execution_count": 23,
   "metadata": {
    "deletable": false,
    "nbgrader": {
     "cell_type": "code",
     "checksum": "666d5ca2f26e0873588a95a092210f08",
     "grade": false,
     "grade_id": "cell-c78a55372321d463",
     "locked": false,
     "schema_version": 3,
     "solution": true,
     "task": false
    }
   },
   "outputs": [
    {
     "data": {
      "text/html": [
       "<table><tr><th>?name</th><th>?year</th></tr><tr><td>Albert Einstein</td><td>1879</td></tr></table>"
      ],
      "text/plain": [
       "<IPython.core.display.HTML object>"
      ]
     },
     "metadata": {},
     "output_type": "display_data"
    }
   ],
   "source": [
    "%%rdf sparql -l scientists -s 3c\n",
    "### YOUR SOLUTION HERE\n",
    "SELECT ?name ?year\n",
    "WHERE {\n",
    "    ?someone a c:Person .\n",
    "    ?someone p:wonNobelPrize ?nobelYear .\n",
    "    ?someone p:born ?year .\n",
    "    ?someone rdfs:label ?name .\n",
    "}\n",
    "ORDER BY DESC(?nobelYear)\n",
    "LIMIT 1\n"
   ]
  },
  {
   "cell_type": "code",
   "execution_count": 24,
   "metadata": {
    "deletable": false,
    "editable": false,
    "nbgrader": {
     "cell_type": "code",
     "checksum": "b9c4735213e1c629723e3e3267220020",
     "grade": true,
     "grade_id": "cell-39485e7b1e65abf9",
     "locked": true,
     "points": 1,
     "schema_version": 3,
     "solution": false,
     "task": false
    }
   },
   "outputs": [],
   "source": [
    "# This test will check whether your query returns the right results. [1 point]"
   ]
  },
  {
   "cell_type": "markdown",
   "metadata": {
    "deletable": false,
    "editable": false,
    "nbgrader": {
     "cell_type": "markdown",
     "checksum": "12735fbe6d752b990f17d617ea276724",
     "grade": false,
     "grade_id": "cell-cc819fea603ed4ce",
     "locked": true,
     "schema_version": 3,
     "solution": false,
     "task": false
    }
   },
   "source": [
    "## Group Graph Patterns\n",
    "Basic Graph Patterns are intuitive but have limited expressiveness. Group Graph Patterns allow us to group Basic Graph Patterns and then perform operations with these groups. A Group Graph Pattern is delimited with braces ({}) and inside the same syntax as with Basic Graph Patterns is used.\n",
    "\n",
    "### Optional Values\n",
    "Sometimes data is incomplete but we still want to query it (i.e. do a left join with the incomplete data). We want to query all employees but some have not provided a telephone number. We can do it like this:\n",
    "\n",
    "**SELECT ?employee ?number WHERE {  \n",
    "&nbsp;&nbsp;&nbsp;&nbsp;?employee a c:Employee .  \n",
    "&nbsp;&nbsp;&nbsp;&nbsp;OPTIONAL { ?employee p:telephoneNumber ?number . }  \n",
    "}**\n",
    "\n",
    "The **OPTIONAL** keyword uses a Group Graph Pattern to allow for optional matching. When the optional Group Graph Pattern could not be matched, the resulting variable binding will be empty but all variables outside of the optional pattern will still be bound.\n",
    "\n",
    "### Unions\n",
    "Basic Graph Patterns are always conjunctive, meaning that all triples must be matched. With Group Graph Patterns, we can define two patterns and then unify their resulting variable bindings (i.e. create a disjunction). If we want to get all telephone numbers and e-mail addresses of all employees we could do it like this:\n",
    "\n",
    "**SELECT ?employee ?contact WHERE {  \n",
    "&nbsp;&nbsp;&nbsp;&nbsp;?employee a c:Employee .  \n",
    "&nbsp;&nbsp;&nbsp;&nbsp;{ ?employee p:telephoneNumber ?contact . }  \n",
    "&nbsp;&nbsp;&nbsp;&nbsp;UNION  \n",
    "&nbsp;&nbsp;&nbsp;&nbsp;{ ?employee p:email ?contact . }  \n",
    "}**\n",
    "\n",
    "Here we define two Group Graph Patterns, one for telephone numbers  and one for e-mail addresses and then join their results.\n",
    "\n",
    "## Task 4: Complex Queries [3 points]\n",
    "Use Group Graph Patterns to obtain the desired information with SPARQL queries.\n",
    "\n",
    "**This task refers to [this graph](#Graph:-Scientists) about scientists. Assume a closed world (information that isn't explicitly stated is false).**\n",
    "\n",
    "### 4a) [1.5 points]\n",
    "The names of all chemists and the year in which they have won a nobel prize. If they have won no nobel prize the year should be an empty value (None). Use variables **?name** for the name and **?year** for the nobel prize year. Multiple entries for the same chemist are allowed."
   ]
  },
  {
   "cell_type": "code",
   "execution_count": 25,
   "metadata": {
    "deletable": false,
    "nbgrader": {
     "cell_type": "code",
     "checksum": "c603edb95055fc7cacf64b345806dbeb",
     "grade": false,
     "grade_id": "cell-a6e4b2be3f9696f4",
     "locked": false,
     "schema_version": 3,
     "solution": true,
     "task": false
    }
   },
   "outputs": [
    {
     "data": {
      "text/html": [
       "<table><tr><th>?name</th><th>?year</th></tr><tr><td>Alfred Nobel</td><td>None</td></tr><tr><td>Marie Curie</td><td>1903</td></tr><tr><td>Marie Curie</td><td>1911</td></tr></table>"
      ],
      "text/plain": [
       "<IPython.core.display.HTML object>"
      ]
     },
     "metadata": {},
     "output_type": "display_data"
    }
   ],
   "source": [
    "%%rdf sparql -l scientists -s 4a\n",
    "### YOUR SOLUTION HERE\n",
    "SELECT ?name ?year\n",
    "WHERE{\n",
    "    ?someone a c:Person,c:Chemist .\n",
    "    ?someone rdfs:label ?name .\n",
    "    OPTIONAL{?someone p:wonNobelPrize ?year} .\n",
    "}"
   ]
  },
  {
   "cell_type": "code",
   "execution_count": 26,
   "metadata": {
    "deletable": false,
    "editable": false,
    "nbgrader": {
     "cell_type": "code",
     "checksum": "e3b33b3db795b0b7d4ac9b8b70332835",
     "grade": true,
     "grade_id": "cell-b0d4da031d476cd6",
     "locked": true,
     "points": 1.5,
     "schema_version": 3,
     "solution": false,
     "task": false
    }
   },
   "outputs": [],
   "source": [
    "# This test will check whether your query returns the right results. [1.5 points]"
   ]
  },
  {
   "cell_type": "markdown",
   "metadata": {
    "deletable": false,
    "editable": false,
    "nbgrader": {
     "cell_type": "markdown",
     "checksum": "8f91205d545668b35004b2b60f9252d1",
     "grade": false,
     "grade_id": "cell-ddb497aad5179ea8",
     "locked": true,
     "schema_version": 3,
     "solution": false,
     "task": false
    }
   },
   "source": [
    "### 4b) [1.5 points]\n",
    "The names of all physicists as well as the names of all physicians ordered alphabetically. Use variable **?name** for the name."
   ]
  },
  {
   "cell_type": "code",
   "execution_count": 27,
   "metadata": {
    "deletable": false,
    "nbgrader": {
     "cell_type": "code",
     "checksum": "215598126b7927c7588e6296fbd783a2",
     "grade": false,
     "grade_id": "cell-b89f27c6e40b6f5a",
     "locked": false,
     "schema_version": 3,
     "solution": true,
     "task": false
    }
   },
   "outputs": [
    {
     "data": {
      "text/html": [
       "<table><tr><th>?name</th></tr><tr><td>Albert Einstein</td></tr><tr><td>Marie Curie</td></tr><tr><td>Wilhelm Conrad Röntgen</td></tr></table>"
      ],
      "text/plain": [
       "<IPython.core.display.HTML object>"
      ]
     },
     "metadata": {},
     "output_type": "display_data"
    }
   ],
   "source": [
    "%%rdf sparql -l scientists -s 4b\n",
    "### YOUR SOLUTION HERE\n",
    "SELECT ?name\n",
    "WHERE {\n",
    "    ?someone a c:Person, c:Physicist .\n",
    "    ?someone rdfs:label ?name .\n",
    "}\n",
    "ORDER BY ASC(?name)"
   ]
  },
  {
   "cell_type": "code",
   "execution_count": 28,
   "metadata": {
    "deletable": false,
    "editable": false,
    "nbgrader": {
     "cell_type": "code",
     "checksum": "f685bb2d6b73e8628cb2bddfe83a1bb2",
     "grade": true,
     "grade_id": "cell-90bffd4426f56aca",
     "locked": true,
     "points": 1.5,
     "schema_version": 3,
     "solution": false,
     "task": false
    }
   },
   "outputs": [],
   "source": [
    "# This test will check whether your query returns the right results. [1.5 points]"
   ]
  },
  {
   "cell_type": "markdown",
   "metadata": {
    "deletable": false,
    "editable": false,
    "nbgrader": {
     "cell_type": "markdown",
     "checksum": "0bd85d2d4e0346c79426fc7746080d78",
     "grade": false,
     "grade_id": "cell-ab1174718d327a96",
     "locked": true,
     "schema_version": 3,
     "solution": false,
     "task": false
    }
   },
   "source": [
    "## Filters, Functions, Modifiers and Aggregates\n",
    "With Group Graph Patterns and Solution Modifiers we can efficiently query RDF graphs but what if we actually want to do something with the data like calculating an average, filtering specific values or binding our own values? There are many ways to do this and we will introduce the most important ones.\n",
    "\n",
    "### Filters\n",
    "One can filter values inside a Group Graph Pattern by using the **FILTER** function. Inside the parantheses of the filter function we have to provide a filter expression. A Filter expression uses operators like \\<, =, \\> \\<=, \\>= and != to compare variables and literals with specific datatypes. We can also use arithmetic operators like +, -, \\* and /. We can also combine multiple filter expressions with AND (&&), OR (||) and NOT (!). Filters are always applied to the whole Group Pattern in which they reside. There are also many functions which can be used in filter expressions like **contains** which checks if a string contains another string or **str** which converts a literal to its literal value (without datatype) or **regex** which matches a string with a full regular expression. Example:\n",
    "\n",
    "**SELECT \\* WHERE {  \n",
    "&nbsp;&nbsp;&nbsp;&nbsp;?employee a c:Employee ;  \n",
    "&nbsp;&nbsp;&nbsp;&nbsp;?employee rdfs:label ?name ;  \n",
    "&nbsp;&nbsp;&nbsp;&nbsp;&nbsp;&nbsp;&nbsp;&nbsp;p:income ?income .  \n",
    "&nbsp;&nbsp;&nbsp;&nbsp;FILTER (str(?name) != \"Angela\" && contains(?name, \"la\") && ?income > 450)  \n",
    "}**\n",
    "\n",
    "Here we show all employees with their name and income who have an income larger than 450, aren't called \"Angela\" and whose name contains \"la\".\n",
    "\n",
    "### Aggregates\n",
    "To calculate values over multiple results, we need to use aggregate functions. The most important aggregate functions are min, max, avg, sum and count. These can simply be used in the projection. Aggregate functions always work on groups of results and compute separately for each group. By default all results are one big group but you can use the **GROUP BY** modifier to specify a variable to group by. For example if you want to know for all employers what the average income of their employees is, you could do it like this:\n",
    "\n",
    "**SELECT ?employer (sum(?income) AS ?incomeSum) WHERE {  \n",
    "&nbsp;&nbsp;&nbsp;&nbsp;?employer a c:Employer .  \n",
    "&nbsp;&nbsp;&nbsp;&nbsp;?employee a c:Employee ;  \n",
    "&nbsp;&nbsp;&nbsp;&nbsp;&nbsp;&nbsp;&nbsp;&nbsp;p:worksFor ?employer ;  \n",
    "&nbsp;&nbsp;&nbsp;&nbsp;&nbsp;&nbsp;&nbsp;&nbsp;p:income ?income .   \n",
    "}\n",
    "GROUP BY ?employer**\n",
    "\n",
    "Please note that it is obligatory to bind the result with the **AS** keyword and surround the expression with parentheses. You can also use other functions and arithmetic operators on the left side of the AS, for example to remove a 10% tax you could do **(sum(?income)*0.9 AS ?incomeSum)** instead.\n",
    "\n",
    "### Manual Binding\n",
    "One can also bind their own values to variables using the BIND keyword. If you want to get the difference in population of Germany and Sweden:\n",
    "\n",
    "**SELECT ?diff WHERE {  \n",
    "&nbsp;&nbsp;&nbsp;&nbsp;s:Germany p:population ?x .  \n",
    "&nbsp;&nbsp;&nbsp;&nbsp;s:Sweden p:population ?y .  \n",
    "&nbsp;&nbsp;&nbsp;&nbsp;BIND (abs(?x - ?y) AS ?diff)  \n",
    "}**\n",
    "\n",
    "Again, you can use all kinds of expressions on the left side of the AS keyword.\n",
    "\n",
    "### Graph: Movies\n",
    "This graph contains information about some of the highest grossing films.  \n",
    "**You must run the following cell or the graph won't be in scope for following tasks.**"
   ]
  },
  {
   "cell_type": "code",
   "execution_count": 29,
   "metadata": {
    "deletable": false,
    "editable": false,
    "nbgrader": {
     "cell_type": "code",
     "checksum": "77101b2069e3122aab70b324f3812d7f",
     "grade": false,
     "grade_id": "cell-2b8a837df3f11a9d",
     "locked": true,
     "schema_version": 3,
     "solution": false,
     "task": false
    }
   },
   "outputs": [
    {
     "data": {
      "image/svg+xml": "<?xml version=\"1.0\" encoding=\"UTF-8\" standalone=\"no\"?>\n<!DOCTYPE svg PUBLIC \"-//W3C//DTD SVG 1.1//EN\"\n \"http://www.w3.org/Graphics/SVG/1.1/DTD/svg11.dtd\">\n<!-- Generated by graphviz version 7.1.0 (20230121.1956)\n -->\n<!-- Pages: 1 -->\n<svg width=\"3251pt\" height=\"218pt\"\n viewBox=\"0.00 0.00 3251.00 218.00\" xmlns=\"http://www.w3.org/2000/svg\" xmlns:xlink=\"http://www.w3.org/1999/xlink\">\n<g id=\"graph0\" class=\"graph\" transform=\"scale(1 1) rotate(0) translate(4 214)\">\n<polygon fill=\"white\" stroke=\"none\" points=\"-4,4 -4,-214 3247,-214 3247,4 -4,4\"/>\n<!-- 0 -->\n<g id=\"node1\" class=\"node\">\n<title>0</title>\n<polygon fill=\"none\" stroke=\"black\" points=\"794,-123 596,-123 596,-87 794,-87 794,-123\"/>\n<text text-anchor=\"middle\" x=\"695\" y=\"-101.3\" font-family=\"Times,serif\" font-size=\"14.00\">&quot;Star Wars: The Force Awakens&quot;</text>\n</g>\n<!-- 1 -->\n<g id=\"node2\" class=\"node\">\n<title>1</title>\n<polygon fill=\"none\" stroke=\"black\" points=\"1873.5,-123 1744.5,-123 1744.5,-87 1873.5,-87 1873.5,-123\"/>\n<text text-anchor=\"middle\" x=\"1809\" y=\"-101.3\" font-family=\"Times,serif\" font-size=\"14.00\">&quot;2009&quot;^^xsd:integer</text>\n</g>\n<!-- 2 -->\n<g id=\"node3\" class=\"node\">\n<title>2</title>\n<ellipse fill=\"none\" stroke=\"black\" cx=\"60\" cy=\"-105\" rx=\"53.89\" ry=\"18\"/>\n<text text-anchor=\"middle\" x=\"60\" y=\"-101.3\" font-family=\"Times,serif\" font-size=\"14.00\">s:Trevorrow</text>\n</g>\n<!-- 7 -->\n<g id=\"node8\" class=\"node\">\n<title>7</title>\n<polygon fill=\"none\" stroke=\"black\" points=\"120,-36 0,-36 0,0 120,0 120,-36\"/>\n<text text-anchor=\"middle\" x=\"60\" y=\"-14.3\" font-family=\"Times,serif\" font-size=\"14.00\">&quot;Colin Trevorrow&quot;</text>\n</g>\n<!-- 2&#45;&gt;7 -->\n<g id=\"edge6\" class=\"edge\">\n<title>2&#45;&gt;7</title>\n<path fill=\"none\" stroke=\"black\" d=\"M60,-86.8C60,-75.58 60,-60.67 60,-47.69\"/>\n<polygon fill=\"black\" stroke=\"black\" points=\"63.5,-47.98 60,-37.98 56.5,-47.98 63.5,-47.98\"/>\n<text text-anchor=\"middle\" x=\"86\" y=\"-57.8\" font-family=\"Times,serif\" font-size=\"14.00\">rdfs:label</text>\n</g>\n<!-- 29 -->\n<g id=\"node30\" class=\"node\">\n<title>29</title>\n<ellipse fill=\"none\" stroke=\"black\" cx=\"1357\" cy=\"-18\" rx=\"46.29\" ry=\"18\"/>\n<text text-anchor=\"middle\" x=\"1357\" y=\"-14.3\" font-family=\"Times,serif\" font-size=\"14.00\">c:Director</text>\n</g>\n<!-- 2&#45;&gt;29 -->\n<g id=\"edge31\" class=\"edge\">\n<title>2&#45;&gt;29</title>\n<path fill=\"none\" stroke=\"black\" d=\"M98.71,-92.18C106.67,-90.13 115.06,-88.26 123,-87 553.29,-18.53 667.06,-61.83 1102,-36 1170.35,-31.94 1248.97,-26.6 1300.63,-22.99\"/>\n<polygon fill=\"black\" stroke=\"black\" points=\"1300.63,-26.5 1310.36,-22.31 1300.14,-19.52 1300.63,-26.5\"/>\n<text text-anchor=\"middle\" x=\"408.5\" y=\"-57.8\" font-family=\"Times,serif\" font-size=\"14.00\">rdf:type</text>\n</g>\n<!-- 3 -->\n<g id=\"node4\" class=\"node\">\n<title>3</title>\n<polygon fill=\"none\" stroke=\"black\" points=\"2062,-123 1892,-123 1892,-87 2062,-87 2062,-123\"/>\n<text text-anchor=\"middle\" x=\"1977\" y=\"-101.3\" font-family=\"Times,serif\" font-size=\"14.00\">&quot;2790439000&quot;^^xsd:integer</text>\n</g>\n<!-- 4 -->\n<g id=\"node5\" class=\"node\">\n<title>4</title>\n<polygon fill=\"none\" stroke=\"black\" points=\"1093.5,-36 996.5,-36 996.5,0 1093.5,0 1093.5,-36\"/>\n<text text-anchor=\"middle\" x=\"1045\" y=\"-14.3\" font-family=\"Times,serif\" font-size=\"14.00\">&quot;J. J. Abrams&quot;</text>\n</g>\n<!-- 5 -->\n<g id=\"node6\" class=\"node\">\n<title>5</title>\n<ellipse fill=\"none\" stroke=\"black\" cx=\"2817\" cy=\"-192\" rx=\"57.69\" ry=\"18\"/>\n<text text-anchor=\"middle\" x=\"2817\" y=\"-188.3\" font-family=\"Times,serif\" font-size=\"14.00\">s:InfinityWar</text>\n</g>\n<!-- 11 -->\n<g id=\"node12\" class=\"node\">\n<title>11</title>\n<ellipse fill=\"none\" stroke=\"black\" cx=\"2696\" cy=\"-105\" rx=\"38.19\" ry=\"18\"/>\n<text text-anchor=\"middle\" x=\"2696\" y=\"-101.3\" font-family=\"Times,serif\" font-size=\"14.00\">s:Russo</text>\n</g>\n<!-- 5&#45;&gt;11 -->\n<g id=\"edge33\" class=\"edge\">\n<title>5&#45;&gt;11</title>\n<path fill=\"none\" stroke=\"black\" d=\"M2781.61,-177.5C2768.85,-171.82 2754.72,-164.53 2743,-156 2733.28,-148.92 2723.91,-139.66 2716.14,-131.02\"/>\n<polygon fill=\"black\" stroke=\"black\" points=\"2718.84,-128.8 2709.65,-123.52 2713.55,-133.37 2718.84,-128.8\"/>\n<text text-anchor=\"middle\" x=\"2778\" y=\"-144.8\" font-family=\"Times,serif\" font-size=\"14.00\">p:directedBy</text>\n</g>\n<!-- 14 -->\n<g id=\"node15\" class=\"node\">\n<title>14</title>\n<ellipse fill=\"none\" stroke=\"black\" cx=\"1569\" cy=\"-105\" rx=\"40.09\" ry=\"18\"/>\n<text text-anchor=\"middle\" x=\"1569\" y=\"-101.3\" font-family=\"Times,serif\" font-size=\"14.00\">c:Movie</text>\n</g>\n<!-- 5&#45;&gt;14 -->\n<g id=\"edge26\" class=\"edge\">\n<title>5&#45;&gt;14</title>\n<path fill=\"none\" stroke=\"black\" d=\"M2771.67,-180.56C2744.61,-174.06 2709.65,-165.21 2679,-156 2659.62,-150.17 2655.93,-144.56 2636,-141 2413.48,-101.27 1841.67,-161.85 1619,-123 1615.82,-122.45 1612.58,-121.72 1609.34,-120.89\"/>\n<polygon fill=\"black\" stroke=\"black\" points=\"1610.51,-117.59 1599.93,-118.13 1608.54,-124.3 1610.51,-117.59\"/>\n<text text-anchor=\"middle\" x=\"2700.5\" y=\"-144.8\" font-family=\"Times,serif\" font-size=\"14.00\">rdf:type</text>\n</g>\n<!-- 18 -->\n<g id=\"node19\" class=\"node\">\n<title>18</title>\n<polygon fill=\"none\" stroke=\"black\" points=\"2881.5,-123 2752.5,-123 2752.5,-87 2881.5,-87 2881.5,-123\"/>\n<text text-anchor=\"middle\" x=\"2817\" y=\"-101.3\" font-family=\"Times,serif\" font-size=\"14.00\">&quot;2018&quot;^^xsd:integer</text>\n</g>\n<!-- 5&#45;&gt;18 -->\n<g id=\"edge1\" class=\"edge\">\n<title>5&#45;&gt;18</title>\n<path fill=\"none\" stroke=\"black\" d=\"M2817,-173.8C2817,-162.58 2817,-147.67 2817,-134.69\"/>\n<polygon fill=\"black\" stroke=\"black\" points=\"2820.5,-134.98 2817,-124.98 2813.5,-134.98 2820.5,-134.98\"/>\n<text text-anchor=\"middle\" x=\"2834\" y=\"-144.8\" font-family=\"Times,serif\" font-size=\"14.00\">p:year</text>\n</g>\n<!-- 25 -->\n<g id=\"node26\" class=\"node\">\n<title>25</title>\n<polygon fill=\"none\" stroke=\"black\" points=\"3054.5,-123 2899.5,-123 2899.5,-87 3054.5,-87 3054.5,-123\"/>\n<text text-anchor=\"middle\" x=\"2977\" y=\"-101.3\" font-family=\"Times,serif\" font-size=\"14.00\">&quot;Avengers: Infinity War&quot;</text>\n</g>\n<!-- 5&#45;&gt;25 -->\n<g id=\"edge24\" class=\"edge\">\n<title>5&#45;&gt;25</title>\n<path fill=\"none\" stroke=\"black\" d=\"M2845.24,-176C2869.85,-162.93 2905.91,-143.77 2934.09,-128.8\"/>\n<polygon fill=\"black\" stroke=\"black\" points=\"2935.55,-131.98 2942.74,-124.2 2932.27,-125.8 2935.55,-131.98\"/>\n<text text-anchor=\"middle\" x=\"2933\" y=\"-144.8\" font-family=\"Times,serif\" font-size=\"14.00\">rdfs:label</text>\n</g>\n<!-- 26 -->\n<g id=\"node27\" class=\"node\">\n<title>26</title>\n<polygon fill=\"none\" stroke=\"black\" points=\"3243,-123 3073,-123 3073,-87 3243,-87 3243,-123\"/>\n<text text-anchor=\"middle\" x=\"3158\" y=\"-101.3\" font-family=\"Times,serif\" font-size=\"14.00\">&quot;2048359754&quot;^^xsd:integer</text>\n</g>\n<!-- 5&#45;&gt;26 -->\n<g id=\"edge15\" class=\"edge\">\n<title>5&#45;&gt;26</title>\n<path fill=\"none\" stroke=\"black\" d=\"M2862.1,-180.38C2890.97,-173.54 2929.23,-164.38 2963,-156 3001.73,-146.39 3044.71,-135.41 3080.44,-126.19\"/>\n<polygon fill=\"black\" stroke=\"black\" points=\"3081.01,-129.65 3089.81,-123.76 3079.26,-122.88 3081.01,-129.65\"/>\n<text text-anchor=\"middle\" x=\"3043\" y=\"-144.8\" font-family=\"Times,serif\" font-size=\"14.00\">p:gross</text>\n</g>\n<!-- 6 -->\n<g id=\"node7\" class=\"node\">\n<title>6</title>\n<polygon fill=\"none\" stroke=\"black\" points=\"2640,-123 2470,-123 2470,-87 2640,-87 2640,-123\"/>\n<text text-anchor=\"middle\" x=\"2555\" y=\"-101.3\" font-family=\"Times,serif\" font-size=\"14.00\">&quot;2797800564&quot;^^xsd:integer</text>\n</g>\n<!-- 8 -->\n<g id=\"node9\" class=\"node\">\n<title>8</title>\n<polygon fill=\"none\" stroke=\"black\" points=\"982,-123 812,-123 812,-87 982,-87 982,-123\"/>\n<text text-anchor=\"middle\" x=\"897\" y=\"-101.3\" font-family=\"Times,serif\" font-size=\"14.00\">&quot;2068223624&quot;^^xsd:integer</text>\n</g>\n<!-- 9 -->\n<g id=\"node10\" class=\"node\">\n<title>9</title>\n<polygon fill=\"none\" stroke=\"black\" points=\"1735,-36 1619,-36 1619,0 1735,0 1735,-36\"/>\n<text text-anchor=\"middle\" x=\"1677\" y=\"-14.3\" font-family=\"Times,serif\" font-size=\"14.00\">&quot;James Cameron&quot;</text>\n</g>\n<!-- 10 -->\n<g id=\"node11\" class=\"node\">\n<title>10</title>\n<ellipse fill=\"none\" stroke=\"black\" cx=\"1461\" cy=\"-192\" rx=\"41.69\" ry=\"18\"/>\n<text text-anchor=\"middle\" x=\"1461\" y=\"-188.3\" font-family=\"Times,serif\" font-size=\"14.00\">s:Titanic</text>\n</g>\n<!-- 12 -->\n<g id=\"node13\" class=\"node\">\n<title>12</title>\n<polygon fill=\"none\" stroke=\"black\" points=\"1425.5,-123 1296.5,-123 1296.5,-87 1425.5,-87 1425.5,-123\"/>\n<text text-anchor=\"middle\" x=\"1361\" y=\"-101.3\" font-family=\"Times,serif\" font-size=\"14.00\">&quot;1997&quot;^^xsd:integer</text>\n</g>\n<!-- 10&#45;&gt;12 -->\n<g id=\"edge36\" class=\"edge\">\n<title>10&#45;&gt;12</title>\n<path fill=\"none\" stroke=\"black\" d=\"M1419.45,-189.26C1369.84,-186.21 1291.25,-177.96 1273,-156 1262.82,-143.75 1270.88,-133.91 1285.54,-126.3\"/>\n<polygon fill=\"black\" stroke=\"black\" points=\"1286.92,-129.52 1294.62,-122.24 1284.07,-123.13 1286.92,-129.52\"/>\n<text text-anchor=\"middle\" x=\"1290\" y=\"-144.8\" font-family=\"Times,serif\" font-size=\"14.00\">p:year</text>\n</g>\n<!-- 10&#45;&gt;14 -->\n<g id=\"edge28\" class=\"edge\">\n<title>10&#45;&gt;14</title>\n<path fill=\"none\" stroke=\"black\" d=\"M1484.23,-176.76C1493.7,-170.68 1504.6,-163.31 1514,-156 1524.61,-147.75 1535.69,-137.94 1545.1,-129.21\"/>\n<polygon fill=\"black\" stroke=\"black\" points=\"1547.23,-132 1552.11,-122.6 1542.43,-126.91 1547.23,-132\"/>\n<text text-anchor=\"middle\" x=\"1553.5\" y=\"-144.8\" font-family=\"Times,serif\" font-size=\"14.00\">rdf:type</text>\n</g>\n<!-- 19 -->\n<g id=\"node20\" class=\"node\">\n<title>19</title>\n<ellipse fill=\"none\" stroke=\"black\" cx=\"1677\" cy=\"-105\" rx=\"49.29\" ry=\"18\"/>\n<text text-anchor=\"middle\" x=\"1677\" y=\"-101.3\" font-family=\"Times,serif\" font-size=\"14.00\">s:Cameron</text>\n</g>\n<!-- 10&#45;&gt;19 -->\n<g id=\"edge8\" class=\"edge\">\n<title>10&#45;&gt;19</title>\n<path fill=\"none\" stroke=\"black\" d=\"M1503.09,-191.5C1567.39,-191.26 1685.43,-186.53 1712,-156 1719.17,-147.76 1714.89,-138.05 1707.23,-129.39\"/>\n<polygon fill=\"black\" stroke=\"black\" points=\"1709.79,-127.01 1700.18,-122.55 1704.91,-132.03 1709.79,-127.01\"/>\n<text text-anchor=\"middle\" x=\"1751\" y=\"-144.8\" font-family=\"Times,serif\" font-size=\"14.00\">p:directedBy</text>\n</g>\n<!-- 28 -->\n<g id=\"node29\" class=\"node\">\n<title>28</title>\n<polygon fill=\"none\" stroke=\"black\" points=\"1510.5,-123 1443.5,-123 1443.5,-87 1510.5,-87 1510.5,-123\"/>\n<text text-anchor=\"middle\" x=\"1477\" y=\"-101.3\" font-family=\"Times,serif\" font-size=\"14.00\">&quot;Titanic&quot;</text>\n</g>\n<!-- 10&#45;&gt;28 -->\n<g id=\"edge38\" class=\"edge\">\n<title>10&#45;&gt;28</title>\n<path fill=\"none\" stroke=\"black\" d=\"M1459.73,-173.69C1459.42,-163.97 1459.69,-151.69 1462,-141 1462.5,-138.68 1463.16,-136.32 1463.91,-133.98\"/>\n<polygon fill=\"black\" stroke=\"black\" points=\"1467.13,-135.37 1467.45,-124.78 1460.6,-132.86 1467.13,-135.37\"/>\n<text text-anchor=\"middle\" x=\"1488\" y=\"-144.8\" font-family=\"Times,serif\" font-size=\"14.00\">rdfs:label</text>\n</g>\n<!-- 30 -->\n<g id=\"node31\" class=\"node\">\n<title>30</title>\n<polygon fill=\"none\" stroke=\"black\" points=\"1278,-123 1108,-123 1108,-87 1278,-87 1278,-123\"/>\n<text text-anchor=\"middle\" x=\"1193\" y=\"-101.3\" font-family=\"Times,serif\" font-size=\"14.00\">&quot;2194439542&quot;^^xsd:integer</text>\n</g>\n<!-- 10&#45;&gt;30 -->\n<g id=\"edge37\" class=\"edge\">\n<title>10&#45;&gt;30</title>\n<path fill=\"none\" stroke=\"black\" d=\"M1419.72,-188.96C1360.84,-185.38 1256.38,-176.31 1225,-156 1216.51,-150.51 1209.83,-141.88 1204.82,-133.33\"/>\n<polygon fill=\"black\" stroke=\"black\" points=\"1207.94,-131.75 1200.22,-124.49 1201.73,-134.98 1207.94,-131.75\"/>\n<text text-anchor=\"middle\" x=\"1245\" y=\"-144.8\" font-family=\"Times,serif\" font-size=\"14.00\">p:gross</text>\n</g>\n<!-- 17 -->\n<g id=\"node18\" class=\"node\">\n<title>17</title>\n<polygon fill=\"none\" stroke=\"black\" points=\"2752.5,-36 2639.5,-36 2639.5,0 2752.5,0 2752.5,-36\"/>\n<text text-anchor=\"middle\" x=\"2696\" y=\"-14.3\" font-family=\"Times,serif\" font-size=\"14.00\">&quot;Anthony Russo&quot;</text>\n</g>\n<!-- 11&#45;&gt;17 -->\n<g id=\"edge11\" class=\"edge\">\n<title>11&#45;&gt;17</title>\n<path fill=\"none\" stroke=\"black\" d=\"M2696,-86.8C2696,-75.58 2696,-60.67 2696,-47.69\"/>\n<polygon fill=\"black\" stroke=\"black\" points=\"2699.5,-47.98 2696,-37.98 2692.5,-47.98 2699.5,-47.98\"/>\n<text text-anchor=\"middle\" x=\"2722\" y=\"-57.8\" font-family=\"Times,serif\" font-size=\"14.00\">rdfs:label</text>\n</g>\n<!-- 11&#45;&gt;29 -->\n<g id=\"edge3\" class=\"edge\">\n<title>11&#45;&gt;29</title>\n<path fill=\"none\" stroke=\"black\" d=\"M2668.06,-92.36C2661.88,-90.22 2655.3,-88.26 2649,-87 2195.7,3.97 2071.55,-62.83 1610,-36 1542.52,-32.08 1464.98,-26.74 1413.71,-23.1\"/>\n<polygon fill=\"black\" stroke=\"black\" points=\"1413.96,-19.61 1403.74,-22.39 1413.47,-26.6 1413.96,-19.61\"/>\n<text text-anchor=\"middle\" x=\"2568.5\" y=\"-57.8\" font-family=\"Times,serif\" font-size=\"14.00\">rdf:type</text>\n</g>\n<!-- 13 -->\n<g id=\"node14\" class=\"node\">\n<title>13</title>\n<ellipse fill=\"none\" stroke=\"black\" cx=\"897\" cy=\"-192\" rx=\"49.29\" ry=\"18\"/>\n<text text-anchor=\"middle\" x=\"897\" y=\"-188.3\" font-family=\"Times,serif\" font-size=\"14.00\">s:StarWars</text>\n</g>\n<!-- 13&#45;&gt;0 -->\n<g id=\"edge25\" class=\"edge\">\n<title>13&#45;&gt;0</title>\n<path fill=\"none\" stroke=\"black\" d=\"M865.44,-177.72C833.69,-164.36 784.21,-143.54 746.72,-127.76\"/>\n<polygon fill=\"black\" stroke=\"black\" points=\"748.46,-124.7 737.88,-124.04 745.74,-131.15 748.46,-124.7\"/>\n<text text-anchor=\"middle\" x=\"835\" y=\"-144.8\" font-family=\"Times,serif\" font-size=\"14.00\">rdfs:label</text>\n</g>\n<!-- 13&#45;&gt;8 -->\n<g id=\"edge18\" class=\"edge\">\n<title>13&#45;&gt;8</title>\n<path fill=\"none\" stroke=\"black\" d=\"M897,-173.8C897,-162.58 897,-147.67 897,-134.69\"/>\n<polygon fill=\"black\" stroke=\"black\" points=\"900.5,-134.98 897,-124.98 893.5,-134.98 900.5,-134.98\"/>\n<text text-anchor=\"middle\" x=\"917\" y=\"-144.8\" font-family=\"Times,serif\" font-size=\"14.00\">p:gross</text>\n</g>\n<!-- 13&#45;&gt;14 -->\n<g id=\"edge4\" class=\"edge\">\n<title>13&#45;&gt;14</title>\n<path fill=\"none\" stroke=\"black\" d=\"M946.1,-189.16C1050.73,-184.96 1292.67,-173.63 1373,-156 1391.55,-151.93 1394.67,-145.95 1413,-141 1459.14,-128.55 1472.68,-134.73 1519,-123 1521.9,-122.27 1524.87,-121.44 1527.85,-120.57\"/>\n<polygon fill=\"black\" stroke=\"black\" points=\"1528.62,-123.99 1537.11,-117.66 1526.53,-117.31 1528.62,-123.99\"/>\n<text text-anchor=\"middle\" x=\"1434.5\" y=\"-144.8\" font-family=\"Times,serif\" font-size=\"14.00\">rdf:type</text>\n</g>\n<!-- 24 -->\n<g id=\"node25\" class=\"node\">\n<title>24</title>\n<polygon fill=\"none\" stroke=\"black\" points=\"577.5,-123 448.5,-123 448.5,-87 577.5,-87 577.5,-123\"/>\n<text text-anchor=\"middle\" x=\"513\" y=\"-101.3\" font-family=\"Times,serif\" font-size=\"14.00\">&quot;2015&quot;^^xsd:integer</text>\n</g>\n<!-- 13&#45;&gt;24 -->\n<g id=\"edge22\" class=\"edge\">\n<title>13&#45;&gt;24</title>\n<path fill=\"none\" stroke=\"black\" d=\"M855.35,-182C797.91,-169.56 690.83,-146.26 589.06,-123.45\"/>\n<polygon fill=\"black\" stroke=\"black\" points=\"589.96,-120.07 579.44,-121.29 588.43,-126.9 589.96,-120.07\"/>\n<text text-anchor=\"middle\" x=\"749\" y=\"-144.8\" font-family=\"Times,serif\" font-size=\"14.00\">p:year</text>\n</g>\n<!-- 31 -->\n<g id=\"node32\" class=\"node\">\n<title>31</title>\n<ellipse fill=\"none\" stroke=\"black\" cx=\"1045\" cy=\"-105\" rx=\"44.69\" ry=\"18\"/>\n<text text-anchor=\"middle\" x=\"1045\" y=\"-101.3\" font-family=\"Times,serif\" font-size=\"14.00\">s:Abrams</text>\n</g>\n<!-- 13&#45;&gt;31 -->\n<g id=\"edge7\" class=\"edge\">\n<title>13&#45;&gt;31</title>\n<path fill=\"none\" stroke=\"black\" d=\"M922.78,-176.19C947.01,-162.28 983.47,-141.34 1010.26,-125.95\"/>\n<polygon fill=\"black\" stroke=\"black\" points=\"1011.77,-129.12 1018.7,-121.11 1008.28,-123.05 1011.77,-129.12\"/>\n<text text-anchor=\"middle\" x=\"1015\" y=\"-144.8\" font-family=\"Times,serif\" font-size=\"14.00\">p:directedBy</text>\n</g>\n<!-- 15 -->\n<g id=\"node16\" class=\"node\">\n<title>15</title>\n<polygon fill=\"none\" stroke=\"black\" points=\"302,-123 132,-123 132,-87 302,-87 302,-123\"/>\n<text text-anchor=\"middle\" x=\"217\" y=\"-101.3\" font-family=\"Times,serif\" font-size=\"14.00\">&quot;1671713208&quot;^^xsd:integer</text>\n</g>\n<!-- 16 -->\n<g id=\"node17\" class=\"node\">\n<title>16</title>\n<polygon fill=\"none\" stroke=\"black\" points=\"2145.5,-123 2080.5,-123 2080.5,-87 2145.5,-87 2145.5,-123\"/>\n<text text-anchor=\"middle\" x=\"2113\" y=\"-101.3\" font-family=\"Times,serif\" font-size=\"14.00\">&quot;Avatar&quot;</text>\n</g>\n<!-- 19&#45;&gt;9 -->\n<g id=\"edge34\" class=\"edge\">\n<title>19&#45;&gt;9</title>\n<path fill=\"none\" stroke=\"black\" d=\"M1677,-86.8C1677,-75.58 1677,-60.67 1677,-47.69\"/>\n<polygon fill=\"black\" stroke=\"black\" points=\"1680.5,-47.98 1677,-37.98 1673.5,-47.98 1680.5,-47.98\"/>\n<text text-anchor=\"middle\" x=\"1703\" y=\"-57.8\" font-family=\"Times,serif\" font-size=\"14.00\">rdfs:label</text>\n</g>\n<!-- 19&#45;&gt;29 -->\n<g id=\"edge16\" class=\"edge\">\n<title>19&#45;&gt;29</title>\n<path fill=\"none\" stroke=\"black\" d=\"M1639.27,-92.97C1632.21,-90.95 1624.89,-88.89 1618,-87 1544.38,-66.81 1458.67,-44.75 1406.13,-31.4\"/>\n<polygon fill=\"black\" stroke=\"black\" points=\"1407.14,-28.05 1396.59,-28.98 1405.42,-34.83 1407.14,-28.05\"/>\n<text text-anchor=\"middle\" x=\"1568.5\" y=\"-57.8\" font-family=\"Times,serif\" font-size=\"14.00\">rdf:type</text>\n</g>\n<!-- 20 -->\n<g id=\"node21\" class=\"node\">\n<title>20</title>\n<ellipse fill=\"none\" stroke=\"black\" cx=\"2387\" cy=\"-192\" rx=\"50.09\" ry=\"18\"/>\n<text text-anchor=\"middle\" x=\"2387\" y=\"-188.3\" font-family=\"Times,serif\" font-size=\"14.00\">s:Endgame</text>\n</g>\n<!-- 20&#45;&gt;6 -->\n<g id=\"edge13\" class=\"edge\">\n<title>20&#45;&gt;6</title>\n<path fill=\"none\" stroke=\"black\" d=\"M2415.12,-176.77C2441.22,-163.57 2480.49,-143.7 2510.79,-128.37\"/>\n<polygon fill=\"black\" stroke=\"black\" points=\"2511.99,-131.68 2519.33,-124.05 2508.83,-125.44 2511.99,-131.68\"/>\n<text text-anchor=\"middle\" x=\"2502\" y=\"-144.8\" font-family=\"Times,serif\" font-size=\"14.00\">p:gross</text>\n</g>\n<!-- 20&#45;&gt;11 -->\n<g id=\"edge9\" class=\"edge\">\n<title>20&#45;&gt;11</title>\n<path fill=\"none\" stroke=\"black\" d=\"M2429,-181.72C2456.76,-175.27 2493.81,-166.05 2526,-156 2544.12,-150.34 2547.79,-146.36 2566,-141 2602.21,-130.35 2612.73,-133.44 2649,-123 2651.41,-122.31 2653.86,-121.56 2656.34,-120.77\"/>\n<polygon fill=\"black\" stroke=\"black\" points=\"2657.32,-124.13 2665.68,-117.62 2655.09,-117.49 2657.32,-124.13\"/>\n<text text-anchor=\"middle\" x=\"2601\" y=\"-144.8\" font-family=\"Times,serif\" font-size=\"14.00\">p:directedBy</text>\n</g>\n<!-- 20&#45;&gt;14 -->\n<g id=\"edge29\" class=\"edge\">\n<title>20&#45;&gt;14</title>\n<path fill=\"none\" stroke=\"black\" d=\"M2337.19,-188.99C2176.42,-182.46 1680.75,-161.9 1665,-156 1654.92,-152.23 1655.19,-146.6 1646,-141 1634.46,-133.97 1621.26,-127.46 1609.1,-122.02\"/>\n<polygon fill=\"black\" stroke=\"black\" points=\"1610.69,-118.9 1600.12,-118.13 1607.9,-125.32 1610.69,-118.9\"/>\n<text text-anchor=\"middle\" x=\"1686.5\" y=\"-144.8\" font-family=\"Times,serif\" font-size=\"14.00\">rdf:type</text>\n</g>\n<!-- 21 -->\n<g id=\"node22\" class=\"node\">\n<title>21</title>\n<polygon fill=\"none\" stroke=\"black\" points=\"2304,-123 2164,-123 2164,-87 2304,-87 2304,-123\"/>\n<text text-anchor=\"middle\" x=\"2234\" y=\"-101.3\" font-family=\"Times,serif\" font-size=\"14.00\">&quot;Avengers: Endgame&quot;</text>\n</g>\n<!-- 20&#45;&gt;21 -->\n<g id=\"edge27\" class=\"edge\">\n<title>20&#45;&gt;21</title>\n<path fill=\"none\" stroke=\"black\" d=\"M2360.7,-176.39C2337.21,-163.34 2302.43,-144.01 2275.24,-128.91\"/>\n<polygon fill=\"black\" stroke=\"black\" points=\"2277,-125.88 2266.56,-124.09 2273.6,-132 2277,-125.88\"/>\n<text text-anchor=\"middle\" x=\"2346\" y=\"-144.8\" font-family=\"Times,serif\" font-size=\"14.00\">rdfs:label</text>\n</g>\n<!-- 27 -->\n<g id=\"node28\" class=\"node\">\n<title>27</title>\n<polygon fill=\"none\" stroke=\"black\" points=\"2451.5,-123 2322.5,-123 2322.5,-87 2451.5,-87 2451.5,-123\"/>\n<text text-anchor=\"middle\" x=\"2387\" y=\"-101.3\" font-family=\"Times,serif\" font-size=\"14.00\">&quot;2019&quot;^^xsd:integer</text>\n</g>\n<!-- 20&#45;&gt;27 -->\n<g id=\"edge35\" class=\"edge\">\n<title>20&#45;&gt;27</title>\n<path fill=\"none\" stroke=\"black\" d=\"M2387,-173.8C2387,-162.58 2387,-147.67 2387,-134.69\"/>\n<polygon fill=\"black\" stroke=\"black\" points=\"2390.5,-134.98 2387,-124.98 2383.5,-134.98 2390.5,-134.98\"/>\n<text text-anchor=\"middle\" x=\"2404\" y=\"-144.8\" font-family=\"Times,serif\" font-size=\"14.00\">p:year</text>\n</g>\n<!-- 22 -->\n<g id=\"node23\" class=\"node\">\n<title>22</title>\n<ellipse fill=\"none\" stroke=\"black\" cx=\"1920\" cy=\"-192\" rx=\"40.09\" ry=\"18\"/>\n<text text-anchor=\"middle\" x=\"1920\" y=\"-188.3\" font-family=\"Times,serif\" font-size=\"14.00\">s:Avatar</text>\n</g>\n<!-- 22&#45;&gt;1 -->\n<g id=\"edge30\" class=\"edge\">\n<title>22&#45;&gt;1</title>\n<path fill=\"none\" stroke=\"black\" d=\"M1916.02,-173.76C1912.76,-163.09 1907.16,-149.81 1898,-141 1893.05,-136.24 1887.38,-132.11 1881.35,-128.52\"/>\n<polygon fill=\"black\" stroke=\"black\" points=\"1883.43,-125.67 1872.96,-124.04 1880.13,-131.84 1883.43,-125.67\"/>\n<text text-anchor=\"middle\" x=\"1926\" y=\"-144.8\" font-family=\"Times,serif\" font-size=\"14.00\">p:year</text>\n</g>\n<!-- 22&#45;&gt;3 -->\n<g id=\"edge12\" class=\"edge\">\n<title>22&#45;&gt;3</title>\n<path fill=\"none\" stroke=\"black\" d=\"M1937.75,-175.75C1943.75,-169.98 1950.15,-163.09 1955,-156 1959.6,-149.27 1963.6,-141.42 1966.87,-133.96\"/>\n<polygon fill=\"black\" stroke=\"black\" points=\"1970.04,-135.47 1970.57,-124.89 1963.55,-132.83 1970.04,-135.47\"/>\n<text text-anchor=\"middle\" x=\"1984\" y=\"-144.8\" font-family=\"Times,serif\" font-size=\"14.00\">p:gross</text>\n</g>\n<!-- 22&#45;&gt;14 -->\n<g id=\"edge5\" class=\"edge\">\n<title>22&#45;&gt;14</title>\n<path fill=\"none\" stroke=\"black\" d=\"M1879.59,-190.68C1804.89,-189.42 1648.66,-183.48 1603,-156 1593.95,-150.55 1586.76,-141.66 1581.37,-132.88\"/>\n<polygon fill=\"black\" stroke=\"black\" points=\"1584.46,-131.24 1576.59,-124.15 1578.32,-134.61 1584.46,-131.24\"/>\n<text text-anchor=\"middle\" x=\"1624.5\" y=\"-144.8\" font-family=\"Times,serif\" font-size=\"14.00\">rdf:type</text>\n</g>\n<!-- 22&#45;&gt;16 -->\n<g id=\"edge21\" class=\"edge\">\n<title>22&#45;&gt;16</title>\n<path fill=\"none\" stroke=\"black\" d=\"M1949.94,-179.66C1967.05,-173.03 1988.86,-164.35 2008,-156 2028.51,-147.05 2050.95,-136.47 2069.8,-127.36\"/>\n<polygon fill=\"black\" stroke=\"black\" points=\"2071.33,-130.51 2078.79,-122.99 2068.27,-124.21 2071.33,-130.51\"/>\n<text text-anchor=\"middle\" x=\"2067\" y=\"-144.8\" font-family=\"Times,serif\" font-size=\"14.00\">rdfs:label</text>\n</g>\n<!-- 22&#45;&gt;19 -->\n<g id=\"edge20\" class=\"edge\">\n<title>22&#45;&gt;19</title>\n<path fill=\"none\" stroke=\"black\" d=\"M1889.11,-180.32C1870.19,-173.64 1845.56,-164.67 1824,-156 1808.68,-149.83 1805.47,-146.79 1790,-141 1777.85,-136.46 1750.18,-127.88 1725.27,-120.35\"/>\n<polygon fill=\"black\" stroke=\"black\" points=\"1726.48,-117.06 1715.89,-117.53 1724.46,-123.76 1726.48,-117.06\"/>\n<text text-anchor=\"middle\" x=\"1859\" y=\"-144.8\" font-family=\"Times,serif\" font-size=\"14.00\">p:directedBy</text>\n</g>\n<!-- 23 -->\n<g id=\"node24\" class=\"node\">\n<title>23</title>\n<ellipse fill=\"none\" stroke=\"black\" cx=\"375\" cy=\"-192\" rx=\"66.89\" ry=\"18\"/>\n<text text-anchor=\"middle\" x=\"375\" y=\"-188.3\" font-family=\"Times,serif\" font-size=\"14.00\">s:JurassicWorld</text>\n</g>\n<!-- 23&#45;&gt;2 -->\n<g id=\"edge23\" class=\"edge\">\n<title>23&#45;&gt;2</title>\n<path fill=\"none\" stroke=\"black\" d=\"M321.4,-180.86C289.68,-174.51 248.83,-165.7 213,-156 176.84,-146.21 136.61,-132.97 106.47,-122.57\"/>\n<polygon fill=\"black\" stroke=\"black\" points=\"107.88,-119.35 97.28,-119.37 105.58,-125.96 107.88,-119.35\"/>\n<text text-anchor=\"middle\" x=\"248\" y=\"-144.8\" font-family=\"Times,serif\" font-size=\"14.00\">p:directedBy</text>\n</g>\n<!-- 23&#45;&gt;14 -->\n<g id=\"edge19\" class=\"edge\">\n<title>23&#45;&gt;14</title>\n<path fill=\"none\" stroke=\"black\" d=\"M441.08,-188.59C653.37,-180.82 1304.46,-156.94 1307,-156 1317.1,-152.28 1316.01,-145 1326,-141 1405.98,-108.99 1434.75,-140.99 1519,-123 1522.01,-122.36 1525.08,-121.59 1528.16,-120.75\"/>\n<polygon fill=\"black\" stroke=\"black\" points=\"1529.17,-124.1 1537.73,-117.85 1527.15,-117.4 1529.17,-124.1\"/>\n<text text-anchor=\"middle\" x=\"1347.5\" y=\"-144.8\" font-family=\"Times,serif\" font-size=\"14.00\">rdf:type</text>\n</g>\n<!-- 23&#45;&gt;15 -->\n<g id=\"edge2\" class=\"edge\">\n<title>23&#45;&gt;15</title>\n<path fill=\"none\" stroke=\"black\" d=\"M346.02,-175.41C321.77,-162.36 286.83,-143.57 259.43,-128.83\"/>\n<polygon fill=\"black\" stroke=\"black\" points=\"261.13,-125.77 250.67,-124.11 257.82,-131.93 261.13,-125.77\"/>\n<text text-anchor=\"middle\" x=\"326\" y=\"-144.8\" font-family=\"Times,serif\" font-size=\"14.00\">p:gross</text>\n</g>\n<!-- 23&#45;&gt;24 -->\n<g id=\"edge14\" class=\"edge\">\n<title>23&#45;&gt;24</title>\n<path fill=\"none\" stroke=\"black\" d=\"M400.96,-175.01C421.86,-162.14 451.54,-143.85 475.11,-129.34\"/>\n<polygon fill=\"black\" stroke=\"black\" points=\"476.82,-132.4 483.5,-124.17 473.15,-126.44 476.82,-132.4\"/>\n<text text-anchor=\"middle\" x=\"470\" y=\"-144.8\" font-family=\"Times,serif\" font-size=\"14.00\">p:year</text>\n</g>\n<!-- 32 -->\n<g id=\"node33\" class=\"node\">\n<title>32</title>\n<polygon fill=\"none\" stroke=\"black\" points=\"430,-123 320,-123 320,-87 430,-87 430,-123\"/>\n<text text-anchor=\"middle\" x=\"375\" y=\"-101.3\" font-family=\"Times,serif\" font-size=\"14.00\">&quot;Jurassic World&quot;</text>\n</g>\n<!-- 23&#45;&gt;32 -->\n<g id=\"edge17\" class=\"edge\">\n<title>23&#45;&gt;32</title>\n<path fill=\"none\" stroke=\"black\" d=\"M375,-173.8C375,-162.58 375,-147.67 375,-134.69\"/>\n<polygon fill=\"black\" stroke=\"black\" points=\"378.5,-134.98 375,-124.98 371.5,-134.98 378.5,-134.98\"/>\n<text text-anchor=\"middle\" x=\"401\" y=\"-144.8\" font-family=\"Times,serif\" font-size=\"14.00\">rdfs:label</text>\n</g>\n<!-- 31&#45;&gt;4 -->\n<g id=\"edge32\" class=\"edge\">\n<title>31&#45;&gt;4</title>\n<path fill=\"none\" stroke=\"black\" d=\"M1045,-86.8C1045,-75.58 1045,-60.67 1045,-47.69\"/>\n<polygon fill=\"black\" stroke=\"black\" points=\"1048.5,-47.98 1045,-37.98 1041.5,-47.98 1048.5,-47.98\"/>\n<text text-anchor=\"middle\" x=\"1071\" y=\"-57.8\" font-family=\"Times,serif\" font-size=\"14.00\">rdfs:label</text>\n</g>\n<!-- 31&#45;&gt;29 -->\n<g id=\"edge10\" class=\"edge\">\n<title>31&#45;&gt;29</title>\n<path fill=\"none\" stroke=\"black\" d=\"M1079.21,-92.96C1085.76,-90.92 1092.58,-88.86 1099,-87 1171.34,-66.09 1255.85,-44.32 1307.9,-31.21\"/>\n<polygon fill=\"black\" stroke=\"black\" points=\"1308.5,-34.66 1317.35,-28.83 1306.79,-27.87 1308.5,-34.66\"/>\n<text text-anchor=\"middle\" x=\"1240.5\" y=\"-57.8\" font-family=\"Times,serif\" font-size=\"14.00\">rdf:type</text>\n</g>\n</g>\n</svg>\n",
      "text/plain": [
       "<graphviz.graphs.Digraph at 0x1132562b0>"
      ]
     },
     "metadata": {},
     "output_type": "display_data"
    }
   ],
   "source": [
    "%%rdf turtle -l movies\n",
    "PREFIX rdfs: <http://www.w3.org/2000/01/rdf-schema#>\n",
    "PREFIX xsd: <http://www.w3.org/2001/XMLSchema#>\n",
    "PREFIX s: <http://example.org/subjects#>\n",
    "PREFIX p: <http://example.org/properties#>\n",
    "PREFIX c: <http://example.org/classes#>\n",
    "s:Titanic a c:Movie ;\n",
    "    p:year \"1997\"^^xsd:integer ;\n",
    "    p:gross \"2194439542\"^^xsd:integer ;\n",
    "    p:directedBy s:Cameron ;\n",
    "    rdfs:label \"Titanic\" .\n",
    "s:StarWars a c:Movie ;\n",
    "    p:year \"2015\"^^xsd:integer ;\n",
    "    p:gross \"2068223624\"^^xsd:integer ;\n",
    "    p:directedBy s:Abrams ;\n",
    "    rdfs:label \"Star Wars: The Force Awakens\" .\n",
    "s:JurassicWorld a c:Movie ;\n",
    "    p:year \"2015\"^^xsd:integer ;\n",
    "    p:gross \"1671713208\"^^xsd:integer ;\n",
    "    p:directedBy s:Trevorrow ;\n",
    "    rdfs:label \"Jurassic World\" .\n",
    "s:Endgame a c:Movie ;\n",
    "    p:year \"2019\"^^xsd:integer ;\n",
    "    p:gross \"2797800564\"^^xsd:integer ;\n",
    "    p:directedBy s:Russo ;\n",
    "    rdfs:label \"Avengers: Endgame\" .\n",
    "s:InfinityWar a c:Movie ;\n",
    "    p:year \"2018\"^^xsd:integer ;\n",
    "    p:gross \"2048359754\"^^xsd:integer ;\n",
    "    p:directedBy s:Russo ;\n",
    "    rdfs:label \"Avengers: Infinity War\" .\n",
    "s:Avatar a c:Movie ;\n",
    "    p:year \"2009\"^^xsd:integer ;\n",
    "    p:gross \"2790439000\"^^xsd:integer ;\n",
    "    p:directedBy s:Cameron ;\n",
    "    rdfs:label \"Avatar\" .\n",
    "\n",
    "s:Russo a c:Director ;\n",
    "    rdfs:label \"Anthony Russo\" .\n",
    "s:Cameron a c:Director ;\n",
    "    rdfs:label \"James Cameron\" .\n",
    "s:Abrams a c:Director ;\n",
    "    rdfs:label \"J. J. Abrams\" .\n",
    "s:Trevorrow a c:Director ;\n",
    "    rdfs:label \"Colin Trevorrow\" ."
   ]
  },
  {
   "cell_type": "markdown",
   "metadata": {
    "deletable": false,
    "editable": false,
    "nbgrader": {
     "cell_type": "markdown",
     "checksum": "e474ac8bdb51af59e1aea88e38d42887",
     "grade": false,
     "grade_id": "cell-f330176735a1e3ff",
     "locked": true,
     "schema_version": 3,
     "solution": false,
     "task": false
    }
   },
   "source": [
    "## TASK 5: The Movies [5 points]\n",
    "Use everything you have learned to obtain the desired information with SPARQL queries.\n",
    "\n",
    "**This task refers to [this graph](#Graph:-Movies) about movies. Assume a closed world (information that isn't explicitly stated is false).**\n",
    "\n",
    "### 5a) [1.5 points]\n",
    "The name of all directors together with the sum of gross incomes of all their movies. Sort the results descending by the sum of gross incomes. Use variables **?name** for the director's name and **?grossSum** for the sum of all gross incomes."
   ]
  },
  {
   "cell_type": "code",
   "execution_count": 30,
   "metadata": {
    "deletable": false,
    "nbgrader": {
     "cell_type": "code",
     "checksum": "5869b49e8aeaf1436853bcd8d51e0aab",
     "grade": false,
     "grade_id": "cell-000a10ecee874479",
     "locked": false,
     "schema_version": 3,
     "solution": true,
     "task": false
    }
   },
   "outputs": [
    {
     "data": {
      "text/html": [
       "<table><tr><th>?name</th><th>?grossSum</th></tr><tr><td>James Cameron</td><td>4984878542</td></tr><tr><td>Anthony Russo</td><td>4846160318</td></tr><tr><td>J. J. Abrams</td><td>2068223624</td></tr><tr><td>Colin Trevorrow</td><td>1671713208</td></tr></table>"
      ],
      "text/plain": [
       "<IPython.core.display.HTML object>"
      ]
     },
     "metadata": {},
     "output_type": "display_data"
    }
   ],
   "source": [
    "%%rdf sparql -l movies -s 5a\n",
    "### YOUR SOLUTION HERE\n",
    "SELECT ?name (sum(?gross) AS ?grossSum)\n",
    "WHERE{\n",
    "    ?movie a c:Movie .\n",
    "    ?movie p:gross ?gross .\n",
    "    ?movie p:directedBy ?director .\n",
    "    ?director rdfs:label ?name .\n",
    "}\n",
    "GROUP BY ?name\n",
    "ORDER BY DESC(?grossSum)"
   ]
  },
  {
   "cell_type": "code",
   "execution_count": 31,
   "metadata": {
    "deletable": false,
    "editable": false,
    "nbgrader": {
     "cell_type": "code",
     "checksum": "7a709ef8931f8324fd92d0758a7bf7c5",
     "grade": true,
     "grade_id": "cell-b94b70c51629cbda",
     "locked": true,
     "points": 1.5,
     "schema_version": 3,
     "solution": false,
     "task": false
    }
   },
   "outputs": [],
   "source": [
    "# This test will check whether your query returns the right results. [1.5 points]"
   ]
  },
  {
   "cell_type": "markdown",
   "metadata": {
    "deletable": false,
    "editable": false,
    "nbgrader": {
     "cell_type": "markdown",
     "checksum": "122f58d308413353103b477ca1350fbb",
     "grade": false,
     "grade_id": "cell-00329ede2eea9a03",
     "locked": true,
     "schema_version": 3,
     "solution": false,
     "task": false
    }
   },
   "source": [
    "### 5b) [1.5 points]\n",
    "The name of all movies and their release year that were released after 2010. Sort the result ascending by the release date. Use variables **?name** for the movie's name and **?year** for the release year. **Use the FILTER function.**"
   ]
  },
  {
   "cell_type": "code",
   "execution_count": 32,
   "metadata": {
    "deletable": false,
    "nbgrader": {
     "cell_type": "code",
     "checksum": "f38c616e7d2501baf10734cba91ebfae",
     "grade": false,
     "grade_id": "cell-1ffe69f7cbb685ee",
     "locked": false,
     "schema_version": 3,
     "solution": true,
     "task": false
    }
   },
   "outputs": [
    {
     "data": {
      "text/html": [
       "<table><tr><th>?name</th><th>?year</th></tr><tr><td>Star Wars: The Force Awakens</td><td>2015</td></tr><tr><td>Jurassic World</td><td>2015</td></tr><tr><td>Avengers: Infinity War</td><td>2018</td></tr><tr><td>Avengers: Endgame</td><td>2019</td></tr></table>"
      ],
      "text/plain": [
       "<IPython.core.display.HTML object>"
      ]
     },
     "metadata": {},
     "output_type": "display_data"
    }
   ],
   "source": [
    "%%rdf sparql -l movies -s 5b\n",
    "### YOUR SOLUTION HERE\n",
    "SELECT ?name ?year\n",
    "WHERE {\n",
    "    ?movie a c:Movie .\n",
    "    ?movie p:year ?year .\n",
    "    ?movie rdfs:label ?name .\n",
    "    FILTER(?year > 2010)\n",
    "}ORDER BY ASC(?year)"
   ]
  },
  {
   "cell_type": "code",
   "execution_count": 33,
   "metadata": {
    "deletable": false,
    "editable": false,
    "nbgrader": {
     "cell_type": "code",
     "checksum": "49a14a8cc3736b36a1c9986ae73ee1cf",
     "grade": true,
     "grade_id": "cell-b66efd57e624aee9",
     "locked": true,
     "points": 1.5,
     "schema_version": 3,
     "solution": false,
     "task": false
    }
   },
   "outputs": [],
   "source": [
    "# This test will check whether your query returns the right results. [1.5 points]"
   ]
  },
  {
   "cell_type": "markdown",
   "metadata": {
    "deletable": false,
    "editable": false,
    "nbgrader": {
     "cell_type": "markdown",
     "checksum": "45818b221fceef3c4e48562c68f0f372",
     "grade": false,
     "grade_id": "cell-7a070bc4661969e6",
     "locked": true,
     "schema_version": 3,
     "solution": false,
     "task": false
    }
   },
   "source": [
    "### 5c) [2 points]\n",
    "The names of all movies before 2005 and the names of all movies after 2016 together with a string that either says \"before 2005\" or \"after 2016\" based on the release date. Sort the result ascending by the release date. Use variables **?name** for the movie's name and **?when** for the string.  \n",
    "Hint: Use manual bindings."
   ]
  },
  {
   "cell_type": "code",
   "execution_count": 34,
   "metadata": {
    "deletable": false,
    "nbgrader": {
     "cell_type": "code",
     "checksum": "a78fb72603b05e7dd9db744442132827",
     "grade": false,
     "grade_id": "cell-93942859f2911504",
     "locked": false,
     "schema_version": 3,
     "solution": true,
     "task": false
    }
   },
   "outputs": [
    {
     "data": {
      "text/html": [
       "<table><tr><th>?name</th><th>?when</th></tr><tr><td>Titanic</td><td>before 2006</td></tr><tr><td>Avengers: Endgame</td><td>after 2016</td></tr><tr><td>Avengers: Infinity War</td><td>after 2016</td></tr></table>"
      ],
      "text/plain": [
       "<IPython.core.display.HTML object>"
      ]
     },
     "metadata": {},
     "output_type": "display_data"
    }
   ],
   "source": [
    "%%rdf sparql -l movies -s 5c\n",
    "### YOUR SOLUTION HERE\n",
    "SELECT ?name ?when\n",
    "WHERE{\n",
    "    ?movie a c:Movie .\n",
    "    \n",
    "    \n",
    "    \n",
    "    {?movie rdfs:label ?name .\n",
    "         ?movie p:year ?year .\n",
    "    BIND(\"before 2006\"  AS ?when) .\n",
    "    FILTER(?year < 2005) . \n",
    "    }\n",
    "    UNION\n",
    "    {\n",
    "        ?movie rdfs:label ?name .\n",
    "         ?movie p:year ?year .\n",
    "    BIND(\"after 2016\"  AS ?when) .\n",
    "    FILTER(?year > 2016) . \n",
    "    }\n",
    "}"
   ]
  },
  {
   "cell_type": "code",
   "execution_count": 35,
   "metadata": {
    "deletable": false,
    "editable": false,
    "nbgrader": {
     "cell_type": "code",
     "checksum": "d57ad2992c8157b1ab3c1bbcd0b8e554",
     "grade": true,
     "grade_id": "cell-80450b3f3c51f14a",
     "locked": true,
     "points": 2,
     "schema_version": 3,
     "solution": false,
     "task": false
    }
   },
   "outputs": [],
   "source": [
    "# This test will check whether your query returns the right results. [2 points]"
   ]
  }
 ],
 "metadata": {
  "kernelspec": {
   "display_name": "env",
   "language": "python",
   "name": "python3"
  },
  "language_info": {
   "codemirror_mode": {
    "name": "ipython",
    "version": 3
   },
   "file_extension": ".py",
   "mimetype": "text/x-python",
   "name": "python",
   "nbconvert_exporter": "python",
   "pygments_lexer": "ipython3",
   "version": "3.9.13"
  }
 },
 "nbformat": 4,
 "nbformat_minor": 4
}
